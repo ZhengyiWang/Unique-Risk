{
 "cells": [
  {
   "cell_type": "markdown",
   "id": "fde65c0f",
   "metadata": {},
   "source": [
    "&ensp; 写得比较粗糙，没有按照开发的标准进行编码。并没有将可以复用的模块变成函数，或者对于不同的临时变量使用不同的别名或者释放。有些为了验证和debug的输出也没有删除。部分内容也只是为了演示和说明添加的，可以不加入到最终成果中"
   ]
  },
  {
   "cell_type": "markdown",
   "id": "b40de5d6",
   "metadata": {},
   "source": [
    "## 1 导入数据"
   ]
  },
  {
   "cell_type": "code",
   "execution_count": 1,
   "id": "f6a83475",
   "metadata": {},
   "outputs": [],
   "source": [
    "from pylab import mpl\n",
    "\n",
    "mpl.rcParams['font.sans-serif'] = ['FangSong'] # 指定默认字体\n",
    "mpl.rcParams['axes.unicode_minus'] = False # 解决保存图像是负号'-'显示为方块的问题\n",
    "\n",
    "import warnings\n",
    "warnings.filterwarnings('ignore')"
   ]
  },
  {
   "cell_type": "code",
   "execution_count": 2,
   "id": "e6f3d91e",
   "metadata": {},
   "outputs": [],
   "source": [
    "import pandas as pd\n",
    "import numpy as np\n",
    "import matplotlib.pyplot as plt\n",
    "\n",
    "unique_risk = pd.read_csv('unique_risk.csv')"
   ]
  },
  {
   "cell_type": "code",
   "execution_count": null,
   "id": "3ae9e981",
   "metadata": {},
   "outputs": [],
   "source": []
  },
  {
   "cell_type": "code",
   "execution_count": 3,
   "id": "29ba6904",
   "metadata": {},
   "outputs": [
    {
     "data": {
      "text/html": [
       "<div>\n",
       "<style scoped>\n",
       "    .dataframe tbody tr th:only-of-type {\n",
       "        vertical-align: middle;\n",
       "    }\n",
       "\n",
       "    .dataframe tbody tr th {\n",
       "        vertical-align: top;\n",
       "    }\n",
       "\n",
       "    .dataframe thead th {\n",
       "        text-align: right;\n",
       "    }\n",
       "</style>\n",
       "<table border=\"1\" class=\"dataframe\">\n",
       "  <thead>\n",
       "    <tr style=\"text-align: right;\">\n",
       "      <th></th>\n",
       "      <th>审核结果</th>\n",
       "      <th>Rc</th>\n",
       "      <th>上一年归母净利润（万元）</th>\n",
       "      <th>承诺期业绩增长率</th>\n",
       "      <th>前三年承诺覆盖率</th>\n",
       "      <th>静态市盈率</th>\n",
       "      <th>动态市盈率</th>\n",
       "      <th>成立年限</th>\n",
       "      <th>大股东持股比例</th>\n",
       "      <th>最近一个完整会计年度对第一大客户的销售占比</th>\n",
       "      <th>...</th>\n",
       "      <th>固定资产周转率</th>\n",
       "      <th>流动比率</th>\n",
       "      <th>资产负债率</th>\n",
       "      <th>经营杠杆（EBITDA/EBIT)</th>\n",
       "      <th>（固定资产+土地）/归母权益</th>\n",
       "      <th>在建工程/归母权益</th>\n",
       "      <th>净资产收益率</th>\n",
       "      <th>毛利率</th>\n",
       "      <th>经营性现金流/收入</th>\n",
       "      <th>研发支出占比</th>\n",
       "    </tr>\n",
       "  </thead>\n",
       "  <tbody>\n",
       "    <tr>\n",
       "      <th>0</th>\n",
       "      <td>1</td>\n",
       "      <td>0.02</td>\n",
       "      <td>15972.0</td>\n",
       "      <td>0.20</td>\n",
       "      <td>0.27</td>\n",
       "      <td>16.47</td>\n",
       "      <td>12.84</td>\n",
       "      <td>17.94</td>\n",
       "      <td>1.00</td>\n",
       "      <td>0.39</td>\n",
       "      <td>...</td>\n",
       "      <td>928.92</td>\n",
       "      <td>1.78</td>\n",
       "      <td>0.55</td>\n",
       "      <td>1.00</td>\n",
       "      <td>0.01</td>\n",
       "      <td>0.00</td>\n",
       "      <td>0.38</td>\n",
       "      <td>0.09</td>\n",
       "      <td>0.02</td>\n",
       "      <td>0.00</td>\n",
       "    </tr>\n",
       "    <tr>\n",
       "      <th>1</th>\n",
       "      <td>0</td>\n",
       "      <td>0.02</td>\n",
       "      <td>4443.0</td>\n",
       "      <td>0.27</td>\n",
       "      <td>0.33</td>\n",
       "      <td>15.37</td>\n",
       "      <td>11.68</td>\n",
       "      <td>9.04</td>\n",
       "      <td>0.35</td>\n",
       "      <td>0.23</td>\n",
       "      <td>...</td>\n",
       "      <td>17.93</td>\n",
       "      <td>1.64</td>\n",
       "      <td>0.56</td>\n",
       "      <td>1.03</td>\n",
       "      <td>0.23</td>\n",
       "      <td>0.00</td>\n",
       "      <td>0.69</td>\n",
       "      <td>0.45</td>\n",
       "      <td>0.11</td>\n",
       "      <td>0.04</td>\n",
       "    </tr>\n",
       "    <tr>\n",
       "      <th>2</th>\n",
       "      <td>0</td>\n",
       "      <td>0.05</td>\n",
       "      <td>1417.0</td>\n",
       "      <td>0.63</td>\n",
       "      <td>0.29</td>\n",
       "      <td>34.65</td>\n",
       "      <td>14.88</td>\n",
       "      <td>6.20</td>\n",
       "      <td>0.29</td>\n",
       "      <td>0.40</td>\n",
       "      <td>...</td>\n",
       "      <td>44.80</td>\n",
       "      <td>113.26</td>\n",
       "      <td>0.01</td>\n",
       "      <td>1.01</td>\n",
       "      <td>0.02</td>\n",
       "      <td>0.00</td>\n",
       "      <td>0.74</td>\n",
       "      <td>0.93</td>\n",
       "      <td>0.51</td>\n",
       "      <td>0.28</td>\n",
       "    </tr>\n",
       "    <tr>\n",
       "      <th>3</th>\n",
       "      <td>1</td>\n",
       "      <td>0.01</td>\n",
       "      <td>5349.0</td>\n",
       "      <td>0.24</td>\n",
       "      <td>0.25</td>\n",
       "      <td>19.22</td>\n",
       "      <td>13.88</td>\n",
       "      <td>13.56</td>\n",
       "      <td>0.51</td>\n",
       "      <td>0.14</td>\n",
       "      <td>...</td>\n",
       "      <td>1087.77</td>\n",
       "      <td>1.37</td>\n",
       "      <td>0.73</td>\n",
       "      <td>1.02</td>\n",
       "      <td>0.01</td>\n",
       "      <td>0.00</td>\n",
       "      <td>0.23</td>\n",
       "      <td>0.06</td>\n",
       "      <td>0.00</td>\n",
       "      <td>0.00</td>\n",
       "    </tr>\n",
       "    <tr>\n",
       "      <th>4</th>\n",
       "      <td>1</td>\n",
       "      <td>0.01</td>\n",
       "      <td>14478.0</td>\n",
       "      <td>0.18</td>\n",
       "      <td>0.30</td>\n",
       "      <td>15.01</td>\n",
       "      <td>11.94</td>\n",
       "      <td>20.32</td>\n",
       "      <td>0.51</td>\n",
       "      <td>0.08</td>\n",
       "      <td>...</td>\n",
       "      <td>147.85</td>\n",
       "      <td>1.61</td>\n",
       "      <td>0.60</td>\n",
       "      <td>1.03</td>\n",
       "      <td>0.05</td>\n",
       "      <td>0.01</td>\n",
       "      <td>0.23</td>\n",
       "      <td>0.09</td>\n",
       "      <td>0.04</td>\n",
       "      <td>0.00</td>\n",
       "    </tr>\n",
       "  </tbody>\n",
       "</table>\n",
       "<p>5 rows × 29 columns</p>\n",
       "</div>"
      ],
      "text/plain": [
       "   审核结果    Rc  上一年归母净利润（万元）  承诺期业绩增长率  前三年承诺覆盖率  静态市盈率  动态市盈率   成立年限  大股东持股比例  \\\n",
       "0     1  0.02       15972.0      0.20      0.27  16.47  12.84  17.94     1.00   \n",
       "1     0  0.02        4443.0      0.27      0.33  15.37  11.68   9.04     0.35   \n",
       "2     0  0.05        1417.0      0.63      0.29  34.65  14.88   6.20     0.29   \n",
       "3     1  0.01        5349.0      0.24      0.25  19.22  13.88  13.56     0.51   \n",
       "4     1  0.01       14478.0      0.18      0.30  15.01  11.94  20.32     0.51   \n",
       "\n",
       "   最近一个完整会计年度对第一大客户的销售占比  ...  固定资产周转率    流动比率  资产负债率  经营杠杆（EBITDA/EBIT)  \\\n",
       "0                   0.39  ...   928.92    1.78   0.55               1.00   \n",
       "1                   0.23  ...    17.93    1.64   0.56               1.03   \n",
       "2                   0.40  ...    44.80  113.26   0.01               1.01   \n",
       "3                   0.14  ...  1087.77    1.37   0.73               1.02   \n",
       "4                   0.08  ...   147.85    1.61   0.60               1.03   \n",
       "\n",
       "   （固定资产+土地）/归母权益  在建工程/归母权益  净资产收益率   毛利率  经营性现金流/收入  研发支出占比  \n",
       "0            0.01       0.00    0.38  0.09       0.02    0.00  \n",
       "1            0.23       0.00    0.69  0.45       0.11    0.04  \n",
       "2            0.02       0.00    0.74  0.93       0.51    0.28  \n",
       "3            0.01       0.00    0.23  0.06       0.00    0.00  \n",
       "4            0.05       0.01    0.23  0.09       0.04    0.00  \n",
       "\n",
       "[5 rows x 29 columns]"
      ]
     },
     "execution_count": 3,
     "metadata": {},
     "output_type": "execute_result"
    }
   ],
   "source": [
    "#将审核结果编码为0和1，作为一个可以进行机器学习的指标 （认为“发行股份购买资产获无条件通过”比“发行股份购买资产获有条件通过”好）\n",
    "#删除公司名称列，该列无法作为特征学习的指标\n",
    "unique_risk = unique_risk.drop(labels=['公司名称'], axis=1)\n",
    "unique_risk['审核结果']=unique_risk['审核结果'].map({'发行股份购买资产获无条件通过':1,'发行股份购买资产获有条件通过':0})\n",
    "unique_risk.head(5)"
   ]
  },
  {
   "cell_type": "code",
   "execution_count": 5,
   "id": "f9b3ddeb",
   "metadata": {},
   "outputs": [],
   "source": [
    "#按照顺序构造字典，方便将最后的特征选择结果输出为具体的属性名称\n",
    "from bidict import bidict\n",
    "feature_dict={\n",
    "0:'审核结果',\n",
    " 1:'上一年归母净利润（万元）',\n",
    " 2:'承诺期业绩增长率',\n",
    " 3:'前三年承诺覆盖率',\n",
    " 4:'静态市盈率',\n",
    " 5:'动态市盈率',\n",
    " 6:'成立年限',\n",
    " 7:'大股东持股比例',\n",
    " 8:'最近一个完整会计年度对第一大客户的销售占比',\n",
    " 9:'最近一个完整会计年度对第一供应商的采购占比',\n",
    " 10:'注入资产净资产账面值(万元)',\n",
    " 11:'D/(D+E)',\n",
    "12:'总资产增长率' ,\n",
    " 13:'归母权益增长率 ',\n",
    " 14:'净利润增长率',\n",
    " 15:'总资产周转率',\n",
    " 16:'存货周转率',\n",
    " 17:'应收账款周转率',\n",
    " 18:'固定资产周转率',\n",
    " 19:'流动比率',\n",
    " 20:'资产负债率',\n",
    " 21:'经营杠杆（EBITDA/EBIT)',\n",
    " 22:'（固定资产+土地）/归母权益',\n",
    " 23:'在建工程/归母权益',\n",
    " 24:'净资产收益率',\n",
    " 25:'毛利率',\n",
    " 26:'经营性现金流/收入',\n",
    " 27:'研发支出占比'\n",
    "}"
   ]
  },
  {
   "cell_type": "code",
   "execution_count": 6,
   "id": "67641110",
   "metadata": {},
   "outputs": [
    {
     "data": {
      "text/plain": [
       "0    0.02\n",
       "1    0.02\n",
       "2    0.05\n",
       "3    0.01\n",
       "4    0.01\n",
       "Name: Rc, dtype: float64"
      ]
     },
     "execution_count": 6,
     "metadata": {},
     "output_type": "execute_result"
    }
   ],
   "source": [
    "target=unique_risk['Rc']\n",
    "target.head(5)"
   ]
  },
  {
   "cell_type": "code",
   "execution_count": 7,
   "id": "abb6156e",
   "metadata": {},
   "outputs": [
    {
     "data": {
      "text/html": [
       "<div>\n",
       "<style scoped>\n",
       "    .dataframe tbody tr th:only-of-type {\n",
       "        vertical-align: middle;\n",
       "    }\n",
       "\n",
       "    .dataframe tbody tr th {\n",
       "        vertical-align: top;\n",
       "    }\n",
       "\n",
       "    .dataframe thead th {\n",
       "        text-align: right;\n",
       "    }\n",
       "</style>\n",
       "<table border=\"1\" class=\"dataframe\">\n",
       "  <thead>\n",
       "    <tr style=\"text-align: right;\">\n",
       "      <th></th>\n",
       "      <th>审核结果</th>\n",
       "      <th>上一年归母净利润（万元）</th>\n",
       "      <th>承诺期业绩增长率</th>\n",
       "      <th>前三年承诺覆盖率</th>\n",
       "      <th>静态市盈率</th>\n",
       "      <th>动态市盈率</th>\n",
       "      <th>成立年限</th>\n",
       "      <th>大股东持股比例</th>\n",
       "      <th>最近一个完整会计年度对第一大客户的销售占比</th>\n",
       "      <th>最近一个完整会计年度对第一供应商的采购占比</th>\n",
       "      <th>...</th>\n",
       "      <th>固定资产周转率</th>\n",
       "      <th>流动比率</th>\n",
       "      <th>资产负债率</th>\n",
       "      <th>经营杠杆（EBITDA/EBIT)</th>\n",
       "      <th>（固定资产+土地）/归母权益</th>\n",
       "      <th>在建工程/归母权益</th>\n",
       "      <th>净资产收益率</th>\n",
       "      <th>毛利率</th>\n",
       "      <th>经营性现金流/收入</th>\n",
       "      <th>研发支出占比</th>\n",
       "    </tr>\n",
       "  </thead>\n",
       "  <tbody>\n",
       "    <tr>\n",
       "      <th>0</th>\n",
       "      <td>1</td>\n",
       "      <td>15972.0</td>\n",
       "      <td>0.20</td>\n",
       "      <td>0.27</td>\n",
       "      <td>16.47</td>\n",
       "      <td>12.84</td>\n",
       "      <td>17.94</td>\n",
       "      <td>1.00</td>\n",
       "      <td>0.39</td>\n",
       "      <td>0.41</td>\n",
       "      <td>...</td>\n",
       "      <td>928.92</td>\n",
       "      <td>1.78</td>\n",
       "      <td>0.55</td>\n",
       "      <td>1.00</td>\n",
       "      <td>0.01</td>\n",
       "      <td>0.00</td>\n",
       "      <td>0.38</td>\n",
       "      <td>0.09</td>\n",
       "      <td>0.02</td>\n",
       "      <td>0.00</td>\n",
       "    </tr>\n",
       "    <tr>\n",
       "      <th>1</th>\n",
       "      <td>0</td>\n",
       "      <td>4443.0</td>\n",
       "      <td>0.27</td>\n",
       "      <td>0.33</td>\n",
       "      <td>15.37</td>\n",
       "      <td>11.68</td>\n",
       "      <td>9.04</td>\n",
       "      <td>0.35</td>\n",
       "      <td>0.23</td>\n",
       "      <td>0.13</td>\n",
       "      <td>...</td>\n",
       "      <td>17.93</td>\n",
       "      <td>1.64</td>\n",
       "      <td>0.56</td>\n",
       "      <td>1.03</td>\n",
       "      <td>0.23</td>\n",
       "      <td>0.00</td>\n",
       "      <td>0.69</td>\n",
       "      <td>0.45</td>\n",
       "      <td>0.11</td>\n",
       "      <td>0.04</td>\n",
       "    </tr>\n",
       "    <tr>\n",
       "      <th>2</th>\n",
       "      <td>0</td>\n",
       "      <td>1417.0</td>\n",
       "      <td>0.63</td>\n",
       "      <td>0.29</td>\n",
       "      <td>34.65</td>\n",
       "      <td>14.88</td>\n",
       "      <td>6.20</td>\n",
       "      <td>0.29</td>\n",
       "      <td>0.40</td>\n",
       "      <td>0.31</td>\n",
       "      <td>...</td>\n",
       "      <td>44.80</td>\n",
       "      <td>113.26</td>\n",
       "      <td>0.01</td>\n",
       "      <td>1.01</td>\n",
       "      <td>0.02</td>\n",
       "      <td>0.00</td>\n",
       "      <td>0.74</td>\n",
       "      <td>0.93</td>\n",
       "      <td>0.51</td>\n",
       "      <td>0.28</td>\n",
       "    </tr>\n",
       "    <tr>\n",
       "      <th>3</th>\n",
       "      <td>1</td>\n",
       "      <td>5349.0</td>\n",
       "      <td>0.24</td>\n",
       "      <td>0.25</td>\n",
       "      <td>19.22</td>\n",
       "      <td>13.88</td>\n",
       "      <td>13.56</td>\n",
       "      <td>0.51</td>\n",
       "      <td>0.14</td>\n",
       "      <td>0.07</td>\n",
       "      <td>...</td>\n",
       "      <td>1087.77</td>\n",
       "      <td>1.37</td>\n",
       "      <td>0.73</td>\n",
       "      <td>1.02</td>\n",
       "      <td>0.01</td>\n",
       "      <td>0.00</td>\n",
       "      <td>0.23</td>\n",
       "      <td>0.06</td>\n",
       "      <td>0.00</td>\n",
       "      <td>0.00</td>\n",
       "    </tr>\n",
       "    <tr>\n",
       "      <th>4</th>\n",
       "      <td>1</td>\n",
       "      <td>14478.0</td>\n",
       "      <td>0.18</td>\n",
       "      <td>0.30</td>\n",
       "      <td>15.01</td>\n",
       "      <td>11.94</td>\n",
       "      <td>20.32</td>\n",
       "      <td>0.51</td>\n",
       "      <td>0.08</td>\n",
       "      <td>0.14</td>\n",
       "      <td>...</td>\n",
       "      <td>147.85</td>\n",
       "      <td>1.61</td>\n",
       "      <td>0.60</td>\n",
       "      <td>1.03</td>\n",
       "      <td>0.05</td>\n",
       "      <td>0.01</td>\n",
       "      <td>0.23</td>\n",
       "      <td>0.09</td>\n",
       "      <td>0.04</td>\n",
       "      <td>0.00</td>\n",
       "    </tr>\n",
       "  </tbody>\n",
       "</table>\n",
       "<p>5 rows × 28 columns</p>\n",
       "</div>"
      ],
      "text/plain": [
       "   审核结果  上一年归母净利润（万元）  承诺期业绩增长率  前三年承诺覆盖率  静态市盈率  动态市盈率   成立年限  大股东持股比例  \\\n",
       "0     1       15972.0      0.20      0.27  16.47  12.84  17.94     1.00   \n",
       "1     0        4443.0      0.27      0.33  15.37  11.68   9.04     0.35   \n",
       "2     0        1417.0      0.63      0.29  34.65  14.88   6.20     0.29   \n",
       "3     1        5349.0      0.24      0.25  19.22  13.88  13.56     0.51   \n",
       "4     1       14478.0      0.18      0.30  15.01  11.94  20.32     0.51   \n",
       "\n",
       "   最近一个完整会计年度对第一大客户的销售占比  最近一个完整会计年度对第一供应商的采购占比  ...  固定资产周转率    流动比率  资产负债率  \\\n",
       "0                   0.39                   0.41  ...   928.92    1.78   0.55   \n",
       "1                   0.23                   0.13  ...    17.93    1.64   0.56   \n",
       "2                   0.40                   0.31  ...    44.80  113.26   0.01   \n",
       "3                   0.14                   0.07  ...  1087.77    1.37   0.73   \n",
       "4                   0.08                   0.14  ...   147.85    1.61   0.60   \n",
       "\n",
       "   经营杠杆（EBITDA/EBIT)  （固定资产+土地）/归母权益  在建工程/归母权益  净资产收益率   毛利率  经营性现金流/收入  \\\n",
       "0               1.00            0.01       0.00    0.38  0.09       0.02   \n",
       "1               1.03            0.23       0.00    0.69  0.45       0.11   \n",
       "2               1.01            0.02       0.00    0.74  0.93       0.51   \n",
       "3               1.02            0.01       0.00    0.23  0.06       0.00   \n",
       "4               1.03            0.05       0.01    0.23  0.09       0.04   \n",
       "\n",
       "   研发支出占比  \n",
       "0    0.00  \n",
       "1    0.04  \n",
       "2    0.28  \n",
       "3    0.00  \n",
       "4    0.00  \n",
       "\n",
       "[5 rows x 28 columns]"
      ]
     },
     "execution_count": 7,
     "metadata": {},
     "output_type": "execute_result"
    }
   ],
   "source": [
    "data=unique_risk.drop(labels=['Rc'],axis=1)\n",
    "data.head(5)"
   ]
  },
  {
   "cell_type": "code",
   "execution_count": 8,
   "id": "d1d69eaf",
   "metadata": {},
   "outputs": [],
   "source": [
    "# 抽取 30% 的数据作为测试集，其余作为训练集\n",
    "from sklearn.model_selection import train_test_split\n",
    "train, test = train_test_split(unique_risk, test_size = 0.3)"
   ]
  },
  {
   "cell_type": "code",
   "execution_count": 9,
   "id": "e1b481ed",
   "metadata": {},
   "outputs": [],
   "source": [
    "#分解成为特征矩阵和结果矩阵\n",
    "train_X = train.drop(labels=[\"Rc\"], axis=1)\n",
    "train_y=train['Rc']\n",
    "\n",
    "test_X= test.drop(labels=[\"Rc\"], axis=1)\n",
    "test_y =test['Rc']"
   ]
  },
  {
   "cell_type": "code",
   "execution_count": 10,
   "id": "3bde929e",
   "metadata": {},
   "outputs": [],
   "source": [
    "from sklearn.preprocessing import MinMaxScaler\n",
    "# 采用 Min_Max 规范化数据，保证每个特征维度的数据均值为 0，方差为 1\n",
    "ss = MinMaxScaler()\n",
    "train_X = ss.fit_transform(train_X)\n",
    "test_X = ss.transform(test_X)\n",
    "data = ss.fit_transform(data)"
   ]
  },
  {
   "cell_type": "code",
   "execution_count": 11,
   "id": "48dc8a39",
   "metadata": {},
   "outputs": [],
   "source": [
    "#PowerTransformer 类提供了两种幂变换，Yeo-Johnson transform 和 the Box-Cox transform\n",
    "#df_amp = power_transform(df_amp, method='yeo-johnson') \n",
    "#我觉得没有必要，因为我用Min_MaxScaler，没有必要将数据转换成符合正态分布"
   ]
  },
  {
   "cell_type": "markdown",
   "id": "2aaaf635",
   "metadata": {},
   "source": [
    "两点未做事项：<br>\n",
    "1.未使用 iforest算法进行异常点检车。https://www.cnblogs.com/wj-1314/p/10461816.html<br>\n",
    "2.通过One-Hot或者其他方式对行业进行编码，将行业也作为一个备选属性。"
   ]
  },
  {
   "cell_type": "markdown",
   "id": "1aec1705",
   "metadata": {},
   "source": [
    "## 2 不进行特征工程，直接进行机器学习"
   ]
  },
  {
   "cell_type": "markdown",
   "id": "0f12c11e",
   "metadata": {},
   "source": [
    "### 2.1 罗列回归模型\n",
    "只是把所有我能想到的回归模型进行了罗列,实际工作一般只选择几个模型进行测试。比如最小二乘回归在一般的流程中会使用岭回归代替，随机森林是AdaBoost的特殊情况。<br>\n",
    "具体模型解释参考：\n",
    "https://zhuanlan.zhihu.com/p/62034592<br>\n",
    "http://ster.im/py_sklearn_1/#Gradient-Boosting%E5%9B%9E%E5%BD%92"
   ]
  },
  {
   "cell_type": "code",
   "execution_count": 12,
   "id": "50690fd4",
   "metadata": {},
   "outputs": [],
   "source": [
    "#最小二乘法线性回归\n",
    "from sklearn import linear_model\n",
    "model_LinearRegression = linear_model.LinearRegression()\n",
    "\n",
    "# 岭回归\n",
    "from sklearn.linear_model import RidgeCV\n",
    "model_RidgeCV= RidgeCV()\n",
    "\n",
    "#Lasso回归\n",
    "from sklearn.linear_model import LassoCV\n",
    "model_LassoCV= LassoCV()\n",
    "\n",
    "#Elastic Net回归\n",
    "from sklearn.linear_model import ElasticNetCV\n",
    "model_ElasticNetCV = ElasticNetCV()\n",
    "\n",
    "#最小角度回归（Least Angle Regression）\n",
    "from sklearn.linear_model import LarsCV\n",
    "model_Lars_cv = LarsCV()\n",
    "\n",
    "#贝叶斯岭回归\n",
    "from sklearn.linear_model import BayesianRidge\n",
    "model_BayesianRidge=BayesianRidge()\n",
    "\n",
    "#SGD回归\n",
    "from sklearn.linear_model import SGDRegressor\n",
    "model_SGDRegressor=SGDRegressor()\n",
    "\n",
    "#SVM回归\n",
    "from sklearn import svm\n",
    "model_SVR = svm.SVR()\n",
    "\n",
    "#KNN回归\n",
    "from sklearn import neighbors\n",
    "model_KNeighborsRegressor = neighbors.KNeighborsRegressor()\n",
    "\n",
    "#决策树回归\n",
    "from sklearn import tree\n",
    "model_DecisionTreeRegressor = tree.DecisionTreeRegressor()\n",
    "\n",
    "#MLPRegressor神经网络回归\n",
    "from sklearn.neural_network import MLPRegressor\n",
    "model_MLPRegressor=MLPRegressor()\n",
    "\n",
    "#Bagging回归\n",
    "from sklearn.ensemble import BaggingRegressor\n",
    "model_BaggingRegressor = BaggingRegressor()\n",
    "\n",
    "#随机森林回归\n",
    "from sklearn import ensemble\n",
    "model_RandomForestRegressor = ensemble.RandomForestRegressor(n_estimators=20)#这里使用20个决策树\n",
    "\n",
    "#ExtraTree极端随机树回归\n",
    "from sklearn.tree import ExtraTreeRegressor\n",
    "model_ExtraTreeRegressor = ExtraTreeRegressor()\n",
    "\n",
    "#Adaboost回归\n",
    "from sklearn import ensemble\n",
    "model_AdaBoostRegressor = ensemble.AdaBoostRegressor(n_estimators=50)#这里使用50个决策树\n",
    "\n",
    "#GBRT回归#\n",
    "from sklearn import ensemble\n",
    "model_GradientBoostingRegressor = ensemble.GradientBoostingRegressor(n_estimators=100)#这里使用100个决策树\n",
    "\n",
    "#LGBM回归\n",
    "import lightgbm as lgb\n",
    "model_LGBMRegressor= lgb.LGBMRegressor()\n",
    "\n",
    "#XGBoost回归\n",
    "import xgboost as xgb\n",
    "model_XGBRegressor = xgb.XGBRegressor()"
   ]
  },
  {
   "cell_type": "markdown",
   "id": "d9937921",
   "metadata": {},
   "source": [
    "### 2.2 模型评估\n",
    "&ensp; 由于数据量不够大，采用交叉验证取平均值的方法进行评估。<br> &ensp; sklearn当中使用均方误差作为评判标准时，却是计算”负均方误差“（neg_mean_squared_error）。这是因为sklearn在计算模型评估指标的时候，会考虑指标本身的性质，均方误差本身是一种误差，所以被sklearn划分为模型的一种损失(loss)，因此在sklearn当中，都以负数表示"
   ]
  },
  {
   "cell_type": "code",
   "execution_count": 13,
   "id": "d16fcc6a",
   "metadata": {},
   "outputs": [],
   "source": [
    "#输出拟合结果和R^2分数，并且展示预测值和真实值的区别\n",
    "def try_different_method(model):\n",
    "    model.fit(train_X,train_y)\n",
    "    score = model.score(test_X, test_y)\n",
    "    result = model.predict(test_X)\n",
    "    plt.figure()\n",
    "    plt.plot(np.arange(len(result)), test_y,'go-',label='true value')\n",
    "    plt.plot(np.arange(len(result)),result,'ro-',label='predict value')\n",
    "    plt.title('score: %f'%score)\n",
    "    plt.legend()\n",
    "    plt.show()"
   ]
  },
  {
   "cell_type": "code",
   "execution_count": 12,
   "id": "a6f56e3f",
   "metadata": {},
   "outputs": [
    {
     "data": {
      "image/png": "[encoded data removed]",
      "text/plain": [
       "<Figure size 432x288 with 1 Axes>"
      ]
     },
     "metadata": {
      "needs_background": "light"
     },
     "output_type": "display_data"
    }
   ],
   "source": [
    "#举例\n",
    "try_different_method(model_RandomForestRegressor)"
   ]
  },
  {
   "cell_type": "code",
   "execution_count": 98,
   "id": "9a69a91d",
   "metadata": {},
   "outputs": [],
   "source": [
    "#导入交叉验证包\n",
    "from sklearn.model_selection import cross_val_score"
   ]
  },
  {
   "cell_type": "markdown",
   "id": "aefea7af",
   "metadata": {},
   "source": [
    "计算各模型交叉验证后的r2<br>\n",
    "直接使用7/3分训练集和测试集，通过几次实验，发现r^2值并不稳定，不能很好地体现各模型的效果<br>\n",
    "对于有解析解的模型而言，交叉验证的结果是稳定的，可以比较好的进行说明和比较。对于没有解析解的模型，则通过多次fit()取最高值"
   ]
  },
  {
   "cell_type": "code",
   "execution_count": 14,
   "id": "18dfad47",
   "metadata": {},
   "outputs": [
    {
     "data": {
      "text/plain": [
       "-1.6807772224692452"
      ]
     },
     "execution_count": 14,
     "metadata": {},
     "output_type": "execute_result"
    }
   ],
   "source": [
    "#交叉验证 计算平均值\n",
    "from sklearn.model_selection import cross_val_score\n",
    "score=[]\n",
    "score=cross_val_score(model_LinearRegression,data,target,cv=5,scoring='r2')\n",
    "score.mean()"
   ]
  },
  {
   "cell_type": "code",
   "execution_count": null,
   "id": "da1dfe6c",
   "metadata": {},
   "outputs": [],
   "source": []
  },
  {
   "cell_type": "code",
   "execution_count": 99,
   "id": "96aa24f4",
   "metadata": {},
   "outputs": [
    {
     "data": {
      "text/plain": [
       "0.07216844123736747"
      ]
     },
     "execution_count": 99,
     "metadata": {},
     "output_type": "execute_result"
    }
   ],
   "source": [
    "score=[]\n",
    "score=cross_val_score(model_RidgeCV,data,target,cv=5,scoring='r2')\n",
    "score.mean()"
   ]
  },
  {
   "cell_type": "code",
   "execution_count": null,
   "id": "84be0d87",
   "metadata": {},
   "outputs": [],
   "source": []
  },
  {
   "cell_type": "code",
   "execution_count": 101,
   "id": "8243c7bc",
   "metadata": {},
   "outputs": [
    {
     "data": {
      "text/plain": [
       "0.04244108783672067"
      ]
     },
     "execution_count": 101,
     "metadata": {},
     "output_type": "execute_result"
    }
   ],
   "source": [
    "score=[]\n",
    "score=cross_val_score(model_LassoCV,data,target,cv=5,scoring='r2')\n",
    "score.mean()"
   ]
  },
  {
   "cell_type": "code",
   "execution_count": null,
   "id": "a8c22c70",
   "metadata": {},
   "outputs": [],
   "source": []
  },
  {
   "cell_type": "code",
   "execution_count": 102,
   "id": "29affd02",
   "metadata": {},
   "outputs": [
    {
     "data": {
      "text/plain": [
       "0.04251050752099108"
      ]
     },
     "execution_count": 102,
     "metadata": {},
     "output_type": "execute_result"
    }
   ],
   "source": [
    "score=[]\n",
    "score=cross_val_score(model_ElasticNetCV,data,target,cv=5,scoring='r2')\n",
    "score.mean()"
   ]
  },
  {
   "cell_type": "code",
   "execution_count": null,
   "id": "ca9d88cc",
   "metadata": {},
   "outputs": [],
   "source": []
  },
  {
   "cell_type": "code",
   "execution_count": 17,
   "id": "dde237d2",
   "metadata": {},
   "outputs": [
    {
     "data": {
      "text/plain": [
       "0.03790030147800618"
      ]
     },
     "execution_count": 17,
     "metadata": {},
     "output_type": "execute_result"
    }
   ],
   "source": [
    "score=[]\n",
    "score=cross_val_score(model_Lars_cv,data,target,cv=5,scoring='r2')\n",
    "score.mean()"
   ]
  },
  {
   "cell_type": "code",
   "execution_count": null,
   "id": "6fd44010",
   "metadata": {},
   "outputs": [],
   "source": []
  },
  {
   "cell_type": "code",
   "execution_count": 18,
   "id": "41be5bf2",
   "metadata": {},
   "outputs": [
    {
     "data": {
      "text/plain": [
       "0.07150336618077066"
      ]
     },
     "execution_count": 18,
     "metadata": {},
     "output_type": "execute_result"
    }
   ],
   "source": [
    "score=[]\n",
    "score=cross_val_score(model_BayesianRidge,data,target,cv=5,scoring='r2')\n",
    "score.mean()"
   ]
  },
  {
   "cell_type": "code",
   "execution_count": null,
   "id": "bc5b124a",
   "metadata": {},
   "outputs": [],
   "source": []
  },
  {
   "cell_type": "code",
   "execution_count": 20,
   "id": "6a421d51",
   "metadata": {},
   "outputs": [
    {
     "data": {
      "text/plain": [
       "-0.07099009110733481"
      ]
     },
     "execution_count": 20,
     "metadata": {},
     "output_type": "execute_result"
    }
   ],
   "source": [
    "score=[]\n",
    "score=cross_val_score(model_SGDRegressor,data,target,cv=5,scoring='r2')\n",
    "score.mean()"
   ]
  },
  {
   "cell_type": "code",
   "execution_count": null,
   "id": "ca3ef63a",
   "metadata": {},
   "outputs": [],
   "source": []
  },
  {
   "cell_type": "code",
   "execution_count": 22,
   "id": "8158dbdf",
   "metadata": {},
   "outputs": [
    {
     "data": {
      "text/plain": [
       "-0.2720592899233105"
      ]
     },
     "execution_count": 22,
     "metadata": {},
     "output_type": "execute_result"
    }
   ],
   "source": [
    "score=[]\n",
    "score=cross_val_score(model_SVR,data,target,cv=5,scoring='r2')\n",
    "score.mean()"
   ]
  },
  {
   "cell_type": "code",
   "execution_count": null,
   "id": "89db2f5a",
   "metadata": {},
   "outputs": [],
   "source": []
  },
  {
   "cell_type": "code",
   "execution_count": 23,
   "id": "ab516390",
   "metadata": {},
   "outputs": [
    {
     "data": {
      "text/plain": [
       "-0.04005747792348944"
      ]
     },
     "execution_count": 23,
     "metadata": {},
     "output_type": "execute_result"
    }
   ],
   "source": [
    "score=[]\n",
    "score=cross_val_score(model_KNeighborsRegressor,data,target,cv=5,scoring='r2')\n",
    "score.mean()"
   ]
  },
  {
   "cell_type": "code",
   "execution_count": null,
   "id": "a260fd47",
   "metadata": {},
   "outputs": [],
   "source": []
  },
  {
   "cell_type": "code",
   "execution_count": 47,
   "id": "51461404",
   "metadata": {},
   "outputs": [
    {
     "data": {
      "text/plain": [
       "-0.613841983216996"
      ]
     },
     "execution_count": 47,
     "metadata": {},
     "output_type": "execute_result"
    }
   ],
   "source": [
    "score=[]\n",
    "score=cross_val_score(model_DecisionTreeRegressor,data,target,cv=5,scoring='r2')\n",
    "score.mean()"
   ]
  },
  {
   "cell_type": "code",
   "execution_count": null,
   "id": "7124c665",
   "metadata": {},
   "outputs": [],
   "source": []
  },
  {
   "cell_type": "code",
   "execution_count": 48,
   "id": "6408852a",
   "metadata": {},
   "outputs": [
    {
     "data": {
      "text/plain": [
       "-40.985295875024775"
      ]
     },
     "execution_count": 48,
     "metadata": {},
     "output_type": "execute_result"
    }
   ],
   "source": [
    "score=[]\n",
    "score=cross_val_score(model_MLPRegressor,data,target,cv=5,scoring='r2')\n",
    "score.mean()"
   ]
  },
  {
   "cell_type": "code",
   "execution_count": null,
   "id": "6d07fcd4",
   "metadata": {},
   "outputs": [],
   "source": []
  },
  {
   "cell_type": "code",
   "execution_count": 53,
   "id": "a2a689f0",
   "metadata": {},
   "outputs": [
    {
     "data": {
      "text/plain": [
       "0.13369234936795532"
      ]
     },
     "execution_count": 53,
     "metadata": {},
     "output_type": "execute_result"
    }
   ],
   "source": [
    "score=[]\n",
    "score=cross_val_score(model_BaggingRegressor,data,target,cv=5,scoring='r2')\n",
    "score.mean()"
   ]
  },
  {
   "cell_type": "code",
   "execution_count": null,
   "id": "7bfe3505",
   "metadata": {},
   "outputs": [],
   "source": []
  },
  {
   "cell_type": "code",
   "execution_count": 54,
   "id": "34ace10d",
   "metadata": {},
   "outputs": [
    {
     "data": {
      "text/plain": [
       "0.11672347100174574"
      ]
     },
     "execution_count": 54,
     "metadata": {},
     "output_type": "execute_result"
    }
   ],
   "source": [
    "score=[]\n",
    "score=cross_val_score(model_RandomForestRegressor,data,target,cv=5,scoring='r2')\n",
    "score.mean()"
   ]
  },
  {
   "cell_type": "code",
   "execution_count": null,
   "id": "48c08405",
   "metadata": {},
   "outputs": [],
   "source": []
  },
  {
   "cell_type": "code",
   "execution_count": 65,
   "id": "fa027c24",
   "metadata": {},
   "outputs": [
    {
     "data": {
      "text/plain": [
       "-0.49498582598862695"
      ]
     },
     "execution_count": 65,
     "metadata": {},
     "output_type": "execute_result"
    }
   ],
   "source": [
    "score=[]\n",
    "score=cross_val_score(model_ExtraTreeRegressor,data,target,cv=5,scoring='r2')\n",
    "score.mean()"
   ]
  },
  {
   "cell_type": "code",
   "execution_count": null,
   "id": "b40d4e45",
   "metadata": {},
   "outputs": [],
   "source": []
  },
  {
   "cell_type": "code",
   "execution_count": 70,
   "id": "8885ec89",
   "metadata": {},
   "outputs": [
    {
     "data": {
      "text/plain": [
       "0.1793746384625494"
      ]
     },
     "execution_count": 70,
     "metadata": {},
     "output_type": "execute_result"
    }
   ],
   "source": [
    "score=[]\n",
    "score=cross_val_score(model_AdaBoostRegressor,data,target,cv=5,scoring='r2')\n",
    "score.mean()"
   ]
  },
  {
   "cell_type": "code",
   "execution_count": null,
   "id": "961d69bc",
   "metadata": {},
   "outputs": [],
   "source": []
  },
  {
   "cell_type": "code",
   "execution_count": 81,
   "id": "1e91e089",
   "metadata": {},
   "outputs": [
    {
     "data": {
      "text/plain": [
       "-0.011751484128329803"
      ]
     },
     "execution_count": 81,
     "metadata": {},
     "output_type": "execute_result"
    }
   ],
   "source": [
    "score=[]\n",
    "score=cross_val_score(model_GradientBoostingRegressor,data,target,cv=5,scoring='r2')\n",
    "score.mean()"
   ]
  },
  {
   "cell_type": "code",
   "execution_count": null,
   "id": "340bccfa",
   "metadata": {},
   "outputs": [],
   "source": []
  },
  {
   "cell_type": "code",
   "execution_count": 82,
   "id": "0ae274c0",
   "metadata": {},
   "outputs": [
    {
     "data": {
      "text/plain": [
       "0.037396720766279555"
      ]
     },
     "execution_count": 82,
     "metadata": {},
     "output_type": "execute_result"
    }
   ],
   "source": [
    "score=[]\n",
    "score=cross_val_score(model_LGBMRegressor,data,target,cv=5,scoring='r2')\n",
    "score.mean()"
   ]
  },
  {
   "cell_type": "code",
   "execution_count": null,
   "id": "112df53a",
   "metadata": {},
   "outputs": [],
   "source": []
  },
  {
   "cell_type": "code",
   "execution_count": 84,
   "id": "bfd7a3a4",
   "metadata": {},
   "outputs": [
    {
     "data": {
      "text/plain": [
       "-0.2345316075283665"
      ]
     },
     "execution_count": 84,
     "metadata": {},
     "output_type": "execute_result"
    }
   ],
   "source": [
    "score=[]\n",
    "score=cross_val_score(model_XGBRegressor,data,target,cv=5,scoring='r2')\n",
    "score.mean()"
   ]
  },
  {
   "cell_type": "code",
   "execution_count": null,
   "id": "86b9d814",
   "metadata": {},
   "outputs": [],
   "source": []
  },
  {
   "cell_type": "markdown",
   "id": "45d44618",
   "metadata": {},
   "source": [
    "由于SVR和多层神经网络都把数据达到高层空间，因此try_difference方法无法很好地展示情况。<br>\n",
    "此外，由于模型的复杂性，因此调参能对模型产生极大的影响"
   ]
  },
  {
   "cell_type": "code",
   "execution_count": 85,
   "id": "5baa2637",
   "metadata": {},
   "outputs": [
    {
     "name": "stdout",
     "output_type": "stream",
     "text": [
      "The best parameters are {'C': 0.1, 'gamma': 10} with a score of -0.27\n"
     ]
    }
   ],
   "source": [
    "from sklearn.model_selection import GridSearchCV  \n",
    "grid = GridSearchCV(svm.SVR(), param_grid={\"C\":[0.1, 1, 10, 100], \"gamma\":[10,1, 0.1, 0.01]}, cv=5)  \n",
    "grid.fit(data, target)  \n",
    "print(\"The best parameters are %s with a score of %0.2f\" %(grid.best_params_, grid.best_score_))"
   ]
  },
  {
   "cell_type": "markdown",
   "id": "c7394a65",
   "metadata": {},
   "source": [
    "对于SVR，调参后交叉验证结果没有明显变化。"
   ]
  },
  {
   "cell_type": "markdown",
   "id": "168f17f0",
   "metadata": {},
   "source": [
    "对MLP神经网络进行调参。默认只有一层(200,)的效果不是很好。"
   ]
  },
  {
   "cell_type": "code",
   "execution_count": 60,
   "id": "958520fb",
   "metadata": {},
   "outputs": [
    {
     "name": "stdout",
     "output_type": "stream",
     "text": [
      "The best parameters are {'activation': 'tanh', 'alpha': 0.0001, 'hidden_layer_sizes': (5, 3, 3, 3), 'learning_rate': 'adaptive', 'solver': 'lbfgs'} with a score of -0.00\n"
     ]
    }
   ],
   "source": [
    "from sklearn.model_selection import GridSearchCV  \n",
    "parameter_space = {\n",
    "    #为了加快运行速度，删除了从(30,30,30) (30,)开始的迭代  五层或者更深可以优化效果，但会让模型过于复杂\n",
    "    'hidden_layer_sizes': [(5,5,5),(3,3,3),(5,3,3,3),(5,5,5,5),(3,3,3,3)], \n",
    "    'activation': ['tanh', 'relu','logistic'],\n",
    "    'solver': ['sgd', 'adam','lbfgs'],\n",
    "    'alpha': [0.0001, 0.05,0.1,1,10],\n",
    "    'learning_rate': ['constant','adaptive'],\n",
    "}\n",
    "\n",
    "grid = GridSearchCV(MLPRegressor(), parameter_space, cv=5)  \n",
    "grid.fit(data, target)  \n",
    "print(\"The best parameters are %s with a score of %0.2f\" %(grid.best_params_, grid.best_score_))"
   ]
  },
  {
   "cell_type": "markdown",
   "id": "3c6cf57e",
   "metadata": {},
   "source": [
    "五次调参结果如下：<br>\n",
    "The best parameters are {'activation': 'tanh', 'alpha': 0.0001, 'hidden_layer_sizes': (5, 3, 3, 3), 'learning_rate': 'constant', 'solver': 'lbfgs'} with a score of -0.02<br>\n",
    "The best parameters are {'activation': 'tanh', 'alpha': 0.05, 'hidden_layer_sizes': (5, 5, 5), 'learning_rate': 'adaptive', 'solver': 'lbfgs'} with a score of -0.01<br>\n",
    "The best parameters are {'activation': 'tanh', 'alpha': 0.0001, 'hidden_layer_sizes': (5, 3, 3, 3), 'learning_rate': 'constant', 'solver': 'lbfgs'} with a score of -0.01<br>\n",
    "The best parameters are {'activation': 'tanh', 'alpha': 0.0001, 'hidden_layer_sizes': (5, 5, 5, 5), 'learning_rate': 'adaptive', 'solver': 'lbfgs'} with a score of -0.01<br>\n",
    "The best parameters are {'activation': 'relu', 'alpha': 0.1, 'hidden_layer_sizes': (3, 3, 3), 'learning_rate': 'adaptive', 'solver': 'lbfgs'} with a score of -0.00<br>"
   ]
  },
  {
   "cell_type": "code",
   "execution_count": 91,
   "id": "a03d56bf",
   "metadata": {},
   "outputs": [
    {
     "data": {
      "image/png": "[encoded data removed]",
      "text/plain": [
       "<Figure size 432x288 with 1 Axes>"
      ]
     },
     "metadata": {
      "needs_background": "light"
     },
     "output_type": "display_data"
    }
   ],
   "source": [
    "from sklearn.neural_network import MLPRegressor\n",
    "model_MLPRegressor=MLPRegressor(activation='tanh', alpha=0.0001, hidden_layer_sizes=(3,3,3), learning_rate='adaptive', solver='lbfgs')\n",
    "try_different_method(model_MLPRegressor)"
   ]
  },
  {
   "cell_type": "code",
   "execution_count": 93,
   "id": "1f8d84a2",
   "metadata": {},
   "outputs": [
    {
     "data": {
      "text/plain": [
       "-0.043224784492351606"
      ]
     },
     "execution_count": 93,
     "metadata": {},
     "output_type": "execute_result"
    }
   ],
   "source": [
    "score=[]\n",
    "score=cross_val_score(model_MLPRegressor,data,target,cv=5,scoring='r2')\n",
    "score.mean()"
   ]
  },
  {
   "cell_type": "markdown",
   "id": "c4a11200",
   "metadata": {},
   "source": [
    "&emsp;&emsp;对于神经网络，调参可以有效地优化模型，使得模型的误差显著变小。在表现差距不大的情况下，模型越简单，越具有可解释性，越容易计算。<br>\n",
    "我觉得比较理想的参数是  activation='tanh', alpha=0.0001, hidden_layer_sizes=(3,3,3), learning_rate='adaptive', solver='lbfgs'"
   ]
  },
  {
   "cell_type": "code",
   "execution_count": null,
   "id": "a6fbc885",
   "metadata": {},
   "outputs": [],
   "source": []
  },
  {
   "cell_type": "code",
   "execution_count": null,
   "id": "c204de90",
   "metadata": {},
   "outputs": [],
   "source": []
  },
  {
   "cell_type": "markdown",
   "id": "f26c2f50",
   "metadata": {},
   "source": [
    "尝试除了Decisiion Tree外其他的弱分类器AdaBoost"
   ]
  },
  {
   "cell_type": "code",
   "execution_count": 94,
   "id": "f6788d73",
   "metadata": {},
   "outputs": [],
   "source": [
    "model_AdaBoostRegressor = ensemble.AdaBoostRegressor(model_Lars_cv,n_estimators=50)"
   ]
  },
  {
   "cell_type": "code",
   "execution_count": 95,
   "id": "1b4c1f8b",
   "metadata": {},
   "outputs": [
    {
     "data": {
      "text/plain": [
       "0.08287474418817406"
      ]
     },
     "execution_count": 95,
     "metadata": {},
     "output_type": "execute_result"
    }
   ],
   "source": [
    "score=[]\n",
    "score=cross_val_score(model_AdaBoostRegressor,data,target,cv=5,scoring='r2')\n",
    "score.mean()"
   ]
  },
  {
   "cell_type": "code",
   "execution_count": null,
   "id": "69be09cd",
   "metadata": {},
   "outputs": [],
   "source": []
  },
  {
   "cell_type": "code",
   "execution_count": 96,
   "id": "2442e128",
   "metadata": {},
   "outputs": [],
   "source": [
    "model_AdaBoostRegressor = ensemble.AdaBoostRegressor(model_LGBMRegressor,n_estimators=50)"
   ]
  },
  {
   "cell_type": "code",
   "execution_count": 97,
   "id": "6c6b3d53",
   "metadata": {},
   "outputs": [
    {
     "data": {
      "text/plain": [
       "0.14604652070877583"
      ]
     },
     "execution_count": 97,
     "metadata": {},
     "output_type": "execute_result"
    }
   ],
   "source": [
    "score=[]\n",
    "score=cross_val_score(model_AdaBoostRegressor,data,target,cv=5,scoring='r2')\n",
    "score.mean()"
   ]
  },
  {
   "cell_type": "code",
   "execution_count": null,
   "id": "499b7b89",
   "metadata": {},
   "outputs": [],
   "source": []
  },
  {
   "cell_type": "code",
   "execution_count": 98,
   "id": "d9588f13",
   "metadata": {},
   "outputs": [],
   "source": [
    "model_AdaBoostRegressor = ensemble.AdaBoostRegressor(MLPRegressor(activation='tanh', alpha=0.0001, hidden_layer_sizes=(3,3,3), learning_rate='adaptive', solver='lbfgs'),n_estimators=50)"
   ]
  },
  {
   "cell_type": "code",
   "execution_count": 100,
   "id": "d0dd6ca7",
   "metadata": {},
   "outputs": [
    {
     "data": {
      "text/plain": [
       "-0.060884807192556824"
      ]
     },
     "execution_count": 100,
     "metadata": {},
     "output_type": "execute_result"
    }
   ],
   "source": [
    "score=[]\n",
    "score=cross_val_score(model_AdaBoostRegressor,data,target,cv=5,scoring='r2')\n",
    "score.mean()"
   ]
  },
  {
   "cell_type": "markdown",
   "id": "7778b5f6",
   "metadata": {},
   "source": [
    "根据结果，使用不同的弱分类器并不能表现得比默认的决策更好，因此不修改base_estimator参数 只对n_estimators进行调优"
   ]
  },
  {
   "cell_type": "markdown",
   "id": "d572dfdc",
   "metadata": {},
   "source": [
    "在不调参以及进行特征选择的基础上，通过交叉验证得到各模型结果如下<br>\n",
    "\n",
    "|模型              |R^2              |是否稳定|\n",
    "|----------------|----------------------|------|\n",
    "|Adaboost回归      |0.1794         |不稳定   |\n",
    "|Bagging回归       |0.1337      |不稳定   |\n",
    "|随机森林回归          |0.1167         |不稳定   |\n",
    "|岭回归             |0.0722        |稳定    |\n",
    "|贝叶斯岭回归          |0.0715        |稳定    |\n",
    "|Elastic Net回归   |0.0425         |稳定    |\n",
    "|Lasso回归         |0.0424         |稳定    |\n",
    "|最小角度回归          |0.0379          |稳定    |\n",
    "|LGBM回归          |0.0221          |稳定    |\n",
    "|GBRT回归          |-0.0118          |不稳定   |\n",
    "|KNN回归           |-0.0401         |稳定    |\n",
    "|神经网络回归（调参后）          |-0.0432      |不稳定   |\n",
    "|SGD回归           |-0.0710           |不稳定   |\n",
    "|XGBoost回归       |-0.2343      |稳定    |\n",
    "|SVM回归           |-0.2721       |稳定    |\n",
    "|ExtraTree极端随机树回归|-0.4937         |不稳定   |\n",
    "|决策树回归           |-0.6138          |不稳定   |\n",
    "|最小二乘法线性回归       |-1.6808         |稳定    |\n",
    "|神经网络回归（调参前）          |-40.9853         |不稳定   |\n"
   ]
  },
  {
   "cell_type": "markdown",
   "id": "2757a5a0",
   "metadata": {},
   "source": [
    "&emsp;&emsp;不稳定指的是由于模型没有解析解，因此每次通过fit()函数调用产生的结果不同。因此对于像神经网络等模型在获得一个比较好的结果后需要通过如下代码进行持久化保存。<br>\n",
    "&emsp;&emsp;岭回归，Lasso回归和弹性网回归已经进行了一定程度上的特征选择，没有特别大的改进空间。"
   ]
  },
  {
   "cell_type": "code",
   "execution_count": null,
   "id": "605e23f9",
   "metadata": {},
   "outputs": [],
   "source": [
    "from sklearn.externals import joblib\n",
    "joblib.dump(clf, 'filename.pkl') #保存fit()结果  \n",
    "clf = joblib.load('filename.pkl')  #加载文件"
   ]
  },
  {
   "cell_type": "markdown",
   "id": "6970556c",
   "metadata": {},
   "source": [
    "\n",
    "&emsp;&emsp;线性回归模型的表现普遍不是很好。从最小二乘法到Elastic Net回归由于添加了惩罚项，在一定程度上进行了特征选择。贝叶斯岭和SGD岭回归只是将参数估计方法从最小二乘变成最大化边际对数似然和随机梯度下降。<br>\n",
    "SVM回归因此表现不佳。<br>\n",
    "&emsp;&emsp;MLP神经网络调参后具有不错的表现，但随着隐藏层的增加会变得难以解释： a(b(c(d(x))))还原成a(x)的难度太大了<br>\n",
    "&emsp;&emsp;KNN回归的思想是寻找最近的几个点，求加权平均；树回归本质是将区域分成多个区域。<br>\n",
    "&emsp;&emsp;集成回归模型一般都能将弱分类器变成一个表现较好的分类器。"
   ]
  },
  {
   "cell_type": "markdown",
   "id": "02828433",
   "metadata": {},
   "source": [
    "&emsp;&emsp;对SVR进行调优后，并没有明显的优化。~~之后只对AdaBoost回归（随机森林也可以理解为AdaBoost的特殊情况），Bagging回归 进行特征选择和调优，选择比较好的模型。~~(待定  我再试试吧)"
   ]
  },
  {
   "cell_type": "markdown",
   "id": "557d0035",
   "metadata": {},
   "source": [
    "## 3 特征选择"
   ]
  },
  {
   "cell_type": "markdown",
   "id": "f89a3aad",
   "metadata": {},
   "source": [
    "不考虑通过PolynomialFeatures构造 如x^2, xy等多项式特征，我觉得这种特征对于该问题没有意义"
   ]
  },
  {
   "cell_type": "markdown",
   "id": "cada052f",
   "metadata": {},
   "source": [
    "### 3.1 特征选择: Filter\n",
    "&emsp;&emsp;基本思路是通过统计学变量，计算自变量和目标变量之间的关联。<br>\n",
    "&emsp;&emsp;相关系数，卡方检验，信息增益：互信息。"
   ]
  },
  {
   "cell_type": "markdown",
   "id": "e424d3f6",
   "metadata": {},
   "source": [
    "&ensp; 这部分不算我的强项，感觉做的其实没有原有的成果好，这个暂时先搁置了，后期看是否决定有时间补充。"
   ]
  },
  {
   "cell_type": "code",
   "execution_count": 34,
   "id": "85ec77ac",
   "metadata": {},
   "outputs": [
    {
     "data": {
      "text/plain": [
       "<AxesSubplot:>"
      ]
     },
     "execution_count": 34,
     "metadata": {},
     "output_type": "execute_result"
    },
    {
     "data": {
      "image/png": "[encoded data removed]",
      "text/plain": [
       "<Figure size 432x288 with 2 Axes>"
      ]
     },
     "metadata": {},
     "output_type": "display_data"
    }
   ],
   "source": [
    "# 用Seaborn 生成热图\n",
    "import seaborn as sns\n",
    "import matplotlib.style as style\n",
    "# 选用一个干净的主题\n",
    "style.use('fivethirtyeight')\n",
    "sns.heatmap(unique_risk.corr())"
   ]
  },
  {
   "cell_type": "code",
   "execution_count": 35,
   "id": "3b9e004b",
   "metadata": {},
   "outputs": [
    {
     "data": {
      "text/plain": [
       "审核结果                     False\n",
       "Rc                        True\n",
       "上一年归母净利润（万元）             False\n",
       "承诺期业绩增长率                 False\n",
       "前三年承诺覆盖率                  True\n",
       "静态市盈率                    False\n",
       "动态市盈率                     True\n",
       "成立年限                      True\n",
       "大股东持股比例                  False\n",
       "最近一个完整会计年度对第一大客户的销售占比    False\n",
       "最近一个完整会计年度对第一供应商的采购占比    False\n",
       "注入资产净资产账面值(万元)           False\n",
       "D/(D+E)                  False\n",
       "总资产增长率                   False\n",
       "归母权益增长率                  False\n",
       "净利润增长率                    True\n",
       "总资产周转率                   False\n",
       "存货周转率                    False\n",
       "应收账款周转率                  False\n",
       "固定资产周转率                   True\n",
       "流动比率                     False\n",
       "资产负债率                    False\n",
       "经营杠杆（EBITDA/EBIT)        False\n",
       "（固定资产+土地）/归母权益           False\n",
       "在建工程/归母权益                False\n",
       "净资产收益率                   False\n",
       "毛利率                      False\n",
       "经营性现金流/收入                False\n",
       "研发支出占比                   False\n",
       "Name: Rc, dtype: bool"
      ]
     },
     "execution_count": 35,
     "metadata": {},
     "output_type": "execute_result"
    }
   ],
   "source": [
    "# 只留下相关系数超过正负0.2 的特征\n",
    "unique_risk.corr()['Rc'].abs() > .2"
   ]
  },
  {
   "cell_type": "code",
   "execution_count": 40,
   "id": "2cd24f2a",
   "metadata": {},
   "outputs": [
    {
     "data": {
      "text/plain": [
       "Index(['前三年承诺覆盖率', '动态市盈率', '成立年限', '净利润增长率', '固定资产周转率'], dtype='object')"
      ]
     },
     "execution_count": 40,
     "metadata": {},
     "output_type": "execute_result"
    }
   ],
   "source": [
    "# 存储特征\n",
    "highly_correlated_features =unique_risk.columns[unique_risk.corr()['Rc'].abs() > .2]\n",
    "highly_correlated_features=highly_correlated_features.drop('Rc') \n",
    "highly_correlated_features"
   ]
  },
  {
   "cell_type": "code",
   "execution_count": 100,
   "id": "f76db042",
   "metadata": {},
   "outputs": [
    {
     "data": {
      "text/plain": [
       "0.07216844123736747"
      ]
     },
     "execution_count": 100,
     "metadata": {},
     "output_type": "execute_result"
    }
   ],
   "source": [
    "score=[]\n",
    "score=cross_val_score(model_RidgeCV,data,target,cv=5,scoring='r2')\n",
    "score.mean()"
   ]
  },
  {
   "cell_type": "code",
   "execution_count": 101,
   "id": "55a49643",
   "metadata": {},
   "outputs": [
    {
     "data": {
      "text/html": [
       "<div>\n",
       "<style scoped>\n",
       "    .dataframe tbody tr th:only-of-type {\n",
       "        vertical-align: middle;\n",
       "    }\n",
       "\n",
       "    .dataframe tbody tr th {\n",
       "        vertical-align: top;\n",
       "    }\n",
       "\n",
       "    .dataframe thead th {\n",
       "        text-align: right;\n",
       "    }\n",
       "</style>\n",
       "<table border=\"1\" class=\"dataframe\">\n",
       "  <thead>\n",
       "    <tr style=\"text-align: right;\">\n",
       "      <th></th>\n",
       "      <th>前三年承诺覆盖率</th>\n",
       "      <th>动态市盈率</th>\n",
       "      <th>成立年限</th>\n",
       "      <th>净利润增长率</th>\n",
       "      <th>固定资产周转率</th>\n",
       "    </tr>\n",
       "  </thead>\n",
       "  <tbody>\n",
       "    <tr>\n",
       "      <th>0</th>\n",
       "      <td>0.27</td>\n",
       "      <td>12.84</td>\n",
       "      <td>17.94</td>\n",
       "      <td>0.16</td>\n",
       "      <td>928.92</td>\n",
       "    </tr>\n",
       "    <tr>\n",
       "      <th>1</th>\n",
       "      <td>0.33</td>\n",
       "      <td>11.68</td>\n",
       "      <td>9.04</td>\n",
       "      <td>1.85</td>\n",
       "      <td>17.93</td>\n",
       "    </tr>\n",
       "    <tr>\n",
       "      <th>2</th>\n",
       "      <td>0.29</td>\n",
       "      <td>14.88</td>\n",
       "      <td>6.20</td>\n",
       "      <td>0.80</td>\n",
       "      <td>44.80</td>\n",
       "    </tr>\n",
       "    <tr>\n",
       "      <th>3</th>\n",
       "      <td>0.25</td>\n",
       "      <td>13.88</td>\n",
       "      <td>13.56</td>\n",
       "      <td>0.23</td>\n",
       "      <td>1087.77</td>\n",
       "    </tr>\n",
       "    <tr>\n",
       "      <th>4</th>\n",
       "      <td>0.30</td>\n",
       "      <td>11.94</td>\n",
       "      <td>20.32</td>\n",
       "      <td>0.16</td>\n",
       "      <td>147.85</td>\n",
       "    </tr>\n",
       "  </tbody>\n",
       "</table>\n",
       "</div>"
      ],
      "text/plain": [
       "   前三年承诺覆盖率  动态市盈率   成立年限  净利润增长率  固定资产周转率\n",
       "0      0.27  12.84  17.94    0.16   928.92\n",
       "1      0.33  11.68   9.04    1.85    17.93\n",
       "2      0.29  14.88   6.20    0.80    44.80\n",
       "3      0.25  13.88  13.56    0.23  1087.77\n",
       "4      0.30  11.94  20.32    0.16   147.85"
      ]
     },
     "execution_count": 101,
     "metadata": {},
     "output_type": "execute_result"
    }
   ],
   "source": [
    "new_data=unique_risk[['前三年承诺覆盖率', '动态市盈率', '成立年限', '净利润增长率', '固定资产周转率']]\n",
    "new_data.head(5)"
   ]
  },
  {
   "cell_type": "code",
   "execution_count": 102,
   "id": "c944059b",
   "metadata": {},
   "outputs": [],
   "source": [
    "new_data=ss.fit_transform(new_data)"
   ]
  },
  {
   "cell_type": "code",
   "execution_count": 103,
   "id": "c0d4203c",
   "metadata": {
    "scrolled": true
   },
   "outputs": [
    {
     "data": {
      "text/plain": [
       "0.11034517626414612"
      ]
     },
     "execution_count": 103,
     "metadata": {},
     "output_type": "execute_result"
    }
   ],
   "source": [
    "score=[]\n",
    "score=cross_val_score(model_RidgeCV,new_data,target,cv=5,scoring='r2')\n",
    "score.mean()"
   ]
  },
  {
   "cell_type": "markdown",
   "id": "3c34aaf5",
   "metadata": {},
   "source": [
    "进行特征选择可以优化提升模型的效果"
   ]
  },
  {
   "cell_type": "code",
   "execution_count": null,
   "id": "fba2c46c",
   "metadata": {},
   "outputs": [],
   "source": []
  },
  {
   "cell_type": "markdown",
   "id": "f810ebc9",
   "metadata": {},
   "source": [
    "### 3.2 特征选择：Wrapper\n",
    "思路：通过目标函数来决定是否加入一个变量。"
   ]
  },
  {
   "cell_type": "markdown",
   "id": "55087a7f",
   "metadata": {},
   "source": [
    "最佳子集回归（Best Subset Regression）<br>\n",
    "通过遍历所有可能的组合，找出最好的特征组合。<br>\n",
    "由于 $C_{n}^{1}+C_{n}^{2}+C_{n}^{3}+ ... +C_{n}^{n}=2^n$  &emsp; 因此对于具有大量属性(20个以上，2^20=1048576，建议跑分布式解决)的问题，这个方法并不适用。"
   ]
  },
  {
   "cell_type": "code",
   "execution_count": null,
   "id": "ec0d1a2b",
   "metadata": {},
   "outputs": [],
   "source": [
    "#不运行\n",
    "results = pd.DataFrame(columns=['num_features', 'features', 'R2'])\n",
    "\n",
    "\n",
    "for k in range(1, X_train.shape[1] + 1):\n",
    "    for subset in itertools.combinations(range(X_train.shape[1]), k):\n",
    "        linreg_model = LinearRegression.fit(X_train[:, subset], y_train)\n",
    "        score = linreg_model.score(X_train[:, subset],y_train)\n",
    "        results = results.append(pd.DataFrame([{'num_features': k, 'features': subset,'R2': score}]))\n",
    "\n",
    "# 根据R^2的值进行排序\n",
    "results = results.sort_values('R2').reset_index()\n",
    "print(results.head())\n",
    "\n",
    "# 拟合最优模型\n",
    "\n",
    "# get corresponding feature describe\n",
    "feature_describe = data.columns.tolist()[1:-2]\n",
    "best_subset_feature_index = results['features'][0]\n",
    "best_subset_feature_describe = []\n",
    "for index in best_subset_feature_index:\n",
    "    best_subset_feature_describe.append(feature_describe[index])\n",
    "\n",
    "\n",
    "best_subset_model = LinearRegression(normalize=True).fit(X_train[:, results['features'][0]], y_train)\n",
    "best_subset_coefs = dict(\n",
    "    zip(['Intercept'] + best_subset_feature_describe,\n",
    "        np.round(np.concatenate((best_subset_model.intercept_, best_subset_model.coef_), axis=None), 3))\n",
    ")\n",
    "\n",
    "print('Best Subset Regression R2: {}'.format(np.round(results['R2'][0], 3)))\n",
    "print('Best Subset Regression coefficients:', best_subset_coefs)"
   ]
  },
  {
   "cell_type": "code",
   "execution_count": null,
   "id": "a074d795",
   "metadata": {},
   "outputs": [],
   "source": []
  },
  {
   "cell_type": "markdown",
   "id": "9a18fa49",
   "metadata": {},
   "source": [
    "feature_selection.RFECV，递归特征消除法<BR>\n",
    "&emsp;&emsp;递归特征删除法,不断训练模型，每次训练完毕删除掉n个重要性低的特征，然后对新的特征再次进行训练，又一次得到特征重要性，再次删除n个重要性低的特征，直到特征数满足自己的设定。通过交叉验证来找到最优的特征数量，这里的交叉验证与我们经常见到的不同，不是不同行组合然后求平均，而是不同列的组合求均值，得到最优的特征数量。如果减少特征会造成性能损失，那么将不会去除任何特征。"
   ]
  },
  {
   "cell_type": "code",
   "execution_count": 14,
   "id": "e5705040",
   "metadata": {},
   "outputs": [
    {
     "name": "stdout",
     "output_type": "stream",
     "text": [
      "[False  True  True  True False  True  True  True False False False  True\n",
      "  True False False  True False False False False False False False False\n",
      "  True False False False]\n",
      "[19  1  1  1  5  1  1  1 10  6  9  1  1 12  8  1 11  4 15  2  3 13 18 17\n",
      "  1  7 14 16]\n",
      "10\n",
      "[-0.25792345  0.04099363  0.03420285 -0.00697929  0.05958269  0.10164545\n",
      "  0.10468535  0.09450692  0.12463406  0.16445999  0.07878808  0.1140803\n",
      "  0.09394951  0.10246628  0.06732129  0.05148448  0.03886603  0.08873608\n",
      "  0.08441182  0.1263461   0.06769718  0.12344167  0.12110685  0.09204827\n",
      "  0.1019819   0.12426022  0.12036948  0.08986083]\n"
     ]
    }
   ],
   "source": [
    "#对于AdaBoost通过RFECV进行特征选择\n",
    "from sklearn.feature_selection import RFECV\n",
    "from sklearn import ensemble\n",
    "\n",
    "estimator = ensemble.AdaBoostRegressor(n_estimators=50)\n",
    "\n",
    "# 5折交叉\n",
    "selector = RFECV(estimator, step=1, cv=5,scoring='r2')\n",
    "selector = selector.fit(data, target)\n",
    "\n",
    "# 哪些特征入选最后特征，true表示入选\n",
    "print(selector.support_)\n",
    "\n",
    "# 每个特征的得分排名，特征得分越低（1最好），表示特征越好\n",
    "print(selector.ranking_)\n",
    "\n",
    "#  挑选了几个特征\n",
    "print(selector.n_features_)\n",
    "# 每次交叉迭代各个特征得分\n",
    "print(selector.grid_scores_)"
   ]
  },
  {
   "cell_type": "code",
   "execution_count": 16,
   "id": "6f2e1e55",
   "metadata": {},
   "outputs": [
    {
     "name": "stdout",
     "output_type": "stream",
     "text": [
      "上一年归母净利润（万元）\n",
      "承诺期业绩增长率\n",
      "前三年承诺覆盖率\n",
      "动态市盈率\n",
      "成立年限\n",
      "大股东持股比例\n",
      "D/(D+E)\n",
      "总资产增长率\n",
      "总资产周转率\n",
      "净资产收益率\n"
     ]
    }
   ],
   "source": [
    "for i in range(len(selector.support_)):\n",
    "    if selector.support_[i]:\n",
    "        print(feature_dict[i])"
   ]
  },
  {
   "cell_type": "code",
   "execution_count": 17,
   "id": "71f43234",
   "metadata": {},
   "outputs": [
    {
     "data": {
      "text/plain": [
       "array([0.07110668, 0.09902093, 0.14318283, 0.08508161, 0.11968015,\n",
       "       0.09005091, 0.13734989, 0.10678442, 0.0830795 , 0.06466307])"
      ]
     },
     "execution_count": 17,
     "metadata": {},
     "output_type": "execute_result"
    }
   ],
   "source": [
    "selector.estimator_.feature_importances_"
   ]
  },
  {
   "cell_type": "code",
   "execution_count": 28,
   "id": "e87c16dc",
   "metadata": {},
   "outputs": [
    {
     "data": {
      "text/plain": [
       "{'前三年承诺覆盖率': 0.14318283,\n",
       " 'D/(D+E)': 0.13734989,\n",
       " '成立年限': 0.11968015,\n",
       " '总资产增长率': 0.10678442,\n",
       " '承诺期业绩增长率': 0.09902093,\n",
       " '大股东持股比例': 0.09005091,\n",
       " '动态市盈率': 0.08508161,\n",
       " '总资产周转率': 0.0830795,\n",
       " '上一年归母净利润（万元）': 0.07110668,\n",
       " '净资产收益率': 0.06466307}"
      ]
     },
     "execution_count": 28,
     "metadata": {},
     "output_type": "execute_result"
    }
   ],
   "source": [
    "result={\"上一年归母净利润（万元）\":0.07110668,\n",
    "\"承诺期业绩增长率\":0.09902093,\n",
    "\"前三年承诺覆盖率\":0.14318283,\n",
    "\"动态市盈率\":0.08508161,\n",
    "\"成立年限\":0.11968015,\n",
    "\"大股东持股比例\":0.09005091,\n",
    "\"D/(D+E)\": 0.13734989,\n",
    "\"总资产增长率\":0.10678442,\n",
    "\"总资产周转率\":0.0830795, \n",
    "\"净资产收益率\":0.06466307\n",
    "}\n",
    "dict(sorted(result.items(), key=lambda item: item[1],reverse=True))"
   ]
  },
  {
   "cell_type": "code",
   "execution_count": null,
   "id": "661bcc67",
   "metadata": {},
   "outputs": [],
   "source": []
  },
  {
   "cell_type": "code",
   "execution_count": 87,
   "id": "a27cead0",
   "metadata": {},
   "outputs": [
    {
     "name": "stdout",
     "output_type": "stream",
     "text": [
      "[False False  True  True False  True  True  True  True False  True  True\n",
      " False False  True False  True False  True  True  True  True False False\n",
      "  True  True False  True]\n",
      "[ 7  4  1  1  6  1  1  1  1 12  1  1  8  9  1  3  1 10  1  1  1  1 11  2\n",
      "  1  1  5  1]\n",
      "17\n",
      "[-0.10691103 -0.08792981  0.0015108   0.03089925  0.07394255  0.08930557\n",
      "  0.07740238  0.08327563  0.10622224  0.10033636  0.10105676  0.09348613\n",
      "  0.10436005  0.11092395  0.11441851  0.11931348  0.1267853   0.0973484\n",
      "  0.10746511  0.09691629  0.07914468  0.0722563   0.07170838  0.06812256\n",
      "  0.07063101  0.07087806  0.07183719  0.07216844]\n"
     ]
    }
   ],
   "source": [
    "#对于岭回归通过RFECV进行特征选择\n",
    "from sklearn.feature_selection import RFECV\n",
    "from sklearn import ensemble\n",
    "\n",
    "estimator = RidgeCV()\n",
    "\n",
    "# 5折交叉\n",
    "selector = RFECV(estimator, step=1, cv=5,scoring='r2')\n",
    "selector = selector.fit(data, target)\n",
    "\n",
    "# 哪些特征入选最后特征，true表示入选\n",
    "print(selector.support_)\n",
    "\n",
    "# 每个特征的得分排名，特征得分越低（1最好），表示特征越好\n",
    "print(selector.ranking_)\n",
    "\n",
    "#  挑选了几个特征\n",
    "print(selector.n_features_)\n",
    "# 每次交叉迭代各个特征得分\n",
    "print(selector.grid_scores_)"
   ]
  },
  {
   "cell_type": "code",
   "execution_count": 88,
   "id": "0423b831",
   "metadata": {},
   "outputs": [
    {
     "data": {
      "text/plain": [
       "array([ 0.00622631,  0.01141003, -0.0082583 , -0.00984573, -0.00617567,\n",
       "        0.00667129,  0.00539275,  0.00687357,  0.0141159 ,  0.0071212 ,\n",
       "        0.00791002,  0.00944786,  0.00723763, -0.00530948,  0.00571086,\n",
       "        0.00510503,  0.00761793])"
      ]
     },
     "execution_count": 88,
     "metadata": {},
     "output_type": "execute_result"
    }
   ],
   "source": [
    "selector.estimator_.coef_"
   ]
  },
  {
   "cell_type": "code",
   "execution_count": 90,
   "id": "a36e22b3",
   "metadata": {},
   "outputs": [
    {
     "data": {
      "text/plain": [
       "{'净利润增长率': 0.0141159,\n",
       " '前三年承诺覆盖率': 0.01141003,\n",
       " '成立年限': -0.00984573,\n",
       " '流动比率': 0.00944786,\n",
       " '动态市盈率': -0.0082583,\n",
       " '固定资产周转率': 0.00791002,\n",
       " '研发支出占比': 0.00761793,\n",
       " '资产负债率': 0.00723763,\n",
       " '存货周转率': 0.0071212,\n",
       " 'D/(D+E)': 0.00687357,\n",
       " '最近一个完整会计年度对第一大客户的销售占比': 0.00667129,\n",
       " '承诺期业绩增长率': 0.00622631,\n",
       " '大股东持股比例': -0.00617567,\n",
       " '净资产收益率': 0.00571086,\n",
       " '注入资产净资产账面值(万元)': 0.00539275,\n",
       " '经营杠杆（EBITDA/EBIT)': -0.00530948,\n",
       " '毛利率': 0.00510503}"
      ]
     },
     "execution_count": 90,
     "metadata": {},
     "output_type": "execute_result"
    }
   ],
   "source": [
    "result={'承诺期业绩增长率':0.00622631,\n",
    "'前三年承诺覆盖率':0.01141003,\n",
    "'动态市盈率':-0.0082583,\n",
    "'成立年限':-0.00984573,\n",
    "'大股东持股比例':-0.00617567,\n",
    "'最近一个完整会计年度对第一大客户的销售占比':0.00667129,\n",
    "'注入资产净资产账面值(万元)':0.00539275,\n",
    "'D/(D+E)':0.00687357,\n",
    "'净利润增长率':0.0141159,\n",
    "'存货周转率':0.0071212,\n",
    "'固定资产周转率':0.00791002,\n",
    "'流动比率':0.00944786,\n",
    "'资产负债率':0.00723763,\n",
    "'经营杠杆（EBITDA/EBIT)':-0.00530948,\n",
    "'净资产收益率': 0.00571086,\n",
    "'毛利率':0.00510503,\n",
    "'研发支出占比':0.00761793}\n",
    "dict(sorted(result.items(), key=lambda item: abs(item[1]),reverse=True))"
   ]
  },
  {
   "cell_type": "code",
   "execution_count": null,
   "id": "19febc94",
   "metadata": {},
   "outputs": [],
   "source": []
  },
  {
   "cell_type": "code",
   "execution_count": 91,
   "id": "3065759e",
   "metadata": {},
   "outputs": [
    {
     "name": "stdout",
     "output_type": "stream",
     "text": [
      "[False False  True False  True  True  True  True False False  True False\n",
      "  True False False  True  True  True False  True  True False False False\n",
      "  True  True False False]\n",
      "[15  9  1  4  1  1  1  1 10  2  1  7  1  5  8  1  1  1  3  1  1 11 12 14\n",
      "  1  1  6 13]\n",
      "14\n",
      "[-0.08087455 -0.08321782 -0.16552435 -0.17220495 -0.16254833 -0.14615131\n",
      " -0.07867268 -0.04929552 -0.02525918 -0.01269313 -0.01987514 -0.03203186\n",
      "  0.03445237  0.0866951   0.06231025  0.01852797  0.0404062   0.04590875\n",
      "  0.00245121  0.01909081  0.03801592  0.04989523  0.05600172  0.04510203\n",
      "  0.04755616  0.04755459  0.03896927  0.03739672]\n"
     ]
    }
   ],
   "source": [
    "#对于LGBM回归通过RFECV进行特征选择\n",
    "from sklearn.feature_selection import RFECV\n",
    "\n",
    "estimator = lgb.LGBMRegressor()\n",
    "\n",
    "# 5折交叉\n",
    "selector = RFECV(estimator, step=1, cv=5,scoring='r2')\n",
    "selector = selector.fit(data, target)\n",
    "\n",
    "# 哪些特征入选最后特征，true表示入选\n",
    "print(selector.support_)\n",
    "\n",
    "# 每个特征的得分排名，特征得分越低（1最好），表示特征越好\n",
    "print(selector.ranking_)\n",
    "\n",
    "#  挑选了几个特征\n",
    "print(selector.n_features_)\n",
    "# 每次交叉迭代各个特征得分\n",
    "print(selector.grid_scores_)"
   ]
  },
  {
   "cell_type": "code",
   "execution_count": 92,
   "id": "0643fdba",
   "metadata": {},
   "outputs": [
    {
     "name": "stdout",
     "output_type": "stream",
     "text": [
      "承诺期业绩增长率\n",
      "静态市盈率\n",
      "动态市盈率\n",
      "成立年限\n",
      "大股东持股比例\n",
      "注入资产净资产账面值(万元)\n",
      "总资产增长率\n",
      "总资产周转率\n",
      "存货周转率\n",
      "应收账款周转率\n",
      "流动比率\n",
      "资产负债率\n",
      "净资产收益率\n",
      "毛利率\n"
     ]
    }
   ],
   "source": [
    "for i in range(len(selector.support_)):\n",
    "    if selector.support_[i]:\n",
    "        print(feature_dict[i])"
   ]
  },
  {
   "cell_type": "code",
   "execution_count": 86,
   "id": "bf5da089",
   "metadata": {},
   "outputs": [
    {
     "data": {
      "text/plain": [
       "array([25, 34, 42, 27, 31, 30, 32, 23, 28, 27, 35, 22, 24, 27])"
      ]
     },
     "execution_count": 86,
     "metadata": {},
     "output_type": "execute_result"
    }
   ],
   "source": [
    "selector.estimator_.feature_importances_"
   ]
  },
  {
   "cell_type": "code",
   "execution_count": 94,
   "id": "6d4783a7",
   "metadata": {},
   "outputs": [
    {
     "data": {
      "text/plain": [
       "{'动态市盈率': 42,\n",
       " '流动比率': 35,\n",
       " '静态市盈率': 34,\n",
       " '总资产增长率': 32,\n",
       " '大股东持股比例': 31,\n",
       " '注入资产净资产账面值(万元)': 30,\n",
       " '存货周转率': 28,\n",
       " '成立年限': 27,\n",
       " '应收账款周转率': 27,\n",
       " '毛利率': 27,\n",
       " '承诺期业绩增长率': 25,\n",
       " '净资产收益率': 24,\n",
       " '总资产周转率': 23,\n",
       " '资产负债率': 22}"
      ]
     },
     "execution_count": 94,
     "metadata": {},
     "output_type": "execute_result"
    }
   ],
   "source": [
    "result={'承诺期业绩增长率':25,\n",
    "'静态市盈率':34,\n",
    "'动态市盈率':42,\n",
    "'成立年限':27,\n",
    "'大股东持股比例':31,\n",
    "'注入资产净资产账面值(万元)':30,\n",
    "'总资产增长率':32,\n",
    "'总资产周转率':23,\n",
    "'存货周转率':28,\n",
    "'应收账款周转率':27,\n",
    "'流动比率':35,\n",
    "'资产负债率':22,\n",
    "'净资产收益率':24,\n",
    "'毛利率':27}\n",
    "dict(sorted(result.items(), key=lambda item: abs(item[1]),reverse=True))"
   ]
  },
  {
   "cell_type": "code",
   "execution_count": null,
   "id": "e1782352",
   "metadata": {},
   "outputs": [],
   "source": []
  },
  {
   "cell_type": "markdown",
   "id": "d6864e16",
   "metadata": {},
   "source": [
    "由于神经网络没有 coef_ 或 feature_importances_ 属性，因此无法通过RFECV属性进行特征选择。<br>\n",
    "注：MLP的coef_返回的并不是属性的系数，而是返回一个矩阵表示神经网络每个连接之间的权重。即对于f(a(b(c(x))))中 a,b,c中的系数，不能直接输出f(x)中的系数 "
   ]
  },
  {
   "cell_type": "code",
   "execution_count": 95,
   "id": "6551cf9d",
   "metadata": {},
   "outputs": [
    {
     "ename": "ValueError",
     "evalue": "when `importance_getter=='auto'`, the underlying estimator MLPRegressor should have `coef_` or `feature_importances_` attribute. Either pass a fitted estimator to feature selector or call fit before calling transform.",
     "output_type": "error",
     "traceback": [
      "\u001b[1;31m---------------------------------------------------------------------------\u001b[0m",
      "\u001b[1;31mValueError\u001b[0m                                Traceback (most recent call last)",
      "\u001b[1;32m<ipython-input-95-98d790fed67b>\u001b[0m in \u001b[0;36m<module>\u001b[1;34m\u001b[0m\n\u001b[0;32m      6\u001b[0m \u001b[1;31m# 5折交叉\u001b[0m\u001b[1;33m\u001b[0m\u001b[1;33m\u001b[0m\u001b[1;33m\u001b[0m\u001b[0m\n\u001b[0;32m      7\u001b[0m \u001b[0mselector\u001b[0m \u001b[1;33m=\u001b[0m \u001b[0mRFECV\u001b[0m\u001b[1;33m(\u001b[0m\u001b[0mestimator\u001b[0m\u001b[1;33m,\u001b[0m \u001b[0mstep\u001b[0m\u001b[1;33m=\u001b[0m\u001b[1;36m1\u001b[0m\u001b[1;33m,\u001b[0m \u001b[0mcv\u001b[0m\u001b[1;33m=\u001b[0m\u001b[1;36m5\u001b[0m\u001b[1;33m,\u001b[0m\u001b[0mscoring\u001b[0m\u001b[1;33m=\u001b[0m\u001b[1;34m'r2'\u001b[0m\u001b[1;33m)\u001b[0m\u001b[1;33m\u001b[0m\u001b[1;33m\u001b[0m\u001b[0m\n\u001b[1;32m----> 8\u001b[1;33m \u001b[0mselector\u001b[0m \u001b[1;33m=\u001b[0m \u001b[0mselector\u001b[0m\u001b[1;33m.\u001b[0m\u001b[0mfit\u001b[0m\u001b[1;33m(\u001b[0m\u001b[0mdata\u001b[0m\u001b[1;33m,\u001b[0m \u001b[0mtarget\u001b[0m\u001b[1;33m)\u001b[0m\u001b[1;33m\u001b[0m\u001b[1;33m\u001b[0m\u001b[0m\n\u001b[0m\u001b[0;32m      9\u001b[0m \u001b[1;33m\u001b[0m\u001b[0m\n\u001b[0;32m     10\u001b[0m \u001b[1;31m# 哪些特征入选最后特征，true表示入选\u001b[0m\u001b[1;33m\u001b[0m\u001b[1;33m\u001b[0m\u001b[1;33m\u001b[0m\u001b[0m\n",
      "\u001b[1;32mD:\\Anaconda\\lib\\site-packages\\sklearn\\feature_selection\\_rfe.py\u001b[0m in \u001b[0;36mfit\u001b[1;34m(self, X, y, groups)\u001b[0m\n\u001b[0;32m    603\u001b[0m             \u001b[0mfunc\u001b[0m \u001b[1;33m=\u001b[0m \u001b[0mdelayed\u001b[0m\u001b[1;33m(\u001b[0m\u001b[0m_rfe_single_fit\u001b[0m\u001b[1;33m)\u001b[0m\u001b[1;33m\u001b[0m\u001b[1;33m\u001b[0m\u001b[0m\n\u001b[0;32m    604\u001b[0m \u001b[1;33m\u001b[0m\u001b[0m\n\u001b[1;32m--> 605\u001b[1;33m         scores = parallel(\n\u001b[0m\u001b[0;32m    606\u001b[0m             \u001b[0mfunc\u001b[0m\u001b[1;33m(\u001b[0m\u001b[0mrfe\u001b[0m\u001b[1;33m,\u001b[0m \u001b[0mself\u001b[0m\u001b[1;33m.\u001b[0m\u001b[0mestimator\u001b[0m\u001b[1;33m,\u001b[0m \u001b[0mX\u001b[0m\u001b[1;33m,\u001b[0m \u001b[0my\u001b[0m\u001b[1;33m,\u001b[0m \u001b[0mtrain\u001b[0m\u001b[1;33m,\u001b[0m \u001b[0mtest\u001b[0m\u001b[1;33m,\u001b[0m \u001b[0mscorer\u001b[0m\u001b[1;33m)\u001b[0m\u001b[1;33m\u001b[0m\u001b[1;33m\u001b[0m\u001b[0m\n\u001b[0;32m    607\u001b[0m             for train, test in cv.split(X, y, groups))\n",
      "\u001b[1;32mD:\\Anaconda\\lib\\site-packages\\sklearn\\feature_selection\\_rfe.py\u001b[0m in \u001b[0;36m<genexpr>\u001b[1;34m(.0)\u001b[0m\n\u001b[0;32m    604\u001b[0m \u001b[1;33m\u001b[0m\u001b[0m\n\u001b[0;32m    605\u001b[0m         scores = parallel(\n\u001b[1;32m--> 606\u001b[1;33m             \u001b[0mfunc\u001b[0m\u001b[1;33m(\u001b[0m\u001b[0mrfe\u001b[0m\u001b[1;33m,\u001b[0m \u001b[0mself\u001b[0m\u001b[1;33m.\u001b[0m\u001b[0mestimator\u001b[0m\u001b[1;33m,\u001b[0m \u001b[0mX\u001b[0m\u001b[1;33m,\u001b[0m \u001b[0my\u001b[0m\u001b[1;33m,\u001b[0m \u001b[0mtrain\u001b[0m\u001b[1;33m,\u001b[0m \u001b[0mtest\u001b[0m\u001b[1;33m,\u001b[0m \u001b[0mscorer\u001b[0m\u001b[1;33m)\u001b[0m\u001b[1;33m\u001b[0m\u001b[1;33m\u001b[0m\u001b[0m\n\u001b[0m\u001b[0;32m    607\u001b[0m             for train, test in cv.split(X, y, groups))\n\u001b[0;32m    608\u001b[0m \u001b[1;33m\u001b[0m\u001b[0m\n",
      "\u001b[1;32mD:\\Anaconda\\lib\\site-packages\\sklearn\\feature_selection\\_rfe.py\u001b[0m in \u001b[0;36m_rfe_single_fit\u001b[1;34m(rfe, estimator, X, y, train, test, scorer)\u001b[0m\n\u001b[0;32m     35\u001b[0m     \u001b[0mX_train\u001b[0m\u001b[1;33m,\u001b[0m \u001b[0my_train\u001b[0m \u001b[1;33m=\u001b[0m \u001b[0m_safe_split\u001b[0m\u001b[1;33m(\u001b[0m\u001b[0mestimator\u001b[0m\u001b[1;33m,\u001b[0m \u001b[0mX\u001b[0m\u001b[1;33m,\u001b[0m \u001b[0my\u001b[0m\u001b[1;33m,\u001b[0m \u001b[0mtrain\u001b[0m\u001b[1;33m)\u001b[0m\u001b[1;33m\u001b[0m\u001b[1;33m\u001b[0m\u001b[0m\n\u001b[0;32m     36\u001b[0m     \u001b[0mX_test\u001b[0m\u001b[1;33m,\u001b[0m \u001b[0my_test\u001b[0m \u001b[1;33m=\u001b[0m \u001b[0m_safe_split\u001b[0m\u001b[1;33m(\u001b[0m\u001b[0mestimator\u001b[0m\u001b[1;33m,\u001b[0m \u001b[0mX\u001b[0m\u001b[1;33m,\u001b[0m \u001b[0my\u001b[0m\u001b[1;33m,\u001b[0m \u001b[0mtest\u001b[0m\u001b[1;33m,\u001b[0m \u001b[0mtrain\u001b[0m\u001b[1;33m)\u001b[0m\u001b[1;33m\u001b[0m\u001b[1;33m\u001b[0m\u001b[0m\n\u001b[1;32m---> 37\u001b[1;33m     return rfe._fit(\n\u001b[0m\u001b[0;32m     38\u001b[0m         \u001b[0mX_train\u001b[0m\u001b[1;33m,\u001b[0m \u001b[0my_train\u001b[0m\u001b[1;33m,\u001b[0m\u001b[1;33m\u001b[0m\u001b[1;33m\u001b[0m\u001b[0m\n\u001b[0;32m     39\u001b[0m         lambda estimator, features: _score(\n",
      "\u001b[1;32mD:\\Anaconda\\lib\\site-packages\\sklearn\\feature_selection\\_rfe.py\u001b[0m in \u001b[0;36m_fit\u001b[1;34m(self, X, y, step_score)\u001b[0m\n\u001b[0;32m    242\u001b[0m \u001b[1;33m\u001b[0m\u001b[0m\n\u001b[0;32m    243\u001b[0m             \u001b[1;31m# Get importance and rank them\u001b[0m\u001b[1;33m\u001b[0m\u001b[1;33m\u001b[0m\u001b[1;33m\u001b[0m\u001b[0m\n\u001b[1;32m--> 244\u001b[1;33m             importances = _get_feature_importances(\n\u001b[0m\u001b[0;32m    245\u001b[0m                 \u001b[0mestimator\u001b[0m\u001b[1;33m,\u001b[0m \u001b[0mself\u001b[0m\u001b[1;33m.\u001b[0m\u001b[0mimportance_getter\u001b[0m\u001b[1;33m,\u001b[0m \u001b[0mtransform_func\u001b[0m\u001b[1;33m=\u001b[0m\u001b[1;34m\"square\"\u001b[0m\u001b[1;33m,\u001b[0m\u001b[1;33m\u001b[0m\u001b[1;33m\u001b[0m\u001b[0m\n\u001b[0;32m    246\u001b[0m             )\n",
      "\u001b[1;32mD:\\Anaconda\\lib\\site-packages\\sklearn\\feature_selection\\_base.py\u001b[0m in \u001b[0;36m_get_feature_importances\u001b[1;34m(estimator, getter, transform_func, norm_order)\u001b[0m\n\u001b[0;32m    171\u001b[0m                 \u001b[0mgetter\u001b[0m \u001b[1;33m=\u001b[0m \u001b[0mattrgetter\u001b[0m\u001b[1;33m(\u001b[0m\u001b[1;34m'feature_importances_'\u001b[0m\u001b[1;33m)\u001b[0m\u001b[1;33m\u001b[0m\u001b[1;33m\u001b[0m\u001b[0m\n\u001b[0;32m    172\u001b[0m             \u001b[1;32melse\u001b[0m\u001b[1;33m:\u001b[0m\u001b[1;33m\u001b[0m\u001b[1;33m\u001b[0m\u001b[0m\n\u001b[1;32m--> 173\u001b[1;33m                 raise ValueError(\n\u001b[0m\u001b[0;32m    174\u001b[0m                     \u001b[1;34mf\"when `importance_getter=='auto'`, the underlying \"\u001b[0m\u001b[1;33m\u001b[0m\u001b[1;33m\u001b[0m\u001b[0m\n\u001b[0;32m    175\u001b[0m                     \u001b[1;34mf\"estimator {estimator.__class__.__name__} should have \"\u001b[0m\u001b[1;33m\u001b[0m\u001b[1;33m\u001b[0m\u001b[0m\n",
      "\u001b[1;31mValueError\u001b[0m: when `importance_getter=='auto'`, the underlying estimator MLPRegressor should have `coef_` or `feature_importances_` attribute. Either pass a fitted estimator to feature selector or call fit before calling transform."
     ]
    }
   ],
   "source": [
    "#对于MLP回归通过RFECV进行特征选择\n",
    "from sklearn.feature_selection import RFECV\n",
    "\n",
    "estimator = MLPRegressor(activation='tanh', alpha=0.0001, hidden_layer_sizes=(3,3,3), learning_rate='adaptive', solver='lbfgs')\n",
    "\n",
    "# 5折交叉\n",
    "selector = RFECV(estimator, step=1, cv=5,scoring='r2')\n",
    "selector = selector.fit(data, target)\n",
    "\n",
    "# 哪些特征入选最后特征，true表示入选\n",
    "print(selector.support_)\n",
    "\n",
    "# 每个特征的得分排名，特征得分越低（1最好），表示特征越好\n",
    "print(selector.ranking_)\n",
    "\n",
    "#  挑选了几个特征\n",
    "print(selector.n_features_)\n",
    "# 每次交叉迭代各个特征得分\n",
    "print(selector.grid_scores_)"
   ]
  },
  {
   "cell_type": "code",
   "execution_count": null,
   "id": "46d480f7",
   "metadata": {},
   "outputs": [],
   "source": []
  },
  {
   "cell_type": "markdown",
   "id": "1c47d481",
   "metadata": {},
   "source": [
    "RReliefF  (Relief for Regression)<br>\n",
    "&emsp;没搞明白这个算法，也没有一个比较好用的包直接使用，有空再补充吧<br>\n",
    "&emsp;&emsp;https://stats.stackexchange.com/questions/198116/rrelieff-algorithm-for-regression-for-feature-selection-with-an-example<br>\n",
    "&emsp;&emsp;https://www.pythonf.cn/read/147824<br>\n",
    "&emsp;&emsp;https://www.kaggle.com/jorgesandoval/feature-selection-with-rrelieff-regression <br>\n",
    "&emsp;&emsp;http://www.ecice06.com/CN/10.3969/j.issn.1000-3428.2017.08.035"
   ]
  },
  {
   "cell_type": "code",
   "execution_count": null,
   "id": "c1068af8",
   "metadata": {},
   "outputs": [],
   "source": [
    "import sklearn_relief as sr\n",
    "r=sr.RReliefF(n_features=5)# Choose the best n features\n",
    "r.fit_transform(data,target)"
   ]
  },
  {
   "cell_type": "code",
   "execution_count": 85,
   "id": "34593e4c",
   "metadata": {},
   "outputs": [
    {
     "name": "stdout",
     "output_type": "stream",
     "text": [
      "NOF: 1, Score: 0.6347326458040294\n",
      "NOF: 2, Score: 0.852723785926659\n",
      "NOF: 3, Score: 0.8793435084241812\n",
      "NOF: 4, Score: 0.8647368681863218\n",
      "NOF: 5, Score: 0.8701481665014856\n",
      "NOF: 6, Score: 0.8456137264618422\n",
      "NOF: 7, Score: 0.8681923686818622\n",
      "NOF: 8, Score: 0.8720575817641218\n",
      "NOF: 9, Score: 0.8889311694747266\n",
      "NOF: 10, Score: 0.9057506442021794\n",
      "NOF: 11, Score: 0.8600483647175408\n",
      "NOF: 12, Score: 0.877093954410306\n",
      "NOF: 13, Score: 0.8816297819623378\n",
      "NOF: 14, Score: 0.9047495540138741\n",
      "NOF: 15, Score: 0.8824279484638243\n",
      "NOF: 16, Score: 0.8897563924677889\n",
      "NOF: 17, Score: 0.8787366699702666\n",
      "NOF: 18, Score: 0.8868516848364706\n",
      "NOF: 19, Score: 0.899775024777006\n",
      "High Score: NOF: 10, Score: 0.9057506442021794\n",
      "None\n"
     ]
    }
   ],
   "source": [
    "from sklearn.pipeline import Pipeline\n",
    "from sklearn.ensemble import RandomForestRegressor\n",
    "nof_list=np.arange(1,20)            \n",
    "high_score=0\n",
    "nof=0           \n",
    "score_list =[]\n",
    "for n in range(len(nof_list)):\n",
    "    fs = sr.RReliefF(n_features = nof_list[n])\n",
    "    relief = Pipeline([('fs', fs), ('m', RandomForestRegressor())])\n",
    "    relief.fit(data,target)\n",
    "    score = relief.score(X_test,y_test)\n",
    "    score_list.append(score)\n",
    "    print(f'NOF: {nof_list[n]}, Score: {score}')\n",
    "    if(score > high_score):\n",
    "        high_score = score\n",
    "        nof = nof_list[n]\n",
    "\n",
    "print (print(f'High Score: NOF: {nof}, Score: {high_score}'))"
   ]
  },
  {
   "cell_type": "markdown",
   "id": "cfd360a6",
   "metadata": {},
   "source": [
    "### 3.3 特征选择：Embedded\n",
    "&emsp;&emsp;学习器自身自动选择特征。其中正则化已经通过岭回归，Lasso回归,弹性网回归和最小角度模型实现，接下来尝试在参数上进行优化，找出更好的特征<br>\n",
    "还可以通过决策树：熵、信息增益来学习"
   ]
  },
  {
   "cell_type": "code",
   "execution_count": 38,
   "id": "71818552",
   "metadata": {},
   "outputs": [
    {
     "name": "stdout",
     "output_type": "stream",
     "text": [
      "每次的系数和截距为：\n",
      "[ 2.13366409e-03 -2.55153693e-03  3.21858695e-03  1.52370141e-02\n",
      " -3.02337156e-03 -6.35255369e-03 -7.14947428e-03 -6.93799658e-03\n",
      "  5.81170216e-03 -2.13230827e-03  4.85143484e-03  5.50704470e-03\n",
      " -3.05491620e-05  7.54559984e-04  1.16546009e-02  6.36859568e-03\n",
      "  6.24746584e-03 -2.81592970e-03  9.54516317e-03 -9.18037942e-04\n",
      "  1.97351561e-03 -5.41121208e-03 -1.66779443e-03  6.31827455e-03\n",
      "  5.61061323e-03  2.20764511e-03  8.89151123e-04 -8.26592330e-04]\n",
      "0.015126972701343175\n",
      "[-0.00091732  0.00199008  0.00738018  0.00907007  0.000788   -0.00915763\n",
      " -0.00874065 -0.00672987  0.00723543 -0.00025145  0.00596855  0.00635674\n",
      "  0.00078868  0.00293904  0.01066868  0.00304335  0.00704225  0.00173024\n",
      "  0.00099208  0.00846207  0.00531669 -0.00810774 -0.00285679  0.00490512\n",
      "  0.00732175  0.00748404 -0.00113312  0.00795599]\n",
      "0.01635686315817927\n",
      "[-0.00026738  0.00401345  0.00612077  0.01287841 -0.0008928  -0.00710185\n",
      " -0.01156903 -0.00666976  0.00636457 -0.00152523  0.00582481  0.00567897\n",
      "  0.00203391 -0.00217294  0.00853394  0.00288614  0.00670812 -0.00272621\n",
      "  0.00740913  0.00900464  0.00554712 -0.00351178 -0.00010108  0.00283589\n",
      "  0.00675891  0.00644989 -0.00209915  0.00670804]\n",
      "0.01547541889981405\n",
      "[-0.00365304  0.00063761  0.00483024  0.00718308 -0.00182831 -0.00578268\n",
      " -0.00910775 -0.00567708  0.00012805  0.00020605 -0.0051117   0.00617308\n",
      "  0.00224313  0.00402334  0.00983003  0.00120754  0.00586395 -0.00031233\n",
      "  0.00710373  0.00927809  0.00439228 -0.00405947  0.00026592  0.0042866\n",
      "  0.00094325  0.00512771 -0.00207895  0.0064814 ]\n",
      "0.02358587333153412\n",
      "[-2.19460654e-03  5.89716864e-03  7.92688420e-03  1.20505794e-02\n",
      " -1.65056153e-03 -8.76077414e-03 -9.47113480e-03 -2.52262189e-03\n",
      "  6.35431413e-03 -2.78808349e-05  6.39037400e-03  6.94089356e-03\n",
      "  5.17943541e-04  1.29531599e-03  1.19693602e-02  2.12109797e-03\n",
      "  3.67075997e-03  9.52645548e-04  7.74049749e-03  8.69981712e-03\n",
      "  8.33116251e-03 -4.14390042e-03  4.49887839e-04  1.12009391e-04\n",
      "  6.02684900e-03  5.36443684e-03 -1.14452383e-03  6.50309314e-03]\n",
      "0.013695434507128314\n",
      "\n",
      "\n",
      "每次测试集的R2为：\n",
      "-0.049516766039236604\n",
      "0.18747416975269315\n",
      "0.11500651898437686\n",
      "0.0818540809257613\n",
      "0.02602420256324267\n",
      "R2的平均值为0.07216844123736747\n",
      "\n",
      "\n",
      "系数和截距的平均值为：\n",
      "[-0.00097974  0.00199735  0.00589533  0.01128383 -0.00132141 -0.0074311\n",
      " -0.00920761 -0.00570747  0.00517881 -0.00074616  0.00358469  0.00613134\n",
      "  0.00111062  0.00136786  0.01053132  0.00312534  0.00590651 -0.00063432\n",
      "  0.00655812  0.00690532  0.00511215 -0.00504682 -0.00078197  0.00369158\n",
      "  0.00533227  0.00532675 -0.00111332  0.00536439]\n",
      "0.01684811251959979\n"
     ]
    }
   ],
   "source": [
    "#RidgeCV回归\n",
    "from sklearn.model_selection import cross_validate\n",
    "\n",
    "reg = RidgeCV()\n",
    "cv_results = cross_validate(reg,data, target, cv=5, return_estimator=True)\n",
    "\n",
    "\n",
    "coef=[]\n",
    "intercept=[]\n",
    "\n",
    "print(\"每次的系数和截距为：\")\n",
    "for model in cv_results['estimator']:\n",
    "    coef.append(model.coef_)\n",
    "    intercept.append(model.intercept_)\n",
    "    print(model.coef_)\n",
    "    print(model.intercept_)\n",
    "\n",
    "print(\"\\n\")\n",
    "\n",
    "print(\"每次测试集的R2为：\")\n",
    "for score in cv_results['test_score']:\n",
    "    print(score)\n",
    "print(\"R2的平均值为\"+str(cv_results['test_score'].mean()))    \n",
    "print(\"\\n\")\n",
    "\n",
    "print(\"系数和截距的平均值为：\")\n",
    "print(np.mean(coef, axis = 0))\n",
    "print(np.mean(intercept, axis = 0))"
   ]
  },
  {
   "cell_type": "code",
   "execution_count": 39,
   "id": "dcea9edd",
   "metadata": {},
   "outputs": [
    {
     "data": {
      "text/plain": [
       "array([0.00097974, 0.00199735, 0.00589533, 0.01128383, 0.00132141,\n",
       "       0.0074311 , 0.00920761, 0.00570747, 0.00517881, 0.00074616,\n",
       "       0.00358469, 0.00613134, 0.00111062, 0.00136786, 0.01053132,\n",
       "       0.00312534, 0.00590651, 0.00063432, 0.00655812, 0.00690532,\n",
       "       0.00511215, 0.00504682, 0.00078197, 0.00369158, 0.00533227,\n",
       "       0.00532675, 0.00111332, 0.00536439])"
      ]
     },
     "execution_count": 39,
     "metadata": {},
     "output_type": "execute_result"
    }
   ],
   "source": [
    "coef=np.absolute(np.mean(coef, axis = 0))\n",
    "coef"
   ]
  },
  {
   "cell_type": "code",
   "execution_count": 41,
   "id": "97aae06f",
   "metadata": {},
   "outputs": [
    {
     "name": "stdout",
     "output_type": "stream",
     "text": [
      "元素索引序列： [3, 14, 6, 5, 19, 18, 11, 16, 2, 7, 27, 24, 25, 8, 20, 21, 23, 10, 15, 1, 13, 4, 26, 12, 0, 22, 9, 17]\n"
     ]
    }
   ],
   "source": [
    "sorted_id = sorted(range(len(coef)), key=lambda k: coef[k], reverse=True)\n",
    "print('元素索引序列：', sorted_id)"
   ]
  },
  {
   "cell_type": "code",
   "execution_count": 43,
   "id": "06f98e56",
   "metadata": {
    "scrolled": false
   },
   "outputs": [
    {
     "name": "stdout",
     "output_type": "stream",
     "text": [
      "前三年承诺覆盖率\n",
      "净利润增长率\n",
      "成立年限\n",
      "动态市盈率\n",
      "流动比率\n",
      "固定资产周转率\n",
      "D/(D+E)\n",
      "存货周转率\n",
      "承诺期业绩增长率\n",
      "大股东持股比例\n",
      "研发支出占比\n",
      "净资产收益率\n",
      "毛利率\n",
      "最近一个完整会计年度对第一大客户的销售占比\n",
      "资产负债率\n",
      "经营杠杆（EBITDA/EBIT)\n",
      "在建工程/归母权益\n",
      "注入资产净资产账面值(万元)\n",
      "总资产周转率\n",
      "上一年归母净利润（万元）\n",
      "归母权益增长率 \n",
      "静态市盈率\n",
      "经营性现金流/收入\n",
      "总资产增长率\n",
      "审核结果\n",
      "（固定资产+土地）/归母权益\n",
      "最近一个完整会计年度对第一供应商的采购占比\n",
      "应收账款周转率\n"
     ]
    }
   ],
   "source": [
    "for i in sorted_id:\n",
    "    print(feature_dict[i])"
   ]
  },
  {
   "cell_type": "code",
   "execution_count": null,
   "id": "097deed5",
   "metadata": {},
   "outputs": [],
   "source": []
  },
  {
   "cell_type": "code",
   "execution_count": 54,
   "id": "f4be5016",
   "metadata": {},
   "outputs": [
    {
     "name": "stdout",
     "output_type": "stream",
     "text": [
      "每次的系数和截距为：\n",
      "[ 0.00160601 -0.          0.          0.0220978  -0.         -0.\n",
      " -0.00521773 -0.00409266  0.         -0.          0.          0.00325947\n",
      " -0.          0.          0.01961599  0.00047786  0.00571753 -0.\n",
      "  0.01035626 -0.          0.         -0.00443586 -0.          0.\n",
      "  0.          0.          0.         -0.        ]\n",
      "0.012503698359391049\n",
      "[-0.0006028   0.          0.00660381  0.01005968  0.         -0.00879777\n",
      " -0.00839995 -0.00592438  0.00705274 -0.          0.00613507  0.00639969\n",
      " -0.          0.          0.02001367  0.          0.0069327   0.\n",
      "  0.          0.01009688  0.         -0.00949901 -0.          0.00087601\n",
      "  0.00398609  0.00569151 -0.          0.01556482]\n",
      "0.019054006713467228\n",
      "[-0.00022831  0.          0.          0.01435361  0.         -0.\n",
      " -0.00982676 -0.          0.         -0.          0.          0.\n",
      "  0.          0.          0.          0.          0.         -0.\n",
      "  0.          0.          0.         -0.         -0.          0.\n",
      "  0.          0.         -0.          0.        ]\n",
      "0.021219032185614318\n",
      "[-0.00335141 -0.          0.00141814  0.00900862 -0.         -0.00359278\n",
      " -0.00903706 -0.00525585  0.          0.         -0.00248203  0.0060956\n",
      "  0.          0.          0.01897985 -0.          0.00546679 -0.\n",
      "  0.00774939  0.01246179  0.         -0.00298805 -0.          0.00081464\n",
      "  0.          0.00350016 -0.          0.01376165]\n",
      "0.022401106713784234\n",
      "[-0.0023498   0.          0.          0.01594595  0.         -0.00184017\n",
      " -0.01025378 -0.          0.         -0.          0.          0.00238549\n",
      "  0.          0.          0.01223997  0.          0.          0.\n",
      "  0.00158806  0.          0.00133401 -0.0020286  -0.          0.\n",
      "  0.          0.         -0.          0.00264402]\n",
      "0.02131514494221387\n",
      "\n",
      "\n",
      "每次测试集的R2为：\n",
      "-0.06168734686989796\n",
      "0.19148836402153235\n",
      "-0.09070014434951101\n",
      "0.13393118024902162\n",
      "0.039173386132458354\n",
      "R2的平均值为0.04244108783672067\n",
      "\n",
      "\n",
      "系数和截距的平均值为：\n",
      "[-9.85262304e-04  0.00000000e+00  1.60438930e-03  1.42931317e-02\n",
      "  0.00000000e+00 -2.84614225e-03 -8.54705518e-03 -3.05457790e-03\n",
      "  1.41054724e-03  0.00000000e+00  7.30608302e-04  3.62804942e-03\n",
      "  0.00000000e+00  0.00000000e+00  1.41698944e-02  9.55725460e-05\n",
      "  3.62340364e-03  0.00000000e+00  3.93874180e-03  4.51173489e-03\n",
      "  2.66803000e-04 -3.79030431e-03  0.00000000e+00  3.38130035e-04\n",
      "  7.97217528e-04  1.83833458e-03  0.00000000e+00  6.39409782e-03]\n",
      "0.01929859778289414\n"
     ]
    }
   ],
   "source": [
    "# LassoCV回归\n",
    "from sklearn.model_selection import cross_validate\n",
    "\n",
    "reg = LassoCV()\n",
    "cv_results = cross_validate(reg,data, target, cv=5, return_estimator=True)\n",
    "\n",
    "\n",
    "coef=[]\n",
    "intercept=[]\n",
    "\n",
    "print(\"每次的系数和截距为：\")\n",
    "for model in cv_results['estimator']:\n",
    "    coef.append(model.coef_)\n",
    "    intercept.append(model.intercept_)\n",
    "    print(model.coef_)\n",
    "    print(model.intercept_)\n",
    "\n",
    "print(\"\\n\")\n",
    "\n",
    "print(\"每次测试集的R2为：\")\n",
    "for score in cv_results['test_score']:\n",
    "    print(score)\n",
    "print(\"R2的平均值为\"+str(cv_results['test_score'].mean()))    \n",
    "print(\"\\n\")\n",
    "\n",
    "print(\"系数和截距的平均值为：\")\n",
    "print(np.mean(coef, axis = 0))\n",
    "print(np.mean(intercept, axis = 0))"
   ]
  },
  {
   "cell_type": "code",
   "execution_count": 55,
   "id": "8418fd30",
   "metadata": {},
   "outputs": [
    {
     "data": {
      "text/plain": [
       "array([9.85262304e-04, 0.00000000e+00, 1.60438930e-03, 1.42931317e-02,\n",
       "       0.00000000e+00, 2.84614225e-03, 8.54705518e-03, 3.05457790e-03,\n",
       "       1.41054724e-03, 0.00000000e+00, 7.30608302e-04, 3.62804942e-03,\n",
       "       0.00000000e+00, 0.00000000e+00, 1.41698944e-02, 9.55725460e-05,\n",
       "       3.62340364e-03, 0.00000000e+00, 3.93874180e-03, 4.51173489e-03,\n",
       "       2.66803000e-04, 3.79030431e-03, 0.00000000e+00, 3.38130035e-04,\n",
       "       7.97217528e-04, 1.83833458e-03, 0.00000000e+00, 6.39409782e-03])"
      ]
     },
     "execution_count": 55,
     "metadata": {},
     "output_type": "execute_result"
    }
   ],
   "source": [
    "coef=np.absolute(np.mean(coef, axis = 0))\n",
    "coef"
   ]
  },
  {
   "cell_type": "code",
   "execution_count": 56,
   "id": "76828ebc",
   "metadata": {},
   "outputs": [
    {
     "name": "stdout",
     "output_type": "stream",
     "text": [
      "元素索引序列： [3, 14, 6, 27, 19, 18, 21, 11, 16, 7, 5, 25, 2, 8, 0, 24, 10, 23, 20, 15, 1, 4, 9, 12, 13, 17, 22, 26]\n"
     ]
    }
   ],
   "source": [
    "sorted_id = sorted(range(len(coef)), key=lambda k: coef[k], reverse=True)\n",
    "print('元素索引序列：', sorted_id)"
   ]
  },
  {
   "cell_type": "code",
   "execution_count": 57,
   "id": "1955a5fd",
   "metadata": {},
   "outputs": [
    {
     "name": "stdout",
     "output_type": "stream",
     "text": [
      "前三年承诺覆盖率\n",
      "净利润增长率\n",
      "成立年限\n",
      "研发支出占比\n",
      "流动比率\n",
      "固定资产周转率\n",
      "经营杠杆（EBITDA/EBIT)\n",
      "D/(D+E)\n",
      "存货周转率\n",
      "大股东持股比例\n",
      "动态市盈率\n",
      "毛利率\n",
      "承诺期业绩增长率\n",
      "最近一个完整会计年度对第一大客户的销售占比\n",
      "审核结果\n",
      "净资产收益率\n",
      "注入资产净资产账面值(万元)\n",
      "在建工程/归母权益\n",
      "资产负债率\n",
      "总资产周转率\n",
      "上一年归母净利润（万元）\n",
      "静态市盈率\n",
      "最近一个完整会计年度对第一供应商的采购占比\n",
      "总资产增长率\n",
      "归母权益增长率 \n",
      "应收账款周转率\n",
      "（固定资产+土地）/归母权益\n",
      "经营性现金流/收入\n"
     ]
    }
   ],
   "source": [
    "for i in sorted_id:\n",
    "    print(feature_dict[i])"
   ]
  },
  {
   "cell_type": "code",
   "execution_count": null,
   "id": "3cb7b78a",
   "metadata": {},
   "outputs": [],
   "source": []
  },
  {
   "cell_type": "code",
   "execution_count": 58,
   "id": "0f20a08e",
   "metadata": {},
   "outputs": [
    {
     "name": "stdout",
     "output_type": "stream",
     "text": [
      "每次的系数和截距为：\n",
      "[ 0.00160633 -0.          0.          0.02202076 -0.         -0.\n",
      " -0.00522725 -0.00409403  0.         -0.          0.          0.00325441\n",
      " -0.          0.          0.01935242  0.00059585  0.00565649 -0.\n",
      "  0.0102932  -0.          0.         -0.00443288 -0.          0.\n",
      "  0.          0.          0.         -0.        ]\n",
      "0.012542156367445104\n",
      "[-0.00060724  0.          0.00658568  0.0100577   0.         -0.00879493\n",
      " -0.0084132  -0.00590888  0.0070017  -0.          0.00606661  0.0063521\n",
      " -0.          0.          0.01989842  0.          0.00687515  0.\n",
      "  0.          0.01001855  0.         -0.0094701  -0.          0.00087471\n",
      "  0.00392253  0.00568973 -0.          0.01542895]\n",
      "0.019119539209453626\n",
      "[-0.00022884  0.          0.          0.01424305  0.         -0.\n",
      " -0.00974005 -0.          0.         -0.          0.          0.\n",
      "  0.          0.          0.          0.          0.         -0.\n",
      "  0.          0.          0.         -0.         -0.          0.\n",
      "  0.          0.         -0.          0.        ]\n",
      "0.021255346944270136\n",
      "[-0.00334017 -0.          0.00160128  0.00890553 -0.         -0.00395718\n",
      " -0.00908894 -0.00546817  0.          0.         -0.00286789  0.00620464\n",
      "  0.          0.          0.01909815 -0.          0.00562623 -0.\n",
      "  0.00802241  0.01279611  0.         -0.0030248  -0.          0.00149245\n",
      "  0.          0.00353719 -0.          0.0140713 ]\n",
      "0.022411925074597553\n",
      "[-0.00234598  0.          0.          0.0158325   0.         -0.00193459\n",
      " -0.01023329 -0.          0.         -0.          0.          0.00234512\n",
      "  0.          0.          0.01204187  0.          0.          0.\n",
      "  0.00163466  0.          0.00140105 -0.00202225 -0.          0.\n",
      "  0.          0.         -0.          0.00252653]\n",
      "0.021412574881928728\n",
      "\n",
      "\n",
      "每次测试集的R2为：\n",
      "-0.06136992692784715\n",
      "0.19163028518015612\n",
      "-0.08956588500048368\n",
      "0.1327019860772084\n",
      "0.03915607827592171\n",
      "R2的平均值为0.04251050752099108\n",
      "\n",
      "\n",
      "系数和截距的平均值为：\n",
      "[-0.00098318  0.          0.00163739  0.01421191  0.         -0.00293734\n",
      " -0.00854055 -0.00309422  0.00140034  0.          0.00063974  0.00363126\n",
      "  0.          0.          0.01407817  0.00011917  0.00363157  0.\n",
      "  0.00399006  0.00456293  0.00028021 -0.00379001  0.          0.00047343\n",
      "  0.00078451  0.00184538  0.          0.00640535]\n",
      "0.019348308495539028\n"
     ]
    }
   ],
   "source": [
    "#Elastic Net回归\n",
    "from sklearn.model_selection import cross_validate\n",
    "\n",
    "reg = ElasticNetCV()\n",
    "cv_results = cross_validate(reg,data, target, cv=5, return_estimator=True)\n",
    "\n",
    "\n",
    "coef=[]\n",
    "intercept=[]\n",
    "\n",
    "print(\"每次的系数和截距为：\")\n",
    "for model in cv_results['estimator']:\n",
    "    coef.append(model.coef_)\n",
    "    intercept.append(model.intercept_)\n",
    "    print(model.coef_)\n",
    "    print(model.intercept_)\n",
    "\n",
    "print(\"\\n\")\n",
    "\n",
    "print(\"每次测试集的R2为：\")\n",
    "for score in cv_results['test_score']:\n",
    "    print(score)\n",
    "print(\"R2的平均值为\"+str(cv_results['test_score'].mean()))    \n",
    "print(\"\\n\")\n",
    "\n",
    "print(\"系数和截距的平均值为：\")\n",
    "print(np.mean(coef, axis = 0))\n",
    "print(np.mean(intercept, axis = 0))"
   ]
  },
  {
   "cell_type": "code",
   "execution_count": 59,
   "id": "5600b1d8",
   "metadata": {},
   "outputs": [
    {
     "data": {
      "text/plain": [
       "array([0.00098318, 0.        , 0.00163739, 0.01421191, 0.        ,\n",
       "       0.00293734, 0.00854055, 0.00309422, 0.00140034, 0.        ,\n",
       "       0.00063974, 0.00363126, 0.        , 0.        , 0.01407817,\n",
       "       0.00011917, 0.00363157, 0.        , 0.00399006, 0.00456293,\n",
       "       0.00028021, 0.00379001, 0.        , 0.00047343, 0.00078451,\n",
       "       0.00184538, 0.        , 0.00640535])"
      ]
     },
     "execution_count": 59,
     "metadata": {},
     "output_type": "execute_result"
    }
   ],
   "source": [
    "coef=np.absolute(np.mean(coef, axis = 0))\n",
    "coef"
   ]
  },
  {
   "cell_type": "code",
   "execution_count": 60,
   "id": "f4fd75a1",
   "metadata": {},
   "outputs": [
    {
     "name": "stdout",
     "output_type": "stream",
     "text": [
      "元素索引序列： [3, 14, 6, 27, 19, 18, 21, 16, 11, 7, 5, 25, 2, 8, 0, 24, 10, 23, 20, 15, 1, 4, 9, 12, 13, 17, 22, 26]\n"
     ]
    }
   ],
   "source": [
    "sorted_id = sorted(range(len(coef)), key=lambda k: coef[k], reverse=True)\n",
    "print('元素索引序列：', sorted_id)"
   ]
  },
  {
   "cell_type": "code",
   "execution_count": 61,
   "id": "30f91b6d",
   "metadata": {},
   "outputs": [
    {
     "name": "stdout",
     "output_type": "stream",
     "text": [
      "前三年承诺覆盖率\n",
      "净利润增长率\n",
      "成立年限\n",
      "研发支出占比\n",
      "流动比率\n",
      "固定资产周转率\n",
      "经营杠杆（EBITDA/EBIT)\n",
      "存货周转率\n",
      "D/(D+E)\n",
      "大股东持股比例\n",
      "动态市盈率\n",
      "毛利率\n",
      "承诺期业绩增长率\n",
      "最近一个完整会计年度对第一大客户的销售占比\n",
      "审核结果\n",
      "净资产收益率\n",
      "注入资产净资产账面值(万元)\n",
      "在建工程/归母权益\n",
      "资产负债率\n",
      "总资产周转率\n",
      "上一年归母净利润（万元）\n",
      "静态市盈率\n",
      "最近一个完整会计年度对第一供应商的采购占比\n",
      "总资产增长率\n",
      "归母权益增长率 \n",
      "应收账款周转率\n",
      "（固定资产+土地）/归母权益\n",
      "经营性现金流/收入\n"
     ]
    }
   ],
   "source": [
    "for i in sorted_id:\n",
    "    print(feature_dict[i])"
   ]
  },
  {
   "cell_type": "code",
   "execution_count": null,
   "id": "1c27b3b3",
   "metadata": {},
   "outputs": [],
   "source": []
  },
  {
   "cell_type": "code",
   "execution_count": 62,
   "id": "09e4b13e",
   "metadata": {},
   "outputs": [
    {
     "name": "stdout",
     "output_type": "stream",
     "text": [
      "每次的系数和截距为：\n",
      "[0.         0.         0.         0.01457711 0.         0.\n",
      " 0.         0.         0.         0.         0.         0.\n",
      " 0.         0.         0.00973812 0.         0.         0.\n",
      " 0.00916707 0.         0.         0.         0.         0.\n",
      " 0.         0.         0.         0.        ]\n",
      "0.01641099819625445\n",
      "[ 0.          0.          0.          0.00732714  0.         -0.00149889\n",
      " -0.00276637  0.          0.          0.          0.          0.\n",
      "  0.          0.          0.00788388  0.          0.          0.\n",
      "  0.          0.          0.          0.          0.          0.\n",
      "  0.          0.          0.          0.00450391]\n",
      "0.022189450341849243\n",
      "[ 0.          0.          0.          0.01142953  0.          0.\n",
      " -0.00639681  0.          0.          0.          0.          0.\n",
      "  0.          0.          0.01147005  0.          0.          0.\n",
      "  0.          0.          0.          0.          0.          0.\n",
      "  0.          0.          0.          0.00274024]\n",
      "0.021064178486827234\n",
      "[0. 0. 0. 0. 0. 0. 0. 0. 0. 0. 0. 0. 0. 0. 0. 0. 0. 0. 0. 0. 0. 0. 0. 0.\n",
      " 0. 0. 0. 0.]\n",
      "0.0245631067961165\n",
      "[ 0.          0.          0.          0.01097895  0.         -0.00032219\n",
      " -0.00389591  0.          0.          0.          0.          0.\n",
      "  0.          0.          0.00806682  0.          0.          0.\n",
      "  0.00099324  0.          0.          0.          0.          0.\n",
      "  0.          0.          0.          0.00192406]\n",
      "0.020470311488327897\n",
      "\n",
      "\n",
      "每次测试集的R2为：\n",
      "0.014165158156532964\n",
      "0.12772506738715284\n",
      "0.0729987298882272\n",
      "-0.1052489682288591\n",
      "0.07986152018697701\n",
      "R2的平均值为0.03790030147800618\n",
      "\n",
      "\n",
      "系数和截距的平均值为：\n",
      "[ 0.          0.          0.          0.00886254  0.         -0.00036422\n",
      " -0.00261182  0.          0.          0.          0.          0.\n",
      "  0.          0.          0.00743177  0.          0.          0.\n",
      "  0.00203206  0.          0.          0.          0.          0.\n",
      "  0.          0.          0.          0.00183364]\n",
      "0.020939609061875065\n"
     ]
    }
   ],
   "source": [
    "#最小角度回归\n",
    "\n",
    "from sklearn.model_selection import cross_validate\n",
    "\n",
    "reg = LarsCV()\n",
    "cv_results = cross_validate(reg,data, target, cv=5, return_estimator=True)\n",
    "\n",
    "\n",
    "coef=[]\n",
    "intercept=[]\n",
    "\n",
    "print(\"每次的系数和截距为：\")\n",
    "for model in cv_results['estimator']:\n",
    "    coef.append(model.coef_)\n",
    "    intercept.append(model.intercept_)\n",
    "    print(model.coef_)\n",
    "    print(model.intercept_)\n",
    "\n",
    "print(\"\\n\")\n",
    "\n",
    "print(\"每次测试集的R2为：\")\n",
    "for score in cv_results['test_score']:\n",
    "    print(score)\n",
    "print(\"R2的平均值为\"+str(cv_results['test_score'].mean()))    \n",
    "print(\"\\n\")\n",
    "\n",
    "print(\"系数和截距的平均值为：\")\n",
    "print(np.mean(coef, axis = 0))\n",
    "print(np.mean(intercept, axis = 0))"
   ]
  },
  {
   "cell_type": "code",
   "execution_count": 63,
   "id": "463b655b",
   "metadata": {},
   "outputs": [
    {
     "data": {
      "text/plain": [
       "array([0.        , 0.        , 0.        , 0.00886254, 0.        ,\n",
       "       0.00036422, 0.00261182, 0.        , 0.        , 0.        ,\n",
       "       0.        , 0.        , 0.        , 0.        , 0.00743177,\n",
       "       0.        , 0.        , 0.        , 0.00203206, 0.        ,\n",
       "       0.        , 0.        , 0.        , 0.        , 0.        ,\n",
       "       0.        , 0.        , 0.00183364])"
      ]
     },
     "execution_count": 63,
     "metadata": {},
     "output_type": "execute_result"
    }
   ],
   "source": [
    "coef=np.absolute(np.mean(coef, axis = 0))\n",
    "coef"
   ]
  },
  {
   "cell_type": "code",
   "execution_count": 64,
   "id": "d9faab84",
   "metadata": {},
   "outputs": [
    {
     "name": "stdout",
     "output_type": "stream",
     "text": [
      "元素索引序列： [3, 14, 6, 18, 27, 5, 0, 1, 2, 4, 7, 8, 9, 10, 11, 12, 13, 15, 16, 17, 19, 20, 21, 22, 23, 24, 25, 26]\n"
     ]
    }
   ],
   "source": [
    "sorted_id = sorted(range(len(coef)), key=lambda k: coef[k], reverse=True)\n",
    "print('元素索引序列：', sorted_id)"
   ]
  },
  {
   "cell_type": "code",
   "execution_count": 65,
   "id": "e6be68d0",
   "metadata": {},
   "outputs": [
    {
     "name": "stdout",
     "output_type": "stream",
     "text": [
      "前三年承诺覆盖率\n",
      "净利润增长率\n",
      "成立年限\n",
      "固定资产周转率\n",
      "研发支出占比\n",
      "动态市盈率\n",
      "审核结果\n",
      "上一年归母净利润（万元）\n",
      "承诺期业绩增长率\n",
      "静态市盈率\n",
      "大股东持股比例\n",
      "最近一个完整会计年度对第一大客户的销售占比\n",
      "最近一个完整会计年度对第一供应商的采购占比\n",
      "注入资产净资产账面值(万元)\n",
      "D/(D+E)\n",
      "总资产增长率\n",
      "归母权益增长率 \n",
      "总资产周转率\n",
      "存货周转率\n",
      "应收账款周转率\n",
      "流动比率\n",
      "资产负债率\n",
      "经营杠杆（EBITDA/EBIT)\n",
      "（固定资产+土地）/归母权益\n",
      "在建工程/归母权益\n",
      "净资产收益率\n",
      "毛利率\n",
      "经营性现金流/收入\n"
     ]
    }
   ],
   "source": [
    "for i in sorted_id:\n",
    "    print(feature_dict[i])"
   ]
  },
  {
   "cell_type": "markdown",
   "id": "770574f3",
   "metadata": {},
   "source": [
    "四种方法选择出来的特征如下表格所示：<br>\n",
    "\n",
    "|岭回归                  |Lasso回归              |Elastic Net          |最小角度回归  |\n",
    "|---------------------|---------------------|---------------------|--------|\n",
    "|前三年承诺覆盖率             |前三年承诺覆盖率             |前三年承诺覆盖率             |前三年承诺覆盖率|\n",
    "|净利润增长率               |净利润增长率               |净利润增长率               |净利润增长率  |\n",
    "|成立年限                 |成立年限                 |成立年限                 |成立年限    |\n",
    "|动态市盈率                |研发支出占比               |研发支出占比               |固定资产周转率 |\n",
    "|流动比率                 |流动比率                 |流动比率                 |研发支出占比  |\n",
    "|固定资产周转率              |固定资产周转率              |固定资产周转率              |动态市盈率   |\n",
    "|D/(D+E)              |经营杠杆（EBITDA/EBIT)    |经营杠杆（EBITDA/EBIT)    |        |\n",
    "|存货周转率                |D/(D+E)              |存货周转率                |        |\n",
    "|承诺期业绩增长率             |存货周转率                |D/(D+E)              |        |\n",
    "|大股东持股比例              |大股东持股比例              |大股东持股比例              |        |\n",
    "|研发支出占比               |动态市盈率                |动态市盈率                |        |\n",
    "|净资产收益率               |毛利率                  |毛利率                  |        |\n",
    "|毛利率                  |承诺期业绩增长率             |承诺期业绩增长率             |        |\n",
    "|最近一个完整会计年度对第一大客户的销售占比|最近一个完整会计年度对第一大客户的销售占比|最近一个完整会计年度对第一大客户的销售占比|        |\n",
    "|资产负债率                |审核结果                 |审核结果                 |        |\n",
    "|经营杠杆（EBITDA/EBIT)    |净资产收益率               |净资产收益率               |        |\n",
    "|在建工程/归母权益            |注入资产净资产账面值(万元)       |注入资产净资产账面值(万元)       |        |\n",
    "|注入资产净资产账面值(万元)       |在建工程/归母权益            |在建工程/归母权益            |        |\n",
    "|总资产周转率               |资产负债率                |资产负债率                |        |\n",
    "|上一年归母净利润（万元）         |总资产周转率               |总资产周转率               |        |\n",
    "|归母权益增长率              |                     |                     |        |\n",
    "|静态市盈率                |                     |                     |        |\n",
    "|经营性现金流/收入            |                     |                     |        |\n",
    "|总资产增长率               |                     |                     |        |\n",
    "|审核结果                 |                     |                     |        |\n",
    "|（固定资产+土地）/归母权益       |                     |                     |        |\n",
    "|最近一个完整会计年度对第一供应商的采购占比|                     |                     |        |\n",
    "|应收账款周转率              |                     |                     |        |"
   ]
  },
  {
   "cell_type": "code",
   "execution_count": null,
   "id": "a1033362",
   "metadata": {},
   "outputs": [],
   "source": []
  },
  {
   "cell_type": "markdown",
   "id": "b35a0a62",
   "metadata": {},
   "source": [
    "主成分回归（Principal Components Regression）"
   ]
  },
  {
   "cell_type": "code",
   "execution_count": 98,
   "id": "98c014ac",
   "metadata": {},
   "outputs": [
    {
     "name": "stdout",
     "output_type": "stream",
     "text": [
      "Best Accuracy: -0.05410566416832041\n",
      "Best Parameters: {'pca__n_components': 7}\n"
     ]
    }
   ],
   "source": [
    "# Principal Components Regression\n",
    "from sklearn.decomposition import PCA\n",
    "from sklearn.pipeline import Pipeline\n",
    "from sklearn.model_selection import GridSearchCV\n",
    "regression_model = linear_model.LinearRegression()\n",
    "pca_model = PCA()\n",
    "pipe = Pipeline(steps=[('pca', pca_model), ('least_squares', regression_model)])\n",
    "param_grid = {'pca__n_components': range(1, 14)}\n",
    "search = GridSearchCV(pipe, param_grid,scoring='r2',cv=5)\n",
    "search.fit(train_X, train_y)\n",
    "best_model=search.best_estimator_\n",
    "\n",
    "print (\"Best Accuracy: {}\".format(search.best_score_))\n",
    "print (\"Best Parameters: {}\".format(search.best_params_))\n",
    "    "
   ]
  },
  {
   "cell_type": "code",
   "execution_count": 99,
   "id": "9c1bb3b0",
   "metadata": {},
   "outputs": [
    {
     "data": {
      "text/plain": [
       "0.018547578107375638"
      ]
     },
     "execution_count": 99,
     "metadata": {},
     "output_type": "execute_result"
    }
   ],
   "source": [
    "score=[]\n",
    "score=cross_val_score(best_model,data,target,cv=5,scoring='r2')\n",
    "score.mean()"
   ]
  },
  {
   "cell_type": "code",
   "execution_count": null,
   "id": "eb0952b5",
   "metadata": {},
   "outputs": [],
   "source": []
  },
  {
   "cell_type": "code",
   "execution_count": 24,
   "id": "adaf1da6",
   "metadata": {},
   "outputs": [
    {
     "data": {
      "image/png": "[encoded data removed]",
      "text/plain": [
       "<Figure size 432x288 with 1 Axes>"
      ]
     },
     "metadata": {
      "needs_background": "light"
     },
     "output_type": "display_data"
    }
   ],
   "source": [
    "try_different_method(pcareg_model)"
   ]
  },
  {
   "cell_type": "markdown",
   "id": "9db7a5c6",
   "metadata": {},
   "source": [
    "偏最小二乘法（Partial Least Squares）"
   ]
  },
  {
   "cell_type": "code",
   "execution_count": 100,
   "id": "f76d4dfe",
   "metadata": {},
   "outputs": [],
   "source": [
    "# Partial Least Squares\n",
    "from sklearn.cross_decomposition import PLSRegression\n",
    "pls_model_setup = PLSRegression(scale=True)\n",
    "param_grid = {'n_components': range(1, 14)}\n",
    "search = GridSearchCV(pls_model_setup, param_grid,scoring='r2',cv=5)\n",
    "search.fit(train_X, train_y)\n",
    "search.best_params_\n",
    "best_model=search.best_estimator_"
   ]
  },
  {
   "cell_type": "code",
   "execution_count": 101,
   "id": "93a9e6c2",
   "metadata": {},
   "outputs": [
    {
     "data": {
      "image/png": "[encoded data removed]",
      "text/plain": [
       "<Figure size 432x288 with 1 Axes>"
      ]
     },
     "metadata": {
      "needs_background": "light"
     },
     "output_type": "display_data"
    }
   ],
   "source": [
    "try_different_method(best_model)"
   ]
  },
  {
   "cell_type": "code",
   "execution_count": 102,
   "id": "06b9f81e",
   "metadata": {},
   "outputs": [
    {
     "data": {
      "text/plain": [
       "-3.3110690844952204"
      ]
     },
     "execution_count": 102,
     "metadata": {},
     "output_type": "execute_result"
    }
   ],
   "source": [
    "score=[]\n",
    "score=cross_val_score(best_model,data,target,cv=5,scoring='r2')\n",
    "score.mean()"
   ]
  },
  {
   "cell_type": "markdown",
   "id": "190cd26f",
   "metadata": {},
   "source": [
    "主成分回归和偏最小二乘感觉结果都不是很好。特别是主成分回归，感觉不如已有成果好，放弃"
   ]
  },
  {
   "cell_type": "code",
   "execution_count": null,
   "id": "0a7933d2",
   "metadata": {},
   "outputs": [],
   "source": []
  },
  {
   "cell_type": "markdown",
   "id": "f554f7e5",
   "metadata": {},
   "source": [
    "### 3.4 特征选择结论"
   ]
  },
  {
   "cell_type": "markdown",
   "id": "d116fc3e",
   "metadata": {},
   "source": [
    "目前所有的特征选择方法的结果如下：<br>\n",
    "\n",
    "|岭回归                  |Lasso回归              |Elastic Net          |最小角度回归  |RFECV+AdaBoost|RFECV+岭回归            |RFECV+岭回归     |\n",
    "|---------------------|---------------------|---------------------|--------|--------------|---------------------|--------------|\n",
    "|前三年承诺覆盖率             |前三年承诺覆盖率             |前三年承诺覆盖率             |前三年承诺覆盖率|前三年承诺覆盖率      |净利润增长率               |动态市盈率         |\n",
    "|净利润增长率               |净利润增长率               |净利润增长率               |净利润增长率  |D/(D+E)       |前三年承诺覆盖率             |流动比率          |\n",
    "|成立年限                 |成立年限                 |成立年限                 |成立年限    |成立年限          |成立年限                 |静态市盈率         |\n",
    "|动态市盈率                |研发支出占比               |研发支出占比               |固定资产周转率 |总资产增长率        |流动比率                 |总资产增长率        |\n",
    "|流动比率                 |流动比率                 |流动比率                 |研发支出占比  |承诺期业绩增长率      |动态市盈率                |大股东持股比例       |\n",
    "|固定资产周转率              |固定资产周转率              |固定资产周转率              |动态市盈率   |大股东持股比例       |固定资产周转率              |注入资产净资产账面值(万元）|\n",
    "|D/(D+E)              |经营杠杆（EBITDA/EBIT)    |经营杠杆（EBITDA/EBIT)    |        |动态市盈率         |研发支出占比               |存货周转率         |\n",
    "|存货周转率                |D/(D+E)              |存货周转率                |        |总资产周转率        |资产负债率                |成立年限          |\n",
    "|承诺期业绩增长率             |存货周转率                |D/(D+E)              |        |上一年归母净利润（万元）  |存货周转率                |应收账款周转率       |\n",
    "|大股东持股比例              |大股东持股比例              |大股东持股比例              |        |净资产收益率        |D/(D+E)              |毛利率           |\n",
    "|研发支出占比               |动态市盈率                |动态市盈率                |        |              |最近一个完整会计年度对第一大客户的销售占比|承诺期业绩增长率      |\n",
    "|净资产收益率               |毛利率                  |毛利率                  |        |              |承诺期业绩增长率             |净资产收益率        |\n",
    "|毛利率                  |承诺期业绩增长率             |承诺期业绩增长率             |        |              |大股东持股比例              |总资产周转率        |\n",
    "|最近一个完整会计年度对第一大客户的销售占比|最近一个完整会计年度对第一大客户的销售占比|最近一个完整会计年度对第一大客户的销售占比|        |              |净资产收益率               |资产负债率         |\n",
    "|资产负债率                |审核结果                 |审核结果                 |        |              |注入资产净资产账面值(万元)       |              |\n",
    "|经营杠杆（EBITDA/EBIT)    |净资产收益率               |净资产收益率               |        |              |经营杠杆（EBITDA/EBIT)    |              |\n",
    "|在建工程/归母权益            |注入资产净资产账面值(万元)       |注入资产净资产账面值(万元)       |        |              |毛利率                  |              |\n",
    "|注入资产净资产账面值(万元)       |在建工程/归母权益            |在建工程/归母权益            |        |              |                     |              |\n",
    "|总资产周转率               |资产负债率                |资产负债率                |        |              |                     |              |\n",
    "|上一年归母净利润（万元）         |总资产周转率               |总资产周转率               |        |              |                     |              |\n",
    "|归母权益增长率              |                     |                     |        |              |                     |              |\n",
    "|静态市盈率                |                     |                     |        |              |                     |              |\n",
    "|经营性现金流/收入            |                     |                     |        |              |                     |              |\n",
    "|总资产增长率               |                     |                     |        |              |                     |              |\n",
    "|审核结果                 |                     |                     |        |              |                     |              |\n",
    "|（固定资产+土地）/归母权益       |                     |                     |        |              |                     |              |\n",
    "|最近一个完整会计年度对第一供应商的采购占比|                     |                     |        |              |                     |              |\n",
    "|应收账款周转率              |                     |                     |        |              |                     |              |\n"
   ]
  },
  {
   "cell_type": "markdown",
   "id": "ffdce8a8",
   "metadata": {},
   "source": [
    "从表格中我们可以看出，比较有效的指标是"
   ]
  },
  {
   "cell_type": "markdown",
   "id": "6607eb00",
   "metadata": {},
   "source": [
    "## 4 基于特征选择结果进行调参"
   ]
  },
  {
   "cell_type": "code",
   "execution_count": null,
   "id": "87ce54c4",
   "metadata": {},
   "outputs": [],
   "source": [
    "#ttps://zhuanlan.zhihu.com/p/76206257"
   ]
  }
 ],
 "metadata": {
  "kernelspec": {
   "display_name": "Python 3",
   "language": "python",
   "name": "python3"
  },
  "language_info": {
   "codemirror_mode": {
    "name": "ipython",
    "version": 3
   },
   "file_extension": ".py",
   "mimetype": "text/x-python",
   "name": "python",
   "nbconvert_exporter": "python",
   "pygments_lexer": "ipython3",
   "version": "3.8.10"
  }
 },
 "nbformat": 4,
 "nbformat_minor": 5
}
