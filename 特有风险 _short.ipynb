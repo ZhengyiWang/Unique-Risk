{
 "cells": [
  {
   "cell_type": "markdown",
   "id": "b40de5d6",
   "metadata": {},
   "source": [
    "## 1 导入数据"
   ]
  },
  {
   "cell_type": "code",
   "execution_count": 1,
   "id": "f6a83475",
   "metadata": {},
   "outputs": [],
   "source": [
    "from pylab import mpl\n",
    "\n",
    "mpl.rcParams['font.sans-serif'] = ['FangSong'] # 指定默认字体\n",
    "mpl.rcParams['axes.unicode_minus'] = False # 解决保存图像是负号'-'显示为方块的问题\n",
    "\n",
    "import warnings\n",
    "warnings.filterwarnings('ignore')"
   ]
  },
  {
   "cell_type": "code",
   "execution_count": 2,
   "id": "e6f3d91e",
   "metadata": {},
   "outputs": [],
   "source": [
    "import pandas as pd\n",
    "import numpy as np\n",
    "import matplotlib.pyplot as plt\n",
    "\n",
    "unique_risk = pd.read_csv('unique_risk.csv')"
   ]
  },
  {
   "cell_type": "code",
   "execution_count": 3,
   "id": "29ba6904",
   "metadata": {},
   "outputs": [
    {
     "data": {
      "text/html": [
       "<div>\n",
       "<style scoped>\n",
       "    .dataframe tbody tr th:only-of-type {\n",
       "        vertical-align: middle;\n",
       "    }\n",
       "\n",
       "    .dataframe tbody tr th {\n",
       "        vertical-align: top;\n",
       "    }\n",
       "\n",
       "    .dataframe thead th {\n",
       "        text-align: right;\n",
       "    }\n",
       "</style>\n",
       "<table border=\"1\" class=\"dataframe\">\n",
       "  <thead>\n",
       "    <tr style=\"text-align: right;\">\n",
       "      <th></th>\n",
       "      <th>Rc</th>\n",
       "      <th>审核结果</th>\n",
       "      <th>上一年归母净利润（万元）</th>\n",
       "      <th>承诺期业绩增长率</th>\n",
       "      <th>前三年承诺覆盖率</th>\n",
       "      <th>静态市盈率</th>\n",
       "      <th>动态市盈率</th>\n",
       "      <th>成立年限</th>\n",
       "      <th>大股东持股比例</th>\n",
       "      <th>最近一个完整会计年度对第一大客户的销售占比</th>\n",
       "      <th>...</th>\n",
       "      <th>固定资产周转率</th>\n",
       "      <th>流动比率</th>\n",
       "      <th>资产负债率</th>\n",
       "      <th>经营杠杆（EBITDA/EBIT)</th>\n",
       "      <th>（固定资产+土地）/归母权益</th>\n",
       "      <th>在建工程/归母权益</th>\n",
       "      <th>净资产收益率</th>\n",
       "      <th>毛利率</th>\n",
       "      <th>经营性现金流/收入</th>\n",
       "      <th>研发支出占比</th>\n",
       "    </tr>\n",
       "  </thead>\n",
       "  <tbody>\n",
       "    <tr>\n",
       "      <th>0</th>\n",
       "      <td>0.020</td>\n",
       "      <td>1</td>\n",
       "      <td>15972.0</td>\n",
       "      <td>0.20</td>\n",
       "      <td>0.27</td>\n",
       "      <td>16.47</td>\n",
       "      <td>12.84</td>\n",
       "      <td>17.94</td>\n",
       "      <td>1.00</td>\n",
       "      <td>0.39</td>\n",
       "      <td>...</td>\n",
       "      <td>928.92</td>\n",
       "      <td>1.78</td>\n",
       "      <td>0.55</td>\n",
       "      <td>1.00</td>\n",
       "      <td>0.01</td>\n",
       "      <td>0.00</td>\n",
       "      <td>0.38</td>\n",
       "      <td>0.09</td>\n",
       "      <td>0.02</td>\n",
       "      <td>0.00</td>\n",
       "    </tr>\n",
       "    <tr>\n",
       "      <th>1</th>\n",
       "      <td>0.020</td>\n",
       "      <td>0</td>\n",
       "      <td>4443.0</td>\n",
       "      <td>0.27</td>\n",
       "      <td>0.33</td>\n",
       "      <td>15.37</td>\n",
       "      <td>11.68</td>\n",
       "      <td>9.04</td>\n",
       "      <td>0.35</td>\n",
       "      <td>0.23</td>\n",
       "      <td>...</td>\n",
       "      <td>17.93</td>\n",
       "      <td>1.64</td>\n",
       "      <td>0.56</td>\n",
       "      <td>1.03</td>\n",
       "      <td>0.23</td>\n",
       "      <td>0.00</td>\n",
       "      <td>0.69</td>\n",
       "      <td>0.45</td>\n",
       "      <td>0.11</td>\n",
       "      <td>0.04</td>\n",
       "    </tr>\n",
       "    <tr>\n",
       "      <th>2</th>\n",
       "      <td>0.010</td>\n",
       "      <td>1</td>\n",
       "      <td>5349.0</td>\n",
       "      <td>0.24</td>\n",
       "      <td>0.25</td>\n",
       "      <td>19.22</td>\n",
       "      <td>13.88</td>\n",
       "      <td>13.56</td>\n",
       "      <td>0.51</td>\n",
       "      <td>0.14</td>\n",
       "      <td>...</td>\n",
       "      <td>1087.77</td>\n",
       "      <td>1.37</td>\n",
       "      <td>0.73</td>\n",
       "      <td>1.02</td>\n",
       "      <td>0.01</td>\n",
       "      <td>0.00</td>\n",
       "      <td>0.23</td>\n",
       "      <td>0.06</td>\n",
       "      <td>0.00</td>\n",
       "      <td>0.00</td>\n",
       "    </tr>\n",
       "    <tr>\n",
       "      <th>3</th>\n",
       "      <td>0.005</td>\n",
       "      <td>1</td>\n",
       "      <td>14478.0</td>\n",
       "      <td>0.18</td>\n",
       "      <td>0.30</td>\n",
       "      <td>15.01</td>\n",
       "      <td>11.94</td>\n",
       "      <td>20.32</td>\n",
       "      <td>0.51</td>\n",
       "      <td>0.08</td>\n",
       "      <td>...</td>\n",
       "      <td>147.85</td>\n",
       "      <td>1.61</td>\n",
       "      <td>0.60</td>\n",
       "      <td>1.03</td>\n",
       "      <td>0.05</td>\n",
       "      <td>0.01</td>\n",
       "      <td>0.23</td>\n",
       "      <td>0.09</td>\n",
       "      <td>0.04</td>\n",
       "      <td>0.00</td>\n",
       "    </tr>\n",
       "    <tr>\n",
       "      <th>4</th>\n",
       "      <td>0.005</td>\n",
       "      <td>1</td>\n",
       "      <td>14798.0</td>\n",
       "      <td>0.20</td>\n",
       "      <td>0.32</td>\n",
       "      <td>14.19</td>\n",
       "      <td>10.77</td>\n",
       "      <td>16.07</td>\n",
       "      <td>0.51</td>\n",
       "      <td>0.05</td>\n",
       "      <td>...</td>\n",
       "      <td>620.62</td>\n",
       "      <td>1.23</td>\n",
       "      <td>0.81</td>\n",
       "      <td>1.02</td>\n",
       "      <td>0.02</td>\n",
       "      <td>0.00</td>\n",
       "      <td>0.43</td>\n",
       "      <td>0.07</td>\n",
       "      <td>0.04</td>\n",
       "      <td>0.00</td>\n",
       "    </tr>\n",
       "  </tbody>\n",
       "</table>\n",
       "<p>5 rows × 29 columns</p>\n",
       "</div>"
      ],
      "text/plain": [
       "      Rc  审核结果  上一年归母净利润（万元）  承诺期业绩增长率  前三年承诺覆盖率  静态市盈率  动态市盈率   成立年限  \\\n",
       "0  0.020     1       15972.0      0.20      0.27  16.47  12.84  17.94   \n",
       "1  0.020     0        4443.0      0.27      0.33  15.37  11.68   9.04   \n",
       "2  0.010     1        5349.0      0.24      0.25  19.22  13.88  13.56   \n",
       "3  0.005     1       14478.0      0.18      0.30  15.01  11.94  20.32   \n",
       "4  0.005     1       14798.0      0.20      0.32  14.19  10.77  16.07   \n",
       "\n",
       "   大股东持股比例  最近一个完整会计年度对第一大客户的销售占比  ...  固定资产周转率  流动比率  资产负债率  \\\n",
       "0     1.00                   0.39  ...   928.92  1.78   0.55   \n",
       "1     0.35                   0.23  ...    17.93  1.64   0.56   \n",
       "2     0.51                   0.14  ...  1087.77  1.37   0.73   \n",
       "3     0.51                   0.08  ...   147.85  1.61   0.60   \n",
       "4     0.51                   0.05  ...   620.62  1.23   0.81   \n",
       "\n",
       "   经营杠杆（EBITDA/EBIT)  （固定资产+土地）/归母权益  在建工程/归母权益  净资产收益率   毛利率  经营性现金流/收入  \\\n",
       "0               1.00            0.01       0.00    0.38  0.09       0.02   \n",
       "1               1.03            0.23       0.00    0.69  0.45       0.11   \n",
       "2               1.02            0.01       0.00    0.23  0.06       0.00   \n",
       "3               1.03            0.05       0.01    0.23  0.09       0.04   \n",
       "4               1.02            0.02       0.00    0.43  0.07       0.04   \n",
       "\n",
       "   研发支出占比  \n",
       "0    0.00  \n",
       "1    0.04  \n",
       "2    0.00  \n",
       "3    0.00  \n",
       "4    0.00  \n",
       "\n",
       "[5 rows x 29 columns]"
      ]
     },
     "execution_count": 3,
     "metadata": {},
     "output_type": "execute_result"
    }
   ],
   "source": [
    "#将审核结果编码为0和1，作为一个可以进行机器学习的指标 （认为“发行股份购买资产获无条件通过”比“发行股份购买资产获有条件通过”好）\n",
    "#删除公司名称列，该列无法作为特征学习的指标\n",
    "unique_risk['审核结果']=unique_risk['审核结果'].map({'发行股份购买资产获无条件通过':1,'发行股份购买资产获有条件通过':0})\n",
    "unique_risk.head(5)"
   ]
  },
  {
   "cell_type": "code",
   "execution_count": 4,
   "id": "7bdfb30d",
   "metadata": {},
   "outputs": [
    {
     "data": {
      "text/html": [
       "<div>\n",
       "<style scoped>\n",
       "    .dataframe tbody tr th:only-of-type {\n",
       "        vertical-align: middle;\n",
       "    }\n",
       "\n",
       "    .dataframe tbody tr th {\n",
       "        vertical-align: top;\n",
       "    }\n",
       "\n",
       "    .dataframe thead th {\n",
       "        text-align: right;\n",
       "    }\n",
       "</style>\n",
       "<table border=\"1\" class=\"dataframe\">\n",
       "  <thead>\n",
       "    <tr style=\"text-align: right;\">\n",
       "      <th></th>\n",
       "      <th>Rc</th>\n",
       "      <th>审核结果</th>\n",
       "      <th>上一年归母净利润（万元）</th>\n",
       "      <th>承诺期业绩增长率</th>\n",
       "      <th>前三年承诺覆盖率</th>\n",
       "      <th>静态市盈率</th>\n",
       "      <th>动态市盈率</th>\n",
       "      <th>成立年限</th>\n",
       "      <th>大股东持股比例</th>\n",
       "      <th>最近一个完整会计年度对第一大客户的销售占比</th>\n",
       "      <th>...</th>\n",
       "      <th>固定资产周转率</th>\n",
       "      <th>流动比率</th>\n",
       "      <th>资产负债率</th>\n",
       "      <th>经营杠杆（EBITDA/EBIT)</th>\n",
       "      <th>（固定资产+土地）/归母权益</th>\n",
       "      <th>在建工程/归母权益</th>\n",
       "      <th>净资产收益率</th>\n",
       "      <th>毛利率</th>\n",
       "      <th>经营性现金流/收入</th>\n",
       "      <th>研发支出占比</th>\n",
       "    </tr>\n",
       "  </thead>\n",
       "  <tbody>\n",
       "    <tr>\n",
       "      <th>count</th>\n",
       "      <td>125.000000</td>\n",
       "      <td>125.000000</td>\n",
       "      <td>125.000000</td>\n",
       "      <td>125.000000</td>\n",
       "      <td>125.000000</td>\n",
       "      <td>125.000000</td>\n",
       "      <td>125.000000</td>\n",
       "      <td>125.000000</td>\n",
       "      <td>125.000000</td>\n",
       "      <td>125.00000</td>\n",
       "      <td>...</td>\n",
       "      <td>125.000000</td>\n",
       "      <td>125.000000</td>\n",
       "      <td>125.000000</td>\n",
       "      <td>125.000000</td>\n",
       "      <td>125.00000</td>\n",
       "      <td>125.000000</td>\n",
       "      <td>125.000000</td>\n",
       "      <td>125.000000</td>\n",
       "      <td>125.00000</td>\n",
       "      <td>125.000000</td>\n",
       "    </tr>\n",
       "    <tr>\n",
       "      <th>mean</th>\n",
       "      <td>0.023354</td>\n",
       "      <td>0.648000</td>\n",
       "      <td>8193.305120</td>\n",
       "      <td>0.420800</td>\n",
       "      <td>0.273440</td>\n",
       "      <td>34.653040</td>\n",
       "      <td>14.564880</td>\n",
       "      <td>13.020880</td>\n",
       "      <td>1.491600</td>\n",
       "      <td>0.46688</td>\n",
       "      <td>...</td>\n",
       "      <td>193.812400</td>\n",
       "      <td>2.076720</td>\n",
       "      <td>0.558560</td>\n",
       "      <td>1.194000</td>\n",
       "      <td>0.32360</td>\n",
       "      <td>0.030400</td>\n",
       "      <td>0.394880</td>\n",
       "      <td>0.349600</td>\n",
       "      <td>0.11512</td>\n",
       "      <td>0.042880</td>\n",
       "    </tr>\n",
       "    <tr>\n",
       "      <th>std</th>\n",
       "      <td>0.010755</td>\n",
       "      <td>0.479516</td>\n",
       "      <td>17096.817852</td>\n",
       "      <td>0.384973</td>\n",
       "      <td>0.066431</td>\n",
       "      <td>59.794517</td>\n",
       "      <td>4.341481</td>\n",
       "      <td>6.973441</td>\n",
       "      <td>6.075666</td>\n",
       "      <td>2.06969</td>\n",
       "      <td>...</td>\n",
       "      <td>680.518929</td>\n",
       "      <td>1.719869</td>\n",
       "      <td>0.387911</td>\n",
       "      <td>0.286624</td>\n",
       "      <td>0.50176</td>\n",
       "      <td>0.126577</td>\n",
       "      <td>0.901292</td>\n",
       "      <td>0.195545</td>\n",
       "      <td>0.18003</td>\n",
       "      <td>0.045593</td>\n",
       "    </tr>\n",
       "    <tr>\n",
       "      <th>min</th>\n",
       "      <td>0.005000</td>\n",
       "      <td>0.000000</td>\n",
       "      <td>-86262.000000</td>\n",
       "      <td>-0.080000</td>\n",
       "      <td>0.100000</td>\n",
       "      <td>2.500000</td>\n",
       "      <td>5.680000</td>\n",
       "      <td>2.480000</td>\n",
       "      <td>0.090000</td>\n",
       "      <td>0.00000</td>\n",
       "      <td>...</td>\n",
       "      <td>0.120000</td>\n",
       "      <td>0.420000</td>\n",
       "      <td>0.100000</td>\n",
       "      <td>0.880000</td>\n",
       "      <td>-2.56000</td>\n",
       "      <td>-0.220000</td>\n",
       "      <td>-5.770000</td>\n",
       "      <td>0.010000</td>\n",
       "      <td>-0.38000</td>\n",
       "      <td>0.000000</td>\n",
       "    </tr>\n",
       "    <tr>\n",
       "      <th>25%</th>\n",
       "      <td>0.015000</td>\n",
       "      <td>0.000000</td>\n",
       "      <td>1857.000000</td>\n",
       "      <td>0.200000</td>\n",
       "      <td>0.230000</td>\n",
       "      <td>15.700000</td>\n",
       "      <td>11.620000</td>\n",
       "      <td>7.450000</td>\n",
       "      <td>0.380000</td>\n",
       "      <td>0.15000</td>\n",
       "      <td>...</td>\n",
       "      <td>3.960000</td>\n",
       "      <td>1.160000</td>\n",
       "      <td>0.380000</td>\n",
       "      <td>1.030000</td>\n",
       "      <td>0.02000</td>\n",
       "      <td>0.000000</td>\n",
       "      <td>0.170000</td>\n",
       "      <td>0.200000</td>\n",
       "      <td>0.01000</td>\n",
       "      <td>0.010000</td>\n",
       "    </tr>\n",
       "    <tr>\n",
       "      <th>50%</th>\n",
       "      <td>0.020000</td>\n",
       "      <td>1.000000</td>\n",
       "      <td>4480.000000</td>\n",
       "      <td>0.310000</td>\n",
       "      <td>0.270000</td>\n",
       "      <td>20.780000</td>\n",
       "      <td>13.970000</td>\n",
       "      <td>12.570000</td>\n",
       "      <td>0.510000</td>\n",
       "      <td>0.24000</td>\n",
       "      <td>...</td>\n",
       "      <td>16.320000</td>\n",
       "      <td>1.490000</td>\n",
       "      <td>0.540000</td>\n",
       "      <td>1.090000</td>\n",
       "      <td>0.19000</td>\n",
       "      <td>0.000000</td>\n",
       "      <td>0.280000</td>\n",
       "      <td>0.320000</td>\n",
       "      <td>0.09000</td>\n",
       "      <td>0.030000</td>\n",
       "    </tr>\n",
       "    <tr>\n",
       "      <th>75%</th>\n",
       "      <td>0.030000</td>\n",
       "      <td>1.000000</td>\n",
       "      <td>10080.000000</td>\n",
       "      <td>0.500000</td>\n",
       "      <td>0.310000</td>\n",
       "      <td>30.310000</td>\n",
       "      <td>16.250000</td>\n",
       "      <td>16.160000</td>\n",
       "      <td>0.820000</td>\n",
       "      <td>0.40000</td>\n",
       "      <td>...</td>\n",
       "      <td>130.800000</td>\n",
       "      <td>2.040000</td>\n",
       "      <td>0.710000</td>\n",
       "      <td>1.250000</td>\n",
       "      <td>0.53000</td>\n",
       "      <td>0.010000</td>\n",
       "      <td>0.540000</td>\n",
       "      <td>0.460000</td>\n",
       "      <td>0.19000</td>\n",
       "      <td>0.060000</td>\n",
       "    </tr>\n",
       "    <tr>\n",
       "      <th>max</th>\n",
       "      <td>0.050000</td>\n",
       "      <td>1.000000</td>\n",
       "      <td>94597.000000</td>\n",
       "      <td>2.760000</td>\n",
       "      <td>0.420000</td>\n",
       "      <td>609.820000</td>\n",
       "      <td>30.100000</td>\n",
       "      <td>37.590000</td>\n",
       "      <td>45.500000</td>\n",
       "      <td>23.32000</td>\n",
       "      <td>...</td>\n",
       "      <td>6898.070000</td>\n",
       "      <td>12.450000</td>\n",
       "      <td>4.130000</td>\n",
       "      <td>2.430000</td>\n",
       "      <td>2.37000</td>\n",
       "      <td>1.130000</td>\n",
       "      <td>5.370000</td>\n",
       "      <td>1.000000</td>\n",
       "      <td>1.06000</td>\n",
       "      <td>0.230000</td>\n",
       "    </tr>\n",
       "  </tbody>\n",
       "</table>\n",
       "<p>8 rows × 29 columns</p>\n",
       "</div>"
      ],
      "text/plain": [
       "               Rc        审核结果  上一年归母净利润（万元）    承诺期业绩增长率    前三年承诺覆盖率  \\\n",
       "count  125.000000  125.000000    125.000000  125.000000  125.000000   \n",
       "mean     0.023354    0.648000   8193.305120    0.420800    0.273440   \n",
       "std      0.010755    0.479516  17096.817852    0.384973    0.066431   \n",
       "min      0.005000    0.000000 -86262.000000   -0.080000    0.100000   \n",
       "25%      0.015000    0.000000   1857.000000    0.200000    0.230000   \n",
       "50%      0.020000    1.000000   4480.000000    0.310000    0.270000   \n",
       "75%      0.030000    1.000000  10080.000000    0.500000    0.310000   \n",
       "max      0.050000    1.000000  94597.000000    2.760000    0.420000   \n",
       "\n",
       "            静态市盈率       动态市盈率        成立年限     大股东持股比例  最近一个完整会计年度对第一大客户的销售占比  \\\n",
       "count  125.000000  125.000000  125.000000  125.000000              125.00000   \n",
       "mean    34.653040   14.564880   13.020880    1.491600                0.46688   \n",
       "std     59.794517    4.341481    6.973441    6.075666                2.06969   \n",
       "min      2.500000    5.680000    2.480000    0.090000                0.00000   \n",
       "25%     15.700000   11.620000    7.450000    0.380000                0.15000   \n",
       "50%     20.780000   13.970000   12.570000    0.510000                0.24000   \n",
       "75%     30.310000   16.250000   16.160000    0.820000                0.40000   \n",
       "max    609.820000   30.100000   37.590000   45.500000               23.32000   \n",
       "\n",
       "       ...      固定资产周转率        流动比率       资产负债率  经营杠杆（EBITDA/EBIT)  \\\n",
       "count  ...   125.000000  125.000000  125.000000         125.000000   \n",
       "mean   ...   193.812400    2.076720    0.558560           1.194000   \n",
       "std    ...   680.518929    1.719869    0.387911           0.286624   \n",
       "min    ...     0.120000    0.420000    0.100000           0.880000   \n",
       "25%    ...     3.960000    1.160000    0.380000           1.030000   \n",
       "50%    ...    16.320000    1.490000    0.540000           1.090000   \n",
       "75%    ...   130.800000    2.040000    0.710000           1.250000   \n",
       "max    ...  6898.070000   12.450000    4.130000           2.430000   \n",
       "\n",
       "       （固定资产+土地）/归母权益   在建工程/归母权益      净资产收益率         毛利率  经营性现金流/收入  \\\n",
       "count       125.00000  125.000000  125.000000  125.000000  125.00000   \n",
       "mean          0.32360    0.030400    0.394880    0.349600    0.11512   \n",
       "std           0.50176    0.126577    0.901292    0.195545    0.18003   \n",
       "min          -2.56000   -0.220000   -5.770000    0.010000   -0.38000   \n",
       "25%           0.02000    0.000000    0.170000    0.200000    0.01000   \n",
       "50%           0.19000    0.000000    0.280000    0.320000    0.09000   \n",
       "75%           0.53000    0.010000    0.540000    0.460000    0.19000   \n",
       "max           2.37000    1.130000    5.370000    1.000000    1.06000   \n",
       "\n",
       "           研发支出占比  \n",
       "count  125.000000  \n",
       "mean     0.042880  \n",
       "std      0.045593  \n",
       "min      0.000000  \n",
       "25%      0.010000  \n",
       "50%      0.030000  \n",
       "75%      0.060000  \n",
       "max      0.230000  \n",
       "\n",
       "[8 rows x 29 columns]"
      ]
     },
     "execution_count": 4,
     "metadata": {},
     "output_type": "execute_result"
    }
   ],
   "source": [
    "unique_risk.describe()"
   ]
  },
  {
   "cell_type": "code",
   "execution_count": 5,
   "id": "b04ba4ce",
   "metadata": {},
   "outputs": [
    {
     "data": {
      "image/png": "[encoded data removed]",
      "text/plain": [
       "<Figure size 1080x1080 with 30 Axes>"
      ]
     },
     "metadata": {
      "needs_background": "light"
     },
     "output_type": "display_data"
    }
   ],
   "source": [
    "unique_risk.hist(figsize=(15,15))\n",
    "plt.show()"
   ]
  },
  {
   "cell_type": "code",
   "execution_count": 6,
   "id": "f9b3ddeb",
   "metadata": {},
   "outputs": [],
   "source": [
    "#按照顺序构造字典，方便将最后的特征选择结果输出为具体的属性名称\n",
    "feature_dict={\n",
    "0:'审核结果',1:'上一年归母净利润（万元）',2:'承诺期业绩增长率',3:'前三年承诺覆盖率',4:'静态市盈率',5:'动态市盈率',6:'成立年限',\n",
    "7:'大股东持股比例',8:'最近一个完整会计年度对第一大客户的销售占比',9:'最近一个完整会计年度对第一供应商的采购占比',10:'注入资产净资产账面值(万元)',\n",
    "11:'D/(D+E)',12:'总资产增长率' ,13:'归母权益增长率',14:'净利润增长率',15:'总资产周转率',16:'存货周转率',17:'应收账款周转率',18:'固定资产周转率',\n",
    "19:'流动比率',20:'资产负债率',21:'经营杠杆（EBITDA/EBIT)',22:'（固定资产+土地）/归母权益',23:'在建工程/归母权益',24:'净资产收益率',\n",
    "25:'毛利率',26:'经营性现金流/收入',27:'研发支出占比'\n",
    "}"
   ]
  },
  {
   "cell_type": "code",
   "execution_count": 7,
   "id": "67641110",
   "metadata": {},
   "outputs": [],
   "source": [
    "target=unique_risk['Rc']"
   ]
  },
  {
   "cell_type": "code",
   "execution_count": 8,
   "id": "abb6156e",
   "metadata": {},
   "outputs": [],
   "source": [
    "data=unique_risk.drop(labels=['Rc'],axis=1)"
   ]
  },
  {
   "cell_type": "code",
   "execution_count": 9,
   "id": "a74c4055",
   "metadata": {},
   "outputs": [
    {
     "data": {
      "image/png": "[encoded data removed]",
      "text/plain": [
       "<Figure size 576x576 with 1 Axes>"
      ]
     },
     "metadata": {
      "needs_background": "light"
     },
     "output_type": "display_data"
    }
   ],
   "source": [
    "from sklearn.manifold import TSNE\n",
    "t_sne=TSNE(n_components=2,init='pca',random_state=23)\n",
    "X_tsne=t_sne.fit_transform(data)\n",
    "\n",
    "\"嵌入空间可视化\"\n",
    "x_min,x_max=X_tsne.min(0),X_tsne.max(0)\n",
    "X_norm=(X_tsne-x_min)/(x_max-x_min)\n",
    "plt.figure(figsize=(8,8))\n",
    "for i in range(X_norm.shape[0]):\n",
    "    plt.text(X_norm[i,0],X_norm[i,1],str(str(i)+\":\"+str(target[i])),fontdict={'weight':'bold','size':9})\n",
    "plt.show()"
   ]
  },
  {
   "cell_type": "code",
   "execution_count": 10,
   "id": "5ce378d0",
   "metadata": {},
   "outputs": [],
   "source": [
    "#存储列名，用于展示结果\n",
    "columns=data.columns"
   ]
  },
  {
   "cell_type": "code",
   "execution_count": 11,
   "id": "8d976640",
   "metadata": {},
   "outputs": [],
   "source": [
    "#选取90%的样本用于训练模型，10%用于展示模型\n",
    "from sklearn.model_selection import train_test_split\n",
    "train_data,test_data,train_target,test_target = train_test_split(data,target, test_size = 0.1, random_state=23)"
   ]
  },
  {
   "cell_type": "code",
   "execution_count": 12,
   "id": "edd4ae4c",
   "metadata": {},
   "outputs": [],
   "source": [
    "from sklearn.preprocessing import MinMaxScaler\n",
    "scaler= MinMaxScaler()\n",
    "train_X = scaler.fit_transform(train_data)\n",
    "train_y = train_target\n",
    "test_X= scaler.transform(test_data)\n",
    "test_y=test_target"
   ]
  },
  {
   "cell_type": "markdown",
   "id": "c070bff6",
   "metadata": {},
   "source": [
    "用iforest, One-SVM, Local Outlier Factor进行离群点检测，效果并不好"
   ]
  },
  {
   "cell_type": "code",
   "execution_count": 15,
   "id": "fac0a411",
   "metadata": {},
   "outputs": [],
   "source": [
    "import collections, numpy"
   ]
  },
  {
   "cell_type": "markdown",
   "id": "83614037",
   "metadata": {},
   "source": [
    "**Local Outlier Factor**"
   ]
  },
  {
   "cell_type": "code",
   "execution_count": 16,
   "id": "8a6db67c",
   "metadata": {},
   "outputs": [],
   "source": [
    "from sklearn.neighbors import LocalOutlierFactor\n",
    "clf=LocalOutlierFactor(n_neighbors=13)\n",
    "res=clf.fit_predict(scaler.fit_transform(unique_risk))"
   ]
  },
  {
   "cell_type": "code",
   "execution_count": 17,
   "id": "6e297a8e",
   "metadata": {},
   "outputs": [
    {
     "data": {
      "text/plain": [
       "(array([  8,  27,  34,  44,  66,  74,  77,  83,  93,  95,  96,  98, 113,\n",
       "        115, 118, 120, 121, 122], dtype=int64),)"
      ]
     },
     "execution_count": 17,
     "metadata": {},
     "output_type": "execute_result"
    }
   ],
   "source": [
    "np.where(res==-1)"
   ]
  },
  {
   "cell_type": "code",
   "execution_count": 18,
   "id": "d3551e7c",
   "metadata": {},
   "outputs": [
    {
     "data": {
      "text/plain": [
       "Counter({1: 107, -1: 18})"
      ]
     },
     "execution_count": 18,
     "metadata": {},
     "output_type": "execute_result"
    }
   ],
   "source": [
    "collections.Counter(res)"
   ]
  },
  {
   "cell_type": "code",
   "execution_count": 19,
   "id": "975dcd57",
   "metadata": {},
   "outputs": [
    {
     "data": {
      "image/png": "[encoded data removed]",
      "text/plain": [
       "<Figure size 576x576 with 1 Axes>"
      ]
     },
     "metadata": {
      "needs_background": "light"
     },
     "output_type": "display_data"
    }
   ],
   "source": [
    "from sklearn.manifold import TSNE\n",
    "t_sne=TSNE(n_components=2,init='pca',random_state=23)\n",
    "X_tsne=t_sne.fit_transform(data)\n",
    "\n",
    "\"嵌入空间可视化\"\n",
    "x_min,x_max=X_tsne.min(0),X_tsne.max(0)\n",
    "X_norm=(X_tsne-x_min)/(x_max-x_min)\n",
    "plt.figure(figsize=(8,8))\n",
    "for i in range(X_norm.shape[0]):\n",
    "    if i in list(np.where(res==-1)[0]):\n",
    "        plt.text(X_norm[i,0],X_norm[i,1],str(str(i)+\":\"+str(target[i])),color=\"red\",fontdict={'weight':'bold','size':9})\n",
    "    else:\n",
    "        plt.text(X_norm[i,0],X_norm[i,1],str(str(i)+\":\"+str(target[i])),fontdict={'weight':'bold','size':9})\n",
    "plt.show()"
   ]
  },
  {
   "cell_type": "markdown",
   "id": "00cc6d45",
   "metadata": {},
   "source": [
    "**One Class SVM**"
   ]
  },
  {
   "cell_type": "code",
   "execution_count": 20,
   "id": "4ce22d4e",
   "metadata": {},
   "outputs": [],
   "source": [
    "from sklearn.svm import OneClassSVM\n",
    "clf = OneClassSVM(gamma='auto').fit(scaler.fit_transform(unique_risk))\n",
    "res=clf.predict(scaler.fit_transform(unique_risk))"
   ]
  },
  {
   "cell_type": "code",
   "execution_count": 21,
   "id": "8c821a35",
   "metadata": {},
   "outputs": [
    {
     "data": {
      "text/plain": [
       "(array([  3,   4,   5,   6,   7,   8,  11,  12,  13,  14,  16,  17,  18,\n",
       "         23,  24,  26,  27,  29,  34,  35,  36,  37,  38,  44,  48,  49,\n",
       "         50,  51,  54,  58,  61,  66,  68,  69,  72,  74,  76,  77,  82,\n",
       "         83,  85,  89,  90,  91,  93,  95,  96,  98,  99, 102, 105, 106,\n",
       "        107, 110, 112, 113, 115, 118, 119, 120, 121, 122, 123], dtype=int64),)"
      ]
     },
     "execution_count": 21,
     "metadata": {},
     "output_type": "execute_result"
    }
   ],
   "source": [
    "np.where(res==-1)"
   ]
  },
  {
   "cell_type": "code",
   "execution_count": 22,
   "id": "c5bde132",
   "metadata": {},
   "outputs": [
    {
     "data": {
      "text/plain": [
       "Counter({1: 62, -1: 63})"
      ]
     },
     "execution_count": 22,
     "metadata": {},
     "output_type": "execute_result"
    }
   ],
   "source": [
    "#好吧 效果并不怎么好\n",
    "collections.Counter(res)"
   ]
  },
  {
   "cell_type": "code",
   "execution_count": 23,
   "id": "8dc5664e",
   "metadata": {},
   "outputs": [
    {
     "data": {
      "image/png": "[encoded data removed]",
      "text/plain": [
       "<Figure size 576x576 with 1 Axes>"
      ]
     },
     "metadata": {
      "needs_background": "light"
     },
     "output_type": "display_data"
    }
   ],
   "source": [
    "from sklearn.manifold import TSNE\n",
    "t_sne=TSNE(n_components=2,init='pca',random_state=23)\n",
    "X_tsne=t_sne.fit_transform(data)\n",
    "\n",
    "\"嵌入空间可视化\"\n",
    "x_min,x_max=X_tsne.min(0),X_tsne.max(0)\n",
    "X_norm=(X_tsne-x_min)/(x_max-x_min)\n",
    "plt.figure(figsize=(8,8))\n",
    "for i in range(X_norm.shape[0]):\n",
    "    if i in list(np.where(res==-1)[0]):\n",
    "        plt.text(X_norm[i,0],X_norm[i,1],str(str(i)+\":\"+str(target[i])),color=\"red\",fontdict={'weight':'bold','size':9})\n",
    "    else:\n",
    "        plt.text(X_norm[i,0],X_norm[i,1],str(str(i)+\":\"+str(target[i])),fontdict={'weight':'bold','size':9})\n",
    "plt.show()"
   ]
  },
  {
   "cell_type": "markdown",
   "id": "aeeff663",
   "metadata": {},
   "source": [
    "**Isolation Forest**"
   ]
  },
  {
   "cell_type": "code",
   "execution_count": 24,
   "id": "d1d698b1",
   "metadata": {},
   "outputs": [],
   "source": [
    "from sklearn.ensemble import IsolationForest\n",
    "clf = IsolationForest(random_state=0).fit(scaler.fit_transform(unique_risk))\n",
    "res=clf.predict(scaler.fit_transform(unique_risk))"
   ]
  },
  {
   "cell_type": "code",
   "execution_count": 25,
   "id": "dc647850",
   "metadata": {},
   "outputs": [
    {
     "data": {
      "text/plain": [
       "(array([34, 66, 74, 95], dtype=int64),)"
      ]
     },
     "execution_count": 25,
     "metadata": {},
     "output_type": "execute_result"
    }
   ],
   "source": [
    "np.where(res==-1)"
   ]
  },
  {
   "cell_type": "code",
   "execution_count": 26,
   "id": "73748f72",
   "metadata": {},
   "outputs": [
    {
     "data": {
      "text/plain": [
       "Counter({1: 121, -1: 4})"
      ]
     },
     "execution_count": 26,
     "metadata": {},
     "output_type": "execute_result"
    }
   ],
   "source": [
    "collections.Counter(res)"
   ]
  },
  {
   "cell_type": "code",
   "execution_count": 27,
   "id": "4fe028ab",
   "metadata": {},
   "outputs": [
    {
     "data": {
      "image/png": "[encoded data removed]",
      "text/plain": [
       "<Figure size 576x576 with 1 Axes>"
      ]
     },
     "metadata": {
      "needs_background": "light"
     },
     "output_type": "display_data"
    }
   ],
   "source": [
    "from sklearn.manifold import TSNE\n",
    "t_sne=TSNE(n_components=2,init='pca',random_state=23)\n",
    "X_tsne=t_sne.fit_transform(data)\n",
    "\n",
    "\"嵌入空间可视化\"\n",
    "x_min,x_max=X_tsne.min(0),X_tsne.max(0)\n",
    "X_norm=(X_tsne-x_min)/(x_max-x_min)\n",
    "plt.figure(figsize=(8,8))\n",
    "for i in range(X_norm.shape[0]):\n",
    "    if i in list(np.where(res==-1)[0]):\n",
    "        plt.text(X_norm[i,0],X_norm[i,1],str(str(i)+\":\"+str(target[i])),color=\"red\",fontdict={'weight':'bold','size':9})\n",
    "    else:\n",
    "        plt.text(X_norm[i,0],X_norm[i,1],str(str(i)+\":\"+str(target[i])),fontdict={'weight':'bold','size':9})\n",
    "plt.show()"
   ]
  },
  {
   "cell_type": "markdown",
   "id": "1aec1705",
   "metadata": {},
   "source": [
    "## 2 不进行特征工程，直接进行机器学习"
   ]
  },
  {
   "cell_type": "markdown",
   "id": "0f12c11e",
   "metadata": {},
   "source": [
    "### 2.1 选择回归模型\n",
    "&ensp; 以线性回归的模型作为对照组，选择岭回归、神经网络、AdaBoost、LGBM和XGBoost方法进行机器学习。选择岭回归的原因是一般L2正则化比L1正则化好。SVM回归根据经验表现并不好。多层感知机能处理高维非线性问题。Boosting类算法通常表现比Bagging类算法好。树类模型和KNN更适合分类问题。"
   ]
  },
  {
   "cell_type": "code",
   "execution_count": null,
   "id": "10beef7e",
   "metadata": {},
   "outputs": [],
   "source": [
    "#为了保证模型和计算结果的可复现性，和之前选择测试集一样 选择随机数种子23（实际不需要，只需要多次实验取最高保存）,见前文模型罗列阶段的参数"
   ]
  },
  {
   "cell_type": "code",
   "execution_count": 13,
   "id": "50690fd4",
   "metadata": {},
   "outputs": [],
   "source": [
    "#线性回归\n",
    "from sklearn import linear_model\n",
    "model_LinearRegression = linear_model.LinearRegression()\n",
    "\n",
    "# 岭回归\n",
    "from sklearn.linear_model import RidgeCV\n",
    "model_RidgeCV= RidgeCV()\n",
    "\n",
    "#MLPRegressor神经网络回归\n",
    "from sklearn.neural_network import MLPRegressor\n",
    "model_MLPRegressor=MLPRegressor(random_state=23)\n",
    "\n",
    "#Adaboost回归\n",
    "from sklearn import ensemble\n",
    "model_AdaBoostRegressor = ensemble.AdaBoostRegressor(n_estimators=50,random_state=23)#这里使用50个决策树\n",
    "\n",
    "#LGBM回归\n",
    "import lightgbm as lgb\n",
    "model_LGBMRegressor= lgb.LGBMRegressor()\n",
    "\n",
    "#XGBoost回归\n",
    "import xgboost as xgb\n",
    "model_XGBRegressor = xgb.XGBRegressor()\n",
    "\n",
    "#KNN回归\n",
    "from sklearn import neighbors\n",
    "model_KNeighborsRegressor = neighbors.KNeighborsRegressor()"
   ]
  },
  {
   "cell_type": "markdown",
   "id": "d9937921",
   "metadata": {},
   "source": [
    "### 2.2 模型基础表现\n",
    "&ensp; 由于数据量不够大，为了避免采样结果对评判指标（这里使用$R^2$进行评估）产生比较大的影响，因此采用k折交叉验证（这里k取5）取平均值的方法评估模型及其超参数的优劣（对未知的测试数据是否也能有比较好的预测表现）。<br> \n",
    "&ensp; 当样本足够大的时候（比如达到假设空间的70%）,一般直接70% 30%或者60% 20% 10%的方法进行划分，对模型进行调参和评估。实践表明，训练集、测试集，验证集的方法比K折交叉验证效果更好<br>"
   ]
  },
  {
   "cell_type": "code",
   "execution_count": 14,
   "id": "9a69a91d",
   "metadata": {},
   "outputs": [],
   "source": [
    "#导入交叉验证包\n",
    "from sklearn.model_selection import cross_val_score"
   ]
  },
  {
   "cell_type": "markdown",
   "id": "ff4eb469",
   "metadata": {},
   "source": [
    "**线性回归**"
   ]
  },
  {
   "cell_type": "code",
   "execution_count": 14,
   "id": "18dfad47",
   "metadata": {},
   "outputs": [
    {
     "name": "stdout",
     "output_type": "stream",
     "text": [
      "[-4.31859267 -2.20635012 -1.73417002 -0.39247642 -0.18406846]\n"
     ]
    },
    {
     "data": {
      "text/plain": [
       "-1.7671315362442512"
      ]
     },
     "execution_count": 14,
     "metadata": {},
     "output_type": "execute_result"
    }
   ],
   "source": [
    "#交叉验证 计算平均值\n",
    "score=[]\n",
    "score=cross_val_score(model_LinearRegression,train_X,train_y,cv=5,scoring='r2')\n",
    "print(score)\n",
    "score.mean()"
   ]
  },
  {
   "cell_type": "markdown",
   "id": "1581dfce",
   "metadata": {},
   "source": [
    "**岭回归**"
   ]
  },
  {
   "cell_type": "code",
   "execution_count": 15,
   "id": "96aa24f4",
   "metadata": {},
   "outputs": [
    {
     "name": "stdout",
     "output_type": "stream",
     "text": [
      "[ 0.01006675  0.0547355  -0.45696984 -0.24978267  0.18121692]\n"
     ]
    },
    {
     "data": {
      "text/plain": [
       "-0.09214666509499606"
      ]
     },
     "execution_count": 15,
     "metadata": {},
     "output_type": "execute_result"
    }
   ],
   "source": [
    "score=[]\n",
    "score=cross_val_score(model_RidgeCV,train_X,train_y,cv=5,scoring='r2')\n",
    "print(score)\n",
    "score.mean()"
   ]
  },
  {
   "cell_type": "markdown",
   "id": "ea1a7418",
   "metadata": {},
   "source": [
    "**多层感知机**"
   ]
  },
  {
   "cell_type": "code",
   "execution_count": 16,
   "id": "6408852a",
   "metadata": {},
   "outputs": [
    {
     "name": "stdout",
     "output_type": "stream",
     "text": [
      "[ -58.63902525 -137.34028909  -35.15893586  -14.83856555  -62.53089236]\n"
     ]
    },
    {
     "data": {
      "text/plain": [
       "-61.70154162115184"
      ]
     },
     "execution_count": 16,
     "metadata": {},
     "output_type": "execute_result"
    }
   ],
   "source": [
    "score=[]\n",
    "score=cross_val_score(model_MLPRegressor,train_X,train_y,cv=5,scoring='r2')\n",
    "print(score)\n",
    "score.mean()"
   ]
  },
  {
   "cell_type": "markdown",
   "id": "de5bfdb4",
   "metadata": {},
   "source": [
    "**AdaBoost**"
   ]
  },
  {
   "cell_type": "code",
   "execution_count": 17,
   "id": "8885ec89",
   "metadata": {},
   "outputs": [
    {
     "name": "stdout",
     "output_type": "stream",
     "text": [
      "[-0.0067154   0.10619383  0.11138641  0.04044471  0.14353388]\n"
     ]
    },
    {
     "data": {
      "text/plain": [
       "0.07896868703619757"
      ]
     },
     "execution_count": 17,
     "metadata": {},
     "output_type": "execute_result"
    }
   ],
   "source": [
    "score=[]\n",
    "score=cross_val_score(model_AdaBoostRegressor,train_X,train_y,cv=5,scoring='r2')\n",
    "print(score)\n",
    "score.mean()"
   ]
  },
  {
   "cell_type": "markdown",
   "id": "832afa47",
   "metadata": {},
   "source": [
    "**LGBM**"
   ]
  },
  {
   "cell_type": "code",
   "execution_count": 18,
   "id": "0ae274c0",
   "metadata": {},
   "outputs": [
    {
     "name": "stdout",
     "output_type": "stream",
     "text": [
      "[-0.05193114 -0.07705426 -0.10868525 -0.16768306  0.29705026]\n"
     ]
    },
    {
     "data": {
      "text/plain": [
       "-0.021660688785657523"
      ]
     },
     "execution_count": 18,
     "metadata": {},
     "output_type": "execute_result"
    }
   ],
   "source": [
    "score=[]\n",
    "score=cross_val_score(model_LGBMRegressor,train_X,train_y,cv=5,scoring='r2')\n",
    "print(score)\n",
    "score.mean()"
   ]
  },
  {
   "cell_type": "markdown",
   "id": "6204c835",
   "metadata": {},
   "source": [
    "**XGBoost**"
   ]
  },
  {
   "cell_type": "code",
   "execution_count": 19,
   "id": "bfd7a3a4",
   "metadata": {},
   "outputs": [
    {
     "name": "stdout",
     "output_type": "stream",
     "text": [
      "[-0.16034206  0.2733736  -0.30593974 -0.82164314 -0.08033326]\n"
     ]
    },
    {
     "data": {
      "text/plain": [
       "-0.21897692172226155"
      ]
     },
     "execution_count": 19,
     "metadata": {},
     "output_type": "execute_result"
    }
   ],
   "source": [
    "score=[]\n",
    "score=cross_val_score(model_XGBRegressor,train_X,train_y,cv=5,scoring='r2')\n",
    "print(score)\n",
    "score.mean()"
   ]
  },
  {
   "cell_type": "markdown",
   "id": "5b4b1005",
   "metadata": {},
   "source": [
    "**KNN**"
   ]
  },
  {
   "cell_type": "code",
   "execution_count": 20,
   "id": "5a5f2f85",
   "metadata": {},
   "outputs": [
    {
     "data": {
      "text/plain": [
       "-0.16193649718064287"
      ]
     },
     "execution_count": 20,
     "metadata": {},
     "output_type": "execute_result"
    }
   ],
   "source": [
    "score=[]\n",
    "score=cross_val_score(model_KNeighborsRegressor,train_X,train_y,cv=5,scoring='r2')\n",
    "score.mean()"
   ]
  },
  {
   "cell_type": "markdown",
   "id": "f1b6965e",
   "metadata": {},
   "source": [
    "### 2.3 模型调参\n",
    "&ensp; 调参指的都是调整超参数,使得模型具有更好的表现。一般来说越复杂的超参数(神经网络中更多的感知机，决策树中数的深度越大，线性拟合中x的最高指数), 会使得模型在训练集上具有更好的表现，但容易导致模型过拟合，在未知数据集上表现不佳。因此，使用K折交叉验证或者划分训练和测试集的方法确定来确定最佳的模型+超参数组合。<br>\n",
    "&ensp;调参的一般方法就是通过GridSearch函数将所有参数进行组合，通过交叉验证或者测试集的方法输出最好的模型（一般会选择准确率或者$R^2$，但可能也会关注比如预测时间、训练时间等指指标）。由于会遍历所有组合，一般会选择一个范围，接着逐步进行逼近。另外，为了避免陷入局部最优，可以尝试几个不同的区间进行逼近。"
   ]
  },
  {
   "cell_type": "markdown",
   "id": "a630dc17",
   "metadata": {},
   "source": [
    "&ensp; 需要注意的是，K折交叉验证会生成K个参数不同的模型，这些模型都不是我们的最终模型，K折交叉验证主要是用来测试这个模型和超参数组合在假设空间上的表现，并不是一个生成训练模型的方法。我们使用通过K折交叉验证选出的最好的模型+超参数组合，训练目前已有数据得出的参数+模型才是最终持久化保存并使用的模型。<br>"
   ]
  },
  {
   "cell_type": "code",
   "execution_count": 23,
   "id": "469e63a5",
   "metadata": {},
   "outputs": [],
   "source": [
    "from sklearn.model_selection import GridSearchCV  "
   ]
  },
  {
   "cell_type": "markdown",
   "id": "168f17f0",
   "metadata": {},
   "source": [
    "**对MLP神经网络进行调参**<br>\n",
    "&ensp;默认只有一层(200,)的效果很差。调参时神经网络的必要步骤。"
   ]
  },
  {
   "cell_type": "code",
   "execution_count": 72,
   "id": "958520fb",
   "metadata": {},
   "outputs": [
    {
     "name": "stdout",
     "output_type": "stream",
     "text": [
      "The best parameters are {'activation': 'tanh', 'alpha': 0.0001, 'hidden_layer_sizes': (3, 3, 3), 'learning_rate': 'constant', 'solver': 'lbfgs'} with a score of -0.05\n"
     ]
    }
   ],
   "source": [
    "parameter_space = {\n",
    "    'hidden_layer_sizes': [(5,5,5),(3,3,3),(3,3,3,3)], \n",
    "    'activation': ['tanh', 'relu','logistic'],\n",
    "    'solver': ['sgd', 'adam','lbfgs'],\n",
    "    'alpha': [0.0001, 0.0002,0.0005],\n",
    "    'learning_rate': ['constant','adaptive'],\n",
    "}\n",
    "\n",
    "grid = GridSearchCV(MLPRegressor(random_state=23), parameter_space, cv=5)  \n",
    "grid.fit(train_X,train_y)  \n",
    "print(\"The best parameters are %s with a score of %0.2f\" %(grid.best_params_, grid.best_score_))"
   ]
  },
  {
   "cell_type": "code",
   "execution_count": 73,
   "id": "8ab468b0",
   "metadata": {},
   "outputs": [],
   "source": [
    "model_MLPRegressor=MLPRegressor(activation='tanh', alpha=0.0001, hidden_layer_sizes=(3,3,3), learning_rate='constant', solver='lbfgs',random_state=23)"
   ]
  },
  {
   "cell_type": "code",
   "execution_count": 74,
   "id": "89c5b53d",
   "metadata": {},
   "outputs": [
    {
     "name": "stdout",
     "output_type": "stream",
     "text": [
      "[-0.0657214   0.01119044 -0.0106349  -0.23491783  0.03798471]\n"
     ]
    },
    {
     "data": {
      "text/plain": [
       "-0.05241979719935137"
      ]
     },
     "execution_count": 74,
     "metadata": {},
     "output_type": "execute_result"
    }
   ],
   "source": [
    "score=[]\n",
    "score=cross_val_score(model_MLPRegressor,train_X,train_y,cv=5,scoring='r2')\n",
    "print(score)\n",
    "score.mean()"
   ]
  },
  {
   "cell_type": "markdown",
   "id": "968a6748",
   "metadata": {},
   "source": [
    "**对XGBoost进行调参**"
   ]
  },
  {
   "cell_type": "code",
   "execution_count": 75,
   "id": "f87cdad6",
   "metadata": {},
   "outputs": [
    {
     "name": "stdout",
     "output_type": "stream",
     "text": [
      "The best parameters are {'booster': 'dart', 'eta': 0.2, 'gamma': 0, 'max_depth': 9, 'min_child_weight': 10} with a score of 0.06\n"
     ]
    }
   ],
   "source": [
    "parameter_space = {\n",
    "    'booster': ['gbtree','dart'], \n",
    "    'eta': [0.1, 0.2, 0.3],\n",
    "    'gamma':[0,1,10],\n",
    "    'max_depth': [ 6, 9, 12],\n",
    "    'min_child_weight': [5, 10 ,20]\n",
    "    \n",
    "}\n",
    "\n",
    "grid = GridSearchCV(xgb.XGBRegressor(), parameter_space, cv=5)  \n",
    "grid.fit(train_X, train_y)  \n",
    "print(\"The best parameters are %s with a score of %0.2f\" %(grid.best_params_, grid.best_score_))"
   ]
  },
  {
   "cell_type": "code",
   "execution_count": 76,
   "id": "4b63afa0",
   "metadata": {},
   "outputs": [],
   "source": [
    "model_XGBRegressor= xgb.XGBRegressor(booster='dart', eta= 0.2, gamma= 0, max_depth= 9, min_child_weight= 10)"
   ]
  },
  {
   "cell_type": "code",
   "execution_count": 77,
   "id": "867137a8",
   "metadata": {},
   "outputs": [
    {
     "name": "stdout",
     "output_type": "stream",
     "text": [
      "[-0.0645823   0.21442871  0.01261287  0.04288464  0.09591336]\n"
     ]
    },
    {
     "data": {
      "text/plain": [
       "0.06025145492136637"
      ]
     },
     "execution_count": 77,
     "metadata": {},
     "output_type": "execute_result"
    }
   ],
   "source": [
    "score=[]\n",
    "score=cross_val_score(model_XGBRegressor,train_X,train_y,cv=5,scoring='r2')\n",
    "print(score)\n",
    "score.mean()"
   ]
  },
  {
   "cell_type": "markdown",
   "id": "003b441b",
   "metadata": {},
   "source": [
    "**对LGBM进行调参**"
   ]
  },
  {
   "cell_type": "code",
   "execution_count": 78,
   "id": "7a0b922e",
   "metadata": {},
   "outputs": [
    {
     "name": "stdout",
     "output_type": "stream",
     "text": [
      "The best parameters are {'cat_smooth': 0, 'max_depth': 4, 'min_child_samples': 19, 'min_child_weight': 0.001, 'num_leaves': 5} with a score of 0.15\n"
     ]
    }
   ],
   "source": [
    "parameter_space = {\n",
    "    'max_depth': [2,4,6],\n",
    "    'num_leaves': [3,5,10],\n",
    "    'min_child_samples': [15,19,30],\n",
    "    'min_child_weight': [0.001,0.002],\n",
    "    'cat_smooth': [0,10,20]\n",
    "    \n",
    "}\n",
    "\n",
    "grid = GridSearchCV(lgb.LGBMRegressor(), parameter_space, cv=5)  \n",
    "grid.fit(train_X, train_y)  \n",
    "print(\"The best parameters are %s with a score of %0.2f\" %(grid.best_params_, grid.best_score_))"
   ]
  },
  {
   "cell_type": "code",
   "execution_count": 86,
   "id": "dee29310",
   "metadata": {},
   "outputs": [],
   "source": [
    "model_LGBMRegressor=lgb.LGBMRegressor(cat_smooth=0, max_depth=4, min_child_samples=19, min_child_weight=0.001, num_leaves=5)"
   ]
  },
  {
   "cell_type": "code",
   "execution_count": 87,
   "id": "44333b1b",
   "metadata": {},
   "outputs": [
    {
     "name": "stdout",
     "output_type": "stream",
     "text": [
      "[-0.0817186   0.16682566 -0.0382546   0.23991201  0.44190385]\n"
     ]
    },
    {
     "data": {
      "text/plain": [
       "0.14573366308017338"
      ]
     },
     "execution_count": 87,
     "metadata": {},
     "output_type": "execute_result"
    }
   ],
   "source": [
    "score=[]\n",
    "score=cross_val_score(model_LGBMRegressor,train_X,train_y,cv=5,scoring='r2')\n",
    "print(score)\n",
    "score.mean()"
   ]
  },
  {
   "cell_type": "markdown",
   "id": "feb573a3",
   "metadata": {},
   "source": [
    "**对AdaBoost进行调参**"
   ]
  },
  {
   "cell_type": "code",
   "execution_count": 17,
   "id": "89e3aac3",
   "metadata": {},
   "outputs": [],
   "source": [
    "Ada_MLP=MLPRegressor(activation='tanh', alpha=0.0001, hidden_layer_sizes=(3,3,3), learning_rate='constant', solver='lbfgs',random_state=23)"
   ]
  },
  {
   "cell_type": "code",
   "execution_count": 15,
   "id": "56699dea",
   "metadata": {},
   "outputs": [],
   "source": [
    "from sklearn import tree"
   ]
  },
  {
   "cell_type": "code",
   "execution_count": 83,
   "id": "7d7356d9",
   "metadata": {},
   "outputs": [
    {
     "name": "stdout",
     "output_type": "stream",
     "text": [
      "The best parameters are {'base_estimator': DecisionTreeRegressor(max_depth=3), 'learning_rate': 0.5, 'n_estimators': 200} with a score of 0.14\n"
     ]
    }
   ],
   "source": [
    "parameter_space = {\n",
    "    'base_estimator':[tree.DecisionTreeRegressor(max_depth=3),model_RidgeCV,Ada_MLP],\n",
    "    'n_estimators':[150,200,250],\n",
    "    'learning_rate':[0.1,0.5,0.8]\n",
    "}\n",
    "\n",
    "grid = GridSearchCV(ensemble.AdaBoostRegressor(random_state=23), parameter_space, cv=5)  \n",
    "grid.fit(train_X, train_y)  \n",
    "print(\"The best parameters are %s with a score of %0.2f\" %(grid.best_params_, grid.best_score_))"
   ]
  },
  {
   "cell_type": "code",
   "execution_count": 84,
   "id": "e90d87cb",
   "metadata": {},
   "outputs": [],
   "source": [
    "model_AdaBoostRegressor=ensemble.AdaBoostRegressor(base_estimator= tree.DecisionTreeRegressor(max_depth=3),random_state=23,learning_rate=0.5, n_estimators=200)"
   ]
  },
  {
   "cell_type": "code",
   "execution_count": 85,
   "id": "955cb6cd",
   "metadata": {},
   "outputs": [
    {
     "name": "stdout",
     "output_type": "stream",
     "text": [
      "[0.09079508 0.20643547 0.12139624 0.07877288 0.20435412]\n"
     ]
    },
    {
     "data": {
      "text/plain": [
       "0.14035076034981703"
      ]
     },
     "execution_count": 85,
     "metadata": {},
     "output_type": "execute_result"
    }
   ],
   "source": [
    "score=[]\n",
    "score=cross_val_score(model_AdaBoostRegressor,train_X,train_y,cv=5,scoring='r2')\n",
    "print(score)\n",
    "score.mean()"
   ]
  },
  {
   "cell_type": "markdown",
   "id": "d7d1cd9e",
   "metadata": {},
   "source": [
    "**对KNN进行调参**"
   ]
  },
  {
   "cell_type": "code",
   "execution_count": 24,
   "id": "96a71d89",
   "metadata": {},
   "outputs": [
    {
     "name": "stdout",
     "output_type": "stream",
     "text": [
      "The best parameters are {'n_neighbors': 13, 'p': 1, 'weights': 'distance'} with a score of -0.06\n"
     ]
    }
   ],
   "source": [
    " parameter_space = [\n",
    "     {\n",
    "        'weights':['uniform'],\n",
    "         'n_neighbors':[i for i in range(1,14)]\n",
    "    },\n",
    "     {\n",
    "         'weights':['distance'],\n",
    "         'n_neighbors':[i for i in range(1,14)],\n",
    "         'p':[i for i in range(1,6)]\n",
    "     }\n",
    " ]\n",
    "grid = GridSearchCV(neighbors.KNeighborsRegressor(), parameter_space, cv=5)  \n",
    "grid.fit(train_X, train_y)  \n",
    "print(\"The best parameters are %s with a score of %0.2f\" %(grid.best_params_, grid.best_score_))"
   ]
  },
  {
   "cell_type": "code",
   "execution_count": 25,
   "id": "29431b34",
   "metadata": {},
   "outputs": [],
   "source": [
    "model_KNeighborsRegressor=neighbors.KNeighborsRegressor(n_neighbors=13, p=1, weights='distance')"
   ]
  },
  {
   "cell_type": "code",
   "execution_count": 26,
   "id": "22cca58f",
   "metadata": {},
   "outputs": [
    {
     "name": "stdout",
     "output_type": "stream",
     "text": [
      "[-0.07786514  0.00751911 -0.13053226 -0.19711731  0.07334268]\n"
     ]
    },
    {
     "data": {
      "text/plain": [
       "-0.06493058370904403"
      ]
     },
     "execution_count": 26,
     "metadata": {},
     "output_type": "execute_result"
    }
   ],
   "source": [
    "score=[]\n",
    "score=cross_val_score(model_KNeighborsRegressor,train_X,train_y,cv=5,scoring='r2')\n",
    "print(score)\n",
    "score.mean()"
   ]
  },
  {
   "cell_type": "markdown",
   "id": "3f8b5fcd",
   "metadata": {},
   "source": [
    "**调参结果对比**<br>\n",
    "\n",
    "| 模型 | 调参前 | 调参后 |\n",
    "|------|----------|------|\n",
    "| Adaboost回归  | 0.0789 | 0.1403   |\n",
    "| XGBOOST回归   | -0.2189 | 0.0603   |\n",
    "| LGBM回归     | -0.0217 | 0.1457    |\n",
    "| 神经网络回归  | -61.7015 | -0.0524 |\n",
    "| KNN回归 | -0.1619 | -0.0649 |\n"
   ]
  },
  {
   "cell_type": "markdown",
   "id": "5ba5c493",
   "metadata": {},
   "source": [
    "&emsp;从交叉验证的结果来看，部分组的分数远远低于其他组的分数。因此我认为部分组中可能存在异常值。但由于cross_val_score不会返回分组结果，因此无法直接对原因进行分析"
   ]
  },
  {
   "cell_type": "code",
   "execution_count": null,
   "id": "d1a96451",
   "metadata": {},
   "outputs": [],
   "source": []
  },
  {
   "cell_type": "markdown",
   "id": "557d0035",
   "metadata": {},
   "source": [
    "## 3 特征选择"
   ]
  },
  {
   "cell_type": "markdown",
   "id": "f89a3aad",
   "metadata": {},
   "source": [
    "&emsp;不考虑通过Polynomial Features构造 如$x^2$, $xy$等多项式特征，我觉得这种特征对于该问题没有意义，也不考虑对年限等进行取对数操作。"
   ]
  },
  {
   "cell_type": "markdown",
   "id": "cada052f",
   "metadata": {},
   "source": [
    "### 3.1 特征选择: Filter\n",
    "&emsp;&emsp;基本思路是通过统计学变量，计算自变量和目标变量之间的关联，选择相关性比较高的属性。常用的统计学变量和方法有相关系数，卡方检验，信息增益<br>"
   ]
  },
  {
   "cell_type": "markdown",
   "id": "06584b04",
   "metadata": {},
   "source": [
    "**相关系数**"
   ]
  },
  {
   "cell_type": "code",
   "execution_count": 10,
   "id": "85ec77ac",
   "metadata": {},
   "outputs": [
    {
     "data": {
      "text/plain": [
       "<AxesSubplot:>"
      ]
     },
     "execution_count": 10,
     "metadata": {},
     "output_type": "execute_result"
    },
    {
     "data": {
      "image/png": "[encoded data removed]",
      "text/plain": [
       "<Figure size 432x288 with 2 Axes>"
      ]
     },
     "metadata": {},
     "output_type": "display_data"
    }
   ],
   "source": [
    "# 用Seaborn 生成热图\n",
    "import seaborn as sns\n",
    "import matplotlib.style as style\n",
    "# 选用一个干净的主题\n",
    "style.use('fivethirtyeight')\n",
    "sns.heatmap(unique_risk.corr())"
   ]
  },
  {
   "cell_type": "code",
   "execution_count": 39,
   "id": "2cd24f2a",
   "metadata": {},
   "outputs": [
    {
     "data": {
      "text/plain": [
       "Index(['前三年承诺覆盖率', '动态市盈率', '成立年限', '净利润增长率', '固定资产周转率'], dtype='object')"
      ]
     },
     "execution_count": 39,
     "metadata": {},
     "output_type": "execute_result"
    }
   ],
   "source": [
    "# 存储特征\n",
    "highly_correlated_features =unique_risk.columns[unique_risk.corr()['Rc'].abs() > .2]\n",
    "highly_correlated_features=highly_correlated_features.drop('Rc') \n",
    "highly_correlated_features"
   ]
  },
  {
   "cell_type": "code",
   "execution_count": 40,
   "id": "55a49643",
   "metadata": {},
   "outputs": [],
   "source": [
    "new_data=train_data[['前三年承诺覆盖率', '动态市盈率', '成立年限', '净利润增长率', '固定资产周转率']]\n",
    "train_new_X=scaler.fit_transform(new_data)"
   ]
  },
  {
   "cell_type": "markdown",
   "id": "693860ee",
   "metadata": {},
   "source": [
    "**线性回归**"
   ]
  },
  {
   "cell_type": "code",
   "execution_count": 40,
   "id": "b35d8592",
   "metadata": {},
   "outputs": [
    {
     "name": "stdout",
     "output_type": "stream",
     "text": [
      "[ 0.00928273  0.10659351 -0.22917129  0.01439723  0.10522362]\n"
     ]
    },
    {
     "data": {
      "text/plain": [
       "0.001265161297745432"
      ]
     },
     "execution_count": 40,
     "metadata": {},
     "output_type": "execute_result"
    }
   ],
   "source": [
    "score=[]\n",
    "score=cross_val_score(model_LinearRegression,train_new_X,train_y,cv=5,scoring='r2')\n",
    "print(score)\n",
    "score.mean()"
   ]
  },
  {
   "cell_type": "markdown",
   "id": "9950f3cf",
   "metadata": {},
   "source": [
    "**岭回归**"
   ]
  },
  {
   "cell_type": "code",
   "execution_count": 41,
   "id": "c0d4203c",
   "metadata": {
    "scrolled": true
   },
   "outputs": [
    {
     "name": "stdout",
     "output_type": "stream",
     "text": [
      "[ 0.06780488  0.13702167  0.1157161  -0.04762181  0.44906259]\n"
     ]
    },
    {
     "data": {
      "text/plain": [
       "0.14439668666666622"
      ]
     },
     "execution_count": 41,
     "metadata": {},
     "output_type": "execute_result"
    }
   ],
   "source": [
    "score=[]\n",
    "score=cross_val_score(model_RidgeCV,train_new_X,train_y,cv=5,scoring='r2')\n",
    "print(score)\n",
    "score.mean()"
   ]
  },
  {
   "cell_type": "markdown",
   "id": "54c6b2f3",
   "metadata": {},
   "source": [
    "**KNN回归**"
   ]
  },
  {
   "cell_type": "code",
   "execution_count": 36,
   "id": "d8faf25d",
   "metadata": {},
   "outputs": [
    {
     "name": "stdout",
     "output_type": "stream",
     "text": [
      "The best parameters are {'n_neighbors': 13, 'p': 1, 'weights': 'distance'} with a score of 0.18\n"
     ]
    }
   ],
   "source": [
    " parameter_space = [\n",
    "     {\n",
    "        'weights':['uniform'],\n",
    "         'n_neighbors':[i for i in range(1,14)]\n",
    "    },\n",
    "     {\n",
    "         'weights':['distance'],\n",
    "         'n_neighbors':[i for i in range(1,14)],\n",
    "         'p':[i for i in range(1,6)]\n",
    "     }\n",
    " ]\n",
    "grid = GridSearchCV(neighbors.KNeighborsRegressor(), parameter_space, cv=5)  \n",
    "grid.fit(train_new_X, train_y)  \n",
    "print(\"The best parameters are %s with a score of %0.2f\" %(grid.best_params_, grid.best_score_))"
   ]
  },
  {
   "cell_type": "code",
   "execution_count": 38,
   "id": "532231b9",
   "metadata": {},
   "outputs": [
    {
     "name": "stdout",
     "output_type": "stream",
     "text": [
      "[ 0.16031727  0.23281976  0.30722912 -0.10287196  0.33889281]\n"
     ]
    },
    {
     "data": {
      "text/plain": [
       "0.18727739943411845"
      ]
     },
     "execution_count": 38,
     "metadata": {},
     "output_type": "execute_result"
    }
   ],
   "source": [
    "score=[]\n",
    "model_KNeighborsRegressor=neighbors.KNeighborsRegressor(n_neighbors=13, p=1, weights='uniform')\n",
    "score=cross_val_score(model_KNeighborsRegressor,train_new_X,train_y,cv=5,scoring='r2')\n",
    "print(score)\n",
    "score.mean()"
   ]
  },
  {
   "cell_type": "markdown",
   "id": "635bcdcd",
   "metadata": {},
   "source": [
    "**MLP神经网络**"
   ]
  },
  {
   "cell_type": "code",
   "execution_count": 93,
   "id": "3e2dc30b",
   "metadata": {},
   "outputs": [
    {
     "name": "stdout",
     "output_type": "stream",
     "text": [
      "The best parameters are {'activation': 'tanh', 'alpha': 0.0002, 'hidden_layer_sizes': (3, 3, 3), 'learning_rate': 'constant', 'solver': 'lbfgs'} with a score of 0.17\n"
     ]
    }
   ],
   "source": [
    "parameter_space = {\n",
    "    'hidden_layer_sizes': [(5,5,5),(3,3,3),(3,3,3,3)], \n",
    "    'activation': ['tanh', 'relu','logistic'],\n",
    "    'solver': ['sgd', 'adam','lbfgs'],\n",
    "    'alpha': [0.0001, 0.0002,0.0005],\n",
    "    'learning_rate': ['constant','adaptive'],\n",
    "}\n",
    "\n",
    "grid = GridSearchCV(MLPRegressor(random_state=23), parameter_space, cv=5)  \n",
    "grid.fit(train_new_X, train_y)  \n",
    "print(\"The best parameters are %s with a score of %0.2f\" %(grid.best_params_, grid.best_score_))"
   ]
  },
  {
   "cell_type": "code",
   "execution_count": 94,
   "id": "bed3a83f",
   "metadata": {},
   "outputs": [
    {
     "name": "stdout",
     "output_type": "stream",
     "text": [
      "[ 0.19703737  0.07417909 -0.0401558   0.22921233  0.40687539]\n"
     ]
    },
    {
     "data": {
      "text/plain": [
       "0.173429674960313"
      ]
     },
     "execution_count": 94,
     "metadata": {},
     "output_type": "execute_result"
    }
   ],
   "source": [
    "score=[]\n",
    "model_MLPRegressor=MLPRegressor(random_state=23,activation= 'tanh', alpha=0.0001, hidden_layer_sizes= (3,3,3), learning_rate='constant', solver= 'lbfgs')\n",
    "score=cross_val_score(model_MLPRegressor,train_new_X,train_y,cv=5,scoring='r2')\n",
    "print(score)\n",
    "score.mean()"
   ]
  },
  {
   "cell_type": "markdown",
   "id": "a25ad4c3",
   "metadata": {},
   "source": [
    "**LGBM回归**"
   ]
  },
  {
   "cell_type": "code",
   "execution_count": 95,
   "id": "888152db",
   "metadata": {},
   "outputs": [
    {
     "name": "stdout",
     "output_type": "stream",
     "text": [
      "The best parameters are {'cat_smooth': 0, 'max_depth': 4, 'min_child_samples': 30, 'min_child_weight': 0.001, 'num_leaves': 3} with a score of 0.04\n"
     ]
    }
   ],
   "source": [
    "from sklearn.model_selection import GridSearchCV  \n",
    "parameter_space = {\n",
    "    'max_depth': [1,4,8],\n",
    "    'num_leaves': [1,3,5],\n",
    "    'min_child_samples': [20,30,35],\n",
    "    'min_child_weight': [0.001,0.002],\n",
    "    'cat_smooth': [0,10] \n",
    "}\n",
    "\n",
    "grid = GridSearchCV(lgb.LGBMRegressor(), parameter_space, cv=5)  \n",
    "grid.fit(train_new_X, train_y)  \n",
    "print(\"The best parameters are %s with a score of %0.2f\" %(grid.best_params_, grid.best_score_))"
   ]
  },
  {
   "cell_type": "code",
   "execution_count": 97,
   "id": "86e52073",
   "metadata": {},
   "outputs": [
    {
     "name": "stdout",
     "output_type": "stream",
     "text": [
      "[-0.025027    0.11711942  0.10916168 -0.3444433   0.366358  ]\n"
     ]
    },
    {
     "data": {
      "text/plain": [
       "0.04463376090215447"
      ]
     },
     "execution_count": 97,
     "metadata": {},
     "output_type": "execute_result"
    }
   ],
   "source": [
    "from sklearn import tree\n",
    "model_LGBM=lgb.LGBMRegressor(cat_smooth=0, max_depth=4, min_child_samples=30, min_child_weight=0.001, num_leaves=3)\n",
    "score=[]\n",
    "score=cross_val_score(model_LGBM,train_new_X,train_y,cv=5,scoring='r2')\n",
    "print(score)\n",
    "score.mean()"
   ]
  },
  {
   "cell_type": "markdown",
   "id": "d09ad399",
   "metadata": {},
   "source": [
    "**XGBoost回归**"
   ]
  },
  {
   "cell_type": "code",
   "execution_count": 98,
   "id": "8337806b",
   "metadata": {},
   "outputs": [
    {
     "name": "stdout",
     "output_type": "stream",
     "text": [
      "The best parameters are {'eta': 0.1, 'gamma': 0, 'max_depth': 1, 'min_child_weight': 1} with a score of 0.06\n"
     ]
    }
   ],
   "source": [
    "from sklearn.model_selection import GridSearchCV  \n",
    "parameter_space = {\n",
    "    'eta': [0.1, 0.2, 0.3],\n",
    "    'gamma':[0,1],\n",
    "    'max_depth': [1, 3, 6],\n",
    "    'min_child_weight': [1, 10]\n",
    "}\n",
    "\n",
    "grid = GridSearchCV(xgb.XGBRegressor(), parameter_space, cv=5)  \n",
    "grid.fit(train_new_X, train_y)  \n",
    "print(\"The best parameters are %s with a score of %0.2f\" %(grid.best_params_, grid.best_score_))"
   ]
  },
  {
   "cell_type": "code",
   "execution_count": 100,
   "id": "f2356eef",
   "metadata": {},
   "outputs": [
    {
     "name": "stdout",
     "output_type": "stream",
     "text": [
      "[ 1.04079401e-04  6.41916054e-02 -2.27708362e-02 -2.84638564e-01\n",
      "  5.25140296e-01]\n"
     ]
    },
    {
     "data": {
      "text/plain": [
       "0.05640531605645267"
      ]
     },
     "execution_count": 100,
     "metadata": {},
     "output_type": "execute_result"
    }
   ],
   "source": [
    "from sklearn import tree\n",
    "model_XGBRegressor=xgb.XGBRegressor(eta=0.1, gamma=0, max_depth=1, min_child_weight=1)\n",
    "score=[]\n",
    "score=cross_val_score(model_XGBRegressor,train_new_X,train_y,cv=5,scoring='r2')\n",
    "print(score)\n",
    "score.mean()"
   ]
  },
  {
   "cell_type": "markdown",
   "id": "13332b73",
   "metadata": {},
   "source": [
    "**AdaBoost回归**"
   ]
  },
  {
   "cell_type": "code",
   "execution_count": 182,
   "id": "fe5b9869",
   "metadata": {},
   "outputs": [
    {
     "name": "stdout",
     "output_type": "stream",
     "text": [
      "The best parameters are {'base_estimator': MLPRegressor(activation='tanh', hidden_layer_sizes=(3, 3, 3), random_state=23,\n",
      "             solver='lbfgs'), 'learning_rate': 0.3, 'n_estimators': 15} with a score of 0.19\n"
     ]
    }
   ],
   "source": [
    "from sklearn.model_selection import GridSearchCV  \n",
    "parameter_space = {\n",
    "    'base_estimator':[tree.DecisionTreeRegressor(max_depth=3),model_RidgeCV,Ada_MLP],\n",
    "    'n_estimators':[10,15,20],\n",
    "    'learning_rate':[0.3,0.5,0.8]\n",
    "}\n",
    "\n",
    "grid = GridSearchCV(ensemble.AdaBoostRegressor(random_state=23), parameter_space, cv=5)  \n",
    "grid.fit(train_new_X, train_y)  \n",
    "print(\"The best parameters are %s with a score of %0.2f\" %(grid.best_params_, grid.best_score_))"
   ]
  },
  {
   "cell_type": "code",
   "execution_count": 183,
   "id": "76f948e7",
   "metadata": {},
   "outputs": [
    {
     "name": "stdout",
     "output_type": "stream",
     "text": [
      "[ 0.01093179  0.22512656  0.24261708 -0.05963419  0.51229208]\n"
     ]
    },
    {
     "data": {
      "text/plain": [
       "0.1862666637986496"
      ]
     },
     "execution_count": 183,
     "metadata": {},
     "output_type": "execute_result"
    }
   ],
   "source": [
    "from sklearn import tree\n",
    "model_AdaBoostRegressor=ensemble.AdaBoostRegressor(random_state=23,base_estimator=Ada_MLP, learning_rate=0.3, n_estimators= 15)\n",
    "score=[]\n",
    "score=cross_val_score(model_AdaBoostRegressor,train_new_X,train_y,cv=5,scoring='r2')\n",
    "print(score)\n",
    "score.mean()"
   ]
  },
  {
   "cell_type": "markdown",
   "id": "e88e5ecb",
   "metadata": {},
   "source": [
    "**假设检验**"
   ]
  },
  {
   "cell_type": "code",
   "execution_count": 184,
   "id": "ea8415a7",
   "metadata": {},
   "outputs": [],
   "source": [
    "#ANOVA测试\n",
    "from sklearn.feature_selection import f_regression\n",
    "from sklearn.feature_selection import SelectKBest"
   ]
  },
  {
   "cell_type": "code",
   "execution_count": 185,
   "id": "54a14e37",
   "metadata": {},
   "outputs": [],
   "source": [
    "#保留一半，14个特征\n",
    "k_best=SelectKBest(f_regression, k=14)"
   ]
  },
  {
   "cell_type": "code",
   "execution_count": 186,
   "id": "9821b85d",
   "metadata": {},
   "outputs": [],
   "source": [
    "k_best.fit_transform(train_X, train_y);"
   ]
  },
  {
   "cell_type": "code",
   "execution_count": 187,
   "id": "23b603ca",
   "metadata": {},
   "outputs": [],
   "source": [
    "p_values=pd.DataFrame({'Column': columns,'p_value':k_best.pvalues_}).sort_values('p_value')"
   ]
  },
  {
   "cell_type": "code",
   "execution_count": 188,
   "id": "f17e4f1d",
   "metadata": {},
   "outputs": [
    {
     "data": {
      "text/html": [
       "<div>\n",
       "<style scoped>\n",
       "    .dataframe tbody tr th:only-of-type {\n",
       "        vertical-align: middle;\n",
       "    }\n",
       "\n",
       "    .dataframe tbody tr th {\n",
       "        vertical-align: top;\n",
       "    }\n",
       "\n",
       "    .dataframe thead th {\n",
       "        text-align: right;\n",
       "    }\n",
       "</style>\n",
       "<table border=\"1\" class=\"dataframe\">\n",
       "  <thead>\n",
       "    <tr style=\"text-align: right;\">\n",
       "      <th></th>\n",
       "      <th>Column</th>\n",
       "      <th>p_value</th>\n",
       "    </tr>\n",
       "  </thead>\n",
       "  <tbody>\n",
       "    <tr>\n",
       "      <th>3</th>\n",
       "      <td>前三年承诺覆盖率</td>\n",
       "      <td>0.000220</td>\n",
       "    </tr>\n",
       "    <tr>\n",
       "      <th>6</th>\n",
       "      <td>成立年限</td>\n",
       "      <td>0.000546</td>\n",
       "    </tr>\n",
       "    <tr>\n",
       "      <th>14</th>\n",
       "      <td>净利润增长率</td>\n",
       "      <td>0.001216</td>\n",
       "    </tr>\n",
       "    <tr>\n",
       "      <th>18</th>\n",
       "      <td>固定资产周转率</td>\n",
       "      <td>0.002355</td>\n",
       "    </tr>\n",
       "    <tr>\n",
       "      <th>5</th>\n",
       "      <td>动态市盈率</td>\n",
       "      <td>0.004184</td>\n",
       "    </tr>\n",
       "    <tr>\n",
       "      <th>15</th>\n",
       "      <td>总资产周转率</td>\n",
       "      <td>0.040629</td>\n",
       "    </tr>\n",
       "    <tr>\n",
       "      <th>13</th>\n",
       "      <td>归母权益增长率</td>\n",
       "      <td>0.046219</td>\n",
       "    </tr>\n",
       "  </tbody>\n",
       "</table>\n",
       "</div>"
      ],
      "text/plain": [
       "      Column   p_value\n",
       "3   前三年承诺覆盖率  0.000220\n",
       "6       成立年限  0.000546\n",
       "14    净利润增长率  0.001216\n",
       "18   固定资产周转率  0.002355\n",
       "5      动态市盈率  0.004184\n",
       "15    总资产周转率  0.040629\n",
       "13   归母权益增长率  0.046219"
      ]
     },
     "execution_count": 188,
     "metadata": {},
     "output_type": "execute_result"
    }
   ],
   "source": [
    "p_values[p_values['p_value']<.05]"
   ]
  },
  {
   "cell_type": "code",
   "execution_count": 41,
   "id": "e400b7c8",
   "metadata": {},
   "outputs": [],
   "source": [
    "train_new_data=train_data[[\"前三年承诺覆盖率\", \"成立年限\", \"净利润增长率\", \"固定资产周转率\", \"动态市盈率\", \"总资产周转率\", \"归母权益增长率\"]]\n",
    "train_new_X=scaler.fit_transform(train_new_data)"
   ]
  },
  {
   "cell_type": "code",
   "execution_count": null,
   "id": "608a4f8e",
   "metadata": {},
   "outputs": [],
   "source": []
  },
  {
   "cell_type": "markdown",
   "id": "e424bbab",
   "metadata": {},
   "source": [
    "**线性回归**"
   ]
  },
  {
   "cell_type": "code",
   "execution_count": 109,
   "id": "7051e2a1",
   "metadata": {},
   "outputs": [
    {
     "data": {
      "text/plain": [
       "0.12878605696975773"
      ]
     },
     "execution_count": 109,
     "metadata": {},
     "output_type": "execute_result"
    }
   ],
   "source": [
    "score=[]\n",
    "score=cross_val_score(model_LinearRegression,train_new_X,train_y,cv=5,scoring='r2')\n",
    "score.mean()"
   ]
  },
  {
   "cell_type": "markdown",
   "id": "58801f4d",
   "metadata": {},
   "source": [
    "**岭回归**"
   ]
  },
  {
   "cell_type": "code",
   "execution_count": 110,
   "id": "619cc77b",
   "metadata": {},
   "outputs": [
    {
     "data": {
      "text/plain": [
       "0.1552500085397836"
      ]
     },
     "execution_count": 110,
     "metadata": {},
     "output_type": "execute_result"
    }
   ],
   "source": [
    "score=[]\n",
    "score=cross_val_score(model_RidgeCV,train_new_X,train_y,cv=5,scoring='r2')\n",
    "score.mean()"
   ]
  },
  {
   "cell_type": "markdown",
   "id": "8180e472",
   "metadata": {},
   "source": [
    "**KNN回归**"
   ]
  },
  {
   "cell_type": "code",
   "execution_count": 47,
   "id": "b439e7e0",
   "metadata": {},
   "outputs": [
    {
     "name": "stdout",
     "output_type": "stream",
     "text": [
      "The best parameters are {'n_neighbors': 12, 'p': 1, 'weights': 'distance'} with a score of 0.13\n"
     ]
    }
   ],
   "source": [
    " parameter_space = [\n",
    "     {\n",
    "        'weights':['uniform'],\n",
    "         'n_neighbors':[i for i in range(1,14)]\n",
    "    },\n",
    "     {\n",
    "         'weights':['distance'],\n",
    "         'n_neighbors':[i for i in range(1,14)],\n",
    "         'p':[i for i in range(1,6)]\n",
    "     }\n",
    " ]\n",
    "grid = GridSearchCV(neighbors.KNeighborsRegressor(), parameter_space, cv=5)  \n",
    "grid.fit(train_new_X, train_y)  \n",
    "print(\"The best parameters are %s with a score of %0.2f\" %(grid.best_params_, grid.best_score_))"
   ]
  },
  {
   "cell_type": "code",
   "execution_count": 46,
   "id": "8a7cab86",
   "metadata": {},
   "outputs": [
    {
     "name": "stdout",
     "output_type": "stream",
     "text": [
      "[ 0.22957916  0.13366516  0.20641212 -0.28128246  0.36431609]\n"
     ]
    },
    {
     "data": {
      "text/plain": [
       "0.13053801386674974"
      ]
     },
     "execution_count": 46,
     "metadata": {},
     "output_type": "execute_result"
    }
   ],
   "source": [
    "score=[]\n",
    "model_KNeighborsRegressor=neighbors.KNeighborsRegressor(n_neighbors=12, p=1, weights='uniform')\n",
    "score=cross_val_score(model_KNeighborsRegressor,train_new_X,train_y,cv=5,scoring='r2')\n",
    "print(score)\n",
    "score.mean()"
   ]
  },
  {
   "cell_type": "markdown",
   "id": "a02d3f71",
   "metadata": {},
   "source": [
    "**MLP神经网络**"
   ]
  },
  {
   "cell_type": "code",
   "execution_count": 111,
   "id": "9534a45f",
   "metadata": {},
   "outputs": [
    {
     "name": "stdout",
     "output_type": "stream",
     "text": [
      "The best parameters are {'activation': 'relu', 'alpha': 0.0002, 'hidden_layer_sizes': (5, 5, 5), 'learning_rate': 'constant', 'solver': 'lbfgs'} with a score of 0.22\n"
     ]
    }
   ],
   "source": [
    "from sklearn.model_selection import GridSearchCV  \n",
    "parameter_space = {\n",
    "    'hidden_layer_sizes': [(5,5,5),(3,3,3),(3,3,3,3)], \n",
    "    'activation': ['tanh', 'relu','logistic'],\n",
    "    'solver': ['sgd', 'adam','lbfgs'],\n",
    "    'alpha': [0.0001, 0.0002,0.0005],\n",
    "    'learning_rate': ['constant','adaptive'],\n",
    "}\n",
    "\n",
    "grid = GridSearchCV(MLPRegressor(random_state=23), parameter_space, cv=5)  \n",
    "grid.fit(train_new_X, train_y)  \n",
    "print(\"The best parameters are %s with a score of %0.2f\" %(grid.best_params_, grid.best_score_))"
   ]
  },
  {
   "cell_type": "code",
   "execution_count": 118,
   "id": "07b98e6f",
   "metadata": {},
   "outputs": [
    {
     "name": "stdout",
     "output_type": "stream",
     "text": [
      "[0.13134302 0.18476033 0.19045285 0.0558244  0.53435174]\n"
     ]
    },
    {
     "data": {
      "text/plain": [
       "0.21934646772485095"
      ]
     },
     "execution_count": 118,
     "metadata": {},
     "output_type": "execute_result"
    }
   ],
   "source": [
    "model_MLPRegressor=MLPRegressor(random_state=23,activation='relu', alpha= 0.0002, hidden_layer_sizes= (5, 5, 5), learning_rate= 'constant', solver= 'lbfgs')\n",
    "score=[]\n",
    "score=cross_val_score(model_MLPRegressor,train_new_X,train_y,cv=5,scoring='r2')\n",
    "print(score)\n",
    "score.mean()"
   ]
  },
  {
   "cell_type": "markdown",
   "id": "f60b1ee4",
   "metadata": {},
   "source": [
    "**LGBM回归**"
   ]
  },
  {
   "cell_type": "code",
   "execution_count": 113,
   "id": "6acfc8c6",
   "metadata": {},
   "outputs": [
    {
     "name": "stdout",
     "output_type": "stream",
     "text": [
      "The best parameters are {'cat_smooth': 0, 'max_depth': 1, 'min_child_samples': 40, 'min_child_weight': 0.001, 'num_leaves': 3} with a score of 0.08\n"
     ]
    }
   ],
   "source": [
    "from sklearn.model_selection import GridSearchCV  \n",
    "parameter_space = {\n",
    "    'max_depth': [1,4],\n",
    "    'num_leaves': [1,3,10],\n",
    "    'min_child_samples': [30,40,50],\n",
    "    'min_child_weight': [0.001,0.002],\n",
    "    'cat_smooth': [0,10] \n",
    "}\n",
    "\n",
    "grid = GridSearchCV(lgb.LGBMRegressor(), parameter_space, cv=5)  \n",
    "grid.fit(train_new_X, train_y)  \n",
    "print(\"The best parameters are %s with a score of %0.2f\" %(grid.best_params_, grid.best_score_))"
   ]
  },
  {
   "cell_type": "code",
   "execution_count": 114,
   "id": "b9ac5400",
   "metadata": {},
   "outputs": [
    {
     "name": "stdout",
     "output_type": "stream",
     "text": [
      "[ 0.12500515  0.09547008  0.23955858 -0.39633622  0.33178057]\n"
     ]
    },
    {
     "data": {
      "text/plain": [
       "0.07909563324748807"
      ]
     },
     "execution_count": 114,
     "metadata": {},
     "output_type": "execute_result"
    }
   ],
   "source": [
    "model_LGBMRegressor=lgb.LGBMRegressor(random_state=23,cat_smooth=0, max_depth=1, min_child_samples=40, min_child_weight=0.001, num_leaves= 3)\n",
    "score=[]\n",
    "score=cross_val_score(model_LGBMRegressor,train_new_X,train_y,cv=5,scoring='r2')\n",
    "print(score)\n",
    "score.mean()"
   ]
  },
  {
   "cell_type": "markdown",
   "id": "fab69b04",
   "metadata": {},
   "source": [
    "**XGBoost回归**"
   ]
  },
  {
   "cell_type": "code",
   "execution_count": 115,
   "id": "30a7f9f2",
   "metadata": {},
   "outputs": [
    {
     "name": "stdout",
     "output_type": "stream",
     "text": [
      "The best parameters are {'eta': 0.1, 'gamma': 0, 'max_depth': 1, 'min_child_weight': 1} with a score of 0.07\n"
     ]
    }
   ],
   "source": [
    "from sklearn.model_selection import GridSearchCV  \n",
    "parameter_space = {\n",
    "    'eta': [0.1, 0.2],\n",
    "    'gamma':[0,1,10],\n",
    "    'max_depth': [1,3, 6],\n",
    "    'min_child_weight': [1, 10]\n",
    "}\n",
    "\n",
    "\n",
    "grid = GridSearchCV(xgb.XGBRegressor(), parameter_space, cv=5)  \n",
    "grid.fit(train_new_X, train_y)  \n",
    "print(\"The best parameters are %s with a score of %0.2f\" %(grid.best_params_, grid.best_score_))"
   ]
  },
  {
   "cell_type": "code",
   "execution_count": 116,
   "id": "4ebfd1bd",
   "metadata": {},
   "outputs": [
    {
     "name": "stdout",
     "output_type": "stream",
     "text": [
      "[-0.00180847  0.09033975  0.04544565 -0.27383063  0.49896364]\n"
     ]
    },
    {
     "data": {
      "text/plain": [
       "0.07182198821160175"
      ]
     },
     "execution_count": 116,
     "metadata": {},
     "output_type": "execute_result"
    }
   ],
   "source": [
    "from sklearn import tree\n",
    "model_XGBRegressor=xgb.XGBRegressor(random_state=23,eta=0.1, gamma=0, max_depth=1, min_child_weight=1)\n",
    "score=[]\n",
    "score=cross_val_score(model_XGBRegressor,train_new_X,train_y,cv=5,scoring='r2')\n",
    "print(score)\n",
    "score.mean()"
   ]
  },
  {
   "cell_type": "markdown",
   "id": "d995df31",
   "metadata": {},
   "source": [
    "**AdaBoost回归**"
   ]
  },
  {
   "cell_type": "code",
   "execution_count": 191,
   "id": "3411f6db",
   "metadata": {},
   "outputs": [
    {
     "name": "stdout",
     "output_type": "stream",
     "text": [
      "The best parameters are {'base_estimator': MLPRegressor(activation='tanh', hidden_layer_sizes=(3, 3, 3), random_state=23,\n",
      "             solver='lbfgs'), 'learning_rate': 0.1, 'n_estimators': 20} with a score of 0.16\n"
     ]
    }
   ],
   "source": [
    "from sklearn.model_selection import GridSearchCV  \n",
    "parameter_space = {\n",
    "    'base_estimator':[tree.DecisionTreeRegressor(max_depth=3),model_RidgeCV,Ada_MLP],\n",
    "    'n_estimators':[15,20,25],\n",
    "    'learning_rate':[0.001,0.1,0.3]\n",
    "}\n",
    "\n",
    "grid = GridSearchCV(ensemble.AdaBoostRegressor(random_state=23), parameter_space, cv=5)  \n",
    "grid.fit(train_new_X, train_y)  \n",
    "print(\"The best parameters are %s with a score of %0.2f\" %(grid.best_params_, grid.best_score_))"
   ]
  },
  {
   "cell_type": "code",
   "execution_count": 193,
   "id": "4a5b5bda",
   "metadata": {},
   "outputs": [
    {
     "name": "stdout",
     "output_type": "stream",
     "text": [
      "[ 0.14615462  0.1506935   0.1863582  -0.06621946  0.38797684]\n"
     ]
    },
    {
     "data": {
      "text/plain": [
       "0.1609927389816905"
      ]
     },
     "execution_count": 193,
     "metadata": {},
     "output_type": "execute_result"
    }
   ],
   "source": [
    "from sklearn import tree\n",
    "model_AdaBoostRegressor=ensemble.AdaBoostRegressor(random_state=23,base_estimator=Ada_MLP, learning_rate=0.1, n_estimators= 20)\n",
    "score=[]\n",
    "score=cross_val_score(model_AdaBoostRegressor,train_new_X,train_y,cv=5,scoring='r2')\n",
    "print(score)\n",
    "score.mean()"
   ]
  },
  {
   "cell_type": "code",
   "execution_count": null,
   "id": "a746e2d4",
   "metadata": {},
   "outputs": [],
   "source": []
  },
  {
   "cell_type": "markdown",
   "id": "3297b7e5",
   "metadata": {},
   "source": [
    "**互信息法**"
   ]
  },
  {
   "cell_type": "markdown",
   "id": "e700aec6",
   "metadata": {},
   "source": [
    "仅记录该方法，后续步骤和上述步骤相同"
   ]
  },
  {
   "cell_type": "code",
   "execution_count": 127,
   "id": "4400b82c",
   "metadata": {},
   "outputs": [],
   "source": [
    "from sklearn.feature_selection import mutual_info_regression\n",
    "from sklearn.feature_selection import SelectKBest"
   ]
  },
  {
   "cell_type": "code",
   "execution_count": 128,
   "id": "ecccdda7",
   "metadata": {},
   "outputs": [],
   "source": [
    "muta_score=mutual_info_regression(train_X, train_y,discrete_features=False, random_state=0).tolist()"
   ]
  },
  {
   "cell_type": "code",
   "execution_count": 134,
   "id": "3d24238c",
   "metadata": {},
   "outputs": [],
   "source": [
    "feature_importances_value=pd.DataFrame({'Feature': columns,'feature_importances':muta_score}).sort_values('feature_importances',ascending=False)."
   ]
  },
  {
   "cell_type": "code",
   "execution_count": 138,
   "id": "adaed79a",
   "metadata": {},
   "outputs": [
    {
     "data": {
      "text/html": [
       "<div>\n",
       "<style scoped>\n",
       "    .dataframe tbody tr th:only-of-type {\n",
       "        vertical-align: middle;\n",
       "    }\n",
       "\n",
       "    .dataframe tbody tr th {\n",
       "        vertical-align: top;\n",
       "    }\n",
       "\n",
       "    .dataframe thead th {\n",
       "        text-align: right;\n",
       "    }\n",
       "</style>\n",
       "<table border=\"1\" class=\"dataframe\">\n",
       "  <thead>\n",
       "    <tr style=\"text-align: right;\">\n",
       "      <th></th>\n",
       "      <th>Feature</th>\n",
       "      <th>feature_importances</th>\n",
       "    </tr>\n",
       "  </thead>\n",
       "  <tbody>\n",
       "    <tr>\n",
       "      <th>5</th>\n",
       "      <td>动态市盈率</td>\n",
       "      <td>0.179917</td>\n",
       "    </tr>\n",
       "    <tr>\n",
       "      <th>14</th>\n",
       "      <td>净利润增长率</td>\n",
       "      <td>0.165991</td>\n",
       "    </tr>\n",
       "    <tr>\n",
       "      <th>20</th>\n",
       "      <td>资产负债率</td>\n",
       "      <td>0.126520</td>\n",
       "    </tr>\n",
       "    <tr>\n",
       "      <th>2</th>\n",
       "      <td>承诺期业绩增长率</td>\n",
       "      <td>0.107705</td>\n",
       "    </tr>\n",
       "    <tr>\n",
       "      <th>22</th>\n",
       "      <td>（固定资产+土地）/归母权益</td>\n",
       "      <td>0.084021</td>\n",
       "    </tr>\n",
       "    <tr>\n",
       "      <th>3</th>\n",
       "      <td>前三年承诺覆盖率</td>\n",
       "      <td>0.079453</td>\n",
       "    </tr>\n",
       "    <tr>\n",
       "      <th>19</th>\n",
       "      <td>流动比率</td>\n",
       "      <td>0.066557</td>\n",
       "    </tr>\n",
       "    <tr>\n",
       "      <th>7</th>\n",
       "      <td>大股东持股比例</td>\n",
       "      <td>0.065711</td>\n",
       "    </tr>\n",
       "    <tr>\n",
       "      <th>21</th>\n",
       "      <td>经营杠杆（EBITDA/EBIT)</td>\n",
       "      <td>0.064221</td>\n",
       "    </tr>\n",
       "    <tr>\n",
       "      <th>6</th>\n",
       "      <td>成立年限</td>\n",
       "      <td>0.048322</td>\n",
       "    </tr>\n",
       "    <tr>\n",
       "      <th>18</th>\n",
       "      <td>固定资产周转率</td>\n",
       "      <td>0.037975</td>\n",
       "    </tr>\n",
       "    <tr>\n",
       "      <th>8</th>\n",
       "      <td>最近一个完整会计年度对第一大客户的销售占比</td>\n",
       "      <td>0.032967</td>\n",
       "    </tr>\n",
       "    <tr>\n",
       "      <th>27</th>\n",
       "      <td>研发支出占比</td>\n",
       "      <td>0.032355</td>\n",
       "    </tr>\n",
       "    <tr>\n",
       "      <th>12</th>\n",
       "      <td>总资产增长率</td>\n",
       "      <td>0.029752</td>\n",
       "    </tr>\n",
       "    <tr>\n",
       "      <th>23</th>\n",
       "      <td>在建工程/归母权益</td>\n",
       "      <td>0.026824</td>\n",
       "    </tr>\n",
       "    <tr>\n",
       "      <th>4</th>\n",
       "      <td>静态市盈率</td>\n",
       "      <td>0.023475</td>\n",
       "    </tr>\n",
       "    <tr>\n",
       "      <th>15</th>\n",
       "      <td>总资产周转率</td>\n",
       "      <td>0.010700</td>\n",
       "    </tr>\n",
       "  </tbody>\n",
       "</table>\n",
       "</div>"
      ],
      "text/plain": [
       "                  Feature  feature_importances\n",
       "5                   动态市盈率             0.179917\n",
       "14                 净利润增长率             0.165991\n",
       "20                  资产负债率             0.126520\n",
       "2                承诺期业绩增长率             0.107705\n",
       "22         （固定资产+土地）/归母权益             0.084021\n",
       "3                前三年承诺覆盖率             0.079453\n",
       "19                   流动比率             0.066557\n",
       "7                 大股东持股比例             0.065711\n",
       "21      经营杠杆（EBITDA/EBIT)             0.064221\n",
       "6                    成立年限             0.048322\n",
       "18                固定资产周转率             0.037975\n",
       "8   最近一个完整会计年度对第一大客户的销售占比             0.032967\n",
       "27                 研发支出占比             0.032355\n",
       "12                 总资产增长率             0.029752\n",
       "23              在建工程/归母权益             0.026824\n",
       "4                   静态市盈率             0.023475\n",
       "15                 总资产周转率             0.010700"
      ]
     },
     "execution_count": 138,
     "metadata": {},
     "output_type": "execute_result"
    }
   ],
   "source": [
    "feature_importances_value[feature_importances_value[\"feature_importances\"]>0]"
   ]
  },
  {
   "cell_type": "code",
   "execution_count": null,
   "id": "78f1428e",
   "metadata": {},
   "outputs": [],
   "source": []
  },
  {
   "cell_type": "markdown",
   "id": "1d286f4b",
   "metadata": {},
   "source": [
    "\n",
    "**特征选择结果对比**<br>\n",
    "\n",
    "&emsp;相关系数选择结果: 前三年承诺覆盖率, 动态市盈率, 成立年限, 净利润增长率, 固定资产周转率<br>\n",
    "&emsp;P值选择结果：    前三年承诺覆盖率, 成立年限, 净利润增长率, 固定资产周转率, 动态市盈率, 总资产周转率, 归母权益增长率<br>\n",
    "\n",
    "\n",
    "\n",
    "| 模型 | 特征选择前 | 相关系数特征选择 | P值特征选择|\n",
    "|------|----------|------| ------|\n",
    "|线性回归|  -1.7671\t| 0.0012 | 0.1288 |\n",
    "|岭回归 | -0.0921 | 0.1443 | 0.1552 |\n",
    "| Adaboost回归  | 0.1403 | 0.1863   | 0.1610 |\n",
    "| XGBOOST回归   | 0.0603 | 0.0564  | 0.0718 |\n",
    "| LGBM回归     | 0.1457 |  0.0446   | 0.0791 |\n",
    "| 神经网络回归  | -0.0524 | 0.1734 | 0.2193 |\n",
    "|KNN回归| -0.0649 | 0.1872 |0.1305|\n"
   ]
  },
  {
   "cell_type": "markdown",
   "id": "25826022",
   "metadata": {},
   "source": [
    "&emsp;除LGBM模型外，其他模型在进行特征选择后效果有提升。一般来说，通过P值检验法进行特征选择的模型得分比相关性特征选择的得分高。<br>\n",
    "&emsp;前三年承诺覆盖率, 成立年限, 净利润增长率, 固定资产周转率, 动态市盈率, 总资产周转率, 归母权益增长率是选择法的结果"
   ]
  },
  {
   "cell_type": "markdown",
   "id": "f810ebc9",
   "metadata": {},
   "source": [
    "### 3.2 特征选择：Wrapper\n",
    "思路：通过目标函数来决定是否加入一个变量。"
   ]
  },
  {
   "cell_type": "markdown",
   "id": "55087a7f",
   "metadata": {},
   "source": [
    "**最佳子集回归（Best Subset Regression）**<br>\n",
    "&emsp;通过遍历所有可能的组合，找出最好的特征组合。<br>\n",
    "由于 $C_{n}^{1}+C_{n}^{2}+C_{n}^{3}+ ... +C_{n}^{n}=2^n$  &emsp; 因此对于具有大量属性(20个以上，2^20=1048576，建议跑分布式解决)的问题，这个方法并不适用。"
   ]
  },
  {
   "cell_type": "code",
   "execution_count": null,
   "id": "ec0d1a2b",
   "metadata": {},
   "outputs": [],
   "source": [
    "#不运行\n",
    "results = pd.DataFrame(columns=['num_features', 'features', 'R2'])\n",
    "\n",
    "\n",
    "for k in range(1, X_train.shape[1] + 1):\n",
    "    for subset in itertools.combinations(range(X_train.shape[1]), k):\n",
    "        linreg_model = LinearRegression.fit(X_train[:, subset], y_train)\n",
    "        score = linreg_model.score(X_train[:, subset],y_train)\n",
    "        results = results.append(pd.DataFrame([{'num_features': k, 'features': subset,'R2': score}]))\n",
    "\n",
    "# 根据R^2的值进行排序\n",
    "results = results.sort_values('R2').reset_index()\n",
    "print(results.head())\n",
    "\n",
    "# 拟合最优模型\n",
    "\n",
    "# get corresponding feature describe\n",
    "feature_describe = data.columns.tolist()[1:-2]\n",
    "best_subset_feature_index = results['features'][0]\n",
    "best_subset_feature_describe = []\n",
    "for index in best_subset_feature_index:\n",
    "    best_subset_feature_describe.append(feature_describe[index])\n",
    "\n",
    "\n",
    "best_subset_model = LinearRegression(normalize=True).fit(X_train[:, results['features'][0]], y_train)\n",
    "best_subset_coefs = dict(\n",
    "    zip(['Intercept'] + best_subset_feature_describe,\n",
    "        np.round(np.concatenate((best_subset_model.intercept_, best_subset_model.coef_), axis=None), 3))\n",
    ")\n",
    "\n",
    "print('Best Subset Regression R2: {}'.format(np.round(results['R2'][0], 3)))\n",
    "print('Best Subset Regression coefficients:', best_subset_coefs)"
   ]
  },
  {
   "cell_type": "code",
   "execution_count": null,
   "id": "a074d795",
   "metadata": {},
   "outputs": [],
   "source": []
  },
  {
   "cell_type": "markdown",
   "id": "9a18fa49",
   "metadata": {},
   "source": [
    "**feature_selection.RFECV，递归特征消除法**<BR>\n",
    "&emsp;递归特征删除法,不断训练模型，每次训练完毕删除掉n个重要性低的特征，然后对新的特征再次进行训练，又一次得到特征重要性，再次删除n个重要性低的特征，直到特征数满足自己的设定。通过交叉验证来找到最优的特征数量，这里的交叉验证与我们经常见到的不同，不是不同行组合然后求平均，而是不同列的组合求均值，得到最优的特征数量。如果减少特征会造成性能损失，那么将不会去除任何特征。<br>\n",
    "&emsp;需要指出的是，由于无法证明特征选择的结果具有最优子结构性质，因此这种基于贪心算法的特征选择方法只能保证获得局部最优，无法保证获取全局最优。进一步的改进方法为基于遗传算法，设置多组特征集和随机数，选择最优解。"
   ]
  },
  {
   "cell_type": "markdown",
   "id": "813a04ce",
   "metadata": {},
   "source": [
    "**线性回归回归**"
   ]
  },
  {
   "cell_type": "code",
   "execution_count": 111,
   "id": "e721f683",
   "metadata": {},
   "outputs": [
    {
     "name": "stdout",
     "output_type": "stream",
     "text": [
      "1\n"
     ]
    }
   ],
   "source": [
    "#对于线性回归通过RFECV进行特征选择\n",
    "from sklearn.feature_selection import RFECV\n",
    "from sklearn import ensemble\n",
    "\n",
    "estimator =model_LinearRegression\n",
    "\n",
    "# 5折交叉\n",
    "selector = RFECV(estimator, step=1, cv=5,scoring='r2')\n",
    "selector = selector.fit(train_X, train_y)\n",
    "\n",
    "# 哪些特征入选最后特征，true表示入选\n",
    "#print(selector.support_)\n",
    "# 每个特征的得分排名，特征得分越低（1最好），表示特征越好\n",
    "#print(selector.ranking_)\n",
    "# 每次交叉迭代各个特征得分\n",
    "#print(selector.grid_scores_)\n",
    "\n",
    "#  挑选了几个特征\n",
    "print(selector.n_features_)"
   ]
  },
  {
   "cell_type": "code",
   "execution_count": 112,
   "id": "68653568",
   "metadata": {},
   "outputs": [],
   "source": [
    "selected_feature=[]\n",
    "for i in range(len(selector.support_)):\n",
    "    if selector.support_[i]:\n",
    "        selected_feature.append(feature_dict[i])"
   ]
  },
  {
   "cell_type": "code",
   "execution_count": 113,
   "id": "a86b6b03",
   "metadata": {},
   "outputs": [],
   "source": [
    "feature_importances_value=pd.DataFrame({'Feature': selected_feature,'feature_importances':selector.estimator_.coef_}).sort_values('feature_importances',ascending=False)"
   ]
  },
  {
   "cell_type": "code",
   "execution_count": 114,
   "id": "51bcdc32",
   "metadata": {},
   "outputs": [
    {
     "data": {
      "text/html": [
       "<div>\n",
       "<style scoped>\n",
       "    .dataframe tbody tr th:only-of-type {\n",
       "        vertical-align: middle;\n",
       "    }\n",
       "\n",
       "    .dataframe tbody tr th {\n",
       "        vertical-align: top;\n",
       "    }\n",
       "\n",
       "    .dataframe thead th {\n",
       "        text-align: right;\n",
       "    }\n",
       "</style>\n",
       "<table border=\"1\" class=\"dataframe\">\n",
       "  <thead>\n",
       "    <tr style=\"text-align: right;\">\n",
       "      <th></th>\n",
       "      <th>Feature</th>\n",
       "      <th>feature_importances</th>\n",
       "    </tr>\n",
       "  </thead>\n",
       "  <tbody>\n",
       "    <tr>\n",
       "      <th>0</th>\n",
       "      <td>净利润增长率</td>\n",
       "      <td>0.03096</td>\n",
       "    </tr>\n",
       "  </tbody>\n",
       "</table>\n",
       "</div>"
      ],
      "text/plain": [
       "  Feature  feature_importances\n",
       "0  净利润增长率              0.03096"
      ]
     },
     "execution_count": 114,
     "metadata": {},
     "output_type": "execute_result"
    }
   ],
   "source": [
    "feature_importances_value"
   ]
  },
  {
   "cell_type": "code",
   "execution_count": 116,
   "id": "3dc115e3",
   "metadata": {},
   "outputs": [],
   "source": [
    "train_new_data=train_data[selected_feature]\n",
    "train_new_X=scaler.fit_transform(train_new_data)"
   ]
  },
  {
   "cell_type": "code",
   "execution_count": 117,
   "id": "20e27cf4",
   "metadata": {},
   "outputs": [
    {
     "data": {
      "text/plain": [
       "-0.22215488270654243"
      ]
     },
     "execution_count": 117,
     "metadata": {},
     "output_type": "execute_result"
    }
   ],
   "source": [
    "score=[]\n",
    "score=cross_val_score(estimator,train_new_X,train_y,cv=5,scoring='r2')\n",
    "score.mean()"
   ]
  },
  {
   "cell_type": "code",
   "execution_count": null,
   "id": "d7741b88",
   "metadata": {},
   "outputs": [],
   "source": []
  },
  {
   "cell_type": "markdown",
   "id": "f864ae7c",
   "metadata": {},
   "source": [
    "**AdaBoost**"
   ]
  },
  {
   "cell_type": "markdown",
   "id": "58499945",
   "metadata": {},
   "source": [
    "先进行调参再进行特征选择"
   ]
  },
  {
   "cell_type": "code",
   "execution_count": 194,
   "id": "e5705040",
   "metadata": {},
   "outputs": [
    {
     "name": "stdout",
     "output_type": "stream",
     "text": [
      "27\n"
     ]
    }
   ],
   "source": [
    "from sklearn.feature_selection import RFECV\n",
    "from sklearn import ensemble\n",
    "\n",
    "model_AdaBoostRegressor=ensemble.AdaBoostRegressor(base_estimator= tree.DecisionTreeRegressor(max_depth=3),random_state=23,learning_rate=0.1, n_estimators=200)\n",
    "estimator = model_AdaBoostRegressor\n",
    "\n",
    "# 5折交叉\n",
    "selector = RFECV(estimator, step=1, cv=5,scoring='r2')\n",
    "selector = selector.fit(train_X, train_y)\n",
    "\n",
    "# 哪些特征入选最后特征，true表示入选\n",
    "#print(selector.support_)\n",
    "# 每个特征的得分排名，特征得分越低（1最好），表示特征越好\n",
    "#print(selector.ranking_)\n",
    "\n",
    "#  挑选了几个特征\n",
    "print(selector.n_features_)"
   ]
  },
  {
   "cell_type": "code",
   "execution_count": 195,
   "id": "9a10be66",
   "metadata": {},
   "outputs": [],
   "source": [
    "selected_feature=[]\n",
    "for i in range(len(selector.support_)):\n",
    "    if selector.support_[i]:\n",
    "        selected_feature.append(feature_dict[i])"
   ]
  },
  {
   "cell_type": "code",
   "execution_count": 196,
   "id": "ba605312",
   "metadata": {},
   "outputs": [],
   "source": [
    "feature_importances_value=pd.DataFrame({'Feature': selected_feature,'feature_importances':selector.estimator_.feature_importances_}).sort_values('feature_importances',ascending=False)"
   ]
  },
  {
   "cell_type": "code",
   "execution_count": 197,
   "id": "08cce97d",
   "metadata": {},
   "outputs": [
    {
     "data": {
      "text/html": [
       "<div>\n",
       "<style scoped>\n",
       "    .dataframe tbody tr th:only-of-type {\n",
       "        vertical-align: middle;\n",
       "    }\n",
       "\n",
       "    .dataframe tbody tr th {\n",
       "        vertical-align: top;\n",
       "    }\n",
       "\n",
       "    .dataframe thead th {\n",
       "        text-align: right;\n",
       "    }\n",
       "</style>\n",
       "<table border=\"1\" class=\"dataframe\">\n",
       "  <thead>\n",
       "    <tr style=\"text-align: right;\">\n",
       "      <th></th>\n",
       "      <th>Feature</th>\n",
       "      <th>feature_importances</th>\n",
       "    </tr>\n",
       "  </thead>\n",
       "  <tbody>\n",
       "    <tr>\n",
       "      <th>13</th>\n",
       "      <td>净利润增长率</td>\n",
       "      <td>0.120953</td>\n",
       "    </tr>\n",
       "    <tr>\n",
       "      <th>2</th>\n",
       "      <td>前三年承诺覆盖率</td>\n",
       "      <td>0.091437</td>\n",
       "    </tr>\n",
       "    <tr>\n",
       "      <th>1</th>\n",
       "      <td>承诺期业绩增长率</td>\n",
       "      <td>0.078579</td>\n",
       "    </tr>\n",
       "    <tr>\n",
       "      <th>5</th>\n",
       "      <td>成立年限</td>\n",
       "      <td>0.077518</td>\n",
       "    </tr>\n",
       "    <tr>\n",
       "      <th>11</th>\n",
       "      <td>总资产增长率</td>\n",
       "      <td>0.072038</td>\n",
       "    </tr>\n",
       "    <tr>\n",
       "      <th>10</th>\n",
       "      <td>D/(D+E)</td>\n",
       "      <td>0.044199</td>\n",
       "    </tr>\n",
       "    <tr>\n",
       "      <th>0</th>\n",
       "      <td>上一年归母净利润（万元）</td>\n",
       "      <td>0.041237</td>\n",
       "    </tr>\n",
       "    <tr>\n",
       "      <th>6</th>\n",
       "      <td>大股东持股比例</td>\n",
       "      <td>0.040775</td>\n",
       "    </tr>\n",
       "    <tr>\n",
       "      <th>8</th>\n",
       "      <td>最近一个完整会计年度对第一供应商的采购占比</td>\n",
       "      <td>0.039548</td>\n",
       "    </tr>\n",
       "    <tr>\n",
       "      <th>23</th>\n",
       "      <td>净资产收益率</td>\n",
       "      <td>0.036880</td>\n",
       "    </tr>\n",
       "    <tr>\n",
       "      <th>3</th>\n",
       "      <td>静态市盈率</td>\n",
       "      <td>0.036815</td>\n",
       "    </tr>\n",
       "    <tr>\n",
       "      <th>4</th>\n",
       "      <td>动态市盈率</td>\n",
       "      <td>0.036609</td>\n",
       "    </tr>\n",
       "    <tr>\n",
       "      <th>17</th>\n",
       "      <td>固定资产周转率</td>\n",
       "      <td>0.033642</td>\n",
       "    </tr>\n",
       "    <tr>\n",
       "      <th>15</th>\n",
       "      <td>存货周转率</td>\n",
       "      <td>0.033624</td>\n",
       "    </tr>\n",
       "    <tr>\n",
       "      <th>9</th>\n",
       "      <td>注入资产净资产账面值(万元)</td>\n",
       "      <td>0.030800</td>\n",
       "    </tr>\n",
       "    <tr>\n",
       "      <th>12</th>\n",
       "      <td>归母权益增长率</td>\n",
       "      <td>0.025470</td>\n",
       "    </tr>\n",
       "    <tr>\n",
       "      <th>14</th>\n",
       "      <td>总资产周转率</td>\n",
       "      <td>0.023497</td>\n",
       "    </tr>\n",
       "    <tr>\n",
       "      <th>24</th>\n",
       "      <td>毛利率</td>\n",
       "      <td>0.022103</td>\n",
       "    </tr>\n",
       "    <tr>\n",
       "      <th>7</th>\n",
       "      <td>最近一个完整会计年度对第一大客户的销售占比</td>\n",
       "      <td>0.020699</td>\n",
       "    </tr>\n",
       "    <tr>\n",
       "      <th>16</th>\n",
       "      <td>应收账款周转率</td>\n",
       "      <td>0.017428</td>\n",
       "    </tr>\n",
       "    <tr>\n",
       "      <th>25</th>\n",
       "      <td>经营性现金流/收入</td>\n",
       "      <td>0.014172</td>\n",
       "    </tr>\n",
       "    <tr>\n",
       "      <th>20</th>\n",
       "      <td>经营杠杆（EBITDA/EBIT)</td>\n",
       "      <td>0.012588</td>\n",
       "    </tr>\n",
       "    <tr>\n",
       "      <th>19</th>\n",
       "      <td>资产负债率</td>\n",
       "      <td>0.011504</td>\n",
       "    </tr>\n",
       "    <tr>\n",
       "      <th>18</th>\n",
       "      <td>流动比率</td>\n",
       "      <td>0.011036</td>\n",
       "    </tr>\n",
       "    <tr>\n",
       "      <th>21</th>\n",
       "      <td>（固定资产+土地）/归母权益</td>\n",
       "      <td>0.010960</td>\n",
       "    </tr>\n",
       "    <tr>\n",
       "      <th>22</th>\n",
       "      <td>在建工程/归母权益</td>\n",
       "      <td>0.009721</td>\n",
       "    </tr>\n",
       "    <tr>\n",
       "      <th>26</th>\n",
       "      <td>研发支出占比</td>\n",
       "      <td>0.006167</td>\n",
       "    </tr>\n",
       "  </tbody>\n",
       "</table>\n",
       "</div>"
      ],
      "text/plain": [
       "                  Feature  feature_importances\n",
       "13                 净利润增长率             0.120953\n",
       "2                前三年承诺覆盖率             0.091437\n",
       "1                承诺期业绩增长率             0.078579\n",
       "5                    成立年限             0.077518\n",
       "11                 总资产增长率             0.072038\n",
       "10                D/(D+E)             0.044199\n",
       "0            上一年归母净利润（万元）             0.041237\n",
       "6                 大股东持股比例             0.040775\n",
       "8   最近一个完整会计年度对第一供应商的采购占比             0.039548\n",
       "23                 净资产收益率             0.036880\n",
       "3                   静态市盈率             0.036815\n",
       "4                   动态市盈率             0.036609\n",
       "17                固定资产周转率             0.033642\n",
       "15                  存货周转率             0.033624\n",
       "9          注入资产净资产账面值(万元)             0.030800\n",
       "12                归母权益增长率             0.025470\n",
       "14                 总资产周转率             0.023497\n",
       "24                    毛利率             0.022103\n",
       "7   最近一个完整会计年度对第一大客户的销售占比             0.020699\n",
       "16                应收账款周转率             0.017428\n",
       "25              经营性现金流/收入             0.014172\n",
       "20      经营杠杆（EBITDA/EBIT)             0.012588\n",
       "19                  资产负债率             0.011504\n",
       "18                   流动比率             0.011036\n",
       "21         （固定资产+土地）/归母权益             0.010960\n",
       "22              在建工程/归母权益             0.009721\n",
       "26                 研发支出占比             0.006167"
      ]
     },
     "execution_count": 197,
     "metadata": {},
     "output_type": "execute_result"
    }
   ],
   "source": [
    "feature_importances_value"
   ]
  },
  {
   "cell_type": "code",
   "execution_count": 198,
   "id": "94252ad8",
   "metadata": {},
   "outputs": [],
   "source": [
    "train_new_data=train_data[selected_feature]\n",
    "train_new_X=scaler.fit_transform(train_new_data)"
   ]
  },
  {
   "cell_type": "code",
   "execution_count": 201,
   "id": "253afd07",
   "metadata": {},
   "outputs": [
    {
     "name": "stdout",
     "output_type": "stream",
     "text": [
      "The best parameters are {'base_estimator': DecisionTreeRegressor(max_depth=3), 'learning_rate': 0.5, 'n_estimators': 150} with a score of 0.15\n"
     ]
    }
   ],
   "source": [
    "from sklearn.model_selection import GridSearchCV  \n",
    "parameter_space = {\n",
    "    'base_estimator':[tree.DecisionTreeRegressor(max_depth=3),model_RidgeCV,Ada_MLP],\n",
    "    'n_estimators':[100,150,200],\n",
    "    'learning_rate':[0.1,0.5,0.8]\n",
    "}\n",
    "\n",
    "grid = GridSearchCV(ensemble.AdaBoostRegressor(random_state=23), parameter_space, cv=5)  \n",
    "grid.fit(train_new_X, train_y)  \n",
    "print(\"The best parameters are %s with a score of %0.2f\" %(grid.best_params_, grid.best_score_))"
   ]
  },
  {
   "cell_type": "code",
   "execution_count": 202,
   "id": "c026cae6",
   "metadata": {},
   "outputs": [
    {
     "data": {
      "text/plain": [
       "0.15467403613918074"
      ]
     },
     "execution_count": 202,
     "metadata": {},
     "output_type": "execute_result"
    }
   ],
   "source": [
    "score=[]\n",
    "model_AdaBoostRegressor=ensemble.AdaBoostRegressor(base_estimator= tree.DecisionTreeRegressor(max_depth=3),random_state=23,learning_rate=0.5, n_estimators=150)\n",
    "score=cross_val_score(model_AdaBoostRegressor,train_new_X,train_y,cv=5,scoring='r2')\n",
    "score.mean()"
   ]
  },
  {
   "cell_type": "code",
   "execution_count": null,
   "id": "3c8221d7",
   "metadata": {},
   "outputs": [],
   "source": []
  },
  {
   "cell_type": "markdown",
   "id": "4350d4d6",
   "metadata": {},
   "source": [
    "先进行特征选择再进行特征选择"
   ]
  },
  {
   "cell_type": "code",
   "execution_count": 74,
   "id": "7ad3b42d",
   "metadata": {},
   "outputs": [
    {
     "name": "stdout",
     "output_type": "stream",
     "text": [
      "21\n"
     ]
    }
   ],
   "source": [
    "from sklearn.feature_selection import RFECV\n",
    "from sklearn import ensemble\n",
    "\n",
    "estimator = ensemble.AdaBoostRegressor(random_state=23)\n",
    "\n",
    "# 5折交叉\n",
    "selector = RFECV(estimator, step=1, cv=5,scoring='r2')\n",
    "selector = selector.fit(train_X, train_y)\n",
    "\n",
    "# 哪些特征入选最后特征，true表示入选\n",
    "#print(selector.support_)\n",
    "# 每个特征的得分排名，特征得分越低（1最好），表示特征越好\n",
    "#print(selector.ranking_)\n",
    "\n",
    "# 每次交叉迭代各个特征得分\n",
    "#print(selector.grid_scores_)\n",
    "\n",
    "#  挑选了几个特征\n",
    "print(selector.n_features_)"
   ]
  },
  {
   "cell_type": "code",
   "execution_count": 75,
   "id": "6f2e1e55",
   "metadata": {
    "scrolled": true
   },
   "outputs": [],
   "source": [
    "selected_feature=[]\n",
    "for i in range(len(selector.support_)):\n",
    "    if selector.support_[i]:\n",
    "        selected_feature.append(feature_dict[i])"
   ]
  },
  {
   "cell_type": "code",
   "execution_count": 76,
   "id": "49083e66",
   "metadata": {},
   "outputs": [],
   "source": [
    "feature_importances_value=pd.DataFrame({'Feature': selected_feature,'feature_importances':selector.estimator_.feature_importances_}).sort_values('feature_importances',ascending=False)"
   ]
  },
  {
   "cell_type": "code",
   "execution_count": 77,
   "id": "e84ce12e",
   "metadata": {},
   "outputs": [
    {
     "data": {
      "text/html": [
       "<div>\n",
       "<style scoped>\n",
       "    .dataframe tbody tr th:only-of-type {\n",
       "        vertical-align: middle;\n",
       "    }\n",
       "\n",
       "    .dataframe tbody tr th {\n",
       "        vertical-align: top;\n",
       "    }\n",
       "\n",
       "    .dataframe thead th {\n",
       "        text-align: right;\n",
       "    }\n",
       "</style>\n",
       "<table border=\"1\" class=\"dataframe\">\n",
       "  <thead>\n",
       "    <tr style=\"text-align: right;\">\n",
       "      <th></th>\n",
       "      <th>Feature</th>\n",
       "      <th>feature_importances</th>\n",
       "    </tr>\n",
       "  </thead>\n",
       "  <tbody>\n",
       "    <tr>\n",
       "      <th>13</th>\n",
       "      <td>净利润增长率</td>\n",
       "      <td>0.122916</td>\n",
       "    </tr>\n",
       "    <tr>\n",
       "      <th>5</th>\n",
       "      <td>成立年限</td>\n",
       "      <td>0.101316</td>\n",
       "    </tr>\n",
       "    <tr>\n",
       "      <th>1</th>\n",
       "      <td>承诺期业绩增长率</td>\n",
       "      <td>0.087139</td>\n",
       "    </tr>\n",
       "    <tr>\n",
       "      <th>11</th>\n",
       "      <td>总资产增长率</td>\n",
       "      <td>0.081032</td>\n",
       "    </tr>\n",
       "    <tr>\n",
       "      <th>2</th>\n",
       "      <td>前三年承诺覆盖率</td>\n",
       "      <td>0.068882</td>\n",
       "    </tr>\n",
       "    <tr>\n",
       "      <th>6</th>\n",
       "      <td>大股东持股比例</td>\n",
       "      <td>0.052195</td>\n",
       "    </tr>\n",
       "    <tr>\n",
       "      <th>9</th>\n",
       "      <td>注入资产净资产账面值(万元)</td>\n",
       "      <td>0.050173</td>\n",
       "    </tr>\n",
       "    <tr>\n",
       "      <th>10</th>\n",
       "      <td>D/(D+E)</td>\n",
       "      <td>0.045001</td>\n",
       "    </tr>\n",
       "    <tr>\n",
       "      <th>0</th>\n",
       "      <td>上一年归母净利润（万元）</td>\n",
       "      <td>0.043944</td>\n",
       "    </tr>\n",
       "    <tr>\n",
       "      <th>12</th>\n",
       "      <td>归母权益增长率</td>\n",
       "      <td>0.038230</td>\n",
       "    </tr>\n",
       "    <tr>\n",
       "      <th>3</th>\n",
       "      <td>静态市盈率</td>\n",
       "      <td>0.036834</td>\n",
       "    </tr>\n",
       "    <tr>\n",
       "      <th>8</th>\n",
       "      <td>最近一个完整会计年度对第一供应商的采购占比</td>\n",
       "      <td>0.034845</td>\n",
       "    </tr>\n",
       "    <tr>\n",
       "      <th>17</th>\n",
       "      <td>固定资产周转率</td>\n",
       "      <td>0.033062</td>\n",
       "    </tr>\n",
       "    <tr>\n",
       "      <th>4</th>\n",
       "      <td>动态市盈率</td>\n",
       "      <td>0.032005</td>\n",
       "    </tr>\n",
       "    <tr>\n",
       "      <th>16</th>\n",
       "      <td>应收账款周转率</td>\n",
       "      <td>0.030762</td>\n",
       "    </tr>\n",
       "    <tr>\n",
       "      <th>15</th>\n",
       "      <td>存货周转率</td>\n",
       "      <td>0.029900</td>\n",
       "    </tr>\n",
       "    <tr>\n",
       "      <th>14</th>\n",
       "      <td>总资产周转率</td>\n",
       "      <td>0.025708</td>\n",
       "    </tr>\n",
       "    <tr>\n",
       "      <th>18</th>\n",
       "      <td>净资产收益率</td>\n",
       "      <td>0.025016</td>\n",
       "    </tr>\n",
       "    <tr>\n",
       "      <th>19</th>\n",
       "      <td>毛利率</td>\n",
       "      <td>0.022357</td>\n",
       "    </tr>\n",
       "    <tr>\n",
       "      <th>7</th>\n",
       "      <td>最近一个完整会计年度对第一大客户的销售占比</td>\n",
       "      <td>0.020838</td>\n",
       "    </tr>\n",
       "    <tr>\n",
       "      <th>20</th>\n",
       "      <td>经营性现金流/收入</td>\n",
       "      <td>0.017846</td>\n",
       "    </tr>\n",
       "  </tbody>\n",
       "</table>\n",
       "</div>"
      ],
      "text/plain": [
       "                  Feature  feature_importances\n",
       "13                 净利润增长率             0.122916\n",
       "5                    成立年限             0.101316\n",
       "1                承诺期业绩增长率             0.087139\n",
       "11                 总资产增长率             0.081032\n",
       "2                前三年承诺覆盖率             0.068882\n",
       "6                 大股东持股比例             0.052195\n",
       "9          注入资产净资产账面值(万元)             0.050173\n",
       "10                D/(D+E)             0.045001\n",
       "0            上一年归母净利润（万元）             0.043944\n",
       "12                归母权益增长率             0.038230\n",
       "3                   静态市盈率             0.036834\n",
       "8   最近一个完整会计年度对第一供应商的采购占比             0.034845\n",
       "17                固定资产周转率             0.033062\n",
       "4                   动态市盈率             0.032005\n",
       "16                应收账款周转率             0.030762\n",
       "15                  存货周转率             0.029900\n",
       "14                 总资产周转率             0.025708\n",
       "18                 净资产收益率             0.025016\n",
       "19                    毛利率             0.022357\n",
       "7   最近一个完整会计年度对第一大客户的销售占比             0.020838\n",
       "20              经营性现金流/收入             0.017846"
      ]
     },
     "execution_count": 77,
     "metadata": {},
     "output_type": "execute_result"
    }
   ],
   "source": [
    "feature_importances_value"
   ]
  },
  {
   "cell_type": "code",
   "execution_count": 78,
   "id": "0708cf05",
   "metadata": {},
   "outputs": [],
   "source": [
    "train_new_data=train_data[selected_feature]\n",
    "train_new_X=scaler.fit_transform(train_new_data)"
   ]
  },
  {
   "cell_type": "code",
   "execution_count": 79,
   "id": "9b728f31",
   "metadata": {},
   "outputs": [
    {
     "name": "stdout",
     "output_type": "stream",
     "text": [
      "The best parameters are {'base_estimator': DecisionTreeRegressor(max_depth=3), 'learning_rate': 0.5, 'n_estimators': 250} with a score of 0.15\n"
     ]
    }
   ],
   "source": [
    "#调参看看能不能更好\n",
    "from sklearn.model_selection import GridSearchCV  \n",
    "parameter_space = {\n",
    "    'base_estimator':[tree.DecisionTreeRegressor(max_depth=3),model_RidgeCV,Ada_MLP],\n",
    "    'n_estimators':[200,250,300],\n",
    "    'learning_rate':[0.1,0.5,0.8]\n",
    "}\n",
    "\n",
    "grid = GridSearchCV(ensemble.AdaBoostRegressor(random_state=23), parameter_space, cv=5)  \n",
    "grid.fit(train_new_X, train_y)  \n",
    "print(\"The best parameters are %s with a score of %0.2f\" %(grid.best_params_, grid.best_score_))"
   ]
  },
  {
   "cell_type": "code",
   "execution_count": 80,
   "id": "30b5152e",
   "metadata": {},
   "outputs": [
    {
     "data": {
      "text/plain": [
       "0.148239699762106"
      ]
     },
     "execution_count": 80,
     "metadata": {},
     "output_type": "execute_result"
    }
   ],
   "source": [
    "score=[]\n",
    "model_AdaBoostRegressor=ensemble.AdaBoostRegressor(base_estimator= tree.DecisionTreeRegressor(max_depth=3),random_state=23,learning_rate=0.5, n_estimators=250)\n",
    "score=cross_val_score(model_AdaBoostRegressor,train_new_X,train_y,cv=5,scoring='r2')\n",
    "score.mean()"
   ]
  },
  {
   "cell_type": "code",
   "execution_count": null,
   "id": "e253b1ed",
   "metadata": {},
   "outputs": [],
   "source": []
  },
  {
   "cell_type": "markdown",
   "id": "02f88484",
   "metadata": {},
   "source": [
    "**岭回归**"
   ]
  },
  {
   "cell_type": "code",
   "execution_count": 81,
   "id": "a27cead0",
   "metadata": {},
   "outputs": [
    {
     "name": "stdout",
     "output_type": "stream",
     "text": [
      "4\n"
     ]
    }
   ],
   "source": [
    "from sklearn.feature_selection import RFECV\n",
    "from sklearn import ensemble\n",
    "\n",
    "estimator = RidgeCV()\n",
    "\n",
    "# 5折交叉\n",
    "selector = RFECV(estimator, step=1, cv=5,scoring='r2')\n",
    "selector = selector.fit(train_X, train_y)\n",
    "\n",
    "# 哪些特征入选最后特征，true表示入选\n",
    "#print(selector.support_)\n",
    "# 每个特征的得分排名，特征得分越低（1最好），表示特征越好\n",
    "#print(selector.ranking_)\n",
    "\n",
    "#  挑选了几个特征\n",
    "print(selector.n_features_)"
   ]
  },
  {
   "cell_type": "code",
   "execution_count": 82,
   "id": "6682b825",
   "metadata": {},
   "outputs": [],
   "source": [
    "selected_feature=[]\n",
    "for i in range(len(selector.support_)):\n",
    "    if selector.support_[i]:\n",
    "        selected_feature.append(feature_dict[i])"
   ]
  },
  {
   "cell_type": "code",
   "execution_count": 83,
   "id": "addc9802",
   "metadata": {},
   "outputs": [],
   "source": [
    "feature_importances_value=pd.DataFrame({'Feature': selected_feature,'feature_importances':selector.estimator_.coef_}).sort_values('feature_importances',ascending=False)"
   ]
  },
  {
   "cell_type": "code",
   "execution_count": 84,
   "id": "19febc94",
   "metadata": {},
   "outputs": [
    {
     "data": {
      "text/html": [
       "<div>\n",
       "<style scoped>\n",
       "    .dataframe tbody tr th:only-of-type {\n",
       "        vertical-align: middle;\n",
       "    }\n",
       "\n",
       "    .dataframe tbody tr th {\n",
       "        vertical-align: top;\n",
       "    }\n",
       "\n",
       "    .dataframe thead th {\n",
       "        text-align: right;\n",
       "    }\n",
       "</style>\n",
       "<table border=\"1\" class=\"dataframe\">\n",
       "  <thead>\n",
       "    <tr style=\"text-align: right;\">\n",
       "      <th></th>\n",
       "      <th>Feature</th>\n",
       "      <th>feature_importances</th>\n",
       "    </tr>\n",
       "  </thead>\n",
       "  <tbody>\n",
       "    <tr>\n",
       "      <th>1</th>\n",
       "      <td>净利润增长率</td>\n",
       "      <td>0.031989</td>\n",
       "    </tr>\n",
       "    <tr>\n",
       "      <th>3</th>\n",
       "      <td>固定资产周转率</td>\n",
       "      <td>0.021512</td>\n",
       "    </tr>\n",
       "    <tr>\n",
       "      <th>0</th>\n",
       "      <td>前三年承诺覆盖率</td>\n",
       "      <td>0.017547</td>\n",
       "    </tr>\n",
       "    <tr>\n",
       "      <th>2</th>\n",
       "      <td>应收账款周转率</td>\n",
       "      <td>-0.012852</td>\n",
       "    </tr>\n",
       "  </tbody>\n",
       "</table>\n",
       "</div>"
      ],
      "text/plain": [
       "    Feature  feature_importances\n",
       "1    净利润增长率             0.031989\n",
       "3   固定资产周转率             0.021512\n",
       "0  前三年承诺覆盖率             0.017547\n",
       "2   应收账款周转率            -0.012852"
      ]
     },
     "execution_count": 84,
     "metadata": {},
     "output_type": "execute_result"
    }
   ],
   "source": [
    "feature_importances_value"
   ]
  },
  {
   "cell_type": "code",
   "execution_count": 85,
   "id": "731a6d23",
   "metadata": {},
   "outputs": [],
   "source": [
    "train_new_data=train_data[selected_feature]\n",
    "train_new_X=scaler.fit_transform(train_new_data)"
   ]
  },
  {
   "cell_type": "code",
   "execution_count": 86,
   "id": "899f8e93",
   "metadata": {},
   "outputs": [
    {
     "data": {
      "text/plain": [
       "0.18342850607402067"
      ]
     },
     "execution_count": 86,
     "metadata": {},
     "output_type": "execute_result"
    }
   ],
   "source": [
    "score=[]\n",
    "score=cross_val_score(estimator,train_new_X,train_y,cv=5,scoring='r2')\n",
    "score.mean()"
   ]
  },
  {
   "cell_type": "markdown",
   "id": "0ff5c505",
   "metadata": {},
   "source": [
    "**LGBM回归**"
   ]
  },
  {
   "cell_type": "markdown",
   "id": "7ee76c45",
   "metadata": {},
   "source": [
    "先进行调参再特征选择"
   ]
  },
  {
   "cell_type": "code",
   "execution_count": 87,
   "id": "3065759e",
   "metadata": {},
   "outputs": [
    {
     "name": "stdout",
     "output_type": "stream",
     "text": [
      "13\n"
     ]
    }
   ],
   "source": [
    "from sklearn.feature_selection import RFECV\n",
    "model_LGBMRegressor=lgb.LGBMRegressor(cat_smooth=0, max_depth=1, min_child_samples=19, min_child_weight=0.001, num_leaves=20)\n",
    "estimator =model_LGBMRegressor\n",
    "\n",
    "# 5折交叉\n",
    "selector = RFECV(estimator, step=1, cv=5,scoring='r2')\n",
    "selector = selector.fit(train_X, train_y)\n",
    "\n",
    "# 哪些特征入选最后特征，true表示入选\n",
    "#print(selector.support_)\n",
    "# 每个特征的得分排名，特征得分越低（1最好），表示特征越好\n",
    "#print(selector.ranking_)\n",
    "\n",
    "#  挑选了几个特征\n",
    "print(selector.n_features_)"
   ]
  },
  {
   "cell_type": "code",
   "execution_count": 88,
   "id": "0643fdba",
   "metadata": {},
   "outputs": [],
   "source": [
    "selected_feature=[]\n",
    "for i in range(len(selector.support_)):\n",
    "    if selector.support_[i]:\n",
    "        selected_feature.append(feature_dict[i])"
   ]
  },
  {
   "cell_type": "code",
   "execution_count": 89,
   "id": "bf5da089",
   "metadata": {},
   "outputs": [],
   "source": [
    "feature_importances_value=pd.DataFrame({'Feature': selected_feature,'feature_importances':selector.estimator_.feature_importances_}).sort_values('feature_importances',ascending=False)"
   ]
  },
  {
   "cell_type": "code",
   "execution_count": 90,
   "id": "6d4783a7",
   "metadata": {},
   "outputs": [
    {
     "data": {
      "text/html": [
       "<div>\n",
       "<style scoped>\n",
       "    .dataframe tbody tr th:only-of-type {\n",
       "        vertical-align: middle;\n",
       "    }\n",
       "\n",
       "    .dataframe tbody tr th {\n",
       "        vertical-align: top;\n",
       "    }\n",
       "\n",
       "    .dataframe thead th {\n",
       "        text-align: right;\n",
       "    }\n",
       "</style>\n",
       "<table border=\"1\" class=\"dataframe\">\n",
       "  <thead>\n",
       "    <tr style=\"text-align: right;\">\n",
       "      <th></th>\n",
       "      <th>Feature</th>\n",
       "      <th>feature_importances</th>\n",
       "    </tr>\n",
       "  </thead>\n",
       "  <tbody>\n",
       "    <tr>\n",
       "      <th>1</th>\n",
       "      <td>承诺期业绩增长率</td>\n",
       "      <td>11</td>\n",
       "    </tr>\n",
       "    <tr>\n",
       "      <th>7</th>\n",
       "      <td>总资产增长率</td>\n",
       "      <td>11</td>\n",
       "    </tr>\n",
       "    <tr>\n",
       "      <th>11</th>\n",
       "      <td>净资产收益率</td>\n",
       "      <td>11</td>\n",
       "    </tr>\n",
       "    <tr>\n",
       "      <th>5</th>\n",
       "      <td>大股东持股比例</td>\n",
       "      <td>10</td>\n",
       "    </tr>\n",
       "    <tr>\n",
       "      <th>6</th>\n",
       "      <td>D/(D+E)</td>\n",
       "      <td>10</td>\n",
       "    </tr>\n",
       "    <tr>\n",
       "      <th>3</th>\n",
       "      <td>动态市盈率</td>\n",
       "      <td>9</td>\n",
       "    </tr>\n",
       "    <tr>\n",
       "      <th>0</th>\n",
       "      <td>上一年归母净利润（万元）</td>\n",
       "      <td>7</td>\n",
       "    </tr>\n",
       "    <tr>\n",
       "      <th>2</th>\n",
       "      <td>前三年承诺覆盖率</td>\n",
       "      <td>6</td>\n",
       "    </tr>\n",
       "    <tr>\n",
       "      <th>9</th>\n",
       "      <td>净利润增长率</td>\n",
       "      <td>6</td>\n",
       "    </tr>\n",
       "    <tr>\n",
       "      <th>12</th>\n",
       "      <td>毛利率</td>\n",
       "      <td>6</td>\n",
       "    </tr>\n",
       "    <tr>\n",
       "      <th>4</th>\n",
       "      <td>成立年限</td>\n",
       "      <td>5</td>\n",
       "    </tr>\n",
       "    <tr>\n",
       "      <th>8</th>\n",
       "      <td>归母权益增长率</td>\n",
       "      <td>4</td>\n",
       "    </tr>\n",
       "    <tr>\n",
       "      <th>10</th>\n",
       "      <td>资产负债率</td>\n",
       "      <td>4</td>\n",
       "    </tr>\n",
       "  </tbody>\n",
       "</table>\n",
       "</div>"
      ],
      "text/plain": [
       "         Feature  feature_importances\n",
       "1       承诺期业绩增长率                   11\n",
       "7         总资产增长率                   11\n",
       "11        净资产收益率                   11\n",
       "5        大股东持股比例                   10\n",
       "6        D/(D+E)                   10\n",
       "3          动态市盈率                    9\n",
       "0   上一年归母净利润（万元）                    7\n",
       "2       前三年承诺覆盖率                    6\n",
       "9         净利润增长率                    6\n",
       "12           毛利率                    6\n",
       "4           成立年限                    5\n",
       "8        归母权益增长率                    4\n",
       "10         资产负债率                    4"
      ]
     },
     "execution_count": 90,
     "metadata": {},
     "output_type": "execute_result"
    }
   ],
   "source": [
    "feature_importances_value"
   ]
  },
  {
   "cell_type": "code",
   "execution_count": 91,
   "id": "e1782352",
   "metadata": {},
   "outputs": [],
   "source": [
    "train_new_data=train_data[selected_feature]\n",
    "train_new_X=scaler.fit_transform(train_new_data)"
   ]
  },
  {
   "cell_type": "code",
   "execution_count": 92,
   "id": "0edbb085",
   "metadata": {},
   "outputs": [
    {
     "name": "stdout",
     "output_type": "stream",
     "text": [
      "The best parameters are {'cat_smooth': 0, 'max_depth': 4, 'min_child_samples': 19, 'min_child_weight': 0.001, 'num_leaves': 3} with a score of 0.21\n"
     ]
    }
   ],
   "source": [
    "from sklearn.model_selection import GridSearchCV  \n",
    "parameter_space = {\n",
    "    'max_depth': [1,4,6],\n",
    "    'num_leaves': [1,3,5],\n",
    "    'min_child_samples': [18,19,20],\n",
    "    'min_child_weight': [0.001,0.002],\n",
    "    'cat_smooth': [0,10]\n",
    "}\n",
    "\n",
    "grid = GridSearchCV(lgb.LGBMRegressor(), parameter_space, cv=5)  \n",
    "grid.fit(train_new_X, train_y)  \n",
    "print(\"The best parameters are %s with a score of %0.2f\" %(grid.best_params_, grid.best_score_))"
   ]
  },
  {
   "cell_type": "code",
   "execution_count": 93,
   "id": "694273bf",
   "metadata": {},
   "outputs": [
    {
     "data": {
      "text/plain": [
       "0.20878191881005698"
      ]
     },
     "execution_count": 93,
     "metadata": {},
     "output_type": "execute_result"
    }
   ],
   "source": [
    "score=[]\n",
    "model_LGBM=lgb.LGBMRegressor(cat_smooth=0, max_depth=4, min_child_samples=19, min_child_weight=0.001, num_leaves=3)\n",
    "score=cross_val_score(model_LGBM,train_new_X,train_y,cv=5,scoring='r2')\n",
    "score.mean()"
   ]
  },
  {
   "cell_type": "markdown",
   "id": "a4eb8066",
   "metadata": {},
   "source": [
    "先进行特征选择再调参"
   ]
  },
  {
   "cell_type": "code",
   "execution_count": 94,
   "id": "068b46d1",
   "metadata": {},
   "outputs": [
    {
     "name": "stdout",
     "output_type": "stream",
     "text": [
      "16\n"
     ]
    }
   ],
   "source": [
    "from sklearn.feature_selection import RFECV\n",
    "\n",
    "estimator =lgb.LGBMRegressor()\n",
    "\n",
    "# 5折交叉\n",
    "selector = RFECV(estimator, step=1, cv=5,scoring='r2')\n",
    "selector = selector.fit(train_X, train_y)\n",
    "\n",
    "# 哪些特征入选最后特征，true表示入选\n",
    "#print(selector.support_)\n",
    "# 每个特征的得分排名，特征得分越低（1最好），表示特征越好\n",
    "#print(selector.ranking_)\n",
    "\n",
    "#  挑选了几个特征\n",
    "print(selector.n_features_)"
   ]
  },
  {
   "cell_type": "code",
   "execution_count": 95,
   "id": "d8e2f344",
   "metadata": {},
   "outputs": [],
   "source": [
    "selected_feature=[]\n",
    "for i in range(len(selector.support_)):\n",
    "    if selector.support_[i]:\n",
    "        selected_feature.append(feature_dict[i])"
   ]
  },
  {
   "cell_type": "code",
   "execution_count": 96,
   "id": "a35d2c46",
   "metadata": {},
   "outputs": [],
   "source": [
    "feature_importances_value=pd.DataFrame({'Feature': selected_feature,'feature_importances':selector.estimator_.feature_importances_}).sort_values('feature_importances',ascending=False)"
   ]
  },
  {
   "cell_type": "code",
   "execution_count": 97,
   "id": "f67749b6",
   "metadata": {},
   "outputs": [
    {
     "data": {
      "text/html": [
       "<div>\n",
       "<style scoped>\n",
       "    .dataframe tbody tr th:only-of-type {\n",
       "        vertical-align: middle;\n",
       "    }\n",
       "\n",
       "    .dataframe tbody tr th {\n",
       "        vertical-align: top;\n",
       "    }\n",
       "\n",
       "    .dataframe thead th {\n",
       "        text-align: right;\n",
       "    }\n",
       "</style>\n",
       "<table border=\"1\" class=\"dataframe\">\n",
       "  <thead>\n",
       "    <tr style=\"text-align: right;\">\n",
       "      <th></th>\n",
       "      <th>Feature</th>\n",
       "      <th>feature_importances</th>\n",
       "    </tr>\n",
       "  </thead>\n",
       "  <tbody>\n",
       "    <tr>\n",
       "      <th>7</th>\n",
       "      <td>D/(D+E)</td>\n",
       "      <td>26</td>\n",
       "    </tr>\n",
       "    <tr>\n",
       "      <th>9</th>\n",
       "      <td>归母权益增长率</td>\n",
       "      <td>25</td>\n",
       "    </tr>\n",
       "    <tr>\n",
       "      <th>13</th>\n",
       "      <td>资产负债率</td>\n",
       "      <td>24</td>\n",
       "    </tr>\n",
       "    <tr>\n",
       "      <th>3</th>\n",
       "      <td>动态市盈率</td>\n",
       "      <td>23</td>\n",
       "    </tr>\n",
       "    <tr>\n",
       "      <th>5</th>\n",
       "      <td>大股东持股比例</td>\n",
       "      <td>23</td>\n",
       "    </tr>\n",
       "    <tr>\n",
       "      <th>6</th>\n",
       "      <td>最近一个完整会计年度对第一供应商的采购占比</td>\n",
       "      <td>23</td>\n",
       "    </tr>\n",
       "    <tr>\n",
       "      <th>11</th>\n",
       "      <td>总资产周转率</td>\n",
       "      <td>23</td>\n",
       "    </tr>\n",
       "    <tr>\n",
       "      <th>15</th>\n",
       "      <td>毛利率</td>\n",
       "      <td>23</td>\n",
       "    </tr>\n",
       "    <tr>\n",
       "      <th>1</th>\n",
       "      <td>承诺期业绩增长率</td>\n",
       "      <td>22</td>\n",
       "    </tr>\n",
       "    <tr>\n",
       "      <th>2</th>\n",
       "      <td>前三年承诺覆盖率</td>\n",
       "      <td>21</td>\n",
       "    </tr>\n",
       "    <tr>\n",
       "      <th>8</th>\n",
       "      <td>总资产增长率</td>\n",
       "      <td>18</td>\n",
       "    </tr>\n",
       "    <tr>\n",
       "      <th>0</th>\n",
       "      <td>上一年归母净利润（万元）</td>\n",
       "      <td>17</td>\n",
       "    </tr>\n",
       "    <tr>\n",
       "      <th>10</th>\n",
       "      <td>净利润增长率</td>\n",
       "      <td>17</td>\n",
       "    </tr>\n",
       "    <tr>\n",
       "      <th>14</th>\n",
       "      <td>净资产收益率</td>\n",
       "      <td>16</td>\n",
       "    </tr>\n",
       "    <tr>\n",
       "      <th>4</th>\n",
       "      <td>成立年限</td>\n",
       "      <td>14</td>\n",
       "    </tr>\n",
       "    <tr>\n",
       "      <th>12</th>\n",
       "      <td>存货周转率</td>\n",
       "      <td>11</td>\n",
       "    </tr>\n",
       "  </tbody>\n",
       "</table>\n",
       "</div>"
      ],
      "text/plain": [
       "                  Feature  feature_importances\n",
       "7                 D/(D+E)                   26\n",
       "9                 归母权益增长率                   25\n",
       "13                  资产负债率                   24\n",
       "3                   动态市盈率                   23\n",
       "5                 大股东持股比例                   23\n",
       "6   最近一个完整会计年度对第一供应商的采购占比                   23\n",
       "11                 总资产周转率                   23\n",
       "15                    毛利率                   23\n",
       "1                承诺期业绩增长率                   22\n",
       "2                前三年承诺覆盖率                   21\n",
       "8                  总资产增长率                   18\n",
       "0            上一年归母净利润（万元）                   17\n",
       "10                 净利润增长率                   17\n",
       "14                 净资产收益率                   16\n",
       "4                    成立年限                   14\n",
       "12                  存货周转率                   11"
      ]
     },
     "execution_count": 97,
     "metadata": {},
     "output_type": "execute_result"
    }
   ],
   "source": [
    "feature_importances_value"
   ]
  },
  {
   "cell_type": "code",
   "execution_count": 98,
   "id": "57df2ecc",
   "metadata": {},
   "outputs": [],
   "source": [
    "train_new_data=train_data[selected_feature]\n",
    "train_new_X=scaler.fit_transform(train_new_data)"
   ]
  },
  {
   "cell_type": "code",
   "execution_count": 99,
   "id": "0e2c94d0",
   "metadata": {},
   "outputs": [
    {
     "name": "stdout",
     "output_type": "stream",
     "text": [
      "The best parameters are {'cat_smooth': 0, 'max_depth': 4, 'min_child_samples': 18, 'min_child_weight': 0.001, 'num_leaves': 5} with a score of 0.20\n"
     ]
    }
   ],
   "source": [
    "from sklearn.model_selection import GridSearchCV  \n",
    "parameter_space = {\n",
    "    'max_depth': [1,4,6],\n",
    "    'num_leaves': [3,5,8],\n",
    "    'min_child_samples': [15,18,19],\n",
    "    'min_child_weight': [0.001,0.002],\n",
    "    'cat_smooth': [0,10]\n",
    "}\n",
    "\n",
    "grid = GridSearchCV(lgb.LGBMRegressor(), parameter_space, cv=5)  \n",
    "grid.fit(train_new_X, train_y)  \n",
    "print(\"The best parameters are %s with a score of %0.2f\" %(grid.best_params_, grid.best_score_))"
   ]
  },
  {
   "cell_type": "code",
   "execution_count": 100,
   "id": "bd9d9e7e",
   "metadata": {},
   "outputs": [
    {
     "data": {
      "text/plain": [
       "0.2040889447046296"
      ]
     },
     "execution_count": 100,
     "metadata": {},
     "output_type": "execute_result"
    }
   ],
   "source": [
    "score=[]\n",
    "model_LGBM=lgb.LGBMRegressor(cat_smooth=0, max_depth=4, min_child_samples=18, min_child_weight=0.001, num_leaves=5)\n",
    "score=cross_val_score(model_LGBM,train_new_X,train_y,cv=5,scoring='r2')\n",
    "score.mean()"
   ]
  },
  {
   "cell_type": "code",
   "execution_count": null,
   "id": "7acab10b",
   "metadata": {},
   "outputs": [],
   "source": []
  },
  {
   "cell_type": "markdown",
   "id": "4e768ef0",
   "metadata": {},
   "source": [
    "**XGBOOST回归**"
   ]
  },
  {
   "cell_type": "markdown",
   "id": "aa05d586",
   "metadata": {},
   "source": [
    "先调参再进行特征选择"
   ]
  },
  {
   "cell_type": "code",
   "execution_count": 101,
   "id": "f05d0ccb",
   "metadata": {},
   "outputs": [
    {
     "name": "stdout",
     "output_type": "stream",
     "text": [
      "23\n"
     ]
    }
   ],
   "source": [
    "from sklearn.feature_selection import RFECV\n",
    "\n",
    "model_XGBRegressor= xgb.XGBRegressor(booster='gbtree', eta= 0.2, gamma= 0, max_depth= 7, min_child_weight= 10)\n",
    "estimator =model_XGBRegressor\n",
    "\n",
    "# 5折交叉\n",
    "selector = RFECV(estimator, step=1, cv=5,scoring='r2')\n",
    "selector = selector.fit(train_X, train_y)\n",
    "\n",
    "# 哪些特征入选最后特征，true表示入选\n",
    "#print(selector.support_)\n",
    "# 每个特征的得分排名，特征得分越低（1最好），表示特征越好\n",
    "#print(selector.ranking_)\n",
    "\n",
    "#  挑选了几个特征\n",
    "print(selector.n_features_)"
   ]
  },
  {
   "cell_type": "code",
   "execution_count": 102,
   "id": "c3f98cc1",
   "metadata": {},
   "outputs": [],
   "source": [
    "selected_feature=[]\n",
    "for i in range(len(selector.support_)):\n",
    "    if selector.support_[i]:\n",
    "        selected_feature.append(feature_dict[i])"
   ]
  },
  {
   "cell_type": "code",
   "execution_count": 103,
   "id": "b638f83c",
   "metadata": {},
   "outputs": [],
   "source": [
    "feature_importances_value=pd.DataFrame({'Feature': selected_feature,'feature_importances':selector.estimator_.feature_importances_}).sort_values('feature_importances',ascending=False)"
   ]
  },
  {
   "cell_type": "code",
   "execution_count": 104,
   "id": "cdcd5348",
   "metadata": {},
   "outputs": [
    {
     "data": {
      "text/html": [
       "<div>\n",
       "<style scoped>\n",
       "    .dataframe tbody tr th:only-of-type {\n",
       "        vertical-align: middle;\n",
       "    }\n",
       "\n",
       "    .dataframe tbody tr th {\n",
       "        vertical-align: top;\n",
       "    }\n",
       "\n",
       "    .dataframe thead th {\n",
       "        text-align: right;\n",
       "    }\n",
       "</style>\n",
       "<table border=\"1\" class=\"dataframe\">\n",
       "  <thead>\n",
       "    <tr style=\"text-align: right;\">\n",
       "      <th></th>\n",
       "      <th>Feature</th>\n",
       "      <th>feature_importances</th>\n",
       "    </tr>\n",
       "  </thead>\n",
       "  <tbody>\n",
       "    <tr>\n",
       "      <th>13</th>\n",
       "      <td>净利润增长率</td>\n",
       "      <td>0.089314</td>\n",
       "    </tr>\n",
       "    <tr>\n",
       "      <th>2</th>\n",
       "      <td>前三年承诺覆盖率</td>\n",
       "      <td>0.077468</td>\n",
       "    </tr>\n",
       "    <tr>\n",
       "      <th>3</th>\n",
       "      <td>静态市盈率</td>\n",
       "      <td>0.073831</td>\n",
       "    </tr>\n",
       "    <tr>\n",
       "      <th>10</th>\n",
       "      <td>D/(D+E)</td>\n",
       "      <td>0.072697</td>\n",
       "    </tr>\n",
       "    <tr>\n",
       "      <th>22</th>\n",
       "      <td>研发支出占比</td>\n",
       "      <td>0.061568</td>\n",
       "    </tr>\n",
       "    <tr>\n",
       "      <th>5</th>\n",
       "      <td>成立年限</td>\n",
       "      <td>0.059411</td>\n",
       "    </tr>\n",
       "    <tr>\n",
       "      <th>11</th>\n",
       "      <td>总资产增长率</td>\n",
       "      <td>0.054637</td>\n",
       "    </tr>\n",
       "    <tr>\n",
       "      <th>6</th>\n",
       "      <td>大股东持股比例</td>\n",
       "      <td>0.053897</td>\n",
       "    </tr>\n",
       "    <tr>\n",
       "      <th>4</th>\n",
       "      <td>动态市盈率</td>\n",
       "      <td>0.047704</td>\n",
       "    </tr>\n",
       "    <tr>\n",
       "      <th>14</th>\n",
       "      <td>总资产周转率</td>\n",
       "      <td>0.044665</td>\n",
       "    </tr>\n",
       "    <tr>\n",
       "      <th>18</th>\n",
       "      <td>经营杠杆（EBITDA/EBIT)</td>\n",
       "      <td>0.039058</td>\n",
       "    </tr>\n",
       "    <tr>\n",
       "      <th>0</th>\n",
       "      <td>上一年归母净利润（万元）</td>\n",
       "      <td>0.034102</td>\n",
       "    </tr>\n",
       "    <tr>\n",
       "      <th>16</th>\n",
       "      <td>流动比率</td>\n",
       "      <td>0.033980</td>\n",
       "    </tr>\n",
       "    <tr>\n",
       "      <th>17</th>\n",
       "      <td>资产负债率</td>\n",
       "      <td>0.033283</td>\n",
       "    </tr>\n",
       "    <tr>\n",
       "      <th>1</th>\n",
       "      <td>承诺期业绩增长率</td>\n",
       "      <td>0.032021</td>\n",
       "    </tr>\n",
       "    <tr>\n",
       "      <th>9</th>\n",
       "      <td>注入资产净资产账面值(万元)</td>\n",
       "      <td>0.028630</td>\n",
       "    </tr>\n",
       "    <tr>\n",
       "      <th>12</th>\n",
       "      <td>归母权益增长率</td>\n",
       "      <td>0.028617</td>\n",
       "    </tr>\n",
       "    <tr>\n",
       "      <th>15</th>\n",
       "      <td>固定资产周转率</td>\n",
       "      <td>0.026833</td>\n",
       "    </tr>\n",
       "    <tr>\n",
       "      <th>8</th>\n",
       "      <td>最近一个完整会计年度对第一供应商的采购占比</td>\n",
       "      <td>0.026768</td>\n",
       "    </tr>\n",
       "    <tr>\n",
       "      <th>19</th>\n",
       "      <td>在建工程/归母权益</td>\n",
       "      <td>0.025650</td>\n",
       "    </tr>\n",
       "    <tr>\n",
       "      <th>7</th>\n",
       "      <td>最近一个完整会计年度对第一大客户的销售占比</td>\n",
       "      <td>0.024963</td>\n",
       "    </tr>\n",
       "    <tr>\n",
       "      <th>21</th>\n",
       "      <td>毛利率</td>\n",
       "      <td>0.022267</td>\n",
       "    </tr>\n",
       "    <tr>\n",
       "      <th>20</th>\n",
       "      <td>净资产收益率</td>\n",
       "      <td>0.008639</td>\n",
       "    </tr>\n",
       "  </tbody>\n",
       "</table>\n",
       "</div>"
      ],
      "text/plain": [
       "                  Feature  feature_importances\n",
       "13                 净利润增长率             0.089314\n",
       "2                前三年承诺覆盖率             0.077468\n",
       "3                   静态市盈率             0.073831\n",
       "10                D/(D+E)             0.072697\n",
       "22                 研发支出占比             0.061568\n",
       "5                    成立年限             0.059411\n",
       "11                 总资产增长率             0.054637\n",
       "6                 大股东持股比例             0.053897\n",
       "4                   动态市盈率             0.047704\n",
       "14                 总资产周转率             0.044665\n",
       "18      经营杠杆（EBITDA/EBIT)             0.039058\n",
       "0            上一年归母净利润（万元）             0.034102\n",
       "16                   流动比率             0.033980\n",
       "17                  资产负债率             0.033283\n",
       "1                承诺期业绩增长率             0.032021\n",
       "9          注入资产净资产账面值(万元)             0.028630\n",
       "12                归母权益增长率             0.028617\n",
       "15                固定资产周转率             0.026833\n",
       "8   最近一个完整会计年度对第一供应商的采购占比             0.026768\n",
       "19              在建工程/归母权益             0.025650\n",
       "7   最近一个完整会计年度对第一大客户的销售占比             0.024963\n",
       "21                    毛利率             0.022267\n",
       "20                 净资产收益率             0.008639"
      ]
     },
     "execution_count": 104,
     "metadata": {},
     "output_type": "execute_result"
    }
   ],
   "source": [
    "feature_importances_value"
   ]
  },
  {
   "cell_type": "code",
   "execution_count": 105,
   "id": "ba485463",
   "metadata": {},
   "outputs": [],
   "source": [
    "train_new_data=train_data[selected_feature]\n",
    "train_new_X=scaler.fit_transform(train_new_data)"
   ]
  },
  {
   "cell_type": "code",
   "execution_count": 106,
   "id": "5669f61d",
   "metadata": {},
   "outputs": [
    {
     "name": "stdout",
     "output_type": "stream",
     "text": [
      "The best parameters are {'eta': 0.2, 'gamma': 0, 'max_depth': 1, 'min_child_weight': 10} with a score of 0.13\n"
     ]
    }
   ],
   "source": [
    "parameter_space = {\n",
    "    'eta': [0.1, 0.2],\n",
    "    'gamma':[0,1,10],\n",
    "    'max_depth': [1,3, 6],\n",
    "    'min_child_weight': [1, 10]\n",
    "}\n",
    "\n",
    "grid = GridSearchCV(xgb.XGBRegressor(), parameter_space, cv=5)  \n",
    "grid.fit(train_new_X, train_y)\n",
    "print(\"The best parameters are %s with a score of %0.2f\" %(grid.best_params_, grid.best_score_))"
   ]
  },
  {
   "cell_type": "code",
   "execution_count": 107,
   "id": "c99a155f",
   "metadata": {},
   "outputs": [
    {
     "data": {
      "text/plain": [
       "0.13113063322538637"
      ]
     },
     "execution_count": 107,
     "metadata": {},
     "output_type": "execute_result"
    }
   ],
   "source": [
    "score=[]\n",
    "model_XGBRegressor=xgb.XGBRegressor(random_state=23,eta=0.2, gamma=0, max_depth=1, min_child_weight=10)\n",
    "score=cross_val_score(model_XGBRegressor,train_new_X,train_y,cv=5,scoring='r2')\n",
    "score.mean()"
   ]
  },
  {
   "cell_type": "markdown",
   "id": "dbdbc274",
   "metadata": {},
   "source": [
    "先进行特征选择再进行调参"
   ]
  },
  {
   "cell_type": "code",
   "execution_count": 108,
   "id": "90121245",
   "metadata": {},
   "outputs": [
    {
     "name": "stdout",
     "output_type": "stream",
     "text": [
      "19\n"
     ]
    }
   ],
   "source": [
    "from sklearn.feature_selection import RFECV\n",
    "\n",
    "estimator =xgb.XGBRegressor()\n",
    "\n",
    "# 5折交叉\n",
    "selector = RFECV(estimator, step=1, cv=5,scoring='r2')\n",
    "selector = selector.fit(train_X, train_y)\n",
    "\n",
    "# 哪些特征入选最后特征，true表示入选\n",
    "#print(selector.support_)\n",
    "\n",
    "# 每个特征的得分排名，特征得分越低（1最好），表示特征越好\n",
    "#print(selector.ranking_)\n",
    "\n",
    "#  挑选了几个特征\n",
    "print(selector.n_features_)"
   ]
  },
  {
   "cell_type": "code",
   "execution_count": 109,
   "id": "c031f917",
   "metadata": {},
   "outputs": [],
   "source": [
    "selected_feature=[]\n",
    "for i in range(len(selector.support_)):\n",
    "    if selector.support_[i]:\n",
    "        selected_feature.append(feature_dict[i])"
   ]
  },
  {
   "cell_type": "code",
   "execution_count": 110,
   "id": "284fd890",
   "metadata": {},
   "outputs": [],
   "source": [
    "feature_importances_value=pd.DataFrame({'Feature': selected_feature,'feature_importances':selector.estimator_.feature_importances_}).sort_values('feature_importances',ascending=False)"
   ]
  },
  {
   "cell_type": "code",
   "execution_count": 111,
   "id": "e6aea194",
   "metadata": {},
   "outputs": [
    {
     "data": {
      "text/html": [
       "<div>\n",
       "<style scoped>\n",
       "    .dataframe tbody tr th:only-of-type {\n",
       "        vertical-align: middle;\n",
       "    }\n",
       "\n",
       "    .dataframe tbody tr th {\n",
       "        vertical-align: top;\n",
       "    }\n",
       "\n",
       "    .dataframe thead th {\n",
       "        text-align: right;\n",
       "    }\n",
       "</style>\n",
       "<table border=\"1\" class=\"dataframe\">\n",
       "  <thead>\n",
       "    <tr style=\"text-align: right;\">\n",
       "      <th></th>\n",
       "      <th>Feature</th>\n",
       "      <th>feature_importances</th>\n",
       "    </tr>\n",
       "  </thead>\n",
       "  <tbody>\n",
       "    <tr>\n",
       "      <th>11</th>\n",
       "      <td>净利润增长率</td>\n",
       "      <td>0.212743</td>\n",
       "    </tr>\n",
       "    <tr>\n",
       "      <th>1</th>\n",
       "      <td>承诺期业绩增长率</td>\n",
       "      <td>0.087626</td>\n",
       "    </tr>\n",
       "    <tr>\n",
       "      <th>6</th>\n",
       "      <td>大股东持股比例</td>\n",
       "      <td>0.084510</td>\n",
       "    </tr>\n",
       "    <tr>\n",
       "      <th>2</th>\n",
       "      <td>前三年承诺覆盖率</td>\n",
       "      <td>0.076756</td>\n",
       "    </tr>\n",
       "    <tr>\n",
       "      <th>14</th>\n",
       "      <td>固定资产周转率</td>\n",
       "      <td>0.064560</td>\n",
       "    </tr>\n",
       "    <tr>\n",
       "      <th>9</th>\n",
       "      <td>D/(D+E)</td>\n",
       "      <td>0.058248</td>\n",
       "    </tr>\n",
       "    <tr>\n",
       "      <th>3</th>\n",
       "      <td>静态市盈率</td>\n",
       "      <td>0.043425</td>\n",
       "    </tr>\n",
       "    <tr>\n",
       "      <th>8</th>\n",
       "      <td>注入资产净资产账面值(万元)</td>\n",
       "      <td>0.042504</td>\n",
       "    </tr>\n",
       "    <tr>\n",
       "      <th>10</th>\n",
       "      <td>总资产增长率</td>\n",
       "      <td>0.040454</td>\n",
       "    </tr>\n",
       "    <tr>\n",
       "      <th>4</th>\n",
       "      <td>动态市盈率</td>\n",
       "      <td>0.039162</td>\n",
       "    </tr>\n",
       "    <tr>\n",
       "      <th>18</th>\n",
       "      <td>研发支出占比</td>\n",
       "      <td>0.036687</td>\n",
       "    </tr>\n",
       "    <tr>\n",
       "      <th>12</th>\n",
       "      <td>总资产周转率</td>\n",
       "      <td>0.034670</td>\n",
       "    </tr>\n",
       "    <tr>\n",
       "      <th>5</th>\n",
       "      <td>成立年限</td>\n",
       "      <td>0.033870</td>\n",
       "    </tr>\n",
       "    <tr>\n",
       "      <th>13</th>\n",
       "      <td>应收账款周转率</td>\n",
       "      <td>0.030669</td>\n",
       "    </tr>\n",
       "    <tr>\n",
       "      <th>0</th>\n",
       "      <td>上一年归母净利润（万元）</td>\n",
       "      <td>0.027431</td>\n",
       "    </tr>\n",
       "    <tr>\n",
       "      <th>7</th>\n",
       "      <td>最近一个完整会计年度对第一供应商的采购占比</td>\n",
       "      <td>0.026625</td>\n",
       "    </tr>\n",
       "    <tr>\n",
       "      <th>16</th>\n",
       "      <td>净资产收益率</td>\n",
       "      <td>0.026594</td>\n",
       "    </tr>\n",
       "    <tr>\n",
       "      <th>15</th>\n",
       "      <td>（固定资产+土地）/归母权益</td>\n",
       "      <td>0.023389</td>\n",
       "    </tr>\n",
       "    <tr>\n",
       "      <th>17</th>\n",
       "      <td>经营性现金流/收入</td>\n",
       "      <td>0.010079</td>\n",
       "    </tr>\n",
       "  </tbody>\n",
       "</table>\n",
       "</div>"
      ],
      "text/plain": [
       "                  Feature  feature_importances\n",
       "11                 净利润增长率             0.212743\n",
       "1                承诺期业绩增长率             0.087626\n",
       "6                 大股东持股比例             0.084510\n",
       "2                前三年承诺覆盖率             0.076756\n",
       "14                固定资产周转率             0.064560\n",
       "9                 D/(D+E)             0.058248\n",
       "3                   静态市盈率             0.043425\n",
       "8          注入资产净资产账面值(万元)             0.042504\n",
       "10                 总资产增长率             0.040454\n",
       "4                   动态市盈率             0.039162\n",
       "18                 研发支出占比             0.036687\n",
       "12                 总资产周转率             0.034670\n",
       "5                    成立年限             0.033870\n",
       "13                应收账款周转率             0.030669\n",
       "0            上一年归母净利润（万元）             0.027431\n",
       "7   最近一个完整会计年度对第一供应商的采购占比             0.026625\n",
       "16                 净资产收益率             0.026594\n",
       "15         （固定资产+土地）/归母权益             0.023389\n",
       "17              经营性现金流/收入             0.010079"
      ]
     },
     "execution_count": 111,
     "metadata": {},
     "output_type": "execute_result"
    }
   ],
   "source": [
    "feature_importances_value"
   ]
  },
  {
   "cell_type": "code",
   "execution_count": 112,
   "id": "6b663f4f",
   "metadata": {},
   "outputs": [],
   "source": [
    "train_new_data=train_data[selected_feature]\n",
    "train_new_X=scaler.fit_transform(train_new_data)"
   ]
  },
  {
   "cell_type": "code",
   "execution_count": 113,
   "id": "56a6cc39",
   "metadata": {},
   "outputs": [
    {
     "name": "stdout",
     "output_type": "stream",
     "text": [
      "The best parameters are {'eta': 0.1, 'gamma': 0, 'max_depth': 1, 'min_child_weight': 10} with a score of 0.12\n"
     ]
    }
   ],
   "source": [
    "from sklearn.model_selection import GridSearchCV  \n",
    "parameter_space = {\n",
    "    'eta': [0.1, 0.2],\n",
    "    'gamma':[0,1,10],\n",
    "    'max_depth': [1,3, 6],\n",
    "    'min_child_weight': [5,10, 15]\n",
    "}\n",
    "\n",
    "grid = GridSearchCV(xgb.XGBRegressor(), parameter_space, cv=5)  \n",
    "grid.fit(train_new_X, train_y)\n",
    "print(\"The best parameters are %s with a score of %0.2f\" %(grid.best_params_, grid.best_score_))"
   ]
  },
  {
   "cell_type": "code",
   "execution_count": 114,
   "id": "c381abd1",
   "metadata": {},
   "outputs": [
    {
     "data": {
      "text/plain": [
       "0.11708574595582817"
      ]
     },
     "execution_count": 114,
     "metadata": {},
     "output_type": "execute_result"
    }
   ],
   "source": [
    "score=[]\n",
    "model_XGBRegressor=xgb.XGBRegressor(random_state=23,eta=0.1, gamma=0, max_depth=1, min_child_weight=10)\n",
    "score=cross_val_score(model_XGBRegressor,train_new_X,train_y,cv=5,scoring='r2')\n",
    "score.mean()"
   ]
  },
  {
   "cell_type": "code",
   "execution_count": null,
   "id": "27b028f5",
   "metadata": {},
   "outputs": [],
   "source": []
  },
  {
   "cell_type": "markdown",
   "id": "62e464c7",
   "metadata": {},
   "source": [
    "**MLP回归**"
   ]
  },
  {
   "cell_type": "markdown",
   "id": "1a18856f",
   "metadata": {},
   "source": [
    "&emsp;由于神经网络没有 coef_ 或 feature_importances_ 属性，因此无法通过RFECV属性进行特征选择。<br>\n",
    "注：MLP的coef_返回的并不是属性的系数，而是返回一个矩阵表示神经网络每个连接之间的权重。即对于f(a(b(c(x))))中 a,b,c中的系数，不能直接输出f(x)中的系数。<br>\n",
    "&emsp;需要通过比如RReliefF方法进行特征选择。在此篇中不进行详细说明。"
   ]
  },
  {
   "cell_type": "code",
   "execution_count": null,
   "id": "939c7cf8",
   "metadata": {},
   "outputs": [],
   "source": []
  },
  {
   "cell_type": "markdown",
   "id": "397f007b",
   "metadata": {},
   "source": [
    "**特征选择结果对比**<br>"
   ]
  },
  {
   "cell_type": "markdown",
   "id": "ba798f2c",
   "metadata": {},
   "source": [
    "| 模型 | 特征选择前 |RFECV |\n",
    "|------|----------|------|\n",
    "|线性回归|  -1.7671\t | -0.2221 | \n",
    "|岭回归 | -0.092 |  0.1834 | \n",
    "| Adaboost回归  | 0.1403 | 0.1547   |\n",
    "| XGBOOST回归   | 0.0603 | 0.1311  | \n",
    "| LGBM回归     | 0.1457 |  0.2088  |  \n",
    "| 神经网络回归  | -0.0524 | \\ | \n",
    "| KNN回归 | 0.1872 | \\ |\n",
    "\n",
    "<br>\n",
    "\n",
    "线性回归 |岭回归 |AdaBoost |LGBM |XGBoost |\n",
    ":----|:----|:----|:----|:----|\n",
    "净利润增长率\t|净利润增长率\t|净利润增长率\t|承诺期业绩增长率\t|净利润增长率\n",
    "\t       |固定资产周转率\t|前三年承诺覆盖率\t|总资产增长率\t|前三年承诺覆盖率\n",
    "\t       |前三年承诺覆盖率\t|承诺期业绩增长率\t|净资产收益率\t|静态市盈率\n",
    "\t|应收账款周转率\t|成立年限\t|大股东持股比例\t|D/(D+E)\n",
    "\t|\t|总资产增长率\t|D/(D+E)\t|研发支出占比\n",
    "\t|\t|D/(D+E)\t|动态市盈率\t|成立年限\n",
    "\t|\t|上一年归母净利润（万元）\t|上一年归母净利润（万元）\t|总资产增长率\n",
    "\t|\t|大股东持股比例\t|前三年承诺覆盖率\t|大股东持股比例\n",
    "\t|\t|最近一个完整会计年度对第一供应商的采购占比\t|净利润增长率\t|动态市盈率\n",
    "\t|\t|净资产收益率\t|毛利率\t|总资产周转率\n",
    "\t|\t|静态市盈率\t|成立年限\t|经营杠杆（EBITDA/EBIT)\n",
    "\t|\t|动态市盈率\t|归母权益增长率\t|上一年归母净利润（万元）\n",
    "\t|\t|固定资产周转率\t|资产负债率\t|流动比率\n",
    "\t|\t|存货周转率\t|\t|资产负债率\n",
    "\t|\t|注入资产净资产账面值(万元)\t|\t|承诺期业绩增长率\n",
    "\t|\t|归母权益增长率\t|\t|注入资产净资产账面值(万元)\n",
    "\t|\t|总资产周转率\t|\t|归母权益增长率\n",
    "\t|\t|毛利率\t|\t|固定资产周转率\n",
    "\t|\t|最近一个完整会计年度对第一大客户的销售占比\t|\t|最近一个完整会计年度对第一供应商的采购占比\n",
    "\t|\t|应收账款周转率\t|\t|在建工程/归母权益\n",
    "\t|\t|经营性现金流/收入\t|\t|最近一个完整会计年度对第一大客户的销售占比\n",
    "\t|\t|经营杠杆（EBITDA/EBIT)\t|\t|毛利率\n",
    "\t|\t|资产负债率\t|\t|净资产收益率\n",
    "\t|\t|流动比率\t|\t|\n",
    "\t|\t|（固定资产+土地）/归母权益\t|\t|\n",
    "\t|\t|在建工程/归母权益\t|\t|\n",
    "\n",
    "\n",
    "注：\n",
    "1. 对于AdaBoost算法来说，先调参后进行特征选择的效果比先特征选择再调参效果好；先调参后进行特征选择只筛去了审核结果。\n",
    "2. 对于XGBoost算法来说先调参后进行特征选择的效果比先特征选择再调参效果好；\n",
    "3. 对于LGBM算法来说，先进行特征选择再进行调参的效果比先调参再进行特征选择好；但差异不显著\n",
    "4. 由于神经网络没有 feature_importance参数或者 coef_参数，因此无法通过改方法进行特征选择。可以通过如比如RReliefF方法进行特征选择。"
   ]
  },
  {
   "cell_type": "code",
   "execution_count": null,
   "id": "c9cf66cb",
   "metadata": {},
   "outputs": [],
   "source": []
  },
  {
   "cell_type": "markdown",
   "id": "cfd360a6",
   "metadata": {},
   "source": [
    "### 3.3 特征选择：Embedded\n",
    "&emsp;有些学习器算法自身自带选择特征步骤。对于回归类算法，常见的为正则化，岭回归，Lasso回归,弹性网回归和最小角度模型都是在最小二乘的基础上添加正则惩罚项实现特征选择。<br>\n",
    "&emsp;另外一种常见的Embedded方法为决策树算法中通过信息增益来进行剪枝。<br>\n",
    "&emsp;以下内容仅对Embedded算法的特征选择结果进行分析，模型的效果已在2.2中展现。"
   ]
  },
  {
   "cell_type": "markdown",
   "id": "3f072898",
   "metadata": {},
   "source": [
    "&emsp;岭回归和最小角度回归的区别主要是岭回归使用L2范数，Lasso回归使用L1范数。而弹性网络则综合了L1正则化项和L2正则化项。"
   ]
  },
  {
   "cell_type": "markdown",
   "id": "4a3d9421",
   "metadata": {},
   "source": [
    "&emsp;一般来说，如果L1和L2对比，L2比L1要好一些，因为L2之后，精度更好且较好适应、拟合。L1的效果在处理稀疏数据时候比较棒，且有利于稀疏数据的特征。那么从理论上来说，L1+L2=Elastic Nets的办法，既可以处理稀疏问题，同时也可以保证精度。但是，实际上引入超参数会难以适当，至少在超参数搜索上成本较高，实际案例中很少有L1+L2的效果优于L2的。"
   ]
  },
  {
   "cell_type": "code",
   "execution_count": null,
   "id": "4ed885e1",
   "metadata": {},
   "outputs": [],
   "source": []
  },
  {
   "cell_type": "markdown",
   "id": "53893695",
   "metadata": {},
   "source": [
    "**RidgeCV回归**"
   ]
  },
  {
   "cell_type": "code",
   "execution_count": 214,
   "id": "71818552",
   "metadata": {},
   "outputs": [
    {
     "data": {
      "text/plain": [
       "-0.09214666509499606"
      ]
     },
     "execution_count": 214,
     "metadata": {},
     "output_type": "execute_result"
    }
   ],
   "source": [
    "reg = RidgeCV()\n",
    "cv_results = cross_validate(reg, train_X, train_y, cv=5, return_estimator=True)\n",
    "\n",
    "\n",
    "coef=[]\n",
    "intercept=[]\n",
    "\n",
    "for model in cv_results['estimator']:\n",
    "    coef.append(model.coef_)\n",
    "    intercept.append(model.intercept_)\n",
    "\n",
    "cv_results['test_score'].mean()"
   ]
  },
  {
   "cell_type": "code",
   "execution_count": 199,
   "id": "dcea9edd",
   "metadata": {},
   "outputs": [],
   "source": [
    "coef=np.absolute(np.mean(coef, axis = 0))"
   ]
  },
  {
   "cell_type": "code",
   "execution_count": 200,
   "id": "bdf6c53a",
   "metadata": {},
   "outputs": [],
   "source": [
    "feature_importances_value=pd.DataFrame({'Feature': columns,'feature_importances':coef}).sort_values('feature_importances',ascending=False)"
   ]
  },
  {
   "cell_type": "code",
   "execution_count": 201,
   "id": "a19ef712",
   "metadata": {},
   "outputs": [
    {
     "data": {
      "text/html": [
       "<div>\n",
       "<style scoped>\n",
       "    .dataframe tbody tr th:only-of-type {\n",
       "        vertical-align: middle;\n",
       "    }\n",
       "\n",
       "    .dataframe tbody tr th {\n",
       "        vertical-align: top;\n",
       "    }\n",
       "\n",
       "    .dataframe thead th {\n",
       "        text-align: right;\n",
       "    }\n",
       "</style>\n",
       "<table border=\"1\" class=\"dataframe\">\n",
       "  <thead>\n",
       "    <tr style=\"text-align: right;\">\n",
       "      <th></th>\n",
       "      <th>Feature</th>\n",
       "      <th>feature_importances</th>\n",
       "    </tr>\n",
       "  </thead>\n",
       "  <tbody>\n",
       "    <tr>\n",
       "      <th>6</th>\n",
       "      <td>成立年限</td>\n",
       "      <td>0.008374</td>\n",
       "    </tr>\n",
       "    <tr>\n",
       "      <th>3</th>\n",
       "      <td>前三年承诺覆盖率</td>\n",
       "      <td>0.007878</td>\n",
       "    </tr>\n",
       "    <tr>\n",
       "      <th>14</th>\n",
       "      <td>净利润增长率</td>\n",
       "      <td>0.007708</td>\n",
       "    </tr>\n",
       "    <tr>\n",
       "      <th>16</th>\n",
       "      <td>存货周转率</td>\n",
       "      <td>0.004998</td>\n",
       "    </tr>\n",
       "    <tr>\n",
       "      <th>18</th>\n",
       "      <td>固定资产周转率</td>\n",
       "      <td>0.004997</td>\n",
       "    </tr>\n",
       "    <tr>\n",
       "      <th>11</th>\n",
       "      <td>D/(D+E)</td>\n",
       "      <td>0.004976</td>\n",
       "    </tr>\n",
       "    <tr>\n",
       "      <th>24</th>\n",
       "      <td>净资产收益率</td>\n",
       "      <td>0.004158</td>\n",
       "    </tr>\n",
       "    <tr>\n",
       "      <th>5</th>\n",
       "      <td>动态市盈率</td>\n",
       "      <td>0.004136</td>\n",
       "    </tr>\n",
       "    <tr>\n",
       "      <th>2</th>\n",
       "      <td>承诺期业绩增长率</td>\n",
       "      <td>0.003505</td>\n",
       "    </tr>\n",
       "    <tr>\n",
       "      <th>7</th>\n",
       "      <td>大股东持股比例</td>\n",
       "      <td>0.003317</td>\n",
       "    </tr>\n",
       "    <tr>\n",
       "      <th>15</th>\n",
       "      <td>总资产周转率</td>\n",
       "      <td>0.002864</td>\n",
       "    </tr>\n",
       "    <tr>\n",
       "      <th>27</th>\n",
       "      <td>研发支出占比</td>\n",
       "      <td>0.002699</td>\n",
       "    </tr>\n",
       "    <tr>\n",
       "      <th>13</th>\n",
       "      <td>归母权益增长率</td>\n",
       "      <td>0.002478</td>\n",
       "    </tr>\n",
       "    <tr>\n",
       "      <th>21</th>\n",
       "      <td>经营杠杆（EBITDA/EBIT)</td>\n",
       "      <td>0.002341</td>\n",
       "    </tr>\n",
       "    <tr>\n",
       "      <th>17</th>\n",
       "      <td>应收账款周转率</td>\n",
       "      <td>0.002009</td>\n",
       "    </tr>\n",
       "    <tr>\n",
       "      <th>19</th>\n",
       "      <td>流动比率</td>\n",
       "      <td>0.001910</td>\n",
       "    </tr>\n",
       "    <tr>\n",
       "      <th>10</th>\n",
       "      <td>注入资产净资产账面值(万元)</td>\n",
       "      <td>0.001625</td>\n",
       "    </tr>\n",
       "    <tr>\n",
       "      <th>23</th>\n",
       "      <td>在建工程/归母权益</td>\n",
       "      <td>0.001304</td>\n",
       "    </tr>\n",
       "    <tr>\n",
       "      <th>9</th>\n",
       "      <td>最近一个完整会计年度对第一供应商的采购占比</td>\n",
       "      <td>0.001222</td>\n",
       "    </tr>\n",
       "    <tr>\n",
       "      <th>1</th>\n",
       "      <td>上一年归母净利润（万元）</td>\n",
       "      <td>0.001167</td>\n",
       "    </tr>\n",
       "    <tr>\n",
       "      <th>20</th>\n",
       "      <td>资产负债率</td>\n",
       "      <td>0.001143</td>\n",
       "    </tr>\n",
       "    <tr>\n",
       "      <th>4</th>\n",
       "      <td>静态市盈率</td>\n",
       "      <td>0.001115</td>\n",
       "    </tr>\n",
       "    <tr>\n",
       "      <th>25</th>\n",
       "      <td>毛利率</td>\n",
       "      <td>0.000900</td>\n",
       "    </tr>\n",
       "    <tr>\n",
       "      <th>12</th>\n",
       "      <td>总资产增长率</td>\n",
       "      <td>0.000856</td>\n",
       "    </tr>\n",
       "    <tr>\n",
       "      <th>0</th>\n",
       "      <td>审核结果</td>\n",
       "      <td>0.000640</td>\n",
       "    </tr>\n",
       "    <tr>\n",
       "      <th>8</th>\n",
       "      <td>最近一个完整会计年度对第一大客户的销售占比</td>\n",
       "      <td>0.000385</td>\n",
       "    </tr>\n",
       "    <tr>\n",
       "      <th>26</th>\n",
       "      <td>经营性现金流/收入</td>\n",
       "      <td>0.000289</td>\n",
       "    </tr>\n",
       "    <tr>\n",
       "      <th>22</th>\n",
       "      <td>（固定资产+土地）/归母权益</td>\n",
       "      <td>0.000044</td>\n",
       "    </tr>\n",
       "  </tbody>\n",
       "</table>\n",
       "</div>"
      ],
      "text/plain": [
       "                  Feature  feature_importances\n",
       "6                    成立年限             0.008374\n",
       "3                前三年承诺覆盖率             0.007878\n",
       "14                 净利润增长率             0.007708\n",
       "16                  存货周转率             0.004998\n",
       "18                固定资产周转率             0.004997\n",
       "11                D/(D+E)             0.004976\n",
       "24                 净资产收益率             0.004158\n",
       "5                   动态市盈率             0.004136\n",
       "2                承诺期业绩增长率             0.003505\n",
       "7                 大股东持股比例             0.003317\n",
       "15                 总资产周转率             0.002864\n",
       "27                 研发支出占比             0.002699\n",
       "13                归母权益增长率             0.002478\n",
       "21      经营杠杆（EBITDA/EBIT)             0.002341\n",
       "17                应收账款周转率             0.002009\n",
       "19                   流动比率             0.001910\n",
       "10         注入资产净资产账面值(万元)             0.001625\n",
       "23              在建工程/归母权益             0.001304\n",
       "9   最近一个完整会计年度对第一供应商的采购占比             0.001222\n",
       "1            上一年归母净利润（万元）             0.001167\n",
       "20                  资产负债率             0.001143\n",
       "4                   静态市盈率             0.001115\n",
       "25                    毛利率             0.000900\n",
       "12                 总资产增长率             0.000856\n",
       "0                    审核结果             0.000640\n",
       "8   最近一个完整会计年度对第一大客户的销售占比             0.000385\n",
       "26              经营性现金流/收入             0.000289\n",
       "22         （固定资产+土地）/归母权益             0.000044"
      ]
     },
     "execution_count": 201,
     "metadata": {},
     "output_type": "execute_result"
    }
   ],
   "source": [
    "feature_importances_value"
   ]
  },
  {
   "cell_type": "code",
   "execution_count": null,
   "id": "097deed5",
   "metadata": {},
   "outputs": [],
   "source": []
  },
  {
   "cell_type": "markdown",
   "id": "b58298f4",
   "metadata": {},
   "source": [
    "**LassoCV回归**"
   ]
  },
  {
   "cell_type": "code",
   "execution_count": 215,
   "id": "f4be5016",
   "metadata": {},
   "outputs": [
    {
     "data": {
      "text/plain": [
       "-0.023687686423727206"
      ]
     },
     "execution_count": 215,
     "metadata": {},
     "output_type": "execute_result"
    }
   ],
   "source": [
    "from sklearn.linear_model import LassoCV\n",
    "\n",
    "reg = LassoCV()\n",
    "cv_results = cross_validate(reg, train_X, train_y, cv=5, return_estimator=True)\n",
    "\n",
    "\n",
    "coef=[]\n",
    "intercept=[]\n",
    "\n",
    "for model in cv_results['estimator']:\n",
    "    coef.append(model.coef_)\n",
    "    intercept.append(model.intercept_)\n",
    "\n",
    "cv_results['test_score'].mean()"
   ]
  },
  {
   "cell_type": "code",
   "execution_count": 203,
   "id": "3b9f3388",
   "metadata": {},
   "outputs": [],
   "source": [
    "coef=np.absolute(np.mean(coef, axis = 0))"
   ]
  },
  {
   "cell_type": "code",
   "execution_count": 204,
   "id": "7746bdf6",
   "metadata": {},
   "outputs": [],
   "source": [
    "feature_importances_value=pd.DataFrame({'Feature': columns,'feature_importances':coef}).sort_values('feature_importances',ascending=False)\n",
    "feature_importances_value=feature_importances_value.drop( index = feature_importances_value.feature_importances[feature_importances_value.feature_importances == 0].index )"
   ]
  },
  {
   "cell_type": "code",
   "execution_count": 205,
   "id": "77ac3fd6",
   "metadata": {
    "scrolled": true
   },
   "outputs": [
    {
     "data": {
      "text/html": [
       "<div>\n",
       "<style scoped>\n",
       "    .dataframe tbody tr th:only-of-type {\n",
       "        vertical-align: middle;\n",
       "    }\n",
       "\n",
       "    .dataframe tbody tr th {\n",
       "        vertical-align: top;\n",
       "    }\n",
       "\n",
       "    .dataframe thead th {\n",
       "        text-align: right;\n",
       "    }\n",
       "</style>\n",
       "<table border=\"1\" class=\"dataframe\">\n",
       "  <thead>\n",
       "    <tr style=\"text-align: right;\">\n",
       "      <th></th>\n",
       "      <th>Feature</th>\n",
       "      <th>feature_importances</th>\n",
       "    </tr>\n",
       "  </thead>\n",
       "  <tbody>\n",
       "    <tr>\n",
       "      <th>14</th>\n",
       "      <td>净利润增长率</td>\n",
       "      <td>0.011711</td>\n",
       "    </tr>\n",
       "    <tr>\n",
       "      <th>3</th>\n",
       "      <td>前三年承诺覆盖率</td>\n",
       "      <td>0.010240</td>\n",
       "    </tr>\n",
       "    <tr>\n",
       "      <th>6</th>\n",
       "      <td>成立年限</td>\n",
       "      <td>0.010164</td>\n",
       "    </tr>\n",
       "    <tr>\n",
       "      <th>11</th>\n",
       "      <td>D/(D+E)</td>\n",
       "      <td>0.003884</td>\n",
       "    </tr>\n",
       "    <tr>\n",
       "      <th>16</th>\n",
       "      <td>存货周转率</td>\n",
       "      <td>0.003426</td>\n",
       "    </tr>\n",
       "    <tr>\n",
       "      <th>5</th>\n",
       "      <td>动态市盈率</td>\n",
       "      <td>0.002572</td>\n",
       "    </tr>\n",
       "    <tr>\n",
       "      <th>18</th>\n",
       "      <td>固定资产周转率</td>\n",
       "      <td>0.002189</td>\n",
       "    </tr>\n",
       "    <tr>\n",
       "      <th>27</th>\n",
       "      <td>研发支出占比</td>\n",
       "      <td>0.001595</td>\n",
       "    </tr>\n",
       "    <tr>\n",
       "      <th>21</th>\n",
       "      <td>经营杠杆（EBITDA/EBIT)</td>\n",
       "      <td>0.000968</td>\n",
       "    </tr>\n",
       "    <tr>\n",
       "      <th>19</th>\n",
       "      <td>流动比率</td>\n",
       "      <td>0.000910</td>\n",
       "    </tr>\n",
       "    <tr>\n",
       "      <th>0</th>\n",
       "      <td>审核结果</td>\n",
       "      <td>0.000339</td>\n",
       "    </tr>\n",
       "    <tr>\n",
       "      <th>2</th>\n",
       "      <td>承诺期业绩增长率</td>\n",
       "      <td>0.000318</td>\n",
       "    </tr>\n",
       "    <tr>\n",
       "      <th>7</th>\n",
       "      <td>大股东持股比例</td>\n",
       "      <td>0.000284</td>\n",
       "    </tr>\n",
       "    <tr>\n",
       "      <th>24</th>\n",
       "      <td>净资产收益率</td>\n",
       "      <td>0.000128</td>\n",
       "    </tr>\n",
       "  </tbody>\n",
       "</table>\n",
       "</div>"
      ],
      "text/plain": [
       "              Feature  feature_importances\n",
       "14             净利润增长率             0.011711\n",
       "3            前三年承诺覆盖率             0.010240\n",
       "6                成立年限             0.010164\n",
       "11            D/(D+E)             0.003884\n",
       "16              存货周转率             0.003426\n",
       "5               动态市盈率             0.002572\n",
       "18            固定资产周转率             0.002189\n",
       "27             研发支出占比             0.001595\n",
       "21  经营杠杆（EBITDA/EBIT)             0.000968\n",
       "19               流动比率             0.000910\n",
       "0                审核结果             0.000339\n",
       "2            承诺期业绩增长率             0.000318\n",
       "7             大股东持股比例             0.000284\n",
       "24             净资产收益率             0.000128"
      ]
     },
     "execution_count": 205,
     "metadata": {},
     "output_type": "execute_result"
    }
   ],
   "source": [
    "feature_importances_value"
   ]
  },
  {
   "cell_type": "code",
   "execution_count": null,
   "id": "3cb7b78a",
   "metadata": {},
   "outputs": [],
   "source": []
  },
  {
   "cell_type": "markdown",
   "id": "356b6885",
   "metadata": {},
   "source": [
    "**Elastic Net回归**"
   ]
  },
  {
   "cell_type": "code",
   "execution_count": 216,
   "id": "0f20a08e",
   "metadata": {},
   "outputs": [
    {
     "data": {
      "text/plain": [
       "-0.02305901965316102"
      ]
     },
     "execution_count": 216,
     "metadata": {},
     "output_type": "execute_result"
    }
   ],
   "source": [
    "from sklearn.linear_model import ElasticNetCV\n",
    "\n",
    "reg = ElasticNetCV()\n",
    "cv_results = cross_validate(reg, train_X, train_y, cv=5, return_estimator=True)\n",
    "\n",
    "\n",
    "coef=[]\n",
    "intercept=[]\n",
    "\n",
    "for model in cv_results['estimator']:\n",
    "    coef.append(model.coef_)\n",
    "    intercept.append(model.intercept_)"
   ]
  },
  {
   "cell_type": "code",
   "execution_count": 207,
   "id": "5600b1d8",
   "metadata": {},
   "outputs": [],
   "source": [
    "coef=np.absolute(np.mean(coef, axis = 0))"
   ]
  },
  {
   "cell_type": "code",
   "execution_count": 208,
   "id": "81021075",
   "metadata": {},
   "outputs": [],
   "source": [
    "feature_importances_value=pd.DataFrame({'Feature': columns,'feature_importances':coef}).sort_values('feature_importances',ascending=False)\n",
    "feature_importances_value=feature_importances_value.drop( index = feature_importances_value.feature_importances[feature_importances_value.feature_importances == 0].index )"
   ]
  },
  {
   "cell_type": "code",
   "execution_count": 209,
   "id": "2390a572",
   "metadata": {},
   "outputs": [
    {
     "data": {
      "text/html": [
       "<div>\n",
       "<style scoped>\n",
       "    .dataframe tbody tr th:only-of-type {\n",
       "        vertical-align: middle;\n",
       "    }\n",
       "\n",
       "    .dataframe tbody tr th {\n",
       "        vertical-align: top;\n",
       "    }\n",
       "\n",
       "    .dataframe thead th {\n",
       "        text-align: right;\n",
       "    }\n",
       "</style>\n",
       "<table border=\"1\" class=\"dataframe\">\n",
       "  <thead>\n",
       "    <tr style=\"text-align: right;\">\n",
       "      <th></th>\n",
       "      <th>Feature</th>\n",
       "      <th>feature_importances</th>\n",
       "    </tr>\n",
       "  </thead>\n",
       "  <tbody>\n",
       "    <tr>\n",
       "      <th>14</th>\n",
       "      <td>净利润增长率</td>\n",
       "      <td>0.011572</td>\n",
       "    </tr>\n",
       "    <tr>\n",
       "      <th>3</th>\n",
       "      <td>前三年承诺覆盖率</td>\n",
       "      <td>0.010194</td>\n",
       "    </tr>\n",
       "    <tr>\n",
       "      <th>6</th>\n",
       "      <td>成立年限</td>\n",
       "      <td>0.010120</td>\n",
       "    </tr>\n",
       "    <tr>\n",
       "      <th>11</th>\n",
       "      <td>D/(D+E)</td>\n",
       "      <td>0.003858</td>\n",
       "    </tr>\n",
       "    <tr>\n",
       "      <th>16</th>\n",
       "      <td>存货周转率</td>\n",
       "      <td>0.003406</td>\n",
       "    </tr>\n",
       "    <tr>\n",
       "      <th>5</th>\n",
       "      <td>动态市盈率</td>\n",
       "      <td>0.002580</td>\n",
       "    </tr>\n",
       "    <tr>\n",
       "      <th>18</th>\n",
       "      <td>固定资产周转率</td>\n",
       "      <td>0.002207</td>\n",
       "    </tr>\n",
       "    <tr>\n",
       "      <th>27</th>\n",
       "      <td>研发支出占比</td>\n",
       "      <td>0.001580</td>\n",
       "    </tr>\n",
       "    <tr>\n",
       "      <th>21</th>\n",
       "      <td>经营杠杆（EBITDA/EBIT)</td>\n",
       "      <td>0.000968</td>\n",
       "    </tr>\n",
       "    <tr>\n",
       "      <th>19</th>\n",
       "      <td>流动比率</td>\n",
       "      <td>0.000908</td>\n",
       "    </tr>\n",
       "    <tr>\n",
       "      <th>0</th>\n",
       "      <td>审核结果</td>\n",
       "      <td>0.000338</td>\n",
       "    </tr>\n",
       "    <tr>\n",
       "      <th>2</th>\n",
       "      <td>承诺期业绩增长率</td>\n",
       "      <td>0.000327</td>\n",
       "    </tr>\n",
       "    <tr>\n",
       "      <th>7</th>\n",
       "      <td>大股东持股比例</td>\n",
       "      <td>0.000284</td>\n",
       "    </tr>\n",
       "    <tr>\n",
       "      <th>24</th>\n",
       "      <td>净资产收益率</td>\n",
       "      <td>0.000130</td>\n",
       "    </tr>\n",
       "  </tbody>\n",
       "</table>\n",
       "</div>"
      ],
      "text/plain": [
       "              Feature  feature_importances\n",
       "14             净利润增长率             0.011572\n",
       "3            前三年承诺覆盖率             0.010194\n",
       "6                成立年限             0.010120\n",
       "11            D/(D+E)             0.003858\n",
       "16              存货周转率             0.003406\n",
       "5               动态市盈率             0.002580\n",
       "18            固定资产周转率             0.002207\n",
       "27             研发支出占比             0.001580\n",
       "21  经营杠杆（EBITDA/EBIT)             0.000968\n",
       "19               流动比率             0.000908\n",
       "0                审核结果             0.000338\n",
       "2            承诺期业绩增长率             0.000327\n",
       "7             大股东持股比例             0.000284\n",
       "24             净资产收益率             0.000130"
      ]
     },
     "execution_count": 209,
     "metadata": {},
     "output_type": "execute_result"
    }
   ],
   "source": [
    "feature_importances_value"
   ]
  },
  {
   "cell_type": "code",
   "execution_count": null,
   "id": "1c27b3b3",
   "metadata": {},
   "outputs": [],
   "source": []
  },
  {
   "cell_type": "markdown",
   "id": "f96d10f2",
   "metadata": {},
   "source": [
    "**最小角回归**"
   ]
  },
  {
   "cell_type": "code",
   "execution_count": 217,
   "id": "09e4b13e",
   "metadata": {},
   "outputs": [
    {
     "data": {
      "text/plain": [
       "0.06333416833903838"
      ]
     },
     "execution_count": 217,
     "metadata": {},
     "output_type": "execute_result"
    }
   ],
   "source": [
    "from sklearn.model_selection import cross_validate\n",
    "from sklearn.linear_model import LarsCV\n",
    "\n",
    "reg = LarsCV()\n",
    "cv_results = cross_validate(reg,train_X, train_y, cv=5, return_estimator=True)\n",
    "\n",
    "\n",
    "coef=[]\n",
    "intercept=[]\n",
    "\n",
    "for model in cv_results['estimator']:\n",
    "    coef.append(model.coef_)\n",
    "    intercept.append(model.intercept_)"
   ]
  },
  {
   "cell_type": "code",
   "execution_count": 211,
   "id": "463b655b",
   "metadata": {},
   "outputs": [],
   "source": [
    "coef=np.absolute(np.mean(coef, axis = 0))"
   ]
  },
  {
   "cell_type": "code",
   "execution_count": 212,
   "id": "f654de89",
   "metadata": {},
   "outputs": [],
   "source": [
    "feature_importances_value=pd.DataFrame({'Feature': columns,'feature_importances':coef}).sort_values('feature_importances',ascending=False)\n",
    "feature_importances_value=feature_importances_value.drop( index = feature_importances_value.feature_importances[feature_importances_value.feature_importances == 0].index )"
   ]
  },
  {
   "cell_type": "code",
   "execution_count": 213,
   "id": "f1211c72",
   "metadata": {},
   "outputs": [
    {
     "data": {
      "text/html": [
       "<div>\n",
       "<style scoped>\n",
       "    .dataframe tbody tr th:only-of-type {\n",
       "        vertical-align: middle;\n",
       "    }\n",
       "\n",
       "    .dataframe tbody tr th {\n",
       "        vertical-align: top;\n",
       "    }\n",
       "\n",
       "    .dataframe thead th {\n",
       "        text-align: right;\n",
       "    }\n",
       "</style>\n",
       "<table border=\"1\" class=\"dataframe\">\n",
       "  <thead>\n",
       "    <tr style=\"text-align: right;\">\n",
       "      <th></th>\n",
       "      <th>Feature</th>\n",
       "      <th>feature_importances</th>\n",
       "    </tr>\n",
       "  </thead>\n",
       "  <tbody>\n",
       "    <tr>\n",
       "      <th>14</th>\n",
       "      <td>净利润增长率</td>\n",
       "      <td>0.015780</td>\n",
       "    </tr>\n",
       "    <tr>\n",
       "      <th>18</th>\n",
       "      <td>固定资产周转率</td>\n",
       "      <td>0.007455</td>\n",
       "    </tr>\n",
       "    <tr>\n",
       "      <th>3</th>\n",
       "      <td>前三年承诺覆盖率</td>\n",
       "      <td>0.006937</td>\n",
       "    </tr>\n",
       "    <tr>\n",
       "      <th>6</th>\n",
       "      <td>成立年限</td>\n",
       "      <td>0.006135</td>\n",
       "    </tr>\n",
       "    <tr>\n",
       "      <th>16</th>\n",
       "      <td>存货周转率</td>\n",
       "      <td>0.002261</td>\n",
       "    </tr>\n",
       "    <tr>\n",
       "      <th>5</th>\n",
       "      <td>动态市盈率</td>\n",
       "      <td>0.001349</td>\n",
       "    </tr>\n",
       "    <tr>\n",
       "      <th>11</th>\n",
       "      <td>D/(D+E)</td>\n",
       "      <td>0.001315</td>\n",
       "    </tr>\n",
       "    <tr>\n",
       "      <th>10</th>\n",
       "      <td>注入资产净资产账面值(万元)</td>\n",
       "      <td>0.000786</td>\n",
       "    </tr>\n",
       "    <tr>\n",
       "      <th>12</th>\n",
       "      <td>总资产增长率</td>\n",
       "      <td>0.000649</td>\n",
       "    </tr>\n",
       "    <tr>\n",
       "      <th>7</th>\n",
       "      <td>大股东持股比例</td>\n",
       "      <td>0.000405</td>\n",
       "    </tr>\n",
       "    <tr>\n",
       "      <th>0</th>\n",
       "      <td>审核结果</td>\n",
       "      <td>0.000089</td>\n",
       "    </tr>\n",
       "    <tr>\n",
       "      <th>27</th>\n",
       "      <td>研发支出占比</td>\n",
       "      <td>0.000038</td>\n",
       "    </tr>\n",
       "    <tr>\n",
       "      <th>21</th>\n",
       "      <td>经营杠杆（EBITDA/EBIT)</td>\n",
       "      <td>0.000010</td>\n",
       "    </tr>\n",
       "  </tbody>\n",
       "</table>\n",
       "</div>"
      ],
      "text/plain": [
       "              Feature  feature_importances\n",
       "14             净利润增长率             0.015780\n",
       "18            固定资产周转率             0.007455\n",
       "3            前三年承诺覆盖率             0.006937\n",
       "6                成立年限             0.006135\n",
       "16              存货周转率             0.002261\n",
       "5               动态市盈率             0.001349\n",
       "11            D/(D+E)             0.001315\n",
       "10     注入资产净资产账面值(万元)             0.000786\n",
       "12             总资产增长率             0.000649\n",
       "7             大股东持股比例             0.000405\n",
       "0                审核结果             0.000089\n",
       "27             研发支出占比             0.000038\n",
       "21  经营杠杆（EBITDA/EBIT)             0.000010"
      ]
     },
     "execution_count": 213,
     "metadata": {},
     "output_type": "execute_result"
    }
   ],
   "source": [
    "feature_importances_value"
   ]
  },
  {
   "cell_type": "markdown",
   "id": "770574f3",
   "metadata": {},
   "source": [
    "&emsp;四种方法选择出来的特征如下表格所示：<br>\n",
    "\n",
    "|模型| $R^2$|\n",
    "|--|--|\n",
    "|线性回归|-1.7671|\n",
    "|岭回归|-0.0921|\n",
    "|最小角度回归|-0.0236|\t\n",
    "|Elastic Net回归|\t-0.0231|\t\n",
    "|Lasso回归\t|0.0633|\n",
    "\n",
    "\n",
    "|岭回归|Lasso回归|Elastic Net|最小角度回归|\n",
    "|:----|:----|:----|:----|\n",
    "成立年限\t|净利润增长率\t|净利润增长率\t|净利润增长率\n",
    "前三年承诺覆盖率\t|前三年承诺覆盖率\t|前三年承诺覆盖率\t|固定资产周转率\n",
    "净利润增长率\t|成立年限\t|成立年限\t|前三年承诺覆盖率\n",
    "存货周转率\t|D/(D+E)\t|D/(D+E)\t|成立年限\n",
    "固定资产周转率\t|存货周转率\t|存货周转率\t|存货周转率\n",
    "D/(D+E)\t|动态市盈率\t|动态市盈率\t|动态市盈率\n",
    "净资产收益率\t|固定资产周转率\t|固定资产周转率\t|D/(D+E)\n",
    "动态市盈率\t|研发支出占比\t|研发支出占比\t|注入资产净资产账面值(万元)\n",
    "承诺期业绩增长率\t|经营杠杆（EBITDA/EBIT)\t|经营杠杆（EBITDA/EBIT)\t|总资产增长率\n",
    "大股东持股比例\t|流动比率\t|流动比率\t|大股东持股比例\n",
    "总资产周转率\t|审核结果\t|审核结果\t|审核结果\n",
    "研发支出占比\t|承诺期业绩增长率\t|承诺期业绩增长率\t|研发支出占比\n",
    "归母权益增长率\t|大股东持股比例\t|大股东持股比例\t|经营杠杆（EBITDA/EBIT)\n",
    "经营杠杆（EBITDA/EBIT)\t|净资产收益率\t|净资产收益率\t|\n",
    "应收账款周转率\t|\t|\t|\n",
    "流动比率\t|\t|\t|\n",
    "注入资产净资产账面值(万元)\t|\t|\t|\n",
    "在建工程/归母权益\t|\t|\t|\n",
    "最近一个完整会计年度对第一供应商的采购占比\t|\t|\t|\n",
    "上一年归母净利润（万元）\t|\t|\t|\n"
   ]
  },
  {
   "cell_type": "code",
   "execution_count": null,
   "id": "a1033362",
   "metadata": {},
   "outputs": [],
   "source": []
  },
  {
   "cell_type": "markdown",
   "id": "f554f7e5",
   "metadata": {},
   "source": [
    "### 3.4 特征选择结论"
   ]
  },
  {
   "cell_type": "markdown",
   "id": "06525b85",
   "metadata": {},
   "source": [
    "|模型名称    |未进行特征下选择 |相关系数   |P-value|RFECV  |\n",
    "|--------|---------|-------|-------|-------|\n",
    "|线性回归    |-1.7671|0.0012|<font color='orange'>0.1288</font> |-0.2222|\n",
    "|岭回归|-0.0921 |0.1443 | 0.1552 |  <font color='orange'>0.1834</font>|\n",
    "| KNN回归 | -0.0649 | <font color='orange'>0.1872</font> | 0.1305 | \\ |\n",
    "|AdaBoost|0.1403  |<font color='orange'> 0.1863</font>  |0.1610   |0.1547   |\n",
    "|XGBOOST |0.0603  |0.0564  |0.0718 |<font color='orange'>0.1311</font> |\n",
    "|LGBM    |0.1457   |0.0446   |0.0791   |<font color='orange'>0.2088 </font>  |\n",
    "|MLP     |-0.0524    |0.1734  |<font color='red'>0.2182</font>    |       |"
   ]
  },
  {
   "cell_type": "markdown",
   "id": "d116fc3e",
   "metadata": {},
   "source": [
    "目前所有的特征选择方法的结果如下："
   ]
  },
  {
   "cell_type": "markdown",
   "id": "1f6f3085",
   "metadata": {},
   "source": [
    "| 相关系数     | P值检验     | 线性回归   | 岭回归      | AdaBoost              | LGBM         | XGBoost               | 岭回归                   | Lasso回归           | 最小角度回归            |\n",
    "| -------- | -------- | ------ | -------- | --------------------- | ------------ | --------------------- | --------------------- | ----------------- | ----------------- |\n",
    "| 前三年承诺覆盖率 | 前三年承诺覆盖率 | 净利润增长率 | 净利润增长率   | 净利润增长率                | 承诺期业绩增长率     | 净利润增长率                | 成立年限                  | 净利润增长率            | 净利润增长率            |\n",
    "| 动态市盈率    | 成立年限     |        | 固定资产周转率  | 前三年承诺覆盖率              | 总资产增长率       | 前三年承诺覆盖率              | 前三年承诺覆盖率              | 前三年承诺覆盖率          | 固定资产周转率           |\n",
    "| 成立年限     | 净利润增长率   |        | 前三年承诺覆盖率 | 承诺期业绩增长率              | 净资产收益率       | 静态市盈率                 | 净利润增长率                | 成立年限              | 前三年承诺覆盖率          |\n",
    "| 净利润增长率   | 固定资产周转率  |        | 应收账款周转率  | 成立年限                  | 大股东持股比例      | D/(D+E)               | 存货周转率                 | D/(D+E)           | 成立年限              |\n",
    "| 固定资产周转率  | 动态市盈率    |        |          | 总资产增长率                | D/(D+E)      | 研发支出占比                | 固定资产周转率               | 存货周转率             | 存货周转率             |\n",
    "|          | 总资产周转率   |        |          | D/(D+E)               | 动态市盈率        | 成立年限                  | D/(D+E)               | 动态市盈率             | 动态市盈率             |\n",
    "|          | 归母权益增长率  |        |          | 上一年归母净利润（万元）          | 上一年归母净利润（万元） | 总资产增长率                | 净资产收益率                | 固定资产周转率           | D/(D+E)           |\n",
    "|          |          |        |          | 大股东持股比例               | 前三年承诺覆盖率     | 大股东持股比例               | 动态市盈率                 | 研发支出占比            | 注入资产净资产账面值(万元)    |\n",
    "|          |          |        |          | 最近一个完整会计年度对第一供应商的采购占比 | 净利润增长率       | 动态市盈率                 | 承诺期业绩增长率              | 经营杠杆（EBITDA/EBIT) | 总资产增长率            |\n",
    "|          |          |        |          | 净资产收益率                | 毛利率          | 总资产周转率                | 大股东持股比例               | 流动比率              | 大股东持股比例           |\n",
    "|          |          |        |          | 静态市盈率                 | 成立年限         | 经营杠杆（EBITDA/EBIT)     | 总资产周转率                | 审核结果              | 审核结果              |\n",
    "|          |          |        |          | 动态市盈率                 | 归母权益增长率      | 上一年归母净利润（万元）          | 研发支出占比                | 承诺期业绩增长率          | 研发支出占比            |\n",
    "|          |          |        |          | 固定资产周转率               | 资产负债率        | 流动比率                  | 归母权益增长率               | 大股东持股比例           | 经营杠杆（EBITDA/EBIT) |\n",
    "|          |          |        |          | 存货周转率                 |              | 资产负债率                 | 经营杠杆（EBITDA/EBIT)     | 净资产收益率            |                   |\n",
    "|          |          |        |          | 注入资产净资产账面值(万元)        |              | 承诺期业绩增长率              | 应收账款周转率               |                   |                   |\n",
    "|          |          |        |          | 归母权益增长率               |              | 注入资产净资产账面值(万元)        | 流动比率                  |                   |                   |\n",
    "|          |          |        |          | 总资产周转率                |              | 归母权益增长率               | 注入资产净资产账面值(万元)        |                   |                   |\n",
    "|          |          |        |          | 毛利率                   |              | 固定资产周转率               | 在建工程/归母权益             |                   |                   |\n",
    "|          |          |        |          | 最近一个完整会计年度对第一大客户的销售占比 |              | 最近一个完整会计年度对第一供应商的采购占比 | 最近一个完整会计年度对第一供应商的采购占比 |                   |                   |\n",
    "|          |          |        |          | 应收账款周转率               |              | 在建工程/归母权益             | 上一年归母净利润（万元）          |                   |                   |\n",
    "|          |          |        |          | 经营性现金流/收入             |              | 最近一个完整会计年度对第一大客户的销售占比 | 资产负债率                 |                   |                   |\n",
    "|          |          |        |          | 经营杠杆（EBITDA/EBIT)     |              | 毛利率                   | 静态市盈率                 |                   |                   |\n",
    "|          |          |        |          | 资产负债率                 |              | 净资产收益率                |                       |                   |                   |\n",
    "|          |          |        |          | 流动比率                  |              |                       |                       |                   |                   |\n",
    "|          |          |        |          | （固定资产+土地）/归母权益        |              |                       |                       |                   |                   |\n",
    "|          |          |        |          | 在建工程/归母权益             |              |                       |                       |                   |                   |"
   ]
  },
  {
   "cell_type": "markdown",
   "id": "ffdce8a8",
   "metadata": {},
   "source": [
    "  &emsp;从表格中我们可以看出，几种模型中选择出的比较统一的特征有  净利润增长率，前三年承诺覆盖率，成立年限，动态市盈率，固定资产周转率，D/(D+E),大股东持股比例。我们认为以上几个指标和公司的特有风险有比较强的相关性。<br>\n",
    "  &emsp;与另一课题的结果： 公司资产负债率，经营性现金流入/流出，研发支出占比，归母权益增长率，净利润增长率，总资产周转率，应收账款周转率，上一年归母净利润，成立年限 的Jaccard相似度为 1/7, 相似度并不高。其中P值检验的结果和研究结果的相似度最高，为1/3。一般相似度普遍在0.17左右<br><br>\n",
    "  \n",
    " &emsp; 通过P-Value对多层感知机进行特征选择后交叉验证的$R^2$的平均值最高。 LGBM也可以获得不错的结果。<br><br>\n",
    "对于各种方法而言：<br>\n",
    " &emsp;  特征选择能显著提高机器学习模型的效果。<br>\n",
    " &emsp;  相比统计方法，RFECV方法一般来说能获得更好的效果。<br>"
   ]
  },
  {
   "cell_type": "markdown",
   "id": "6607eb00",
   "metadata": {},
   "source": [
    "## 4 结果展示"
   ]
  },
  {
   "cell_type": "code",
   "execution_count": 62,
   "id": "2ba7ed93",
   "metadata": {},
   "outputs": [],
   "source": [
    "t_result=test_y.tolist()"
   ]
  },
  {
   "cell_type": "code",
   "execution_count": 63,
   "id": "42da48c3",
   "metadata": {},
   "outputs": [],
   "source": [
    "#输出R^2分数，并且展示预测值和真实值的区别\n",
    "def show_result(model):\n",
    "    model.fit(train_new_X,train_y)\n",
    "    score = model.score(test_new_X, test_y)\n",
    "    result = model.predict(test_new_X)\n",
    "    plt.figure()\n",
    "    plt.plot(np.arange(len(result)), test_y,'go-',label='true value')\n",
    "    plt.plot(np.arange(len(result)),result,'ro-',label='predict value')\n",
    "    plt.title('score: %f'%score)\n",
    "    plt.legend()\n",
    "    plt.show()"
   ]
  },
  {
   "cell_type": "markdown",
   "id": "7a9fd4e2",
   "metadata": {},
   "source": [
    "**线性回归**"
   ]
  },
  {
   "cell_type": "code",
   "execution_count": 64,
   "id": "290d7625",
   "metadata": {},
   "outputs": [],
   "source": [
    "train_new_data=train_data[[\"前三年承诺覆盖率\", \"成立年限\", \"净利润增长率\", \"固定资产周转率\", \"动态市盈率\", \"总资产周转率\", \"归母权益增长率\"]]\n",
    "train_new_X=scaler.fit_transform(train_new_data)\n",
    "test_new_data=test_data[[\"前三年承诺覆盖率\", \"成立年限\", \"净利润增长率\", \"固定资产周转率\", \"动态市盈率\", \"总资产周转率\", \"归母权益增长率\"]]\n",
    "test_new_X=scaler.transform(test_new_data)"
   ]
  },
  {
   "cell_type": "code",
   "execution_count": 65,
   "id": "62fa8a46",
   "metadata": {},
   "outputs": [
    {
     "data": {
      "image/png": "[encoded data removed]",
      "text/plain": [
       "<Figure size 432x288 with 1 Axes>"
      ]
     },
     "metadata": {
      "needs_background": "light"
     },
     "output_type": "display_data"
    }
   ],
   "source": [
    "show_result(model_LinearRegression)"
   ]
  },
  {
   "cell_type": "code",
   "execution_count": 67,
   "id": "515bbb8a",
   "metadata": {},
   "outputs": [],
   "source": [
    "model=model_LinearRegression\n",
    "model.fit(train_new_X,train_y)\n",
    "p_result=model.predict(test_new_X).tolist()\n",
    "linear_mse=[]\n",
    "for i in range(len(p_result)):\n",
    "    linear_mse.append((p_result[i]-t_result[i])**2)"
   ]
  },
  {
   "cell_type": "markdown",
   "id": "0c8655c1",
   "metadata": {},
   "source": [
    "**岭回归**"
   ]
  },
  {
   "cell_type": "code",
   "execution_count": 68,
   "id": "559f6632",
   "metadata": {},
   "outputs": [],
   "source": [
    "train_new_data=train_data[[\"前三年承诺覆盖率\", \"成立年限\", \"净利润增长率\", \"固定资产周转率\", \"动态市盈率\", \"总资产周转率\", \"归母权益增长率\"]]\n",
    "train_new_X=scaler.fit_transform(train_new_data)\n",
    "test_new_data=test_data[[\"前三年承诺覆盖率\", \"成立年限\", \"净利润增长率\", \"固定资产周转率\", \"动态市盈率\", \"总资产周转率\", \"归母权益增长率\"]]\n",
    "test_new_X=scaler.transform(test_new_data)"
   ]
  },
  {
   "cell_type": "code",
   "execution_count": 69,
   "id": "7cd251c3",
   "metadata": {},
   "outputs": [
    {
     "data": {
      "image/png": "[encoded data removed]",
      "text/plain": [
       "<Figure size 432x288 with 1 Axes>"
      ]
     },
     "metadata": {
      "needs_background": "light"
     },
     "output_type": "display_data"
    }
   ],
   "source": [
    "show_result(model_RidgeCV)"
   ]
  },
  {
   "cell_type": "code",
   "execution_count": 70,
   "id": "f55de6cb",
   "metadata": {},
   "outputs": [],
   "source": [
    "model=model_RidgeCV\n",
    "model.fit(train_new_X,train_y)\n",
    "p_result=model.predict(test_new_X).tolist()\n",
    "ridge_mse=[]\n",
    "for i in range(len(p_result)):\n",
    "    ridge_mse.append(abs(p_result[i]-t_result[i])**2)"
   ]
  },
  {
   "cell_type": "markdown",
   "id": "55c9541b",
   "metadata": {},
   "source": [
    "**KNN回归**"
   ]
  },
  {
   "cell_type": "code",
   "execution_count": 96,
   "id": "50b130b8",
   "metadata": {},
   "outputs": [],
   "source": [
    "train_new_data=train_data[['前三年承诺覆盖率', '动态市盈率', '成立年限', '净利润增长率', '固定资产周转率']]\n",
    "train_new_X=scaler.fit_transform(train_new_data)\n",
    "test_new_data=test_data[['前三年承诺覆盖率', '动态市盈率', '成立年限', '净利润增长率', '固定资产周转率']]\n",
    "test_new_X=scaler.transform(test_new_data)"
   ]
  },
  {
   "cell_type": "code",
   "execution_count": 97,
   "id": "9ffd5f49",
   "metadata": {},
   "outputs": [
    {
     "data": {
      "image/png": "[encoded data removed]",
      "text/plain": [
       "<Figure size 432x288 with 1 Axes>"
      ]
     },
     "metadata": {
      "needs_background": "light"
     },
     "output_type": "display_data"
    }
   ],
   "source": [
    "model_KNeighborsRegressor=neighbors.KNeighborsRegressor(n_neighbors=13, p=1, weights='uniform')\n",
    "show_result(model_KNeighborsRegressor)"
   ]
  },
  {
   "cell_type": "code",
   "execution_count": 98,
   "id": "4f3f874c",
   "metadata": {},
   "outputs": [],
   "source": [
    "model=model_KNeighborsRegressor\n",
    "model.fit(train_new_X,train_y)\n",
    "p_result=model.predict(test_new_X).tolist()\n",
    "knn_mse=[]\n",
    "for i in range(len(p_result)):\n",
    "    knn_mse.append((p_result[i]-t_result[i])**2)"
   ]
  },
  {
   "cell_type": "markdown",
   "id": "f4e09e5b",
   "metadata": {},
   "source": [
    "**AdaBoost**"
   ]
  },
  {
   "cell_type": "code",
   "execution_count": 74,
   "id": "36b2cab8",
   "metadata": {},
   "outputs": [],
   "source": [
    "selected_feature=['前三年承诺覆盖率','动态市盈率','成立年限','净利润增长率','固定资产周转率']"
   ]
  },
  {
   "cell_type": "code",
   "execution_count": 75,
   "id": "c356898e",
   "metadata": {},
   "outputs": [],
   "source": [
    "train_new_data=train_data[selected_feature]\n",
    "train_new_X=scaler.fit_transform(train_new_data)\n",
    "test_new_data=test_data[selected_feature]\n",
    "test_new_X=scaler.transform(test_new_data)"
   ]
  },
  {
   "cell_type": "code",
   "execution_count": 76,
   "id": "e29350ab",
   "metadata": {},
   "outputs": [],
   "source": [
    "model_AdaBoostRegressor=ensemble.AdaBoostRegressor(base_estimator= tree.DecisionTreeRegressor(max_depth=3),learning_rate=0.5, n_estimators=50,random_state=23)"
   ]
  },
  {
   "cell_type": "code",
   "execution_count": 77,
   "id": "f35d7d97",
   "metadata": {},
   "outputs": [
    {
     "data": {
      "image/png": "[encoded data removed]",
      "text/plain": [
       "<Figure size 432x288 with 1 Axes>"
      ]
     },
     "metadata": {
      "needs_background": "light"
     },
     "output_type": "display_data"
    }
   ],
   "source": [
    "show_result(model_AdaBoostRegressor)"
   ]
  },
  {
   "cell_type": "code",
   "execution_count": 78,
   "id": "b9ce186b",
   "metadata": {},
   "outputs": [],
   "source": [
    "model=model_AdaBoostRegressor\n",
    "model.fit(train_new_X,train_y)\n",
    "p_result=model.predict(test_new_X).tolist()\n",
    "ada_mse=[]\n",
    "for i in range(len(p_result)):\n",
    "    ada_mse.append((p_result[i]-t_result[i])**2)"
   ]
  },
  {
   "cell_type": "code",
   "execution_count": null,
   "id": "844e5e99",
   "metadata": {},
   "outputs": [],
   "source": []
  },
  {
   "cell_type": "markdown",
   "id": "329b9d84",
   "metadata": {},
   "source": [
    "**MLP**"
   ]
  },
  {
   "cell_type": "code",
   "execution_count": 79,
   "id": "65398244",
   "metadata": {},
   "outputs": [],
   "source": [
    "train_new_data=train_data[[\"前三年承诺覆盖率\", \"成立年限\", \"净利润增长率\", \"固定资产周转率\", \"动态市盈率\", \"总资产周转率\", \"归母权益增长率\"]]\n",
    "train_new_X=scaler.fit_transform(train_new_data)\n",
    "test_new_data=test_data[[\"前三年承诺覆盖率\", \"成立年限\", \"净利润增长率\", \"固定资产周转率\", \"动态市盈率\", \"总资产周转率\", \"归母权益增长率\"]]\n",
    "test_new_X=scaler.transform(test_new_data)"
   ]
  },
  {
   "cell_type": "code",
   "execution_count": 80,
   "id": "e142ebe0",
   "metadata": {},
   "outputs": [],
   "source": [
    "model_MLPRegressor=MLPRegressor(activation='relu', alpha= 0.0001, hidden_layer_sizes= (5, 5, 5, 5), learning_rate= 'constant', solver= 'lbfgs',random_state=23)"
   ]
  },
  {
   "cell_type": "code",
   "execution_count": 81,
   "id": "2e92e349",
   "metadata": {},
   "outputs": [
    {
     "data": {
      "image/png": "[encoded data removed]",
      "text/plain": [
       "<Figure size 432x288 with 1 Axes>"
      ]
     },
     "metadata": {
      "needs_background": "light"
     },
     "output_type": "display_data"
    }
   ],
   "source": [
    "show_result(model_MLPRegressor)"
   ]
  },
  {
   "cell_type": "code",
   "execution_count": 82,
   "id": "3715a192",
   "metadata": {},
   "outputs": [],
   "source": [
    "model=model_MLPRegressor\n",
    "model.fit(train_new_X,train_y)\n",
    "p_result=model.predict(test_new_X).tolist()\n",
    "mlp_mse=[]\n",
    "for i in range(len(p_result)):\n",
    "    mlp_mse.append((p_result[i]-t_result[i])**2)"
   ]
  },
  {
   "cell_type": "code",
   "execution_count": null,
   "id": "ece21533",
   "metadata": {},
   "outputs": [],
   "source": []
  },
  {
   "cell_type": "markdown",
   "id": "07871800",
   "metadata": {},
   "source": [
    "**XGBoost**"
   ]
  },
  {
   "cell_type": "code",
   "execution_count": 83,
   "id": "2df6fd67",
   "metadata": {},
   "outputs": [],
   "source": [
    "selected_feature=[\"净利润增长率\",\"前三年承诺覆盖率\",\"静态市盈率\",\"D/(D+E)\",\"研发支出占比\",\"成立年限\",\"总资产增长率\",\"大股东持股比例\",\"动态市盈率\",\"总资产周转率\",\"经营杠杆（EBITDA/EBIT)\",\"上一年归母净利润（万元）\",\"流动比率\",\"资产负债率\",\"承诺期业绩增长率\",\"注入资产净资产账面值(万元)\",\"归母权益增长率\",\"固定资产周转率\",\"最近一个完整会计年度对第一供应商的采购占比\",\"在建工程/归母权益\",\"最近一个完整会计年度对第一大客户的销售占比\",\"毛利率\",\"净资产收益率\"]"
   ]
  },
  {
   "cell_type": "code",
   "execution_count": 84,
   "id": "1590a6a7",
   "metadata": {},
   "outputs": [],
   "source": [
    "train_new_data=train_data[selected_feature]\n",
    "train_new_X=scaler.fit_transform(train_new_data)\n",
    "test_new_data=test_data[selected_feature]\n",
    "test_new_X=scaler.transform(test_new_data)"
   ]
  },
  {
   "cell_type": "code",
   "execution_count": 85,
   "id": "da6125f7",
   "metadata": {},
   "outputs": [],
   "source": [
    "model_XGBRegressor= xgb.XGBRegressor(booster='dart', eta= 0.2, gamma= 0, max_depth= 9, min_child_weight= 10,random_state=23)"
   ]
  },
  {
   "cell_type": "code",
   "execution_count": 86,
   "id": "b91bb3bb",
   "metadata": {},
   "outputs": [
    {
     "data": {
      "image/png": "[encoded data removed]",
      "text/plain": [
       "<Figure size 432x288 with 1 Axes>"
      ]
     },
     "metadata": {
      "needs_background": "light"
     },
     "output_type": "display_data"
    }
   ],
   "source": [
    "show_result(model_XGBRegressor)"
   ]
  },
  {
   "cell_type": "code",
   "execution_count": 87,
   "id": "cc44717f",
   "metadata": {},
   "outputs": [],
   "source": [
    "model=model_XGBRegressor\n",
    "model.fit(train_new_X,train_y)\n",
    "p_result=model.predict(test_new_X).tolist()\n",
    "xgb_mse=[]\n",
    "for i in range(len(p_result)):\n",
    "    xgb_mse.append((p_result[i]-t_result[i])**2)"
   ]
  },
  {
   "cell_type": "code",
   "execution_count": null,
   "id": "bb50a477",
   "metadata": {},
   "outputs": [],
   "source": []
  },
  {
   "cell_type": "markdown",
   "id": "5b7e658d",
   "metadata": {},
   "source": [
    "**LGBM**"
   ]
  },
  {
   "cell_type": "code",
   "execution_count": 88,
   "id": "15919e2e",
   "metadata": {},
   "outputs": [],
   "source": [
    "selected_feature=[\"承诺期业绩增长率\",\"总资产增长率\",\"净资产收益率\",\"大股东持股比例\",\"D/(D+E)\",\"动态市盈率\",\"上一年归母净利润（万元）\",\"前三年承诺覆盖率\",\"净利润增长率\",\"毛利率\",\"成立年限\",\"归母权益增长率\",\"资产负债率\"]"
   ]
  },
  {
   "cell_type": "code",
   "execution_count": 89,
   "id": "c71b940d",
   "metadata": {},
   "outputs": [],
   "source": [
    "train_new_data=train_data[selected_feature]\n",
    "train_new_X=scaler.fit_transform(train_new_data)\n",
    "test_new_data=test_data[selected_feature]\n",
    "test_new_X=scaler.transform(test_new_data)"
   ]
  },
  {
   "cell_type": "code",
   "execution_count": 90,
   "id": "d2c6db5f",
   "metadata": {},
   "outputs": [],
   "source": [
    "model_LGBM=lgb.LGBMRegressor(cat_smooth=0, max_depth=4, min_child_samples=19, min_child_weight=0.001, num_leaves=20)"
   ]
  },
  {
   "cell_type": "code",
   "execution_count": 91,
   "id": "3f72eef6",
   "metadata": {},
   "outputs": [
    {
     "data": {
      "image/png": "[encoded data removed]",
      "text/plain": [
       "<Figure size 432x288 with 1 Axes>"
      ]
     },
     "metadata": {
      "needs_background": "light"
     },
     "output_type": "display_data"
    }
   ],
   "source": [
    "show_result(model_LGBMRegressor)"
   ]
  },
  {
   "cell_type": "code",
   "execution_count": 93,
   "id": "b82291ae",
   "metadata": {},
   "outputs": [],
   "source": [
    "model=model_LGBMRegressor\n",
    "model.fit(train_new_X,train_y)\n",
    "p_result=model.predict(test_new_X).tolist()\n",
    "lgbm_mse=[]\n",
    "for i in range(len(p_result)):\n",
    "    lgbm_mse.append((p_result[i]-t_result[i])**2)"
   ]
  },
  {
   "cell_type": "code",
   "execution_count": null,
   "id": "00bd0728",
   "metadata": {},
   "outputs": [],
   "source": []
  },
  {
   "cell_type": "markdown",
   "id": "56053c28",
   "metadata": {},
   "source": [
    "**配对样本的t检验MSE**"
   ]
  },
  {
   "cell_type": "markdown",
   "id": "95b21b1c",
   "metadata": {},
   "source": [
    "不同方法的MSE是否存在显著差别，结果和$R^2$的表现结果不同，疑惑"
   ]
  },
  {
   "cell_type": "code",
   "execution_count": 139,
   "id": "c31086ff",
   "metadata": {},
   "outputs": [],
   "source": [
    "from scipy.stats import ttest_rel"
   ]
  },
  {
   "cell_type": "code",
   "execution_count": 140,
   "id": "21b6dc55",
   "metadata": {},
   "outputs": [
    {
     "name": "stdout",
     "output_type": "stream",
     "text": [
      "nan\n",
      "0.419924544817287\n",
      "0.038858860159077746\n",
      "0.5058364310550953\n",
      "0.118974152159875\n",
      "0.14858539871231702\n",
      "0.01105118937916861\n",
      "\n",
      "\n",
      "0.419924544817287\n",
      "nan\n",
      "0.03988266739495003\n",
      "0.8203775974753298\n",
      "0.08232406628634877\n",
      "0.2360975162838716\n",
      "0.017660332151154184\n",
      "\n",
      "\n",
      "0.038858860159077746\n",
      "0.03988266739495003\n",
      "nan\n",
      "0.143079292992783\n",
      "0.9551319491227696\n",
      "0.8350226571654884\n",
      "0.1758980363223345\n",
      "\n",
      "\n",
      "0.5058364310550953\n",
      "0.8203775974753298\n",
      "0.143079292992783\n",
      "nan\n",
      "0.2860627320154042\n",
      "0.3111635084052355\n",
      "0.06703314580608773\n",
      "\n",
      "\n",
      "0.118974152159875\n",
      "0.08232406628634877\n",
      "0.9551319491227696\n",
      "0.2860627320154042\n",
      "nan\n",
      "0.8735468833395967\n",
      "0.2681199794969035\n",
      "\n",
      "\n",
      "0.14858539871231702\n",
      "0.2360975162838716\n",
      "0.8350226571654884\n",
      "0.3111635084052355\n",
      "0.8735468833395967\n",
      "nan\n",
      "0.40662507889342825\n",
      "\n",
      "\n",
      "0.01105118937916861\n",
      "0.017660332151154184\n",
      "0.1758980363223345\n",
      "0.06703314580608773\n",
      "0.2681199794969035\n",
      "0.40662507889342825\n",
      "nan\n",
      "\n",
      "\n"
     ]
    }
   ],
   "source": [
    "n_list=[\"linear_mse\",\"ridge_mse\",\"knn_mse\",\"ada_mse\",\"mlp_mse\",\"xgb_mse\",\"lgbm_mse\"]\n",
    "mse_list=[linear_mse,ridge_mse,knn_mse,ada_mse,mlp_mse,xgb_mse,lgbm_mse]\n",
    "ttest_p=[[0,0,0,0,0,0,0]]*7\n",
    "for i in range(len(mse_list)):\n",
    "    for j in range(len(mse_list)):\n",
    "        print( ttest_rel(mse_list[i],mse_list[j])[1])\n",
    "    print(\"\\n\")"
   ]
  },
  {
   "cell_type": "code",
   "execution_count": 118,
   "id": "3d0edf33",
   "metadata": {},
   "outputs": [
    {
     "data": {
      "text/plain": [
       "0.14858539871231702"
      ]
     },
     "execution_count": 118,
     "metadata": {},
     "output_type": "execute_result"
    }
   ],
   "source": [
    "ttest_rel(linear_mse, xgb_mse)[1]"
   ]
  },
  {
   "cell_type": "markdown",
   "id": "2bd358ec",
   "metadata": {},
   "source": [
    "linear | ridge | knn | ada | mlp | xgb | lgbm |\n",
    " -| -| -| -| -| -| -|\n",
    "false | true | false | true | true | true | false\n",
    "true | false | false | true | true | true | false\n",
    "false | false | false | true | true | true | true\n",
    "true | true | true | false | true | true | true\n",
    "true | true | true | true | false | true | true\n",
    "true | true | true | true | true | false | true\n",
    "false | false | true | true | true | true | false"
   ]
  },
  {
   "cell_type": "markdown",
   "id": "c15cd4ce",
   "metadata": {},
   "source": [
    "对于测试集各模型的表现如下\n",
    "\n",
    "**结果对比**<br>\n",
    "\n",
    "| 模型 | 5折交叉验证预期 | 测试集表现 |\n",
    "|------|----------|------|\n",
    "| LGBM回归     | 0.2088 | 0.4282    |\n",
    "| XGBOOST回归   | 0.1311 | 0.3008  |\n",
    "| 神经网络回归  | 0.2182 | 0.2706 |\n",
    "| KNN回归 | 0.1872 | 0.2647 |\n",
    "| Adaboost回归  | 0.1863 | 0.0936   |\n",
    "|岭回归| 0.1834 | 0.0685 |\n",
    "|线性回归|0.1288 | 0.0214 |\n",
    "\n",
    "\n",
    " &emsp;测试集的表现和训练集的表现有很大的差别,5-折交叉验证只能作为一个参考，最好还是通过大量数据集将数据分成训练集、验证集、测试集。交叉验证的平均值并不能完全表现一个模型的表现,特别是当某一个组别的得分远远低于其他分组时，平均值会产生很大的误导。特别是岭回归表现垫底出乎意外。<br>\n",
    " &emsp;需要指出的是，虽然K折交叉验证的结果往往不具备模型间的可比较性，但是往往能选择出模型中最好的特征和超参数组合。<br>\n",
    " &emsp;非线性模型由于模型的复杂度因此往往能取得更好的表现。但同时由于非线性模型的复杂，其往往对异常值比较敏感，在原版无筛选异常值的情况下，LGBM模型和XGBoost模型的表现在测试集上垫底。"
   ]
  },
  {
   "cell_type": "code",
   "execution_count": null,
   "id": "9e9d772e",
   "metadata": {},
   "outputs": [],
   "source": []
  },
  {
   "cell_type": "markdown",
   "id": "456d2ecc",
   "metadata": {},
   "source": [
    "## 5 展望"
   ]
  },
  {
   "cell_type": "markdown",
   "id": "87c35f48",
   "metadata": {},
   "source": [
    "&emsp; 对于行业的分类也可以作为一个变量，通过编码的方式作为机器学习的一个属性。<br>\n",
    "&emsp;从交叉验证的结果中可以看出，不同的抽样会导致模型的得分具有很大的差别。因此原始数据集存在特殊值，可以进一步优化。比如，手动KFold分组，根据结果求差集。或者使用留一交叉验证进行筛选。使用ifroest或者One-SVM根据实际结果来看使得模型表现结果变差。具体原因待后续研究。<br>\n",
    "&emsp;RFECV是基于他贪心算法进行特征选择。由于组合最优化问题往往是NPC问题。因此考虑通过如模拟退火、遗传算法、蚁群算法等现在启发式算法进行优化，得出最优解。并且这些算法不会再被coef_ 或者 feature_importance这种系数属性所限制，具有更广泛的通用性。<br>\n",
    "&emsp;机器学习的特征选择只对根据变量和因变量的相关性进行研究，并计算出相应的答案；并不能说明之间存在因果关系。在实际评估的过程中依旧需要根据会计和评估常识进行鉴别。此外，由于模型的复杂度和不可解释性，建议在小样本上依旧使用传统的基于方程的数学模型。<br>\n",
    "&emsp;并且由于机器学习模型的复杂性，当我们发现某一个参数或者特征存在问题时，我们往往无法手动像线性回归一样手动调整一因子解决问题，而只能通过调整样本的权重或者输入更多的数据来解决问题。<br>\n",
    "&emsp;机器学习需要建立在大量数据集的基础上。从《特有风险short》和《特有风险raw》的对比中我们可以看出，相比传统的基于方程的数学模型，机器学习模型超参数的选择更容易受到超参数和异常值的影响，因此需要通过对异常值进行筛选，并通过海量数据来消除随机梯度下降的随机性对超参数的影响，从而获得更好的超参数。"
   ]
  },
  {
   "cell_type": "markdown",
   "id": "6e29b187",
   "metadata": {},
   "source": [
    "&emsp;对于业务是否要引入AI或者机器学习算法，可以从以下几个角度进行分析\n",
    "1. 问答表现出来的特征是不是很多？\n",
    "2. 特征是否具有很强的不确定性？\n",
    "3. 问题的相关数据可以获取吗？\n",
    "4. 获取的数据够全面吗，关键因素的数据可以获取吗？\n",
    "5. 能获取的数据量大吗，当业务遇到问题时，有反馈数据吗？\n",
    "6. 反馈数据可以跟其他数据形成闭环吗？\n",
    "7. 是否不需要解释背后的原因\n",
    "8. 这个问题允许出错吗？\n",
    "\n",
    "对上述问题有越多的“是”回答，则越适合用机器学习。"
   ]
  },
  {
   "cell_type": "markdown",
   "id": "014201c7",
   "metadata": {},
   "source": [
    "具体可以用如下几张图说明：<br>\n",
    "<img src=\"https://easy-ai.oss-cn-shanghai.aliyuncs.com/2019-11-26-xiangxian.png\" width=\"50%\">\n",
    "<img src=\"https://easy-ai.oss-cn-shanghai.aliyuncs.com/2019-12-03-data-3.png\" width=\"50%\">\n",
    "<img src=\"https://easy-ai.oss-cn-shanghai.aliyuncs.com/2019-12-12-xiangxian-1.png\" width=\"50%\">"
   ]
  },
  {
   "cell_type": "code",
   "execution_count": null,
   "id": "473f233b",
   "metadata": {},
   "outputs": [],
   "source": []
  }
 ],
 "metadata": {
  "kernelspec": {
   "display_name": "Python 3",
   "language": "python",
   "name": "python3"
  },
  "language_info": {
   "codemirror_mode": {
    "name": "ipython",
    "version": 3
   },
   "file_extension": ".py",
   "mimetype": "text/x-python",
   "name": "python",
   "nbconvert_exporter": "python",
   "pygments_lexer": "ipython3",
   "version": "3.8.8"
  }
 },
 "nbformat": 4,
 "nbformat_minor": 5
}
