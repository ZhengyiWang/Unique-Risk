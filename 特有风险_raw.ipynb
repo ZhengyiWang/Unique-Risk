{
 "cells": [
  {
   "cell_type": "markdown",
   "id": "b40de5d6",
   "metadata": {},
   "source": [
    "## 1 导入数据"
   ]
  },
  {
   "cell_type": "code",
   "execution_count": 1,
   "id": "f6a83475",
   "metadata": {},
   "outputs": [],
   "source": [
    "from pylab import mpl\n",
    "\n",
    "mpl.rcParams['font.sans-serif'] = ['FangSong'] # 指定默认字体\n",
    "mpl.rcParams['axes.unicode_minus'] = False # 解决保存图像是负号'-'显示为方块的问题\n",
    "\n",
    "import warnings\n",
    "warnings.filterwarnings('ignore')"
   ]
  },
  {
   "cell_type": "code",
   "execution_count": 2,
   "id": "e6f3d91e",
   "metadata": {},
   "outputs": [],
   "source": [
    "import pandas as pd\n",
    "import numpy as np\n",
    "import matplotlib.pyplot as plt\n",
    "\n",
    "unique_risk = pd.read_csv('unique_risk - 副本.csv')"
   ]
  },
  {
   "cell_type": "code",
   "execution_count": 3,
   "id": "29ba6904",
   "metadata": {},
   "outputs": [
    {
     "data": {
      "text/html": [
       "<div>\n",
       "<style scoped>\n",
       "    .dataframe tbody tr th:only-of-type {\n",
       "        vertical-align: middle;\n",
       "    }\n",
       "\n",
       "    .dataframe tbody tr th {\n",
       "        vertical-align: top;\n",
       "    }\n",
       "\n",
       "    .dataframe thead th {\n",
       "        text-align: right;\n",
       "    }\n",
       "</style>\n",
       "<table border=\"1\" class=\"dataframe\">\n",
       "  <thead>\n",
       "    <tr style=\"text-align: right;\">\n",
       "      <th></th>\n",
       "      <th>Rc</th>\n",
       "      <th>审核结果</th>\n",
       "      <th>上一年归母净利润（万元）</th>\n",
       "      <th>承诺期业绩增长率</th>\n",
       "      <th>前三年承诺覆盖率</th>\n",
       "      <th>静态市盈率</th>\n",
       "      <th>动态市盈率</th>\n",
       "      <th>成立年限</th>\n",
       "      <th>大股东持股比例</th>\n",
       "      <th>最近一个完整会计年度对第一大客户的销售占比</th>\n",
       "      <th>...</th>\n",
       "      <th>固定资产周转率</th>\n",
       "      <th>流动比率</th>\n",
       "      <th>资产负债率</th>\n",
       "      <th>经营杠杆（EBITDA/EBIT)</th>\n",
       "      <th>（固定资产+土地）/归母权益</th>\n",
       "      <th>在建工程/归母权益</th>\n",
       "      <th>净资产收益率</th>\n",
       "      <th>毛利率</th>\n",
       "      <th>经营性现金流/收入</th>\n",
       "      <th>研发支出占比</th>\n",
       "    </tr>\n",
       "  </thead>\n",
       "  <tbody>\n",
       "    <tr>\n",
       "      <th>0</th>\n",
       "      <td>0.020</td>\n",
       "      <td>1</td>\n",
       "      <td>15972.0</td>\n",
       "      <td>0.20</td>\n",
       "      <td>0.27</td>\n",
       "      <td>16.47</td>\n",
       "      <td>12.84</td>\n",
       "      <td>17.94</td>\n",
       "      <td>1.00</td>\n",
       "      <td>0.39</td>\n",
       "      <td>...</td>\n",
       "      <td>928.92</td>\n",
       "      <td>1.78</td>\n",
       "      <td>0.55</td>\n",
       "      <td>1.00</td>\n",
       "      <td>0.01</td>\n",
       "      <td>0.00</td>\n",
       "      <td>0.38</td>\n",
       "      <td>0.09</td>\n",
       "      <td>0.02</td>\n",
       "      <td>0.00</td>\n",
       "    </tr>\n",
       "    <tr>\n",
       "      <th>1</th>\n",
       "      <td>0.020</td>\n",
       "      <td>0</td>\n",
       "      <td>4443.0</td>\n",
       "      <td>0.27</td>\n",
       "      <td>0.33</td>\n",
       "      <td>15.37</td>\n",
       "      <td>11.68</td>\n",
       "      <td>9.04</td>\n",
       "      <td>0.35</td>\n",
       "      <td>0.23</td>\n",
       "      <td>...</td>\n",
       "      <td>17.93</td>\n",
       "      <td>1.64</td>\n",
       "      <td>0.56</td>\n",
       "      <td>1.03</td>\n",
       "      <td>0.23</td>\n",
       "      <td>0.00</td>\n",
       "      <td>0.69</td>\n",
       "      <td>0.45</td>\n",
       "      <td>0.11</td>\n",
       "      <td>0.04</td>\n",
       "    </tr>\n",
       "    <tr>\n",
       "      <th>2</th>\n",
       "      <td>0.045</td>\n",
       "      <td>0</td>\n",
       "      <td>1417.0</td>\n",
       "      <td>0.63</td>\n",
       "      <td>0.29</td>\n",
       "      <td>34.65</td>\n",
       "      <td>14.88</td>\n",
       "      <td>6.20</td>\n",
       "      <td>0.29</td>\n",
       "      <td>0.40</td>\n",
       "      <td>...</td>\n",
       "      <td>44.80</td>\n",
       "      <td>113.26</td>\n",
       "      <td>0.01</td>\n",
       "      <td>1.01</td>\n",
       "      <td>0.02</td>\n",
       "      <td>0.00</td>\n",
       "      <td>0.74</td>\n",
       "      <td>0.93</td>\n",
       "      <td>0.51</td>\n",
       "      <td>0.28</td>\n",
       "    </tr>\n",
       "    <tr>\n",
       "      <th>3</th>\n",
       "      <td>0.010</td>\n",
       "      <td>1</td>\n",
       "      <td>5349.0</td>\n",
       "      <td>0.24</td>\n",
       "      <td>0.25</td>\n",
       "      <td>19.22</td>\n",
       "      <td>13.88</td>\n",
       "      <td>13.56</td>\n",
       "      <td>0.51</td>\n",
       "      <td>0.14</td>\n",
       "      <td>...</td>\n",
       "      <td>1087.77</td>\n",
       "      <td>1.37</td>\n",
       "      <td>0.73</td>\n",
       "      <td>1.02</td>\n",
       "      <td>0.01</td>\n",
       "      <td>0.00</td>\n",
       "      <td>0.23</td>\n",
       "      <td>0.06</td>\n",
       "      <td>0.00</td>\n",
       "      <td>0.00</td>\n",
       "    </tr>\n",
       "    <tr>\n",
       "      <th>4</th>\n",
       "      <td>0.005</td>\n",
       "      <td>1</td>\n",
       "      <td>14478.0</td>\n",
       "      <td>0.18</td>\n",
       "      <td>0.30</td>\n",
       "      <td>15.01</td>\n",
       "      <td>11.94</td>\n",
       "      <td>20.32</td>\n",
       "      <td>0.51</td>\n",
       "      <td>0.08</td>\n",
       "      <td>...</td>\n",
       "      <td>147.85</td>\n",
       "      <td>1.61</td>\n",
       "      <td>0.60</td>\n",
       "      <td>1.03</td>\n",
       "      <td>0.05</td>\n",
       "      <td>0.01</td>\n",
       "      <td>0.23</td>\n",
       "      <td>0.09</td>\n",
       "      <td>0.04</td>\n",
       "      <td>0.00</td>\n",
       "    </tr>\n",
       "  </tbody>\n",
       "</table>\n",
       "<p>5 rows × 29 columns</p>\n",
       "</div>"
      ],
      "text/plain": [
       "      Rc  审核结果  上一年归母净利润（万元）  承诺期业绩增长率  前三年承诺覆盖率  静态市盈率  动态市盈率   成立年限  \\\n",
       "0  0.020     1       15972.0      0.20      0.27  16.47  12.84  17.94   \n",
       "1  0.020     0        4443.0      0.27      0.33  15.37  11.68   9.04   \n",
       "2  0.045     0        1417.0      0.63      0.29  34.65  14.88   6.20   \n",
       "3  0.010     1        5349.0      0.24      0.25  19.22  13.88  13.56   \n",
       "4  0.005     1       14478.0      0.18      0.30  15.01  11.94  20.32   \n",
       "\n",
       "   大股东持股比例  最近一个完整会计年度对第一大客户的销售占比  ...  固定资产周转率    流动比率  资产负债率  \\\n",
       "0     1.00                   0.39  ...   928.92    1.78   0.55   \n",
       "1     0.35                   0.23  ...    17.93    1.64   0.56   \n",
       "2     0.29                   0.40  ...    44.80  113.26   0.01   \n",
       "3     0.51                   0.14  ...  1087.77    1.37   0.73   \n",
       "4     0.51                   0.08  ...   147.85    1.61   0.60   \n",
       "\n",
       "   经营杠杆（EBITDA/EBIT)  （固定资产+土地）/归母权益  在建工程/归母权益  净资产收益率   毛利率  经营性现金流/收入  \\\n",
       "0               1.00            0.01       0.00    0.38  0.09       0.02   \n",
       "1               1.03            0.23       0.00    0.69  0.45       0.11   \n",
       "2               1.01            0.02       0.00    0.74  0.93       0.51   \n",
       "3               1.02            0.01       0.00    0.23  0.06       0.00   \n",
       "4               1.03            0.05       0.01    0.23  0.09       0.04   \n",
       "\n",
       "   研发支出占比  \n",
       "0    0.00  \n",
       "1    0.04  \n",
       "2    0.28  \n",
       "3    0.00  \n",
       "4    0.00  \n",
       "\n",
       "[5 rows x 29 columns]"
      ]
     },
     "execution_count": 3,
     "metadata": {},
     "output_type": "execute_result"
    }
   ],
   "source": [
    "#将审核结果编码为0和1，作为一个可以进行机器学习的指标 （认为“发行股份购买资产获无条件通过”比“发行股份购买资产获有条件通过”好）\n",
    "#删除公司名称列，该列无法作为特征学习的指标\n",
    "unique_risk['审核结果']=unique_risk['审核结果'].map({'发行股份购买资产获无条件通过':1,'发行股份购买资产获有条件通过':0})\n",
    "unique_risk.head(5)"
   ]
  },
  {
   "cell_type": "code",
   "execution_count": 4,
   "id": "f9b3ddeb",
   "metadata": {},
   "outputs": [],
   "source": [
    "#按照顺序构造字典，方便将最后的特征选择结果输出为具体的属性名称\n",
    "feature_dict={\n",
    "0:'审核结果',\n",
    " 1:'上一年归母净利润（万元）',\n",
    " 2:'承诺期业绩增长率',\n",
    " 3:'前三年承诺覆盖率',\n",
    " 4:'静态市盈率',\n",
    " 5:'动态市盈率',\n",
    " 6:'成立年限',\n",
    " 7:'大股东持股比例',\n",
    " 8:'最近一个完整会计年度对第一大客户的销售占比',\n",
    " 9:'最近一个完整会计年度对第一供应商的采购占比',\n",
    " 10:'注入资产净资产账面值(万元)',\n",
    " 11:'D/(D+E)',\n",
    " 12:'总资产增长率' ,\n",
    " 13:'归母权益增长率',\n",
    " 14:'净利润增长率',\n",
    " 15:'总资产周转率',\n",
    " 16:'存货周转率',\n",
    " 17:'应收账款周转率',\n",
    " 18:'固定资产周转率',\n",
    " 19:'流动比率',\n",
    " 20:'资产负债率',\n",
    " 21:'经营杠杆（EBITDA/EBIT)',\n",
    " 22:'（固定资产+土地）/归母权益',\n",
    " 23:'在建工程/归母权益',\n",
    " 24:'净资产收益率',\n",
    " 25:'毛利率',\n",
    " 26:'经营性现金流/收入',\n",
    " 27:'研发支出占比'\n",
    "}"
   ]
  },
  {
   "cell_type": "code",
   "execution_count": 5,
   "id": "67641110",
   "metadata": {},
   "outputs": [],
   "source": [
    "target=unique_risk['Rc']"
   ]
  },
  {
   "cell_type": "code",
   "execution_count": 6,
   "id": "abb6156e",
   "metadata": {},
   "outputs": [
    {
     "data": {
      "text/html": [
       "<div>\n",
       "<style scoped>\n",
       "    .dataframe tbody tr th:only-of-type {\n",
       "        vertical-align: middle;\n",
       "    }\n",
       "\n",
       "    .dataframe tbody tr th {\n",
       "        vertical-align: top;\n",
       "    }\n",
       "\n",
       "    .dataframe thead th {\n",
       "        text-align: right;\n",
       "    }\n",
       "</style>\n",
       "<table border=\"1\" class=\"dataframe\">\n",
       "  <thead>\n",
       "    <tr style=\"text-align: right;\">\n",
       "      <th></th>\n",
       "      <th>审核结果</th>\n",
       "      <th>上一年归母净利润（万元）</th>\n",
       "      <th>承诺期业绩增长率</th>\n",
       "      <th>前三年承诺覆盖率</th>\n",
       "      <th>静态市盈率</th>\n",
       "      <th>动态市盈率</th>\n",
       "      <th>成立年限</th>\n",
       "      <th>大股东持股比例</th>\n",
       "      <th>最近一个完整会计年度对第一大客户的销售占比</th>\n",
       "      <th>最近一个完整会计年度对第一供应商的采购占比</th>\n",
       "      <th>...</th>\n",
       "      <th>固定资产周转率</th>\n",
       "      <th>流动比率</th>\n",
       "      <th>资产负债率</th>\n",
       "      <th>经营杠杆（EBITDA/EBIT)</th>\n",
       "      <th>（固定资产+土地）/归母权益</th>\n",
       "      <th>在建工程/归母权益</th>\n",
       "      <th>净资产收益率</th>\n",
       "      <th>毛利率</th>\n",
       "      <th>经营性现金流/收入</th>\n",
       "      <th>研发支出占比</th>\n",
       "    </tr>\n",
       "  </thead>\n",
       "  <tbody>\n",
       "    <tr>\n",
       "      <th>0</th>\n",
       "      <td>1</td>\n",
       "      <td>15972.0</td>\n",
       "      <td>0.20</td>\n",
       "      <td>0.27</td>\n",
       "      <td>16.47</td>\n",
       "      <td>12.84</td>\n",
       "      <td>17.94</td>\n",
       "      <td>1.00</td>\n",
       "      <td>0.39</td>\n",
       "      <td>0.41</td>\n",
       "      <td>...</td>\n",
       "      <td>928.92</td>\n",
       "      <td>1.78</td>\n",
       "      <td>0.55</td>\n",
       "      <td>1.00</td>\n",
       "      <td>0.01</td>\n",
       "      <td>0.00</td>\n",
       "      <td>0.38</td>\n",
       "      <td>0.09</td>\n",
       "      <td>0.02</td>\n",
       "      <td>0.00</td>\n",
       "    </tr>\n",
       "    <tr>\n",
       "      <th>1</th>\n",
       "      <td>0</td>\n",
       "      <td>4443.0</td>\n",
       "      <td>0.27</td>\n",
       "      <td>0.33</td>\n",
       "      <td>15.37</td>\n",
       "      <td>11.68</td>\n",
       "      <td>9.04</td>\n",
       "      <td>0.35</td>\n",
       "      <td>0.23</td>\n",
       "      <td>0.13</td>\n",
       "      <td>...</td>\n",
       "      <td>17.93</td>\n",
       "      <td>1.64</td>\n",
       "      <td>0.56</td>\n",
       "      <td>1.03</td>\n",
       "      <td>0.23</td>\n",
       "      <td>0.00</td>\n",
       "      <td>0.69</td>\n",
       "      <td>0.45</td>\n",
       "      <td>0.11</td>\n",
       "      <td>0.04</td>\n",
       "    </tr>\n",
       "    <tr>\n",
       "      <th>2</th>\n",
       "      <td>0</td>\n",
       "      <td>1417.0</td>\n",
       "      <td>0.63</td>\n",
       "      <td>0.29</td>\n",
       "      <td>34.65</td>\n",
       "      <td>14.88</td>\n",
       "      <td>6.20</td>\n",
       "      <td>0.29</td>\n",
       "      <td>0.40</td>\n",
       "      <td>0.31</td>\n",
       "      <td>...</td>\n",
       "      <td>44.80</td>\n",
       "      <td>113.26</td>\n",
       "      <td>0.01</td>\n",
       "      <td>1.01</td>\n",
       "      <td>0.02</td>\n",
       "      <td>0.00</td>\n",
       "      <td>0.74</td>\n",
       "      <td>0.93</td>\n",
       "      <td>0.51</td>\n",
       "      <td>0.28</td>\n",
       "    </tr>\n",
       "    <tr>\n",
       "      <th>3</th>\n",
       "      <td>1</td>\n",
       "      <td>5349.0</td>\n",
       "      <td>0.24</td>\n",
       "      <td>0.25</td>\n",
       "      <td>19.22</td>\n",
       "      <td>13.88</td>\n",
       "      <td>13.56</td>\n",
       "      <td>0.51</td>\n",
       "      <td>0.14</td>\n",
       "      <td>0.07</td>\n",
       "      <td>...</td>\n",
       "      <td>1087.77</td>\n",
       "      <td>1.37</td>\n",
       "      <td>0.73</td>\n",
       "      <td>1.02</td>\n",
       "      <td>0.01</td>\n",
       "      <td>0.00</td>\n",
       "      <td>0.23</td>\n",
       "      <td>0.06</td>\n",
       "      <td>0.00</td>\n",
       "      <td>0.00</td>\n",
       "    </tr>\n",
       "    <tr>\n",
       "      <th>4</th>\n",
       "      <td>1</td>\n",
       "      <td>14478.0</td>\n",
       "      <td>0.18</td>\n",
       "      <td>0.30</td>\n",
       "      <td>15.01</td>\n",
       "      <td>11.94</td>\n",
       "      <td>20.32</td>\n",
       "      <td>0.51</td>\n",
       "      <td>0.08</td>\n",
       "      <td>0.14</td>\n",
       "      <td>...</td>\n",
       "      <td>147.85</td>\n",
       "      <td>1.61</td>\n",
       "      <td>0.60</td>\n",
       "      <td>1.03</td>\n",
       "      <td>0.05</td>\n",
       "      <td>0.01</td>\n",
       "      <td>0.23</td>\n",
       "      <td>0.09</td>\n",
       "      <td>0.04</td>\n",
       "      <td>0.00</td>\n",
       "    </tr>\n",
       "  </tbody>\n",
       "</table>\n",
       "<p>5 rows × 28 columns</p>\n",
       "</div>"
      ],
      "text/plain": [
       "   审核结果  上一年归母净利润（万元）  承诺期业绩增长率  前三年承诺覆盖率  静态市盈率  动态市盈率   成立年限  大股东持股比例  \\\n",
       "0     1       15972.0      0.20      0.27  16.47  12.84  17.94     1.00   \n",
       "1     0        4443.0      0.27      0.33  15.37  11.68   9.04     0.35   \n",
       "2     0        1417.0      0.63      0.29  34.65  14.88   6.20     0.29   \n",
       "3     1        5349.0      0.24      0.25  19.22  13.88  13.56     0.51   \n",
       "4     1       14478.0      0.18      0.30  15.01  11.94  20.32     0.51   \n",
       "\n",
       "   最近一个完整会计年度对第一大客户的销售占比  最近一个完整会计年度对第一供应商的采购占比  ...  固定资产周转率    流动比率  资产负债率  \\\n",
       "0                   0.39                   0.41  ...   928.92    1.78   0.55   \n",
       "1                   0.23                   0.13  ...    17.93    1.64   0.56   \n",
       "2                   0.40                   0.31  ...    44.80  113.26   0.01   \n",
       "3                   0.14                   0.07  ...  1087.77    1.37   0.73   \n",
       "4                   0.08                   0.14  ...   147.85    1.61   0.60   \n",
       "\n",
       "   经营杠杆（EBITDA/EBIT)  （固定资产+土地）/归母权益  在建工程/归母权益  净资产收益率   毛利率  经营性现金流/收入  \\\n",
       "0               1.00            0.01       0.00    0.38  0.09       0.02   \n",
       "1               1.03            0.23       0.00    0.69  0.45       0.11   \n",
       "2               1.01            0.02       0.00    0.74  0.93       0.51   \n",
       "3               1.02            0.01       0.00    0.23  0.06       0.00   \n",
       "4               1.03            0.05       0.01    0.23  0.09       0.04   \n",
       "\n",
       "   研发支出占比  \n",
       "0    0.00  \n",
       "1    0.04  \n",
       "2    0.28  \n",
       "3    0.00  \n",
       "4    0.00  \n",
       "\n",
       "[5 rows x 28 columns]"
      ]
     },
     "execution_count": 6,
     "metadata": {},
     "output_type": "execute_result"
    }
   ],
   "source": [
    "data=unique_risk.drop(labels=['Rc'],axis=1)\n",
    "data.head(5)"
   ]
  },
  {
   "cell_type": "code",
   "execution_count": 7,
   "id": "8dbe03c0",
   "metadata": {},
   "outputs": [
    {
     "data": {
      "image/png": "[encoded data removed]",
      "text/plain": [
       "<Figure size 576x576 with 1 Axes>"
      ]
     },
     "metadata": {
      "needs_background": "light"
     },
     "output_type": "display_data"
    }
   ],
   "source": [
    "from sklearn.manifold import TSNE\n",
    "t_sne=TSNE(n_components=2,init='pca',random_state=23)\n",
    "X_tsne=t_sne.fit_transform(data)\n",
    "\n",
    "\"嵌入空间可视化\"\n",
    "x_min,x_max=X_tsne.min(0),X_tsne.max(0)\n",
    "X_norm=(X_tsne-x_min)/(x_max-x_min)\n",
    "plt.figure(figsize=(8,8))\n",
    "for i in range(X_norm.shape[0]):\n",
    "    plt.text(X_norm[i,0],X_norm[i,1],str(str(i)+\":\"+str(target[i])),fontdict={'weight':'bold','size':9})\n",
    "plt.show()"
   ]
  },
  {
   "cell_type": "code",
   "execution_count": 8,
   "id": "5ce378d0",
   "metadata": {},
   "outputs": [],
   "source": [
    "#存储列名，用于展示结果\n",
    "columns=data.columns"
   ]
  },
  {
   "cell_type": "code",
   "execution_count": 9,
   "id": "794608d4",
   "metadata": {},
   "outputs": [],
   "source": [
    "from sklearn.preprocessing import MinMaxScaler\n",
    "ss = MinMaxScaler()\n",
    "X = ss.fit_transform(data)\n",
    "y=unique_risk['Rc']"
   ]
  },
  {
   "cell_type": "code",
   "execution_count": 10,
   "id": "d1d69eaf",
   "metadata": {},
   "outputs": [],
   "source": [
    "#抽取 90% 的数据作为训练集，10%的数据作为测试集，用来展示模型的结果。\n",
    "#实际是在完成特征选择、调参等一系列过程后，用所有已知数据训练得到最终模型，保存模型文件,进行使用。\n",
    "#并定期重新更新数据集（一般会设定一个窗口），定期重新训练、更新模型。\n",
    "#由于抽样是随机的，为了使结果具有可复现性，这里额外设定了一个随机数种子 random_state=22\n",
    "from sklearn.model_selection import train_test_split\n",
    "train, test = train_test_split(unique_risk, test_size = 0.1,random_state=22)"
   ]
  },
  {
   "cell_type": "code",
   "execution_count": 11,
   "id": "e1b481ed",
   "metadata": {},
   "outputs": [],
   "source": [
    "#分解成为特征矩阵和结果矩阵\n",
    "train_X = train.drop(labels=[\"Rc\"], axis=1)\n",
    "train_y=train['Rc']\n",
    "\n",
    "test_X= test.drop(labels=[\"Rc\"], axis=1)\n",
    "test_y =test['Rc']"
   ]
  },
  {
   "cell_type": "code",
   "execution_count": 12,
   "id": "3bde929e",
   "metadata": {},
   "outputs": [],
   "source": [
    "from sklearn.preprocessing import MinMaxScaler\n",
    "# 采用 Min_Max 规范化数据，保证每个特征维度的数据均值为 0，方差为 1\n",
    "ss = MinMaxScaler()\n",
    "train_X = ss.fit_transform(train_X)\n",
    "test_X = ss.transform(test_X)"
   ]
  },
  {
   "cell_type": "code",
   "execution_count": 13,
   "id": "48dc8a39",
   "metadata": {},
   "outputs": [],
   "source": [
    "#PowerTransformer 类提供了两种幂变换，Yeo-Johnson transform 和 the Box-Cox transform\n",
    "#df_amp = power_transform(df_amp, method='yeo-johnson') \n",
    "#我觉得没有必要，因为我用Min_MaxScaler，没有必要将数据转换成符合正态分布\n",
    "#但Min_MaxScaler的问题在于 如果新的样本某个属性的值在值域外，则需要重新对数据进行Min_MaxScaler \n",
    "\n",
    "#不使用StandarScaler的问题在于  训练样本不够多，且不一定符合正态分布。使用样本估计的标准差可能和假设空间实际额标准差有差别"
   ]
  },
  {
   "cell_type": "markdown",
   "id": "c070bff6",
   "metadata": {},
   "source": [
    "进行异常值检测。后续结果表明，效果并不好，对于回归问题而言不是必要步骤。"
   ]
  },
  {
   "cell_type": "code",
   "execution_count": 50,
   "id": "a485eac7",
   "metadata": {},
   "outputs": [],
   "source": [
    "from matplotlib.lines import Line2D"
   ]
  },
  {
   "cell_type": "code",
   "execution_count": 51,
   "id": "01c756ca",
   "metadata": {},
   "outputs": [],
   "source": [
    "from sklearn.neighbors import LocalOutlierFactor\n",
    "clf=LocalOutlierFactor(n_neighbors=13)\n",
    "res=clf.fit_predict(ss.fit_transform(unique_risk))"
   ]
  },
  {
   "cell_type": "code",
   "execution_count": 52,
   "id": "14a6c17d",
   "metadata": {},
   "outputs": [
    {
     "data": {
      "text/plain": [
       "(array([  2,   9,  12,  13,  37,  40,  47,  69,  71,  77,  80,  86,  96,\n",
       "         98,  99, 118, 121, 123, 124, 125], dtype=int64),)"
      ]
     },
     "execution_count": 52,
     "metadata": {},
     "output_type": "execute_result"
    }
   ],
   "source": [
    "np.where(res==-1)"
   ]
  },
  {
   "cell_type": "code",
   "execution_count": 53,
   "id": "7a74d839",
   "metadata": {},
   "outputs": [
    {
     "data": {
      "text/plain": [
       "Counter({1: 108, -1: 20})"
      ]
     },
     "execution_count": 53,
     "metadata": {},
     "output_type": "execute_result"
    }
   ],
   "source": [
    "import collections, numpy\n",
    "collections.Counter(res)"
   ]
  },
  {
   "cell_type": "code",
   "execution_count": 54,
   "id": "ff15d322",
   "metadata": {},
   "outputs": [
    {
     "data": {
      "image/png": "[encoded data removed]",
      "text/plain": [
       "<Figure size 576x576 with 1 Axes>"
      ]
     },
     "metadata": {
      "needs_background": "light"
     },
     "output_type": "display_data"
    }
   ],
   "source": [
    "from sklearn.manifold import TSNE\n",
    "t_sne=TSNE(n_components=2,init='pca',random_state=23)\n",
    "X_tsne=t_sne.fit_transform(data)\n",
    "\n",
    "\"嵌入空间可视化\"\n",
    "x_min,x_max=X_tsne.min(0),X_tsne.max(0)\n",
    "X_norm=(X_tsne-x_min)/(x_max-x_min)\n",
    "plt.figure(figsize=(8,8))\n",
    "for i in range(X_norm.shape[0]):\n",
    "    if i in list(np.where(res==-1)[0]):\n",
    "        plt.text(X_norm[i,0],X_norm[i,1],str(target[i]),color=\"red\",fontdict={'weight':'bold','size':9})\n",
    "    else:\n",
    "        plt.text(X_norm[i,0],X_norm[i,1],str(target[i]),fontdict={'weight':'bold','size':9})\n",
    "plt.legend(handles=[Line2D([0],[0],marker=\"o\",color='w',markerfacecolor='k'),Line2D([0],[0],marker=\"o\",color='w',markerfacecolor='r')],labels=['norm point','outliers'],loc='best')\n",
    "plt.show()"
   ]
  },
  {
   "cell_type": "code",
   "execution_count": 55,
   "id": "b2bd86e2",
   "metadata": {},
   "outputs": [],
   "source": [
    "#由于是高维数据，且数据量不大，尝试用One-SVM监测异常值\n",
    "from sklearn.svm import OneClassSVM\n",
    "clf = OneClassSVM(gamma='auto').fit(ss.fit_transform(unique_risk))\n",
    "res=clf.predict(ss.fit_transform(unique_risk))"
   ]
  },
  {
   "cell_type": "code",
   "execution_count": 56,
   "id": "c8ad16d1",
   "metadata": {},
   "outputs": [
    {
     "data": {
      "text/plain": [
       "(array([  2,   4,   5,   6,   8,   9,  12,  13,  14,  15,  16,  17,  19,\n",
       "         20,  21,  26,  27,  30,  32,  37,  38,  39,  40,  41,  46,  47,\n",
       "         51,  53,  54,  61,  64,  69,  71,  72,  75,  77,  79,  80,  82,\n",
       "         85,  86,  88,  92,  93,  94,  96,  98,  99, 101, 102, 105, 108,\n",
       "        110, 113, 115, 116, 118, 121, 122, 123, 124, 125, 126], dtype=int64),)"
      ]
     },
     "execution_count": 56,
     "metadata": {},
     "output_type": "execute_result"
    }
   ],
   "source": [
    "np.where(res==-1)"
   ]
  },
  {
   "cell_type": "code",
   "execution_count": 57,
   "id": "e7b3e385",
   "metadata": {},
   "outputs": [
    {
     "data": {
      "text/plain": [
       "Counter({1: 65, -1: 63})"
      ]
     },
     "execution_count": 57,
     "metadata": {},
     "output_type": "execute_result"
    }
   ],
   "source": [
    "#好吧 效果并不怎么好\n",
    "import collections, numpy\n",
    "collections.Counter(clf.predict(ss.fit_transform(unique_risk)))"
   ]
  },
  {
   "cell_type": "code",
   "execution_count": 58,
   "id": "25c98327",
   "metadata": {},
   "outputs": [
    {
     "data": {
      "image/png": "[encoded data removed]",
      "text/plain": [
       "<Figure size 576x576 with 1 Axes>"
      ]
     },
     "metadata": {
      "needs_background": "light"
     },
     "output_type": "display_data"
    }
   ],
   "source": [
    "from sklearn.manifold import TSNE\n",
    "t_sne=TSNE(n_components=2,init='pca',random_state=23)\n",
    "X_tsne=t_sne.fit_transform(data)\n",
    "\n",
    "\"嵌入空间可视化\"\n",
    "x_min,x_max=X_tsne.min(0),X_tsne.max(0)\n",
    "X_norm=(X_tsne-x_min)/(x_max-x_min)\n",
    "plt.figure(figsize=(8,8))\n",
    "for i in range(X_norm.shape[0]):\n",
    "    if i in list(np.where(res==-1)[0]):\n",
    "        plt.text(X_norm[i,0],X_norm[i,1],str(target[i]),color=\"red\",fontdict={'weight':'bold','size':9})\n",
    "    else:\n",
    "        plt.text(X_norm[i,0],X_norm[i,1],str(target[i]),fontdict={'weight':'bold','size':9})\n",
    "plt.legend(handles=[Line2D([0],[0],marker=\"o\",color='w',markerfacecolor='k'),Line2D([0],[0],marker=\"o\",color='w',markerfacecolor='r')],labels=['norm point','outliers'],loc='best')\n",
    "plt.show()"
   ]
  },
  {
   "cell_type": "code",
   "execution_count": 44,
   "id": "70d936f2",
   "metadata": {},
   "outputs": [],
   "source": [
    "#用isolate forest试试\n",
    "from sklearn.ensemble import IsolationForest\n",
    "clf = IsolationForest(random_state=0).fit(ss.fit_transform(unique_risk))\n",
    "res=clf.predict(ss.fit_transform(unique_risk))"
   ]
  },
  {
   "cell_type": "code",
   "execution_count": 45,
   "id": "d9a20d7a",
   "metadata": {},
   "outputs": [
    {
     "data": {
      "text/plain": [
       "(array([12, 13, 37, 69, 77], dtype=int64),)"
      ]
     },
     "execution_count": 45,
     "metadata": {},
     "output_type": "execute_result"
    }
   ],
   "source": [
    "np.where(res==-1)"
   ]
  },
  {
   "cell_type": "code",
   "execution_count": 46,
   "id": "9d726957",
   "metadata": {},
   "outputs": [
    {
     "data": {
      "text/plain": [
       "Counter({1: 123, -1: 5})"
      ]
     },
     "execution_count": 46,
     "metadata": {},
     "output_type": "execute_result"
    }
   ],
   "source": [
    "import collections, numpy\n",
    "collections.Counter(res)"
   ]
  },
  {
   "cell_type": "code",
   "execution_count": 49,
   "id": "2fdfde75",
   "metadata": {},
   "outputs": [
    {
     "data": {
      "image/png": "[encoded data removed]",
      "text/plain": [
       "<Figure size 576x576 with 1 Axes>"
      ]
     },
     "metadata": {
      "needs_background": "light"
     },
     "output_type": "display_data"
    }
   ],
   "source": [
    "from sklearn.manifold import TSNE\n",
    "t_sne=TSNE(n_components=2,init='pca',random_state=23)\n",
    "X_tsne=t_sne.fit_transform(data)\n",
    "\n",
    "\"嵌入空间可视化\"\n",
    "x_min,x_max=X_tsne.min(0),X_tsne.max(0)\n",
    "X_norm=(X_tsne-x_min)/(x_max-x_min)\n",
    "plt.figure(figsize=(8,8))\n",
    "for i in range(X_norm.shape[0]):\n",
    "    if i in list(np.where(res==-1)[0]):\n",
    "        plt.text(X_norm[i,0],X_norm[i,1],str(target[i]),color=\"red\",fontdict={'weight':'bold','size':9})\n",
    "    else:\n",
    "        plt.text(X_norm[i,0],X_norm[i,1],str(target[i]),fontdict={'weight':'bold','size':9})\n",
    "plt.legend(handles=[Line2D([0],[0],marker=\"o\",color='w',markerfacecolor='k'),Line2D([0],[0],marker=\"o\",color='w',markerfacecolor='r')],labels=['norm point','outliers'],loc='best')\n",
    "plt.show()"
   ]
  },
  {
   "cell_type": "markdown",
   "id": "b9c1bcfb",
   "metadata": {},
   "source": [
    "根据iforest的结果对样本进行标准化"
   ]
  },
  {
   "cell_type": "code",
   "execution_count": 60,
   "id": "2ea95825",
   "metadata": {},
   "outputs": [
    {
     "data": {
      "text/html": [
       "<div>\n",
       "<style scoped>\n",
       "    .dataframe tbody tr th:only-of-type {\n",
       "        vertical-align: middle;\n",
       "    }\n",
       "\n",
       "    .dataframe tbody tr th {\n",
       "        vertical-align: top;\n",
       "    }\n",
       "\n",
       "    .dataframe thead th {\n",
       "        text-align: right;\n",
       "    }\n",
       "</style>\n",
       "<table border=\"1\" class=\"dataframe\">\n",
       "  <thead>\n",
       "    <tr style=\"text-align: right;\">\n",
       "      <th></th>\n",
       "      <th>Rc</th>\n",
       "      <th>审核结果</th>\n",
       "      <th>上一年归母净利润（万元）</th>\n",
       "      <th>承诺期业绩增长率</th>\n",
       "      <th>前三年承诺覆盖率</th>\n",
       "      <th>静态市盈率</th>\n",
       "      <th>动态市盈率</th>\n",
       "      <th>成立年限</th>\n",
       "      <th>大股东持股比例</th>\n",
       "      <th>最近一个完整会计年度对第一大客户的销售占比</th>\n",
       "      <th>...</th>\n",
       "      <th>固定资产周转率</th>\n",
       "      <th>流动比率</th>\n",
       "      <th>资产负债率</th>\n",
       "      <th>经营杠杆（EBITDA/EBIT)</th>\n",
       "      <th>（固定资产+土地）/归母权益</th>\n",
       "      <th>在建工程/归母权益</th>\n",
       "      <th>净资产收益率</th>\n",
       "      <th>毛利率</th>\n",
       "      <th>经营性现金流/收入</th>\n",
       "      <th>研发支出占比</th>\n",
       "    </tr>\n",
       "  </thead>\n",
       "  <tbody>\n",
       "    <tr>\n",
       "      <th>0</th>\n",
       "      <td>0.020</td>\n",
       "      <td>1</td>\n",
       "      <td>15972.0</td>\n",
       "      <td>0.20</td>\n",
       "      <td>0.27</td>\n",
       "      <td>16.47</td>\n",
       "      <td>12.84</td>\n",
       "      <td>17.94</td>\n",
       "      <td>1.00</td>\n",
       "      <td>0.39</td>\n",
       "      <td>...</td>\n",
       "      <td>928.92</td>\n",
       "      <td>1.78</td>\n",
       "      <td>0.55</td>\n",
       "      <td>1.00</td>\n",
       "      <td>0.01</td>\n",
       "      <td>0.00</td>\n",
       "      <td>0.38</td>\n",
       "      <td>0.09</td>\n",
       "      <td>0.02</td>\n",
       "      <td>0.00</td>\n",
       "    </tr>\n",
       "    <tr>\n",
       "      <th>1</th>\n",
       "      <td>0.020</td>\n",
       "      <td>0</td>\n",
       "      <td>4443.0</td>\n",
       "      <td>0.27</td>\n",
       "      <td>0.33</td>\n",
       "      <td>15.37</td>\n",
       "      <td>11.68</td>\n",
       "      <td>9.04</td>\n",
       "      <td>0.35</td>\n",
       "      <td>0.23</td>\n",
       "      <td>...</td>\n",
       "      <td>17.93</td>\n",
       "      <td>1.64</td>\n",
       "      <td>0.56</td>\n",
       "      <td>1.03</td>\n",
       "      <td>0.23</td>\n",
       "      <td>0.00</td>\n",
       "      <td>0.69</td>\n",
       "      <td>0.45</td>\n",
       "      <td>0.11</td>\n",
       "      <td>0.04</td>\n",
       "    </tr>\n",
       "    <tr>\n",
       "      <th>2</th>\n",
       "      <td>0.045</td>\n",
       "      <td>0</td>\n",
       "      <td>1417.0</td>\n",
       "      <td>0.63</td>\n",
       "      <td>0.29</td>\n",
       "      <td>34.65</td>\n",
       "      <td>14.88</td>\n",
       "      <td>6.20</td>\n",
       "      <td>0.29</td>\n",
       "      <td>0.40</td>\n",
       "      <td>...</td>\n",
       "      <td>44.80</td>\n",
       "      <td>113.26</td>\n",
       "      <td>0.01</td>\n",
       "      <td>1.01</td>\n",
       "      <td>0.02</td>\n",
       "      <td>0.00</td>\n",
       "      <td>0.74</td>\n",
       "      <td>0.93</td>\n",
       "      <td>0.51</td>\n",
       "      <td>0.28</td>\n",
       "    </tr>\n",
       "    <tr>\n",
       "      <th>3</th>\n",
       "      <td>0.010</td>\n",
       "      <td>1</td>\n",
       "      <td>5349.0</td>\n",
       "      <td>0.24</td>\n",
       "      <td>0.25</td>\n",
       "      <td>19.22</td>\n",
       "      <td>13.88</td>\n",
       "      <td>13.56</td>\n",
       "      <td>0.51</td>\n",
       "      <td>0.14</td>\n",
       "      <td>...</td>\n",
       "      <td>1087.77</td>\n",
       "      <td>1.37</td>\n",
       "      <td>0.73</td>\n",
       "      <td>1.02</td>\n",
       "      <td>0.01</td>\n",
       "      <td>0.00</td>\n",
       "      <td>0.23</td>\n",
       "      <td>0.06</td>\n",
       "      <td>0.00</td>\n",
       "      <td>0.00</td>\n",
       "    </tr>\n",
       "    <tr>\n",
       "      <th>4</th>\n",
       "      <td>0.005</td>\n",
       "      <td>1</td>\n",
       "      <td>14478.0</td>\n",
       "      <td>0.18</td>\n",
       "      <td>0.30</td>\n",
       "      <td>15.01</td>\n",
       "      <td>11.94</td>\n",
       "      <td>20.32</td>\n",
       "      <td>0.51</td>\n",
       "      <td>0.08</td>\n",
       "      <td>...</td>\n",
       "      <td>147.85</td>\n",
       "      <td>1.61</td>\n",
       "      <td>0.60</td>\n",
       "      <td>1.03</td>\n",
       "      <td>0.05</td>\n",
       "      <td>0.01</td>\n",
       "      <td>0.23</td>\n",
       "      <td>0.09</td>\n",
       "      <td>0.04</td>\n",
       "      <td>0.00</td>\n",
       "    </tr>\n",
       "  </tbody>\n",
       "</table>\n",
       "<p>5 rows × 29 columns</p>\n",
       "</div>"
      ],
      "text/plain": [
       "      Rc  审核结果  上一年归母净利润（万元）  承诺期业绩增长率  前三年承诺覆盖率  静态市盈率  动态市盈率   成立年限  \\\n",
       "0  0.020     1       15972.0      0.20      0.27  16.47  12.84  17.94   \n",
       "1  0.020     0        4443.0      0.27      0.33  15.37  11.68   9.04   \n",
       "2  0.045     0        1417.0      0.63      0.29  34.65  14.88   6.20   \n",
       "3  0.010     1        5349.0      0.24      0.25  19.22  13.88  13.56   \n",
       "4  0.005     1       14478.0      0.18      0.30  15.01  11.94  20.32   \n",
       "\n",
       "   大股东持股比例  最近一个完整会计年度对第一大客户的销售占比  ...  固定资产周转率    流动比率  资产负债率  \\\n",
       "0     1.00                   0.39  ...   928.92    1.78   0.55   \n",
       "1     0.35                   0.23  ...    17.93    1.64   0.56   \n",
       "2     0.29                   0.40  ...    44.80  113.26   0.01   \n",
       "3     0.51                   0.14  ...  1087.77    1.37   0.73   \n",
       "4     0.51                   0.08  ...   147.85    1.61   0.60   \n",
       "\n",
       "   经营杠杆（EBITDA/EBIT)  （固定资产+土地）/归母权益  在建工程/归母权益  净资产收益率   毛利率  经营性现金流/收入  \\\n",
       "0               1.00            0.01       0.00    0.38  0.09       0.02   \n",
       "1               1.03            0.23       0.00    0.69  0.45       0.11   \n",
       "2               1.01            0.02       0.00    0.74  0.93       0.51   \n",
       "3               1.02            0.01       0.00    0.23  0.06       0.00   \n",
       "4               1.03            0.05       0.01    0.23  0.09       0.04   \n",
       "\n",
       "   研发支出占比  \n",
       "0    0.00  \n",
       "1    0.04  \n",
       "2    0.28  \n",
       "3    0.00  \n",
       "4    0.00  \n",
       "\n",
       "[5 rows x 29 columns]"
      ]
     },
     "execution_count": 60,
     "metadata": {},
     "output_type": "execute_result"
    }
   ],
   "source": [
    "unique_risk_i = pd.read_csv('unique_risk_iforest.csv')\n",
    "unique_risk_i['审核结果']=unique_risk_i['审核结果'].map({'发行股份购买资产获无条件通过':1,'发行股份购买资产获有条件通过':0})\n",
    "unique_risk_i.head(5)"
   ]
  },
  {
   "cell_type": "code",
   "execution_count": 61,
   "id": "52774eb3",
   "metadata": {},
   "outputs": [],
   "source": [
    "target_i=unique_risk_i['Rc']\n",
    "y_i=unique_risk_i['Rc']"
   ]
  },
  {
   "cell_type": "code",
   "execution_count": 19,
   "id": "cd4ae039",
   "metadata": {},
   "outputs": [],
   "source": [
    "data_i=unique_risk_i.drop(labels=['Rc'],axis=1)\n",
    "X_i = ss.fit_transform(data_i)"
   ]
  },
  {
   "cell_type": "markdown",
   "id": "1aec1705",
   "metadata": {},
   "source": [
    "## 2 不进行特征工程，直接进行机器学习"
   ]
  },
  {
   "cell_type": "markdown",
   "id": "0f12c11e",
   "metadata": {},
   "source": [
    "### 2.1 罗列回归模型\n",
    "&ensp; 这部分把所有我能想到的回归模型进行了罗列。机器学习更适合解决分类问题，在分类问题上也有更多的选择。对于回归问题，我一般会在岭回归, MLP, AdaBoost, XGBOOST 和LGBM模型中进行选择。（或者直接使用传统的数学建模，建立如微分方程模型）<br>\n",
    "&ensp; 具体模型解释参考：<br>\n",
    "&ensp;&ensp;https://zhuanlan.zhihu.com/p/62034592<br>\n",
    "&ensp; &ensp;http://ster.im/py_sklearn_1/#Gradient-Boosting%E5%9B%9E%E5%BD%92"
   ]
  },
  {
   "cell_type": "markdown",
   "id": "22eba5db",
   "metadata": {},
   "source": [
    "一般的选型逻辑如下(根据数学原理，实际效果存在例外)：<br>\n",
    "线性类模型（最小二乘回归，岭回归，Lasso回归，弹性网络回归，最小角度回归）是传统的线性回归模型，一般选择1个作为对照组。<br>\n",
    "KNN更适合分类问题而不是回归问题。<br>\n",
    "SVM经过实践，效果并不是很好。<br>\n",
    "MLP（多层感知机，或者神经网络）的训练效果会随着隐藏层的增加而不断变好，但同时也会导致模型的可解释性变差，调参难度变大，训练时间边长。具有比较好的通用性，但一般不作为首选项。<br>\n",
    "决策树属于Bagging类算法和Boosting类算法的常用弱学习器，因此一般不会选用。<br>\n",
    "随机森林、极端随机森林属于Bagging类算法的特殊情况，在回归问题上不如BaggingRegressor。但相比Boosting权重调整功能，Bagging相比之下表现会差一点（分类问题一般选择随机森林算法）\n",
    "Boosting类算法\n",
    "  AdaBoost 强调Adaptive（自适应），通过不断修改样本权重（增大分错样本权重，降低分对样本权重），不断加入弱分类器进行boosting。<br>\n",
    "  Gradient Boosting类算法<br>\n",
    "    GBT（梯度提升树）通过不断加入新的树，实现在残差减少（负梯度）的方向上建立一个新的模型。<br>\n",
    "    LGBM (lightGBM，轻量级的高效梯度提升树)， XGBoost (eXtreme Gradient Boosting，极限梯度提升算法）  都可以看做是 GBT 的一种升级版实现。一般选择这两个模型。"
   ]
  },
  {
   "cell_type": "markdown",
   "id": "ea5b89e9",
   "metadata": {},
   "source": [
    "Boosting V.S. 线性回归<br>\n",
    "  &ensp; 从决策边界来说，线性回归的决策边界是一条直线，而Boosting类的决策边界可能是很多条线。<br>\n",
    "  &ensp; Boosting并不一定总是好于线性回归。根据没有免费的午餐原则，没有一个算法是在所有问题上都能好于另一个算法的。根据奥卡姆剃刀原则，如果一个模型和线性回归在某个问题上表现接近，那么我们应该选择相对比较简单的线性回归。<br>\n",
    "<br>\n",
    "Gradient Boosting V.S. XGBoosting<br>\n",
    "  &ensp; XGBoost 可以看做是 GBDT 的一种升级版实现。其中需要明确的一个概念是，XGBoost和LightGBM是 Boosting 框架的一种实现结构，而 GBDT 则是一种算法实现，其基分类器为 CART 树，可以处理分类、回归任务，处理分类任务则是将分类任务利用 softmax 转换为回归任务进行求解。<br>\n",
    "  &ensp; XGBoost的boosting策略则与GBDT类似，区别在于GBDT旨在通过不断加入新的树最快速度降低残差，而XGBoost则可以人为定义损失函数（可以是最小平方差、logistic loss function、hinge loss function或者人为定义的loss function），借助泰勒展开（只需知道损失函数的一阶、二阶导数即可求出损失函数）转换为一元二次函数，得到极值点与对应极值即为所求。其贪婪法寻找添加树的结构以及loss function中的损失函数与正则项等一系列策略也使得XGBoost预测更准确。<br>\n",
    "<br>\n",
    "XGBoost V.S. LightGBM<br>\n",
    "  &ensp; 树的切分策略不同：XGB 是 level-wise，而 LGB 是leaf-wise。level-wise 的建树方式对当前层的所有叶节点一视同仁，有些叶节点的分裂收益很小仍然需要进行分裂，增加了计算代价。leaf-wise 方式的精度更高，但容易过拟合，所以要控制树的最大深度。<br>\n",
    "  &ensp; 在选择数据分割点时：XGB 是通过预排序的方式，空间消耗较大；LGB是通过直方图算法，不需要进行预排序，内存占用更低。相比于XGBoost，LightGBM具有训练速度更快，效率更高效；低内存的使用量的优点，但精确度不如XGBOOST。"
   ]
  },
  {
   "cell_type": "code",
   "execution_count": null,
   "id": "10beef7e",
   "metadata": {},
   "outputs": [],
   "source": [
    "#为了保证模型和计算结果的可复现性，和之前选择测试集一样 选择随机数种子23（实际不需要，只需要多次实验取最高保存）,见前文模型罗列阶段的参数"
   ]
  },
  {
   "cell_type": "code",
   "execution_count": 16,
   "id": "50690fd4",
   "metadata": {},
   "outputs": [],
   "source": [
    "#线性回归\n",
    "from sklearn import linear_model\n",
    "model_LinearRegression = linear_model.LinearRegression()\n",
    "\n",
    "# 岭回归\n",
    "from sklearn.linear_model import RidgeCV\n",
    "model_RidgeCV= RidgeCV()\n",
    "\n",
    "#Lasso回归\n",
    "from sklearn.linear_model import LassoCV\n",
    "model_LassoCV= LassoCV()\n",
    "\n",
    "#Elastic Net回归\n",
    "from sklearn.linear_model import ElasticNetCV\n",
    "model_ElasticNetCV = ElasticNetCV()\n",
    "\n",
    "#最小角度回归（Least Angle Regression）\n",
    "from sklearn.linear_model import LarsCV\n",
    "model_Lars_cv = LarsCV()\n",
    "\n",
    "#贝叶斯岭回归\n",
    "from sklearn.linear_model import BayesianRidge\n",
    "model_BayesianRidge=BayesianRidge()\n",
    "\n",
    "#SGD回归\n",
    "from sklearn.linear_model import SGDRegressor\n",
    "model_SGDRegressor=SGDRegressor(random_state=23)\n",
    "\n",
    "#SVM回归\n",
    "from sklearn import svm\n",
    "model_SVR = svm.SVR()\n",
    "\n",
    "#KNN回归\n",
    "from sklearn import neighbors\n",
    "model_KNeighborsRegressor = neighbors.KNeighborsRegressor()\n",
    "\n",
    "#决策树回归\n",
    "from sklearn import tree\n",
    "model_DecisionTreeRegressor = tree.DecisionTreeRegressor(random_state=23)\n",
    "\n",
    "#MLPRegressor神经网络回归\n",
    "from sklearn.neural_network import MLPRegressor\n",
    "model_MLPRegressor=MLPRegressor(random_state=23)\n",
    "\n",
    "#Bagging回归\n",
    "from sklearn.ensemble import BaggingRegressor\n",
    "model_BaggingRegressor = BaggingRegressor(random_state=23)\n",
    "\n",
    "#随机森林回归\n",
    "from sklearn import ensemble\n",
    "model_RandomForestRegressor = ensemble.RandomForestRegressor(n_estimators=20,random_state=23)#这里使用20个决策树\n",
    "\n",
    "#ExtraTree极端随机树回归\n",
    "from sklearn.tree import ExtraTreeRegressor\n",
    "model_ExtraTreeRegressor = ExtraTreeRegressor(random_state=23)\n",
    "\n",
    "#Adaboost回归\n",
    "from sklearn import ensemble\n",
    "model_AdaBoostRegressor = ensemble.AdaBoostRegressor(n_estimators=50,random_state=23)#这里使用50个决策树\n",
    "\n",
    "#GBRT回归#\n",
    "from sklearn import ensemble\n",
    "model_GradientBoostingRegressor = ensemble.GradientBoostingRegressor(n_estimators=100,random_state=23)#这里使用100个决策树\n",
    "\n",
    "#LGBM回归\n",
    "import lightgbm as lgb\n",
    "model_LGBMRegressor= lgb.LGBMRegressor()\n",
    "\n",
    "#XGBoost回归\n",
    "import xgboost as xgb\n",
    "model_XGBRegressor = xgb.XGBRegressor()"
   ]
  },
  {
   "cell_type": "markdown",
   "id": "d9937921",
   "metadata": {},
   "source": [
    "### 2.2 模型效果展示\n",
    "&ensp; 由于数据量不够大，为了避免采样结果对评判指标（这里使用$r^2$进行评估）产生比较大的影响，因此采用k折交叉验证（这里k取5）取平均值的方法评估模型及其超参数的优劣（对未知的测试数据是否也能有比较好的预测表现）。<br> \n",
    "&ensp; 当样本足够大的时候（比如达到假设空间的70%）,一般直接70% 30%或者60% 20% 10%的方法进行划分，对模型进行调参和评估。（实践表明大的测试样本比交叉验证效果更好）<br>\n",
    "&ensp; sklearn当中使用均方误差作为评判标准时，计算的是”负均方误差“（neg_mean_squared_error），用负数表示。这是因为sklearn在计算模型评估指标的时候，会考虑指标本身的性质，均方误差本身是一种误差，所以被sklearn划分为模型的一种损失(loss)，因此在sklearn当中，都以负数表示"
   ]
  },
  {
   "cell_type": "code",
   "execution_count": null,
   "id": "509b4b37",
   "metadata": {},
   "outputs": [],
   "source": [
    "#应该使用上文的90%的训练集进行模型训练，10%的测试集进行模型效果测试。该错误已在最终版short中修复。"
   ]
  },
  {
   "cell_type": "code",
   "execution_count": 21,
   "id": "4f10968b",
   "metadata": {},
   "outputs": [],
   "source": [
    "#输出R^2分数，并且展示预测值和真实值的区别\n",
    "def try_different_method(model):\n",
    "    model.fit(train_X,train_y)\n",
    "    score = model.score(test_X, test_y)\n",
    "    result = model.predict(test_X)\n",
    "    plt.figure()\n",
    "    plt.plot(np.arange(len(result)), test_y,'go-',label='true value')\n",
    "    plt.plot(np.arange(len(result)),result,'ro-',label='predict value')\n",
    "    plt.title('score: %f'%score)\n",
    "    plt.legend()\n",
    "    plt.show()"
   ]
  },
  {
   "cell_type": "code",
   "execution_count": 68,
   "id": "9a69a91d",
   "metadata": {},
   "outputs": [],
   "source": [
    "#导入交叉验证包\n",
    "from sklearn.model_selection import cross_val_score"
   ]
  },
  {
   "cell_type": "code",
   "execution_count": 23,
   "id": "18dfad47",
   "metadata": {},
   "outputs": [
    {
     "data": {
      "text/plain": [
       "-2.3879831764782344"
      ]
     },
     "execution_count": 23,
     "metadata": {},
     "output_type": "execute_result"
    }
   ],
   "source": [
    "#交叉验证 计算平均值\n",
    "from sklearn.model_selection import cross_val_score\n",
    "score=[]\n",
    "score=cross_val_score(model_LinearRegression,X,y,cv=5,scoring='r2')\n",
    "score.mean()"
   ]
  },
  {
   "cell_type": "code",
   "execution_count": 24,
   "id": "da1dfe6c",
   "metadata": {},
   "outputs": [
    {
     "data": {
      "text/plain": [
       "-4.825236540410306"
      ]
     },
     "execution_count": 24,
     "metadata": {},
     "output_type": "execute_result"
    }
   ],
   "source": [
    "#交叉验证 计算平均值\n",
    "from sklearn.model_selection import cross_val_score\n",
    "score=[]\n",
    "score=cross_val_score(model_LinearRegression,X_i,y_i,cv=5,scoring='r2')\n",
    "score.mean()"
   ]
  },
  {
   "cell_type": "code",
   "execution_count": 25,
   "id": "96aa24f4",
   "metadata": {},
   "outputs": [
    {
     "data": {
      "text/plain": [
       "0.08035119651008613"
      ]
     },
     "execution_count": 25,
     "metadata": {},
     "output_type": "execute_result"
    }
   ],
   "source": [
    "score=[]\n",
    "score=cross_val_score(model_RidgeCV,X,y,cv=5,scoring='r2')\n",
    "score.mean()"
   ]
  },
  {
   "cell_type": "code",
   "execution_count": 26,
   "id": "0f7bacfe",
   "metadata": {},
   "outputs": [
    {
     "data": {
      "text/plain": [
       "-0.0667153540635996"
      ]
     },
     "execution_count": 26,
     "metadata": {},
     "output_type": "execute_result"
    }
   ],
   "source": [
    "score=[]\n",
    "score=cross_val_score(model_RidgeCV,X_i,y_i,cv=5,scoring='r2')\n",
    "score.mean()"
   ]
  },
  {
   "cell_type": "code",
   "execution_count": 27,
   "id": "8243c7bc",
   "metadata": {},
   "outputs": [
    {
     "data": {
      "text/plain": [
       "0.020844262878617847"
      ]
     },
     "execution_count": 27,
     "metadata": {},
     "output_type": "execute_result"
    }
   ],
   "source": [
    "score=[]\n",
    "score=cross_val_score(model_LassoCV,X,y,cv=5,scoring='r2')\n",
    "score.mean()"
   ]
  },
  {
   "cell_type": "code",
   "execution_count": 28,
   "id": "3a1a87c4",
   "metadata": {},
   "outputs": [
    {
     "data": {
      "text/plain": [
       "-0.0229547187359894"
      ]
     },
     "execution_count": 28,
     "metadata": {},
     "output_type": "execute_result"
    }
   ],
   "source": [
    "score=[]\n",
    "score=cross_val_score(model_LassoCV,X_i,y_i,cv=5,scoring='r2')\n",
    "score.mean()"
   ]
  },
  {
   "cell_type": "code",
   "execution_count": 30,
   "id": "29affd02",
   "metadata": {},
   "outputs": [
    {
     "data": {
      "text/plain": [
       "0.02143213718557364"
      ]
     },
     "execution_count": 30,
     "metadata": {},
     "output_type": "execute_result"
    }
   ],
   "source": [
    "score=[]\n",
    "score=cross_val_score(model_ElasticNetCV,X,y,cv=5,scoring='r2')\n",
    "score.mean()"
   ]
  },
  {
   "cell_type": "code",
   "execution_count": 31,
   "id": "70803f5a",
   "metadata": {},
   "outputs": [
    {
     "data": {
      "text/plain": [
       "-0.02295622341434409"
      ]
     },
     "execution_count": 31,
     "metadata": {},
     "output_type": "execute_result"
    }
   ],
   "source": [
    "score=[]\n",
    "score=cross_val_score(model_ElasticNetCV,X_i,y_i,cv=5,scoring='r2')\n",
    "score.mean()"
   ]
  },
  {
   "cell_type": "code",
   "execution_count": 32,
   "id": "dde237d2",
   "metadata": {},
   "outputs": [
    {
     "data": {
      "text/plain": [
       "0.03414132063387072"
      ]
     },
     "execution_count": 32,
     "metadata": {},
     "output_type": "execute_result"
    }
   ],
   "source": [
    "score=[]\n",
    "score=cross_val_score(model_Lars_cv,X,y,cv=5,scoring='r2')\n",
    "score.mean()"
   ]
  },
  {
   "cell_type": "code",
   "execution_count": 33,
   "id": "70201ef8",
   "metadata": {},
   "outputs": [
    {
     "data": {
      "text/plain": [
       "-0.028009821145844205"
      ]
     },
     "execution_count": 33,
     "metadata": {},
     "output_type": "execute_result"
    }
   ],
   "source": [
    "score=[]\n",
    "score=cross_val_score(model_Lars_cv,X_i,y_i,cv=5,scoring='r2')\n",
    "score.mean()"
   ]
  },
  {
   "cell_type": "code",
   "execution_count": null,
   "id": "f5a4fde9",
   "metadata": {},
   "outputs": [],
   "source": []
  },
  {
   "cell_type": "markdown",
   "id": "65204257",
   "metadata": {},
   "source": [
    "到此 iforest删除的点并没有提升拟合的效果。 iforest可能还是更适合分类问题。具体原因有待研究"
   ]
  },
  {
   "cell_type": "code",
   "execution_count": null,
   "id": "6fd44010",
   "metadata": {},
   "outputs": [],
   "source": []
  },
  {
   "cell_type": "code",
   "execution_count": 34,
   "id": "41be5bf2",
   "metadata": {},
   "outputs": [
    {
     "data": {
      "text/plain": [
       "0.08023084383704904"
      ]
     },
     "execution_count": 34,
     "metadata": {},
     "output_type": "execute_result"
    }
   ],
   "source": [
    "score=[]\n",
    "score=cross_val_score(model_BayesianRidge,X,y,cv=5,scoring='r2')\n",
    "score.mean()"
   ]
  },
  {
   "cell_type": "code",
   "execution_count": 35,
   "id": "6a421d51",
   "metadata": {},
   "outputs": [
    {
     "data": {
      "text/plain": [
       "-0.0648424172393461"
      ]
     },
     "execution_count": 35,
     "metadata": {},
     "output_type": "execute_result"
    }
   ],
   "source": [
    "score=[]\n",
    "score=cross_val_score(model_SGDRegressor,X,y,cv=5,scoring='r2')\n",
    "score.mean()"
   ]
  },
  {
   "cell_type": "code",
   "execution_count": 36,
   "id": "8158dbdf",
   "metadata": {},
   "outputs": [
    {
     "data": {
      "text/plain": [
       "-0.18683288553527677"
      ]
     },
     "execution_count": 36,
     "metadata": {},
     "output_type": "execute_result"
    }
   ],
   "source": [
    "score=[]\n",
    "score=cross_val_score(model_SVR,X,y,cv=5,scoring='r2')\n",
    "score.mean()"
   ]
  },
  {
   "cell_type": "code",
   "execution_count": 37,
   "id": "57b1fd7e",
   "metadata": {},
   "outputs": [
    {
     "data": {
      "text/plain": [
       "-0.2803162865912282"
      ]
     },
     "execution_count": 37,
     "metadata": {},
     "output_type": "execute_result"
    }
   ],
   "source": [
    "score=[]\n",
    "score=cross_val_score(model_SVR,X_i,y_i,cv=5,scoring='r2')\n",
    "score.mean()"
   ]
  },
  {
   "cell_type": "code",
   "execution_count": 38,
   "id": "ab516390",
   "metadata": {},
   "outputs": [
    {
     "data": {
      "text/plain": [
       "-0.03335096310374754"
      ]
     },
     "execution_count": 38,
     "metadata": {},
     "output_type": "execute_result"
    }
   ],
   "source": [
    "score=[]\n",
    "score=cross_val_score(model_KNeighborsRegressor,X,y,cv=5,scoring='r2')\n",
    "score.mean()"
   ]
  },
  {
   "cell_type": "code",
   "execution_count": 39,
   "id": "51461404",
   "metadata": {},
   "outputs": [
    {
     "data": {
      "text/plain": [
       "-0.9769629065319826"
      ]
     },
     "execution_count": 39,
     "metadata": {},
     "output_type": "execute_result"
    }
   ],
   "source": [
    "score=[]\n",
    "score=cross_val_score(model_DecisionTreeRegressor,data,target,cv=5,scoring='r2')\n",
    "score.mean()"
   ]
  },
  {
   "cell_type": "code",
   "execution_count": 41,
   "id": "6408852a",
   "metadata": {},
   "outputs": [
    {
     "data": {
      "text/plain": [
       "-1300114156.8821082"
      ]
     },
     "execution_count": 41,
     "metadata": {},
     "output_type": "execute_result"
    }
   ],
   "source": [
    "score=[]\n",
    "score=cross_val_score(model_MLPRegressor,data,target,cv=5,scoring='r2')\n",
    "score.mean()"
   ]
  },
  {
   "cell_type": "code",
   "execution_count": 42,
   "id": "a2a689f0",
   "metadata": {},
   "outputs": [
    {
     "data": {
      "text/plain": [
       "0.04909329723204951"
      ]
     },
     "execution_count": 42,
     "metadata": {},
     "output_type": "execute_result"
    }
   ],
   "source": [
    "score=[]\n",
    "score=cross_val_score(model_BaggingRegressor,X,y,cv=5,scoring='r2')\n",
    "score.mean()"
   ]
  },
  {
   "cell_type": "code",
   "execution_count": 43,
   "id": "34ace10d",
   "metadata": {},
   "outputs": [
    {
     "data": {
      "text/plain": [
       "0.0049662839190136145"
      ]
     },
     "execution_count": 43,
     "metadata": {},
     "output_type": "execute_result"
    }
   ],
   "source": [
    "score=[]\n",
    "score=cross_val_score(model_RandomForestRegressor,X,y,cv=5,scoring='r2')\n",
    "score.mean()"
   ]
  },
  {
   "cell_type": "code",
   "execution_count": 44,
   "id": "fa027c24",
   "metadata": {},
   "outputs": [
    {
     "data": {
      "text/plain": [
       "-0.9313446452107994"
      ]
     },
     "execution_count": 44,
     "metadata": {},
     "output_type": "execute_result"
    }
   ],
   "source": [
    "score=[]\n",
    "score=cross_val_score(model_ExtraTreeRegressor,X,y,cv=5,scoring='r2')\n",
    "score.mean()"
   ]
  },
  {
   "cell_type": "code",
   "execution_count": null,
   "id": "b40d4e45",
   "metadata": {},
   "outputs": [],
   "source": []
  },
  {
   "cell_type": "markdown",
   "id": "f0f4126a",
   "metadata": {},
   "source": [
    "**为什么部分算法每次调用得分不同。**<br>\n",
    "&ensp; 不同于具有解析解的模型。计算AdaBoost、神经网络参数的过程是随机的。计算参数时会随机选择初始点；计算过程用到了随机梯度下降等方法，因此在相同超参数的情况下，每次参数的计算结果都不相同。<br>\n",
    "&ensp; 在训练样本和超参数确定的情况下，尽管最后的参数矩阵有较大的区别，但其效果一般都能收敛在一个比较小的区间内。<br>\n",
    "www.zhihu.com/question/294058968/answer/489457138 <br>\n",
    "www.jianshu.com/p/c91939096b0e/ <br>"
   ]
  },
  {
   "cell_type": "code",
   "execution_count": 45,
   "id": "647edb9d",
   "metadata": {},
   "outputs": [
    {
     "data": {
      "text/plain": [
       "array([1.46038334, 1.18586704, 1.2708045 , 1.1525149 , 1.28891167,\n",
       "       1.46069285, 1.209707  , 1.36594795, 0.88595809, 1.32806555,\n",
       "       1.1903584 , 1.36614857, 1.31064652, 1.43988722, 1.23717439,\n",
       "       1.22960756, 1.19500984, 1.52143642, 1.17256623, 0.95960508,\n",
       "       1.15722702, 1.11990522, 1.20907544, 0.99669977, 1.10040212,\n",
       "       0.98747052, 1.16943767, 1.26420444, 1.32280927, 0.93522706,\n",
       "       1.33701948, 0.97565571, 0.9231146 , 1.25225205, 1.34778793,\n",
       "       1.29893789, 1.50419823, 1.18006886, 1.16789983, 1.30133752,\n",
       "       1.04415449, 1.11800992, 1.2838593 , 1.46431677, 1.20266746,\n",
       "       1.28300639, 0.85148489, 1.06866122, 1.35836331, 0.89721107])"
      ]
     },
     "execution_count": 45,
     "metadata": {},
     "output_type": "execute_result"
    }
   ],
   "source": [
    "model_a=ensemble.AdaBoostRegressor(n_estimators=50).fit(train_X,train_y)  #确定模型的系数\n",
    "#只展示每个depth=3的决策树的权重\n",
    "#model_a.base_estimator_\n",
    "#model_a.estimators_\n",
    "model_a.estimator_weights_"
   ]
  },
  {
   "cell_type": "code",
   "execution_count": 46,
   "id": "a5eeea0f",
   "metadata": {},
   "outputs": [
    {
     "data": {
      "text/plain": [
       "-0.5659518318709198"
      ]
     },
     "execution_count": 46,
     "metadata": {},
     "output_type": "execute_result"
    }
   ],
   "source": [
    "model_a.score(test_X, test_y)  #测试集结果"
   ]
  },
  {
   "cell_type": "code",
   "execution_count": 47,
   "id": "311732b4",
   "metadata": {},
   "outputs": [
    {
     "data": {
      "text/plain": [
       "array([0.94558686, 1.33497696, 0.89351814, 1.16352894, 1.24671877,\n",
       "       1.32606879, 1.17563816, 1.36116725, 1.21501245, 0.82116014,\n",
       "       1.14650442, 1.05866049, 1.59835254, 1.01170852, 0.84101487,\n",
       "       1.12598118, 1.23629707, 1.29333917, 1.16520989, 1.1179118 ,\n",
       "       0.9270017 , 1.19017559, 1.33880112, 1.26752529, 1.02146036,\n",
       "       0.96565166, 1.43585819, 0.84829069, 1.11725853, 1.28445443,\n",
       "       1.24477556, 1.33107873, 0.9618262 , 1.05471083, 1.09290011,\n",
       "       1.42014146, 1.19803833, 1.34823388, 1.05115272, 0.79085444,\n",
       "       1.13165208, 1.15738008, 0.98447347, 1.10934628, 1.01384126,\n",
       "       1.30190791, 1.21379293, 1.32284913, 0.90700764, 1.25814449])"
      ]
     },
     "execution_count": 47,
     "metadata": {},
     "output_type": "execute_result"
    }
   ],
   "source": [
    "model_b=ensemble.AdaBoostRegressor(n_estimators=50).fit(train_X,train_y)\n",
    "#model_a.base_estimator_\n",
    "#model_a.estimators_\n",
    "model_b.estimator_weights_"
   ]
  },
  {
   "cell_type": "code",
   "execution_count": 48,
   "id": "63b2459c",
   "metadata": {},
   "outputs": [
    {
     "data": {
      "text/plain": [
       "-0.6822658272676874"
      ]
     },
     "execution_count": 48,
     "metadata": {},
     "output_type": "execute_result"
    }
   ],
   "source": [
    "model_b.score(test_X, test_y)  #测试集结果"
   ]
  },
  {
   "cell_type": "code",
   "execution_count": 49,
   "id": "8018b35b",
   "metadata": {},
   "outputs": [],
   "source": [
    "#通过如下代码用于将根据超参数和训练集训练出来的模型的参数进行持久化，保证模型的效果\n",
    "import joblib\n",
    "joblib.dump(model_b, 'AdaBoostRegressor_parameter.pkl') #保存fit()结果  \n",
    "model_c = joblib.load('AdaBoostRegressor_parameter.pkl')  #加载文件"
   ]
  },
  {
   "cell_type": "code",
   "execution_count": 50,
   "id": "fef300b1",
   "metadata": {},
   "outputs": [
    {
     "data": {
      "text/plain": [
       "-0.6822658272676874"
      ]
     },
     "execution_count": 50,
     "metadata": {},
     "output_type": "execute_result"
    }
   ],
   "source": [
    "model_c.score(test_X, test_y)  #测试集结果"
   ]
  },
  {
   "cell_type": "code",
   "execution_count": null,
   "id": "535feffb",
   "metadata": {},
   "outputs": [],
   "source": []
  },
  {
   "cell_type": "code",
   "execution_count": 51,
   "id": "8885ec89",
   "metadata": {},
   "outputs": [
    {
     "data": {
      "text/plain": [
       "0.1107560988682919"
      ]
     },
     "execution_count": 51,
     "metadata": {},
     "output_type": "execute_result"
    }
   ],
   "source": [
    "score=[]\n",
    "score=cross_val_score(model_AdaBoostRegressor,X,y,cv=5,scoring='r2')\n",
    "score.mean()"
   ]
  },
  {
   "cell_type": "code",
   "execution_count": 52,
   "id": "1e91e089",
   "metadata": {},
   "outputs": [
    {
     "data": {
      "text/plain": [
       "-0.0299437086314825"
      ]
     },
     "execution_count": 52,
     "metadata": {},
     "output_type": "execute_result"
    }
   ],
   "source": [
    "score=[]\n",
    "score=cross_val_score(model_GradientBoostingRegressor,X,y,cv=5,scoring='r2')\n",
    "score.mean()"
   ]
  },
  {
   "cell_type": "code",
   "execution_count": 53,
   "id": "0ae274c0",
   "metadata": {},
   "outputs": [
    {
     "data": {
      "text/plain": [
       "0.03021602063851203"
      ]
     },
     "execution_count": 53,
     "metadata": {},
     "output_type": "execute_result"
    }
   ],
   "source": [
    "score=[]\n",
    "score=cross_val_score(model_LGBMRegressor,X,y,cv=5,scoring='r2')\n",
    "score.mean()"
   ]
  },
  {
   "cell_type": "code",
   "execution_count": 54,
   "id": "bfd7a3a4",
   "metadata": {},
   "outputs": [
    {
     "data": {
      "text/plain": [
       "-0.2548553001380559"
      ]
     },
     "execution_count": 54,
     "metadata": {},
     "output_type": "execute_result"
    }
   ],
   "source": [
    "score=[]\n",
    "score=cross_val_score(model_XGBRegressor,X,y,cv=5,scoring='r2')\n",
    "score.mean()"
   ]
  },
  {
   "cell_type": "markdown",
   "id": "5aea8da4",
   "metadata": {},
   "source": [
    "在不调参以及进行特征选择的基础上，通过交叉验证得到各模型结果如下（待根据最新结果修改）<br>\n",
    "\n",
    "| 模型\t|  $R^2$\t|结果是否稳定 |\n",
    "|- |- | - |\n",
    "Adaboost回归|\t0.1108 |\t不稳定\n",
    "岭回归\t   |  0.0803 |\t稳定\n",
    "贝叶斯岭回归 |\t0.0802 |\t稳定\n",
    "Bagging回归 |\t0.0491 |\t不稳定\n",
    "最小角度回归 |0.0341 |\t稳定\n",
    "LGBM回归\t |            0.0302 |\t稳定\n",
    "Elastic Net回归 |\t0.0214 |\t稳定\n",
    "Lasso回归\t   |        0.0208 |\t  稳定\n",
    "随机森林回归 |\t0.0050 |\t不稳定\n",
    "GBRT回归 |   -0.0299 |\t不稳定\n",
    "KNN回归  |  -0.0333 |\t稳定\n",
    "SGD回归 |    -0.0648 |\t不稳定\n",
    "SVM回归\t |    -0.18683 |\t稳定\n",
    "XGBoost回归 |\t-0.2549 |\t稳定\n",
    "极端随机树回归 |\t-0.9313 |\t不稳定\n",
    "决策树回归 |\t-0.9770 |\t不稳定\n",
    "线性回归 |\t-2.3880 |\t稳定\n",
    "神经网络回归 |\t-1300114156.88 | 不稳定"
   ]
  },
  {
   "cell_type": "code",
   "execution_count": null,
   "id": "86b9d814",
   "metadata": {},
   "outputs": [],
   "source": []
  },
  {
   "cell_type": "markdown",
   "id": "f1b6965e",
   "metadata": {},
   "source": [
    "### 2.3 模型调参\n",
    "&ensp; 超参数值得是用来确定模型的一些参数，比如学习速率，决策树的深度，神经网络中的层数和神经元个数等。参数是根据超参数和训练集自动学习出来的变量，比如权重,系数。<br>\n",
    "\n",
    "\n",
    "| 机器学习算法 | 普通参数举例 | 超参数举例 |\n",
    "| --| --| --|\n",
    "| 决策树 | 在每个节点上选择的输入变量、每个节点上选择的阈值 | 每个叶节点所应包括的最少数据量，训练后的剪枝（pruning）策略 |\n",
    "| 随机森林 | 同上 | 决策树的数量，输入变量的数量 |\n",
    "| 支持向量机 | 支持向量（support vector）的选择，每个支持向量的拉格朗日乘数 |\t核（kernel）的选择，正则化常量C和核函数的超参数 |\n",
    "| 神经网络 |\t每层的权重 |\t隐藏层的数量，每层的神经元数量，训练的epoch，学习率等 |\n",
    "| K近邻 | (Lazy算法，不进行任何训练)\t|\t近邻K的选择，距离函数的选择，初始化选择等 |\n",
    "| 朴素贝叶斯 |\t每一类的先验概率 |\t数值属性用核数密度估计量或正态分布，核密度估计量的窗口宽度 |\n",
    "\n",
    "&ensp; 调参指的都是调整超参数,使得模型具有更好的表现。一般来说越复杂的超参数(神经网络中更多的感知机，决策树中数的深度越大，线性拟合中x的最高指数), 会使得模型在训练集上具有更好的表现，但容易导致模型过拟合，在未知数据集上表现不佳。因此，使用K折交叉验证或者划分训练和测试集的方法确定来确定最佳的模型+超参数组合。<br>\n",
    "&ensp;调参的一般方法就是通过GridSearch函数将所有参数进行组合，通过交叉验证或者测试集的方法输出最好的模型（一般会选择准确率或者$R^2$，但可能也会关注比如预测时间、训练时间等指指标）。由于会遍历所有组合，一般会选择一个范围，接着逐步进行逼近。另外，为了避免陷入局部最优，可以尝试几个不同的区间进行逼近。"
   ]
  },
  {
   "cell_type": "markdown",
   "id": "a630dc17",
   "metadata": {},
   "source": [
    "&ensp; 需要注意的是，K折交叉验证会生成K个参数不同的模型，这些模型都不是我们的最终模型，K折交叉验证主要是用来测试这个模型和超参数组合在假设空间上的表现，并不是一个生成训练模型的方法。我们使用通过K折交叉验证选出的最好的模型+超参数组合，训练目前已有数据得出的参数+模型才是最终持久化保存并使用的模型。<br>"
   ]
  },
  {
   "cell_type": "code",
   "execution_count": null,
   "id": "4290ddec",
   "metadata": {},
   "outputs": [],
   "source": [
    "#在shourt中对最后使用的模型进行了更精细的调参"
   ]
  },
  {
   "cell_type": "markdown",
   "id": "10ce492c",
   "metadata": {},
   "source": [
    "**对SVR模型进行调参**"
   ]
  },
  {
   "cell_type": "code",
   "execution_count": 75,
   "id": "5baa2637",
   "metadata": {},
   "outputs": [
    {
     "name": "stdout",
     "output_type": "stream",
     "text": [
      "The best parameters are {'C': 0.1, 'gamma': 10, 'kernel': 'linear'} with a score of -0.19\n"
     ]
    }
   ],
   "source": [
    "from sklearn.model_selection import GridSearchCV  \n",
    "\n",
    "\n",
    "grid = GridSearchCV(svm.SVR(), param_grid={\"kernel\":[\"linear\", \"poly\", \"rbf\", \"sigmoid\"],\"C\":[0.1, 1, 10, 100], \"gamma\":[10,1, 0.1, 0.01]}, cv=5)  \n",
    "grid.fit(X, y)  \n",
    "print(\"The best parameters are %s with a score of %0.2f\" %(grid.best_params_, grid.best_score_))"
   ]
  },
  {
   "cell_type": "code",
   "execution_count": null,
   "id": "89215d5c",
   "metadata": {},
   "outputs": [],
   "source": []
  },
  {
   "cell_type": "markdown",
   "id": "168f17f0",
   "metadata": {},
   "source": [
    "**对MLP神经网络进行调参**<br>\n",
    "&ensp;默认只有一层(200,)的效果很差。"
   ]
  },
  {
   "cell_type": "code",
   "execution_count": 57,
   "id": "958520fb",
   "metadata": {},
   "outputs": [
    {
     "name": "stdout",
     "output_type": "stream",
     "text": [
      "The best parameters are {'activation': 'logistic', 'alpha': 0.0001, 'hidden_layer_sizes': (5, 5, 5), 'learning_rate': 'constant', 'solver': 'lbfgs'} with a score of -0.04\n"
     ]
    }
   ],
   "source": [
    "from sklearn.model_selection import GridSearchCV  \n",
    "parameter_space = {\n",
    "    #为了加快运行速度，删除了从(30,30,30) (30,)开始的迭代  五层或者更深可以优化效果，但会让模型过于复杂\n",
    "    'hidden_layer_sizes': [(5,5,5),(3,3,3),(5,3,3,3),(5,5,5,5),(3,3,3,3)], \n",
    "    'activation': ['tanh', 'relu','logistic'],\n",
    "    'solver': ['sgd', 'adam','lbfgs'],\n",
    "    'alpha': [0.0001, 0.05,0.1,1,10],\n",
    "    'learning_rate': ['constant','adaptive'],\n",
    "}\n",
    "\n",
    "grid = GridSearchCV(MLPRegressor(random_state=23), parameter_space, cv=5)  \n",
    "grid.fit(X, y)  \n",
    "print(\"The best parameters are %s with a score of %0.2f\" %(grid.best_params_, grid.best_score_))"
   ]
  },
  {
   "cell_type": "code",
   "execution_count": 18,
   "id": "8ab468b0",
   "metadata": {},
   "outputs": [],
   "source": [
    "model_MLPRegressor=MLPRegressor(activation='logistic', alpha=0.0001, hidden_layer_sizes=(5,5,5), learning_rate='constant', solver='lbfgs',random_state=23)"
   ]
  },
  {
   "cell_type": "code",
   "execution_count": null,
   "id": "a6fbc885",
   "metadata": {},
   "outputs": [],
   "source": []
  },
  {
   "cell_type": "markdown",
   "id": "968a6748",
   "metadata": {},
   "source": [
    "**对XGBoost进行调参**"
   ]
  },
  {
   "cell_type": "code",
   "execution_count": 58,
   "id": "f87cdad6",
   "metadata": {},
   "outputs": [
    {
     "name": "stdout",
     "output_type": "stream",
     "text": [
      "The best parameters are {'booster': 'gbtree', 'eta': 0.2, 'gamma': 0, 'max_depth': 9, 'min_child_weight': 10} with a score of 0.10\n"
     ]
    }
   ],
   "source": [
    "from sklearn.model_selection import GridSearchCV  \n",
    "parameter_space = {\n",
    "    'booster': ['gbtree','dart'], \n",
    "    'eta': [0.1, 0.2, 0.3, 0.4],\n",
    "    'gamma':[0,1,10],\n",
    "    'max_depth': [3, 6, 9, 12],\n",
    "    'min_child_weight': [1, 10 ,100]\n",
    "    \n",
    "}\n",
    "\n",
    "grid = GridSearchCV(xgb.XGBRegressor(), parameter_space, cv=5)  \n",
    "grid.fit(X, y)  \n",
    "print(\"The best parameters are %s with a score of %0.2f\" %(grid.best_params_, grid.best_score_))"
   ]
  },
  {
   "cell_type": "code",
   "execution_count": 17,
   "id": "4b63afa0",
   "metadata": {},
   "outputs": [],
   "source": [
    "model_XGBRegressor= xgb.XGBRegressor(booster='gbtree', eta= 0.2, gamma= 0, max_depth= 7, min_child_weight= 10)"
   ]
  },
  {
   "cell_type": "code",
   "execution_count": null,
   "id": "ec03dabe",
   "metadata": {},
   "outputs": [],
   "source": []
  },
  {
   "cell_type": "markdown",
   "id": "003b441b",
   "metadata": {},
   "source": [
    "**对LGBM进行调参**"
   ]
  },
  {
   "cell_type": "code",
   "execution_count": 61,
   "id": "7a0b922e",
   "metadata": {},
   "outputs": [
    {
     "name": "stdout",
     "output_type": "stream",
     "text": [
      "The best parameters are {'cat_smooth': 0, 'max_depth': 1, 'min_child_samples': 19, 'min_child_weight': 0.001, 'num_leaves': 20} with a score of 0.07\n"
     ]
    }
   ],
   "source": [
    "from sklearn.model_selection import GridSearchCV  \n",
    "parameter_space = {\n",
    "    'max_depth': [1,4,6,8],\n",
    "    'num_leaves': [20,30,40],\n",
    "    'min_child_samples': [18,19,20,21,22],\n",
    "    'min_child_weight': [0.001,0.002],\n",
    "    'cat_smooth': [0,10,20]\n",
    "    \n",
    "}\n",
    "\n",
    "grid = GridSearchCV(lgb.LGBMRegressor(), parameter_space, cv=5)  \n",
    "grid.fit(X, y)  \n",
    "print(\"The best parameters are %s with a score of %0.2f\" %(grid.best_params_, grid.best_score_))"
   ]
  },
  {
   "cell_type": "code",
   "execution_count": 16,
   "id": "dee29310",
   "metadata": {},
   "outputs": [],
   "source": [
    "model_LGBMRegressor=lgb.LGBMRegressor(cat_smooth=0, max_depth=1, min_child_samples=19, min_child_weight=0.001, num_leaves=20)"
   ]
  },
  {
   "cell_type": "code",
   "execution_count": null,
   "id": "01269cfd",
   "metadata": {},
   "outputs": [],
   "source": []
  },
  {
   "cell_type": "markdown",
   "id": "feb573a3",
   "metadata": {},
   "source": [
    "**对AdaBoost进行调参**"
   ]
  },
  {
   "cell_type": "code",
   "execution_count": 64,
   "id": "7d7356d9",
   "metadata": {},
   "outputs": [
    {
     "name": "stdout",
     "output_type": "stream",
     "text": [
      "The best parameters are {'base_estimator': DecisionTreeRegressor(max_depth=3), 'learning_rate': 0.1, 'n_estimators': 200} with a score of 0.15\n"
     ]
    }
   ],
   "source": [
    "from sklearn.model_selection import GridSearchCV  \n",
    "parameter_space = {\n",
    "    'base_estimator':[tree.DecisionTreeRegressor(max_depth=3),tree.DecisionTreeRegressor(max_depth=1),tree.DecisionTreeRegressor(max_depth=5),model_RidgeCV],\n",
    "    'n_estimators':[25,50,100,200,300],\n",
    "    'learning_rate':[0.05,0.1,0.5,0.8]\n",
    "}\n",
    "\n",
    "grid = GridSearchCV(ensemble.AdaBoostRegressor(random_state=23), parameter_space, cv=5)  \n",
    "grid.fit(X, y)  \n",
    "print(\"The best parameters are %s with a score of %0.2f\" %(grid.best_params_, grid.best_score_))"
   ]
  },
  {
   "cell_type": "code",
   "execution_count": 15,
   "id": "e90d87cb",
   "metadata": {},
   "outputs": [],
   "source": [
    "model_AdaBoostRegressor=ensemble.AdaBoostRegressor(base_estimator= tree.DecisionTreeRegressor(max_depth=3),random_state=23,learning_rate=0.1, n_estimators=200)"
   ]
  },
  {
   "cell_type": "code",
   "execution_count": null,
   "id": "955cb6cd",
   "metadata": {},
   "outputs": [],
   "source": []
  },
  {
   "cell_type": "markdown",
   "id": "3f8b5fcd",
   "metadata": {},
   "source": [
    "**调参结果对比**<br>\n",
    "\n",
    "| 模型 | 调参前 | 调参后 |\n",
    "|------|----------|------|\n",
    "| Adaboost回归  | 0.1108 | 0.147104   |\n",
    "| XGBOOST回归   | -0.2549 | 0.09732   |\n",
    "| LGBM回归     | 0.0302 | 0.068588    |\n",
    "| 神经网络回归  | -1300114156.88 | -0.03711 |\n",
    "| SVM回归     | -0.18683 | -0.18683   |\n",
    "\n",
    "除了SVM算法外，其余算法通过调参都能显著提高算法的效果"
   ]
  },
  {
   "cell_type": "code",
   "execution_count": null,
   "id": "723ba207",
   "metadata": {},
   "outputs": [],
   "source": []
  },
  {
   "cell_type": "markdown",
   "id": "f26c2f50",
   "metadata": {},
   "source": [
    "**其他的弱分类器AdaBoost (只是探索，不纳入正文)**"
   ]
  },
  {
   "cell_type": "code",
   "execution_count": 75,
   "id": "f6788d73",
   "metadata": {},
   "outputs": [],
   "source": [
    "model_AdaBoostRegressor = ensemble.AdaBoostRegressor(model_Lars_cv,random_state=23,learning_rate=0.1, n_estimators=200)"
   ]
  },
  {
   "cell_type": "code",
   "execution_count": 76,
   "id": "1b4c1f8b",
   "metadata": {},
   "outputs": [
    {
     "data": {
      "text/plain": [
       "0.09964488521579595"
      ]
     },
     "execution_count": 76,
     "metadata": {},
     "output_type": "execute_result"
    }
   ],
   "source": [
    "score=[]\n",
    "score=cross_val_score(model_AdaBoostRegressor,data,target,cv=5,scoring='r2')\n",
    "score.mean()"
   ]
  },
  {
   "cell_type": "code",
   "execution_count": null,
   "id": "69be09cd",
   "metadata": {},
   "outputs": [],
   "source": []
  },
  {
   "cell_type": "code",
   "execution_count": 14,
   "id": "2442e128",
   "metadata": {},
   "outputs": [],
   "source": [
    "model_AdaBoostRegressor = ensemble.AdaBoostRegressor(model_LGBMRegressor,random_state=23,learning_rate=0.1, n_estimators=200)"
   ]
  },
  {
   "cell_type": "code",
   "execution_count": 116,
   "id": "6c6b3d53",
   "metadata": {},
   "outputs": [
    {
     "data": {
      "text/plain": [
       "0.14543581205950837"
      ]
     },
     "execution_count": 116,
     "metadata": {},
     "output_type": "execute_result"
    }
   ],
   "source": [
    "score=[]\n",
    "score=cross_val_score(model_AdaBoostRegressor,data,target,cv=5,scoring='r2')\n",
    "score.mean()"
   ]
  },
  {
   "cell_type": "code",
   "execution_count": null,
   "id": "499b7b89",
   "metadata": {},
   "outputs": [],
   "source": []
  },
  {
   "cell_type": "code",
   "execution_count": 13,
   "id": "d9588f13",
   "metadata": {},
   "outputs": [],
   "source": [
    "model_AdaBoostRegressor = ensemble.AdaBoostRegressor(MLPRegressor(activation='tanh', alpha=0.0001, hidden_layer_sizes=(3,3,3), learning_rate='adaptive', solver='lbfgs'),random_state=23,learning_rate=0.1, n_estimators=200)"
   ]
  },
  {
   "cell_type": "code",
   "execution_count": 80,
   "id": "d0dd6ca7",
   "metadata": {},
   "outputs": [
    {
     "data": {
      "text/plain": [
       "-0.03579260809586169"
      ]
     },
     "execution_count": 80,
     "metadata": {},
     "output_type": "execute_result"
    }
   ],
   "source": [
    "score=[]\n",
    "score=cross_val_score(model_AdaBoostRegressor,data,target,cv=5,scoring='r2')\n",
    "score.mean()"
   ]
  },
  {
   "cell_type": "markdown",
   "id": "7778b5f6",
   "metadata": {},
   "source": [
    "根据结果，弱分类器对模型有比较大的影响"
   ]
  },
  {
   "cell_type": "code",
   "execution_count": null,
   "id": "1e69fdb8",
   "metadata": {},
   "outputs": [],
   "source": []
  },
  {
   "cell_type": "markdown",
   "id": "1334fd2e",
   "metadata": {},
   "source": [
    "### 2.4 异常值测试"
   ]
  },
  {
   "cell_type": "markdown",
   "id": "1e0cb564",
   "metadata": {},
   "source": [
    "传统的ifroest和one-svm对于异常值监测的效果并不好，尝试通过留一误差法检测异常值。\n",
    "具体异常点监测的方法有待后续进一步研究"
   ]
  },
  {
   "cell_type": "code",
   "execution_count": 56,
   "id": "0cccccac",
   "metadata": {},
   "outputs": [],
   "source": [
    "from sklearn.model_selection import LeaveOneOut\n",
    "loo = LeaveOneOut()"
   ]
  },
  {
   "cell_type": "markdown",
   "id": "f4d26da3",
   "metadata": {},
   "source": [
    "**线性回归留一验证**"
   ]
  },
  {
   "cell_type": "code",
   "execution_count": 77,
   "id": "2d6e4811",
   "metadata": {},
   "outputs": [],
   "source": [
    "result_list=[]\n",
    "for train_index, test_index in loo.split(X):\n",
    "    train_X, test_X= X[train_index], X[test_index]\n",
    "    train_y, test_y=y[train_index], y[test_index]\n",
    "    model_LinearRegression.fit(train_X,train_y)\n",
    "    result=model_LinearRegression.predict(test_X)\n",
    "    result_list.append(result.tolist()[0])"
   ]
  },
  {
   "cell_type": "code",
   "execution_count": 78,
   "id": "c2e03eeb",
   "metadata": {},
   "outputs": [
    {
     "data": {
      "image/png": "[encoded data removed]",
      "text/plain": [
       "<Figure size 432x288 with 1 Axes>"
      ]
     },
     "metadata": {
      "needs_background": "light"
     },
     "output_type": "display_data"
    }
   ],
   "source": [
    "plt.figure()\n",
    "plt.plot(np.arange(len(result_list)), target,'go-',label='true value')\n",
    "plt.plot(np.arange(len(result_list)),score_dic,'ro-',label='predict value')\n",
    "plt.legend()\n",
    "plt.show()"
   ]
  },
  {
   "cell_type": "code",
   "execution_count": 89,
   "id": "6422eb3c",
   "metadata": {},
   "outputs": [
    {
     "data": {
      "text/html": [
       "<div>\n",
       "<style scoped>\n",
       "    .dataframe tbody tr th:only-of-type {\n",
       "        vertical-align: middle;\n",
       "    }\n",
       "\n",
       "    .dataframe tbody tr th {\n",
       "        vertical-align: top;\n",
       "    }\n",
       "\n",
       "    .dataframe thead th {\n",
       "        text-align: right;\n",
       "    }\n",
       "</style>\n",
       "<table border=\"1\" class=\"dataframe\">\n",
       "  <thead>\n",
       "    <tr style=\"text-align: right;\">\n",
       "      <th></th>\n",
       "      <th>true_y</th>\n",
       "      <th>predict_value</th>\n",
       "      <th>difference</th>\n",
       "    </tr>\n",
       "  </thead>\n",
       "  <tbody>\n",
       "    <tr>\n",
       "      <th>13</th>\n",
       "      <td>0.035</td>\n",
       "      <td>-0.243687</td>\n",
       "      <td>0.278687</td>\n",
       "    </tr>\n",
       "    <tr>\n",
       "      <th>2</th>\n",
       "      <td>0.045</td>\n",
       "      <td>-0.040503</td>\n",
       "      <td>0.085503</td>\n",
       "    </tr>\n",
       "    <tr>\n",
       "      <th>9</th>\n",
       "      <td>0.016</td>\n",
       "      <td>-0.053727</td>\n",
       "      <td>0.069727</td>\n",
       "    </tr>\n",
       "    <tr>\n",
       "      <th>12</th>\n",
       "      <td>0.050</td>\n",
       "      <td>0.095060</td>\n",
       "      <td>0.045060</td>\n",
       "    </tr>\n",
       "    <tr>\n",
       "      <th>96</th>\n",
       "      <td>0.045</td>\n",
       "      <td>0.007695</td>\n",
       "      <td>0.037305</td>\n",
       "    </tr>\n",
       "    <tr>\n",
       "      <th>...</th>\n",
       "      <td>...</td>\n",
       "      <td>...</td>\n",
       "      <td>...</td>\n",
       "    </tr>\n",
       "    <tr>\n",
       "      <th>91</th>\n",
       "      <td>0.030</td>\n",
       "      <td>0.031317</td>\n",
       "      <td>0.001317</td>\n",
       "    </tr>\n",
       "    <tr>\n",
       "      <th>58</th>\n",
       "      <td>0.030</td>\n",
       "      <td>0.029013</td>\n",
       "      <td>0.000987</td>\n",
       "    </tr>\n",
       "    <tr>\n",
       "      <th>10</th>\n",
       "      <td>0.020</td>\n",
       "      <td>0.020798</td>\n",
       "      <td>0.000798</td>\n",
       "    </tr>\n",
       "    <tr>\n",
       "      <th>26</th>\n",
       "      <td>0.025</td>\n",
       "      <td>0.024764</td>\n",
       "      <td>0.000236</td>\n",
       "    </tr>\n",
       "    <tr>\n",
       "      <th>52</th>\n",
       "      <td>0.030</td>\n",
       "      <td>0.029898</td>\n",
       "      <td>0.000102</td>\n",
       "    </tr>\n",
       "  </tbody>\n",
       "</table>\n",
       "<p>128 rows × 3 columns</p>\n",
       "</div>"
      ],
      "text/plain": [
       "    true_y  predict_value  difference\n",
       "13   0.035      -0.243687    0.278687\n",
       "2    0.045      -0.040503    0.085503\n",
       "9    0.016      -0.053727    0.069727\n",
       "12   0.050       0.095060    0.045060\n",
       "96   0.045       0.007695    0.037305\n",
       "..     ...            ...         ...\n",
       "91   0.030       0.031317    0.001317\n",
       "58   0.030       0.029013    0.000987\n",
       "10   0.020       0.020798    0.000798\n",
       "26   0.025       0.024764    0.000236\n",
       "52   0.030       0.029898    0.000102\n",
       "\n",
       "[128 rows x 3 columns]"
      ]
     },
     "execution_count": 89,
     "metadata": {},
     "output_type": "execute_result"
    }
   ],
   "source": [
    "from pandas import Series,DataFrame\n",
    "import pandas as pd\n",
    "data = {\n",
    "       'true_y':target,\n",
    "       'predict_value':result_list,\n",
    "       'difference':np.abs(result_list-target)}\n",
    "        \n",
    "df = DataFrame(data)\n",
    "df.sort_values(by=['difference'],ascending=False)"
   ]
  },
  {
   "cell_type": "code",
   "execution_count": null,
   "id": "6e687b4b",
   "metadata": {},
   "outputs": [],
   "source": []
  },
  {
   "cell_type": "markdown",
   "id": "10b8ed69",
   "metadata": {},
   "source": [
    "**RidgeCV留一验证**"
   ]
  },
  {
   "cell_type": "code",
   "execution_count": 90,
   "id": "3d35aae1",
   "metadata": {},
   "outputs": [],
   "source": [
    "result_list=[]\n",
    "for train_index, test_index in loo.split(X):\n",
    "    train_X, test_X= X[train_index], X[test_index]\n",
    "    train_y, test_y=y[train_index], y[test_index]\n",
    "    model_RidgeCV.fit(train_X,train_y)\n",
    "    result=model_RidgeCV.predict(test_X)\n",
    "    result_list.append(result.tolist()[0])"
   ]
  },
  {
   "cell_type": "code",
   "execution_count": 91,
   "id": "8d5701be",
   "metadata": {},
   "outputs": [
    {
     "data": {
      "image/png": "[encoded data removed]",
      "text/plain": [
       "<Figure size 432x288 with 1 Axes>"
      ]
     },
     "metadata": {
      "needs_background": "light"
     },
     "output_type": "display_data"
    }
   ],
   "source": [
    "plt.figure()\n",
    "plt.plot(np.arange(len(result_list)), target,'go-',label='true value')\n",
    "plt.plot(np.arange(len(result_list)),score_dic,'ro-',label='predict value')\n",
    "plt.legend()\n",
    "plt.show()"
   ]
  },
  {
   "cell_type": "code",
   "execution_count": 95,
   "id": "824a3c54",
   "metadata": {},
   "outputs": [
    {
     "data": {
      "text/html": [
       "<div>\n",
       "<style scoped>\n",
       "    .dataframe tbody tr th:only-of-type {\n",
       "        vertical-align: middle;\n",
       "    }\n",
       "\n",
       "    .dataframe tbody tr th {\n",
       "        vertical-align: top;\n",
       "    }\n",
       "\n",
       "    .dataframe thead th {\n",
       "        text-align: right;\n",
       "    }\n",
       "</style>\n",
       "<table border=\"1\" class=\"dataframe\">\n",
       "  <thead>\n",
       "    <tr style=\"text-align: right;\">\n",
       "      <th></th>\n",
       "      <th>true_y</th>\n",
       "      <th>predict_value</th>\n",
       "      <th>difference</th>\n",
       "    </tr>\n",
       "  </thead>\n",
       "  <tbody>\n",
       "    <tr>\n",
       "      <th>21</th>\n",
       "      <td>0.050</td>\n",
       "      <td>0.023253</td>\n",
       "      <td>0.026747</td>\n",
       "    </tr>\n",
       "    <tr>\n",
       "      <th>101</th>\n",
       "      <td>0.050</td>\n",
       "      <td>0.026103</td>\n",
       "      <td>0.023897</td>\n",
       "    </tr>\n",
       "    <tr>\n",
       "      <th>96</th>\n",
       "      <td>0.045</td>\n",
       "      <td>0.021503</td>\n",
       "      <td>0.023497</td>\n",
       "    </tr>\n",
       "    <tr>\n",
       "      <th>66</th>\n",
       "      <td>0.040</td>\n",
       "      <td>0.018788</td>\n",
       "      <td>0.021212</td>\n",
       "    </tr>\n",
       "    <tr>\n",
       "      <th>5</th>\n",
       "      <td>0.005</td>\n",
       "      <td>0.025547</td>\n",
       "      <td>0.020547</td>\n",
       "    </tr>\n",
       "    <tr>\n",
       "      <th>...</th>\n",
       "      <td>...</td>\n",
       "      <td>...</td>\n",
       "      <td>...</td>\n",
       "    </tr>\n",
       "    <tr>\n",
       "      <th>76</th>\n",
       "      <td>0.020</td>\n",
       "      <td>0.019681</td>\n",
       "      <td>0.000319</td>\n",
       "    </tr>\n",
       "    <tr>\n",
       "      <th>91</th>\n",
       "      <td>0.030</td>\n",
       "      <td>0.029687</td>\n",
       "      <td>0.000313</td>\n",
       "    </tr>\n",
       "    <tr>\n",
       "      <th>20</th>\n",
       "      <td>0.030</td>\n",
       "      <td>0.029781</td>\n",
       "      <td>0.000219</td>\n",
       "    </tr>\n",
       "    <tr>\n",
       "      <th>52</th>\n",
       "      <td>0.030</td>\n",
       "      <td>0.030036</td>\n",
       "      <td>0.000036</td>\n",
       "    </tr>\n",
       "    <tr>\n",
       "      <th>39</th>\n",
       "      <td>0.020</td>\n",
       "      <td>0.019990</td>\n",
       "      <td>0.000010</td>\n",
       "    </tr>\n",
       "  </tbody>\n",
       "</table>\n",
       "<p>128 rows × 3 columns</p>\n",
       "</div>"
      ],
      "text/plain": [
       "     true_y  predict_value  difference\n",
       "21    0.050       0.023253    0.026747\n",
       "101   0.050       0.026103    0.023897\n",
       "96    0.045       0.021503    0.023497\n",
       "66    0.040       0.018788    0.021212\n",
       "5     0.005       0.025547    0.020547\n",
       "..      ...            ...         ...\n",
       "76    0.020       0.019681    0.000319\n",
       "91    0.030       0.029687    0.000313\n",
       "20    0.030       0.029781    0.000219\n",
       "52    0.030       0.030036    0.000036\n",
       "39    0.020       0.019990    0.000010\n",
       "\n",
       "[128 rows x 3 columns]"
      ]
     },
     "execution_count": 95,
     "metadata": {},
     "output_type": "execute_result"
    }
   ],
   "source": [
    "from pandas import Series,DataFrame\n",
    "import pandas as pd\n",
    "data = {\n",
    "       'true_y':target,\n",
    "       'predict_value':result_list,\n",
    "       'difference':np.abs(result_list-target)}\n",
    "        \n",
    "df = DataFrame(data)\n",
    "df.sort_values(by=['difference'],ascending=False)"
   ]
  },
  {
   "cell_type": "code",
   "execution_count": null,
   "id": "66659172",
   "metadata": {},
   "outputs": [],
   "source": []
  },
  {
   "cell_type": "markdown",
   "id": "fa9ca91d",
   "metadata": {},
   "source": [
    "**AdaBoost留一验证**"
   ]
  },
  {
   "cell_type": "code",
   "execution_count": 98,
   "id": "2467ae57",
   "metadata": {},
   "outputs": [],
   "source": [
    "result_list=[]\n",
    "model_AdaBoostRegressor=ensemble.AdaBoostRegressor(base_estimator= tree.DecisionTreeRegressor(max_depth=3),random_state=23,learning_rate=0.1, n_estimators=200)\n",
    "for train_index, test_index in loo.split(X):\n",
    "    train_X, test_X= X[train_index], X[test_index]\n",
    "    train_y, test_y=y[train_index], y[test_index]\n",
    "    model_AdaBoostRegressor.fit(train_X,train_y)\n",
    "    result=model_AdaBoostRegressor.predict(test_X)\n",
    "    result_list.append(result.tolist()[0])"
   ]
  },
  {
   "cell_type": "code",
   "execution_count": 99,
   "id": "a811adae",
   "metadata": {},
   "outputs": [
    {
     "data": {
      "image/png": "[encoded data removed]",
      "text/plain": [
       "<Figure size 432x288 with 1 Axes>"
      ]
     },
     "metadata": {
      "needs_background": "light"
     },
     "output_type": "display_data"
    }
   ],
   "source": [
    "plt.figure()\n",
    "plt.plot(np.arange(len(result_list)), target,'go-',label='true value')\n",
    "plt.plot(np.arange(len(result_list)),score_dic,'ro-',label='predict value')\n",
    "plt.legend()\n",
    "plt.show()"
   ]
  },
  {
   "cell_type": "code",
   "execution_count": 100,
   "id": "992572b4",
   "metadata": {},
   "outputs": [
    {
     "data": {
      "text/html": [
       "<div>\n",
       "<style scoped>\n",
       "    .dataframe tbody tr th:only-of-type {\n",
       "        vertical-align: middle;\n",
       "    }\n",
       "\n",
       "    .dataframe tbody tr th {\n",
       "        vertical-align: top;\n",
       "    }\n",
       "\n",
       "    .dataframe thead th {\n",
       "        text-align: right;\n",
       "    }\n",
       "</style>\n",
       "<table border=\"1\" class=\"dataframe\">\n",
       "  <thead>\n",
       "    <tr style=\"text-align: right;\">\n",
       "      <th></th>\n",
       "      <th>true_y</th>\n",
       "      <th>predict_value</th>\n",
       "      <th>difference</th>\n",
       "    </tr>\n",
       "  </thead>\n",
       "  <tbody>\n",
       "    <tr>\n",
       "      <th>21</th>\n",
       "      <td>0.050</td>\n",
       "      <td>0.023582</td>\n",
       "      <td>0.026418</td>\n",
       "    </tr>\n",
       "    <tr>\n",
       "      <th>47</th>\n",
       "      <td>0.050</td>\n",
       "      <td>0.025294</td>\n",
       "      <td>0.024706</td>\n",
       "    </tr>\n",
       "    <tr>\n",
       "      <th>85</th>\n",
       "      <td>0.045</td>\n",
       "      <td>0.021194</td>\n",
       "      <td>0.023806</td>\n",
       "    </tr>\n",
       "    <tr>\n",
       "      <th>12</th>\n",
       "      <td>0.050</td>\n",
       "      <td>0.027429</td>\n",
       "      <td>0.022571</td>\n",
       "    </tr>\n",
       "    <tr>\n",
       "      <th>30</th>\n",
       "      <td>0.010</td>\n",
       "      <td>0.031352</td>\n",
       "      <td>0.021352</td>\n",
       "    </tr>\n",
       "    <tr>\n",
       "      <th>...</th>\n",
       "      <td>...</td>\n",
       "      <td>...</td>\n",
       "      <td>...</td>\n",
       "    </tr>\n",
       "    <tr>\n",
       "      <th>79</th>\n",
       "      <td>0.020</td>\n",
       "      <td>0.019547</td>\n",
       "      <td>0.000453</td>\n",
       "    </tr>\n",
       "    <tr>\n",
       "      <th>35</th>\n",
       "      <td>0.025</td>\n",
       "      <td>0.024805</td>\n",
       "      <td>0.000195</td>\n",
       "    </tr>\n",
       "    <tr>\n",
       "      <th>8</th>\n",
       "      <td>0.030</td>\n",
       "      <td>0.030047</td>\n",
       "      <td>0.000047</td>\n",
       "    </tr>\n",
       "    <tr>\n",
       "      <th>117</th>\n",
       "      <td>0.020</td>\n",
       "      <td>0.019956</td>\n",
       "      <td>0.000044</td>\n",
       "    </tr>\n",
       "    <tr>\n",
       "      <th>28</th>\n",
       "      <td>0.025</td>\n",
       "      <td>0.024957</td>\n",
       "      <td>0.000043</td>\n",
       "    </tr>\n",
       "  </tbody>\n",
       "</table>\n",
       "<p>128 rows × 3 columns</p>\n",
       "</div>"
      ],
      "text/plain": [
       "     true_y  predict_value  difference\n",
       "21    0.050       0.023582    0.026418\n",
       "47    0.050       0.025294    0.024706\n",
       "85    0.045       0.021194    0.023806\n",
       "12    0.050       0.027429    0.022571\n",
       "30    0.010       0.031352    0.021352\n",
       "..      ...            ...         ...\n",
       "79    0.020       0.019547    0.000453\n",
       "35    0.025       0.024805    0.000195\n",
       "8     0.030       0.030047    0.000047\n",
       "117   0.020       0.019956    0.000044\n",
       "28    0.025       0.024957    0.000043\n",
       "\n",
       "[128 rows x 3 columns]"
      ]
     },
     "execution_count": 100,
     "metadata": {},
     "output_type": "execute_result"
    }
   ],
   "source": [
    "from pandas import Series,DataFrame\n",
    "import pandas as pd\n",
    "data = {\n",
    "       'true_y':target,\n",
    "       'predict_value':result_list,\n",
    "       'difference':np.abs(result_list-target)}\n",
    "        \n",
    "df = DataFrame(data)\n",
    "df.sort_values(by=['difference'],ascending=False)"
   ]
  },
  {
   "cell_type": "markdown",
   "id": "d907bd67",
   "metadata": {},
   "source": [
    "从结果上来看，留一验证不适合作为异常值剔除的方法。每种模型给出的差值前5位都不相同。可能13 2 12是异常值"
   ]
  },
  {
   "cell_type": "markdown",
   "id": "557d0035",
   "metadata": {},
   "source": [
    "## 3 特征选择"
   ]
  },
  {
   "cell_type": "markdown",
   "id": "f89a3aad",
   "metadata": {},
   "source": [
    "&emsp;不考虑通过Polynomial Features构造 如$x^2$, $xy$等多项式特征，我觉得这种特征对于该问题没有意义。也不考虑对年限等进行取对数操作。"
   ]
  },
  {
   "cell_type": "markdown",
   "id": "cada052f",
   "metadata": {},
   "source": [
    "### 3.1 特征选择: Filter\n",
    "&emsp;&emsp;基本思路是通过统计学变量，计算自变量和目标变量之间的关联，选择相关性比较高的属性。常用的统计学变量和方法有相关系数，卡方检验，信息增益<br>"
   ]
  },
  {
   "cell_type": "markdown",
   "id": "06584b04",
   "metadata": {},
   "source": [
    "**相关系数**"
   ]
  },
  {
   "cell_type": "code",
   "execution_count": 76,
   "id": "85ec77ac",
   "metadata": {},
   "outputs": [
    {
     "data": {
      "text/plain": [
       "<AxesSubplot:>"
      ]
     },
     "execution_count": 76,
     "metadata": {},
     "output_type": "execute_result"
    },
    {
     "data": {
      "image/png": "[encoded data removed]",
      "text/plain": [
       "<Figure size 432x288 with 2 Axes>"
      ]
     },
     "metadata": {},
     "output_type": "display_data"
    }
   ],
   "source": [
    "# 用Seaborn 生成热图\n",
    "import seaborn as sns\n",
    "import matplotlib.style as style\n",
    "# 选用一个干净的主题\n",
    "style.use('fivethirtyeight')\n",
    "sns.heatmap(unique_risk.corr())"
   ]
  },
  {
   "cell_type": "code",
   "execution_count": 77,
   "id": "2cd24f2a",
   "metadata": {},
   "outputs": [
    {
     "data": {
      "text/plain": [
       "Index(['前三年承诺覆盖率', '动态市盈率', '成立年限', '净利润增长率', '固定资产周转率', '研发支出占比'], dtype='object')"
      ]
     },
     "execution_count": 77,
     "metadata": {},
     "output_type": "execute_result"
    }
   ],
   "source": [
    "# 存储特征\n",
    "highly_correlated_features =unique_risk.columns[unique_risk.corr()['Rc'].abs() > .2]\n",
    "highly_correlated_features=highly_correlated_features.drop('Rc') \n",
    "highly_correlated_features"
   ]
  },
  {
   "cell_type": "code",
   "execution_count": 78,
   "id": "55a49643",
   "metadata": {},
   "outputs": [],
   "source": [
    "new_data=unique_risk[['前三年承诺覆盖率', '动态市盈率', '成立年限', '净利润增长率', '固定资产周转率','研发支出占比']]\n",
    "new_X=ss.fit_transform(new_data)"
   ]
  },
  {
   "cell_type": "code",
   "execution_count": 79,
   "id": "b35d8592",
   "metadata": {},
   "outputs": [
    {
     "data": {
      "text/plain": [
       "0.17268583147202016"
      ]
     },
     "execution_count": 79,
     "metadata": {},
     "output_type": "execute_result"
    }
   ],
   "source": [
    "score=[]\n",
    "score=cross_val_score(model_LinearRegression,new_X,y,cv=5,scoring='r2')\n",
    "score.mean()"
   ]
  },
  {
   "cell_type": "code",
   "execution_count": 80,
   "id": "c0d4203c",
   "metadata": {
    "scrolled": true
   },
   "outputs": [
    {
     "data": {
      "text/plain": [
       "0.15225484849226573"
      ]
     },
     "execution_count": 80,
     "metadata": {},
     "output_type": "execute_result"
    }
   ],
   "source": [
    "score=[]\n",
    "score=cross_val_score(model_RidgeCV,new_data,y,cv=5,scoring='r2')\n",
    "score.mean()"
   ]
  },
  {
   "cell_type": "code",
   "execution_count": 81,
   "id": "228ebb97",
   "metadata": {},
   "outputs": [
    {
     "data": {
      "text/plain": [
       "0.14041247587704453"
      ]
     },
     "execution_count": 81,
     "metadata": {},
     "output_type": "execute_result"
    }
   ],
   "source": [
    "score=[]\n",
    "score=cross_val_score(model_ElasticNetCV,new_X,y,cv=5,scoring='r2')\n",
    "score.mean()"
   ]
  },
  {
   "cell_type": "code",
   "execution_count": 82,
   "id": "077ae171",
   "metadata": {},
   "outputs": [
    {
     "data": {
      "text/plain": [
       "0.11731172127025753"
      ]
     },
     "execution_count": 82,
     "metadata": {},
     "output_type": "execute_result"
    }
   ],
   "source": [
    "score=[]\n",
    "score=cross_val_score(model_Lars_cv,new_X,y,cv=5,scoring='r2')\n",
    "score.mean()"
   ]
  },
  {
   "cell_type": "code",
   "execution_count": 83,
   "id": "3e2dc30b",
   "metadata": {},
   "outputs": [
    {
     "name": "stdout",
     "output_type": "stream",
     "text": [
      "The best parameters are {'activation': 'relu', 'alpha': 0.0001, 'hidden_layer_sizes': (5, 5, 5, 5), 'learning_rate': 'constant', 'solver': 'lbfgs'} with a score of 0.11\n"
     ]
    }
   ],
   "source": [
    "from sklearn.model_selection import GridSearchCV  \n",
    "parameter_space = {\n",
    "    #为了加快运行速度，删除了从(30,30,30) (30,)开始的迭代  五层或者更深可以优化效果，但会让模型过于复杂\n",
    "    'hidden_layer_sizes': [(5,5,5),(3,3,3),(5,3,3,3),(5,5,5,5),(3,3,3,3)], \n",
    "    'activation': ['tanh', 'relu','logistic'],\n",
    "    'solver': ['sgd', 'adam','lbfgs'],\n",
    "    'alpha': [0.0001, 0.05,0.1,1,10],\n",
    "    'learning_rate': ['constant','adaptive'],\n",
    "}\n",
    "\n",
    "grid = GridSearchCV(MLPRegressor(random_state=23), parameter_space, cv=5)  \n",
    "grid.fit(new_X, y)  \n",
    "print(\"The best parameters are %s with a score of %0.2f\" %(grid.best_params_, grid.best_score_))"
   ]
  },
  {
   "cell_type": "code",
   "execution_count": 84,
   "id": "9e08c52f",
   "metadata": {},
   "outputs": [
    {
     "data": {
      "text/plain": [
       "-0.18683288553527677"
      ]
     },
     "execution_count": 84,
     "metadata": {},
     "output_type": "execute_result"
    }
   ],
   "source": [
    "score=[]\n",
    "score=cross_val_score(model_SVR,new_X,y,cv=5,scoring='r2')\n",
    "score.mean()\n",
    "#没啥变化"
   ]
  },
  {
   "cell_type": "code",
   "execution_count": 85,
   "id": "888152db",
   "metadata": {},
   "outputs": [
    {
     "name": "stdout",
     "output_type": "stream",
     "text": [
      "The best parameters are {'cat_smooth': 0, 'max_depth': 4, 'min_child_samples': 22, 'min_child_weight': 0.001, 'num_leaves': 20} with a score of 0.05\n"
     ]
    }
   ],
   "source": [
    "from sklearn.model_selection import GridSearchCV  \n",
    "parameter_space = {\n",
    "    'max_depth': [1,4,6,8],\n",
    "    'num_leaves': [20,30,40],\n",
    "    'min_child_samples': [18,19,20,21,22],\n",
    "    'min_child_weight': [0.001,0.002],\n",
    "    'cat_smooth': [0,10,20]\n",
    "    \n",
    "}\n",
    "\n",
    "grid = GridSearchCV(lgb.LGBMRegressor(), parameter_space, cv=5)  \n",
    "grid.fit(new_X, y)  \n",
    "print(\"The best parameters are %s with a score of %0.2f\" %(grid.best_params_, grid.best_score_))\n",
    "#调参后还是比较差"
   ]
  },
  {
   "cell_type": "code",
   "execution_count": 86,
   "id": "8337806b",
   "metadata": {},
   "outputs": [
    {
     "name": "stdout",
     "output_type": "stream",
     "text": [
      "The best parameters are {'eta': 0.1, 'gamma': 0, 'max_depth': 3, 'min_child_weight': 1} with a score of 0.07\n"
     ]
    }
   ],
   "source": [
    "from sklearn.model_selection import GridSearchCV  \n",
    "parameter_space = {\n",
    "    'eta': [0.1, 0.2, 0.3, 0.4],\n",
    "    'gamma':[0,1,10],\n",
    "    'max_depth': [3, 6, 9, 12],\n",
    "    'min_child_weight': [1, 10 ,100]\n",
    "}\n",
    "\n",
    "grid = GridSearchCV(xgb.XGBRegressor(), parameter_space, cv=5)  \n",
    "grid.fit(new_X, y)  \n",
    "print(\"The best parameters are %s with a score of %0.2f\" %(grid.best_params_, grid.best_score_))\n",
    "#调参后还是比较差"
   ]
  },
  {
   "cell_type": "code",
   "execution_count": 87,
   "id": "fe5b9869",
   "metadata": {},
   "outputs": [
    {
     "name": "stdout",
     "output_type": "stream",
     "text": [
      "The best parameters are {'base_estimator': RidgeCV(alphas=array([ 0.1,  1. , 10. ])), 'learning_rate': 0.1, 'n_estimators': 25} with a score of 0.17\n"
     ]
    }
   ],
   "source": [
    "from sklearn.model_selection import GridSearchCV  \n",
    "parameter_space = {\n",
    "    'base_estimator':[tree.DecisionTreeRegressor(max_depth=3),tree.DecisionTreeRegressor(max_depth=1),tree.DecisionTreeRegressor(max_depth=5),model_RidgeCV],\n",
    "    'n_estimators':[25,50,100,200,300],\n",
    "    'learning_rate':[0.05,0.1,0.5,0.8]\n",
    "}\n",
    "\n",
    "grid = GridSearchCV(ensemble.AdaBoostRegressor(random_state=23), parameter_space, cv=5)  \n",
    "grid.fit(new_X, y)  \n",
    "print(\"The best parameters are %s with a score of %0.2f\" %(grid.best_params_, grid.best_score_))\n",
    "#效果变差了"
   ]
  },
  {
   "cell_type": "code",
   "execution_count": null,
   "id": "9ceb5178",
   "metadata": {},
   "outputs": [],
   "source": []
  },
  {
   "cell_type": "markdown",
   "id": "e88e5ecb",
   "metadata": {},
   "source": [
    "**使用假设检验**"
   ]
  },
  {
   "cell_type": "code",
   "execution_count": 29,
   "id": "ea8415a7",
   "metadata": {},
   "outputs": [],
   "source": [
    "#ANOVA测试\n",
    "from sklearn.feature_selection import f_regression\n",
    "from sklearn.feature_selection import SelectKBest"
   ]
  },
  {
   "cell_type": "code",
   "execution_count": 30,
   "id": "54a14e37",
   "metadata": {},
   "outputs": [],
   "source": [
    "#保留一半，14个特征\n",
    "k_best=SelectKBest(f_regression, k=14)"
   ]
  },
  {
   "cell_type": "code",
   "execution_count": 31,
   "id": "e809ce46",
   "metadata": {},
   "outputs": [
    {
     "data": {
      "text/plain": [
       "(array([ 1.05646898,  0.80048802,  0.97146867, 16.25759539,  0.13201371,\n",
       "        10.58108109, 11.44741631,  1.40549044,  0.94256062,  0.2007538 ,\n",
       "         0.05232384,  2.38037109,  1.10099705,  3.26189126,  9.13512245,\n",
       "         4.12692227,  1.23307206,  0.83064585,  8.01458958,  2.75695357,\n",
       "         4.13572041,  3.86502493,  1.29785984,  0.23406864,  2.3917066 ,\n",
       "         0.11854047,  4.85175093,  6.33932883]),\n",
       " array([3.05991030e-01, 3.72653415e-01, 3.26203060e-01, 9.51235230e-05,\n",
       "        7.16962089e-01, 1.46650223e-03, 9.54494865e-04, 2.38037453e-01,\n",
       "        3.33480207e-01, 6.54882552e-01, 8.19438703e-01, 1.25376194e-01,\n",
       "        2.96055842e-01, 7.32943477e-02, 3.03812448e-03, 4.43092401e-02,\n",
       "        2.68925056e-01, 3.63826212e-01, 5.40287860e-03, 9.93190991e-02,\n",
       "        4.40870737e-02, 5.15014091e-02, 2.56765737e-01, 6.29363040e-01,\n",
       "        1.24488422e-01, 7.31196839e-01, 2.94369453e-02, 1.30625656e-02]))"
      ]
     },
     "execution_count": 31,
     "metadata": {},
     "output_type": "execute_result"
    }
   ],
   "source": [
    "f_regression(X, y, center=True)"
   ]
  },
  {
   "cell_type": "code",
   "execution_count": 32,
   "id": "9821b85d",
   "metadata": {},
   "outputs": [
    {
     "data": {
      "text/plain": [
       "array([[0.53125   , 0.29320229, 0.44033039, ..., 0.55206463, 0.69047619,\n",
       "        0.        ],\n",
       "       [0.71875   , 0.24570025, 0.18684136, ..., 0.57989228, 0.7172619 ,\n",
       "        0.01342282],\n",
       "       [0.59375   , 0.37674038, 0.10595272, ..., 0.58438061, 0.83630952,\n",
       "        0.09395973],\n",
       "       ...,\n",
       "       [0.21875   , 0.72645373, 0.13756764, ..., 0.51885099, 0.83333333,\n",
       "        0.        ],\n",
       "       [1.        , 0.33128583, 0.07604671, ..., 0.57630162, 0.63690476,\n",
       "        0.04362416],\n",
       "       [0.46875   , 0.35380835, 0.2261464 , ..., 0.53141831, 0.68154762,\n",
       "        0.01006711]])"
      ]
     },
     "execution_count": 32,
     "metadata": {},
     "output_type": "execute_result"
    }
   ],
   "source": [
    "k_best.fit_transform(X, y)"
   ]
  },
  {
   "cell_type": "code",
   "execution_count": 33,
   "id": "bd1320d1",
   "metadata": {},
   "outputs": [
    {
     "data": {
      "text/plain": [
       "array([3.05991030e-01, 3.72653415e-01, 3.26203060e-01, 9.51235230e-05,\n",
       "       7.16962089e-01, 1.46650223e-03, 9.54494865e-04, 2.38037453e-01,\n",
       "       3.33480207e-01, 6.54882552e-01, 8.19438703e-01, 1.25376194e-01,\n",
       "       2.96055842e-01, 7.32943477e-02, 3.03812448e-03, 4.43092401e-02,\n",
       "       2.68925056e-01, 3.63826212e-01, 5.40287860e-03, 9.93190991e-02,\n",
       "       4.40870737e-02, 5.15014091e-02, 2.56765737e-01, 6.29363040e-01,\n",
       "       1.24488422e-01, 7.31196839e-01, 2.94369453e-02, 1.30625656e-02])"
      ]
     },
     "execution_count": 33,
     "metadata": {},
     "output_type": "execute_result"
    }
   ],
   "source": [
    "k_best.pvalues_"
   ]
  },
  {
   "cell_type": "code",
   "execution_count": 34,
   "id": "23b603ca",
   "metadata": {},
   "outputs": [],
   "source": [
    "p_values=pd.DataFrame({'Column': columns,'p_value':k_best.pvalues_}).sort_values('p_value')"
   ]
  },
  {
   "cell_type": "code",
   "execution_count": 35,
   "id": "e485d30f",
   "metadata": {},
   "outputs": [
    {
     "data": {
      "text/html": [
       "<div>\n",
       "<style scoped>\n",
       "    .dataframe tbody tr th:only-of-type {\n",
       "        vertical-align: middle;\n",
       "    }\n",
       "\n",
       "    .dataframe tbody tr th {\n",
       "        vertical-align: top;\n",
       "    }\n",
       "\n",
       "    .dataframe thead th {\n",
       "        text-align: right;\n",
       "    }\n",
       "</style>\n",
       "<table border=\"1\" class=\"dataframe\">\n",
       "  <thead>\n",
       "    <tr style=\"text-align: right;\">\n",
       "      <th></th>\n",
       "      <th>Column</th>\n",
       "      <th>p_value</th>\n",
       "    </tr>\n",
       "  </thead>\n",
       "  <tbody>\n",
       "    <tr>\n",
       "      <th>3</th>\n",
       "      <td>前三年承诺覆盖率</td>\n",
       "      <td>0.000095</td>\n",
       "    </tr>\n",
       "    <tr>\n",
       "      <th>6</th>\n",
       "      <td>成立年限</td>\n",
       "      <td>0.000954</td>\n",
       "    </tr>\n",
       "    <tr>\n",
       "      <th>5</th>\n",
       "      <td>动态市盈率</td>\n",
       "      <td>0.001467</td>\n",
       "    </tr>\n",
       "    <tr>\n",
       "      <th>14</th>\n",
       "      <td>净利润增长率</td>\n",
       "      <td>0.003038</td>\n",
       "    </tr>\n",
       "    <tr>\n",
       "      <th>18</th>\n",
       "      <td>固定资产周转率</td>\n",
       "      <td>0.005403</td>\n",
       "    </tr>\n",
       "    <tr>\n",
       "      <th>27</th>\n",
       "      <td>研发支出占比</td>\n",
       "      <td>0.013063</td>\n",
       "    </tr>\n",
       "    <tr>\n",
       "      <th>26</th>\n",
       "      <td>经营性现金流/收入</td>\n",
       "      <td>0.029437</td>\n",
       "    </tr>\n",
       "    <tr>\n",
       "      <th>20</th>\n",
       "      <td>资产负债率</td>\n",
       "      <td>0.044087</td>\n",
       "    </tr>\n",
       "    <tr>\n",
       "      <th>15</th>\n",
       "      <td>总资产周转率</td>\n",
       "      <td>0.044309</td>\n",
       "    </tr>\n",
       "    <tr>\n",
       "      <th>21</th>\n",
       "      <td>经营杠杆（EBITDA/EBIT)</td>\n",
       "      <td>0.051501</td>\n",
       "    </tr>\n",
       "    <tr>\n",
       "      <th>13</th>\n",
       "      <td>归母权益增长率</td>\n",
       "      <td>0.073294</td>\n",
       "    </tr>\n",
       "    <tr>\n",
       "      <th>19</th>\n",
       "      <td>流动比率</td>\n",
       "      <td>0.099319</td>\n",
       "    </tr>\n",
       "    <tr>\n",
       "      <th>24</th>\n",
       "      <td>净资产收益率</td>\n",
       "      <td>0.124488</td>\n",
       "    </tr>\n",
       "    <tr>\n",
       "      <th>11</th>\n",
       "      <td>D/(D+E)</td>\n",
       "      <td>0.125376</td>\n",
       "    </tr>\n",
       "  </tbody>\n",
       "</table>\n",
       "</div>"
      ],
      "text/plain": [
       "               Column   p_value\n",
       "3            前三年承诺覆盖率  0.000095\n",
       "6                成立年限  0.000954\n",
       "5               动态市盈率  0.001467\n",
       "14             净利润增长率  0.003038\n",
       "18            固定资产周转率  0.005403\n",
       "27             研发支出占比  0.013063\n",
       "26          经营性现金流/收入  0.029437\n",
       "20              资产负债率  0.044087\n",
       "15             总资产周转率  0.044309\n",
       "21  经营杠杆（EBITDA/EBIT)  0.051501\n",
       "13            归母权益增长率  0.073294\n",
       "19               流动比率  0.099319\n",
       "24             净资产收益率  0.124488\n",
       "11            D/(D+E)  0.125376"
      ]
     },
     "execution_count": 35,
     "metadata": {},
     "output_type": "execute_result"
    }
   ],
   "source": [
    "p_values.head(14)"
   ]
  },
  {
   "cell_type": "code",
   "execution_count": 36,
   "id": "f17e4f1d",
   "metadata": {},
   "outputs": [
    {
     "data": {
      "text/html": [
       "<div>\n",
       "<style scoped>\n",
       "    .dataframe tbody tr th:only-of-type {\n",
       "        vertical-align: middle;\n",
       "    }\n",
       "\n",
       "    .dataframe tbody tr th {\n",
       "        vertical-align: top;\n",
       "    }\n",
       "\n",
       "    .dataframe thead th {\n",
       "        text-align: right;\n",
       "    }\n",
       "</style>\n",
       "<table border=\"1\" class=\"dataframe\">\n",
       "  <thead>\n",
       "    <tr style=\"text-align: right;\">\n",
       "      <th></th>\n",
       "      <th>Column</th>\n",
       "      <th>p_value</th>\n",
       "    </tr>\n",
       "  </thead>\n",
       "  <tbody>\n",
       "    <tr>\n",
       "      <th>3</th>\n",
       "      <td>前三年承诺覆盖率</td>\n",
       "      <td>0.000095</td>\n",
       "    </tr>\n",
       "    <tr>\n",
       "      <th>6</th>\n",
       "      <td>成立年限</td>\n",
       "      <td>0.000954</td>\n",
       "    </tr>\n",
       "    <tr>\n",
       "      <th>5</th>\n",
       "      <td>动态市盈率</td>\n",
       "      <td>0.001467</td>\n",
       "    </tr>\n",
       "    <tr>\n",
       "      <th>14</th>\n",
       "      <td>净利润增长率</td>\n",
       "      <td>0.003038</td>\n",
       "    </tr>\n",
       "    <tr>\n",
       "      <th>18</th>\n",
       "      <td>固定资产周转率</td>\n",
       "      <td>0.005403</td>\n",
       "    </tr>\n",
       "    <tr>\n",
       "      <th>27</th>\n",
       "      <td>研发支出占比</td>\n",
       "      <td>0.013063</td>\n",
       "    </tr>\n",
       "    <tr>\n",
       "      <th>26</th>\n",
       "      <td>经营性现金流/收入</td>\n",
       "      <td>0.029437</td>\n",
       "    </tr>\n",
       "    <tr>\n",
       "      <th>20</th>\n",
       "      <td>资产负债率</td>\n",
       "      <td>0.044087</td>\n",
       "    </tr>\n",
       "    <tr>\n",
       "      <th>15</th>\n",
       "      <td>总资产周转率</td>\n",
       "      <td>0.044309</td>\n",
       "    </tr>\n",
       "  </tbody>\n",
       "</table>\n",
       "</div>"
      ],
      "text/plain": [
       "       Column   p_value\n",
       "3    前三年承诺覆盖率  0.000095\n",
       "6        成立年限  0.000954\n",
       "5       动态市盈率  0.001467\n",
       "14     净利润增长率  0.003038\n",
       "18    固定资产周转率  0.005403\n",
       "27     研发支出占比  0.013063\n",
       "26  经营性现金流/收入  0.029437\n",
       "20      资产负债率  0.044087\n",
       "15     总资产周转率  0.044309"
      ]
     },
     "execution_count": 36,
     "metadata": {},
     "output_type": "execute_result"
    }
   ],
   "source": [
    "p_values[p_values['p_value']<.05]"
   ]
  },
  {
   "cell_type": "code",
   "execution_count": 49,
   "id": "e400b7c8",
   "metadata": {},
   "outputs": [],
   "source": [
    "new_data=unique_risk[['前三年承诺覆盖率', '动态市盈率', '成立年限', '净利润增长率', '固定资产周转率','研发支出占比','经营性现金流/收入','资产负债率','总资产周转率']]\n",
    "new_X=ss.fit_transform(new_data)"
   ]
  },
  {
   "cell_type": "code",
   "execution_count": 50,
   "id": "7051e2a1",
   "metadata": {},
   "outputs": [
    {
     "data": {
      "text/plain": [
       "0.0796877448391859"
      ]
     },
     "execution_count": 50,
     "metadata": {},
     "output_type": "execute_result"
    }
   ],
   "source": [
    "score=[]\n",
    "score=cross_val_score(model_LinearRegression,new_X,y,cv=5,scoring='r2')\n",
    "score.mean()"
   ]
  },
  {
   "cell_type": "code",
   "execution_count": 51,
   "id": "619cc77b",
   "metadata": {},
   "outputs": [
    {
     "data": {
      "text/plain": [
       "0.1457552385493479"
      ]
     },
     "execution_count": 51,
     "metadata": {},
     "output_type": "execute_result"
    }
   ],
   "source": [
    "score=[]\n",
    "score=cross_val_score(model_RidgeCV,new_data,y,cv=5,scoring='r2')\n",
    "score.mean()"
   ]
  },
  {
   "cell_type": "code",
   "execution_count": 42,
   "id": "9ac64bfa",
   "metadata": {},
   "outputs": [
    {
     "data": {
      "text/plain": [
       "0.1205312989402012"
      ]
     },
     "execution_count": 42,
     "metadata": {},
     "output_type": "execute_result"
    }
   ],
   "source": [
    "score=[]\n",
    "score=cross_val_score(model_ElasticNetCV,new_X,y,cv=5,scoring='r2')\n",
    "score.mean()"
   ]
  },
  {
   "cell_type": "code",
   "execution_count": 43,
   "id": "0b767242",
   "metadata": {},
   "outputs": [
    {
     "data": {
      "text/plain": [
       "0.0696779980975025"
      ]
     },
     "execution_count": 43,
     "metadata": {},
     "output_type": "execute_result"
    }
   ],
   "source": [
    "score=[]\n",
    "score=cross_val_score(model_Lars_cv,new_X,y,cv=5,scoring='r2')\n",
    "score.mean()"
   ]
  },
  {
   "cell_type": "code",
   "execution_count": 44,
   "id": "9534a45f",
   "metadata": {},
   "outputs": [
    {
     "name": "stdout",
     "output_type": "stream",
     "text": [
      "The best parameters are {'activation': 'tanh', 'alpha': 0.0001, 'hidden_layer_sizes': (5, 5, 5), 'learning_rate': 'constant', 'solver': 'lbfgs'} with a score of 0.10\n"
     ]
    }
   ],
   "source": [
    "from sklearn.model_selection import GridSearchCV  \n",
    "parameter_space = {\n",
    "    #为了加快运行速度，删除了从(30,30,30) (30,)开始的迭代  五层或者更深可以优化效果，但会让模型过于复杂\n",
    "    'hidden_layer_sizes': [(5,5,5),(3,3,3),(5,3,3,3),(5,5,5,5),(3,3,3,3)], \n",
    "    'activation': ['tanh', 'relu','logistic'],\n",
    "    'solver': ['sgd', 'adam','lbfgs'],\n",
    "    'alpha': [0.0001, 0.05,0.1,1,10],\n",
    "    'learning_rate': ['constant','adaptive'],\n",
    "}\n",
    "\n",
    "grid = GridSearchCV(MLPRegressor(random_state=23), parameter_space, cv=5)  \n",
    "grid.fit(new_X, y)  \n",
    "print(\"The best parameters are %s with a score of %0.2f\" %(grid.best_params_, grid.best_score_))"
   ]
  },
  {
   "cell_type": "code",
   "execution_count": 45,
   "id": "30270eb0",
   "metadata": {},
   "outputs": [
    {
     "data": {
      "text/plain": [
       "-0.18683288553527677"
      ]
     },
     "execution_count": 45,
     "metadata": {},
     "output_type": "execute_result"
    }
   ],
   "source": [
    "score=[]\n",
    "score=cross_val_score(model_SVR,new_X,y,cv=5,scoring='r2')\n",
    "score.mean()\n",
    "#没有任何变化"
   ]
  },
  {
   "cell_type": "code",
   "execution_count": 46,
   "id": "6acfc8c6",
   "metadata": {},
   "outputs": [
    {
     "name": "stdout",
     "output_type": "stream",
     "text": [
      "The best parameters are {'cat_smooth': 0, 'max_depth': 1, 'min_child_samples': 22, 'min_child_weight': 0.001, 'num_leaves': 20} with a score of -0.02\n"
     ]
    }
   ],
   "source": [
    "from sklearn.model_selection import GridSearchCV  \n",
    "parameter_space = {\n",
    "    'max_depth': [1,4,6,8],\n",
    "    'num_leaves': [20,30,40],\n",
    "    'min_child_samples': [18,19,20,21,22],\n",
    "    'min_child_weight': [0.001,0.002],\n",
    "    'cat_smooth': [0,10,20]\n",
    "    \n",
    "}\n",
    "\n",
    "grid = GridSearchCV(lgb.LGBMRegressor(), parameter_space, cv=5)  \n",
    "grid.fit(new_X, y)  \n",
    "print(\"The best parameters are %s with a score of %0.2f\" %(grid.best_params_, grid.best_score_))\n",
    "#调参后还是比较差"
   ]
  },
  {
   "cell_type": "code",
   "execution_count": 47,
   "id": "30a7f9f2",
   "metadata": {},
   "outputs": [
    {
     "name": "stdout",
     "output_type": "stream",
     "text": [
      "The best parameters are {'eta': 0.1, 'gamma': 0, 'max_depth': 3, 'min_child_weight': 1} with a score of 0.02\n"
     ]
    }
   ],
   "source": [
    "from sklearn.model_selection import GridSearchCV  \n",
    "parameter_space = {\n",
    "    'eta': [0.1, 0.2, 0.3, 0.4],\n",
    "    'gamma':[0,1,10],\n",
    "    'max_depth': [3, 6, 9, 12],\n",
    "    'min_child_weight': [1, 10 ,100]\n",
    "}\n",
    "\n",
    "grid = GridSearchCV(xgb.XGBRegressor(), parameter_space, cv=5)  \n",
    "grid.fit(new_X, y)  \n",
    "print(\"The best parameters are %s with a score of %0.2f\" %(grid.best_params_, grid.best_score_))\n",
    "#调参后还是比较差"
   ]
  },
  {
   "cell_type": "code",
   "execution_count": 48,
   "id": "3411f6db",
   "metadata": {},
   "outputs": [
    {
     "name": "stdout",
     "output_type": "stream",
     "text": [
      "The best parameters are {'base_estimator': RidgeCV(alphas=array([ 0.1,  1. , 10. ])), 'learning_rate': 0.1, 'n_estimators': 25} with a score of 0.16\n"
     ]
    }
   ],
   "source": [
    "from sklearn.model_selection import GridSearchCV  \n",
    "parameter_space = {\n",
    "    'base_estimator':[tree.DecisionTreeRegressor(max_depth=3),tree.DecisionTreeRegressor(max_depth=1),tree.DecisionTreeRegressor(max_depth=5),model_RidgeCV],\n",
    "    'n_estimators':[25,50,100,200,300],\n",
    "    'learning_rate':[0.05,0.1,0.5,0.8]\n",
    "}\n",
    "\n",
    "grid = GridSearchCV(ensemble.AdaBoostRegressor(random_state=23), parameter_space, cv=5)  \n",
    "grid.fit(new_X, y)  \n",
    "print(\"The best parameters are %s with a score of %0.2f\" %(grid.best_params_, grid.best_score_))\n"
   ]
  },
  {
   "cell_type": "markdown",
   "id": "1d286f4b",
   "metadata": {},
   "source": [
    "\n",
    "**特征选择结果对比**<br>\n",
    "\n",
    "相关系数选择结果: 前三年承诺覆盖率, 动态市盈率, 成立年限, 净利润增长率, 固定资产周转率, 研发支出占比<br>\n",
    "P值选择结果：    前三年承诺覆盖率, 动态市盈率, 成立年限, 净利润增长率, 固定资产周转率, 研发支出占比',经营性现金流/收入,资产负债率,总资产周转率\n",
    "\n",
    "\n",
    "| 模型 | 特征选择前 | 相关系数特征选择 | P值特征选择|\n",
    "|------|----------|------| ------|\n",
    "|线性回归|  -2.3880\t | 0.17268 | 0.0797 |\n",
    "|岭回归 | 0.0803 |   0.1522 | 0.1458 |\n",
    "| Adaboost回归  | 0.147104 | 0.17   | 0.16 |\n",
    "| XGBOOST回归   | 0.09732 | 0.07   | 0.02 |\n",
    "| LGBM回归     | 0.068588 |  0.05   | -0.02 |\n",
    "| 神经网络回归  | -0.03711 | 0.11 | 0.10 |\n"
   ]
  },
  {
   "cell_type": "markdown",
   "id": "25826022",
   "metadata": {},
   "source": [
    "&emsp;线性回归，岭回归，神经网络和AdaBoost在进行特征选择后效果有提升。Boosting类算法的效果在特征选择后变差了，具体原因有待研究。可能是因为特征的缩小导致基础决策树变得单一。因此降低了模型的效果。<br>\n",
    "&emsp;p值特征选择的结果比相关性特征选择的结果差，\\['经营性现金流/收入','资产负债率','总资产周转率']提供了无效信息。['前三年承诺覆盖率', '动态市盈率', '成立年限', '净利润增长率', '固定资产周转率','研发支出占比']是选择法的结果"
   ]
  },
  {
   "cell_type": "markdown",
   "id": "f810ebc9",
   "metadata": {},
   "source": [
    "### 3.2 特征选择：Wrapper\n",
    "思路：通过目标函数来决定是否加入一个变量。"
   ]
  },
  {
   "cell_type": "markdown",
   "id": "55087a7f",
   "metadata": {},
   "source": [
    "**最佳子集回归（Best Subset Regression）**<br>\n",
    "&emsp;通过遍历所有可能的组合，找出最好的特征组合。<br>\n",
    "由于 $C_{n}^{1}+C_{n}^{2}+C_{n}^{3}+ ... +C_{n}^{n}=2^n$  &emsp; 因此对于具有大量属性(20个以上，2^20=1048576，建议跑分布式解决)的问题，这个方法并不适用。"
   ]
  },
  {
   "cell_type": "code",
   "execution_count": null,
   "id": "ec0d1a2b",
   "metadata": {},
   "outputs": [],
   "source": [
    "#不运行\n",
    "results = pd.DataFrame(columns=['num_features', 'features', 'R2'])\n",
    "\n",
    "\n",
    "for k in range(1, X_train.shape[1] + 1):\n",
    "    for subset in itertools.combinations(range(X_train.shape[1]), k):\n",
    "        linreg_model = LinearRegression.fit(X_train[:, subset], y_train)\n",
    "        score = linreg_model.score(X_train[:, subset],y_train)\n",
    "        results = results.append(pd.DataFrame([{'num_features': k, 'features': subset,'R2': score}]))\n",
    "\n",
    "# 根据R^2的值进行排序\n",
    "results = results.sort_values('R2').reset_index()\n",
    "print(results.head())\n",
    "\n",
    "# 拟合最优模型\n",
    "\n",
    "# get corresponding feature describe\n",
    "feature_describe = data.columns.tolist()[1:-2]\n",
    "best_subset_feature_index = results['features'][0]\n",
    "best_subset_feature_describe = []\n",
    "for index in best_subset_feature_index:\n",
    "    best_subset_feature_describe.append(feature_describe[index])\n",
    "\n",
    "\n",
    "best_subset_model = LinearRegression(normalize=True).fit(X_train[:, results['features'][0]], y_train)\n",
    "best_subset_coefs = dict(\n",
    "    zip(['Intercept'] + best_subset_feature_describe,\n",
    "        np.round(np.concatenate((best_subset_model.intercept_, best_subset_model.coef_), axis=None), 3))\n",
    ")\n",
    "\n",
    "print('Best Subset Regression R2: {}'.format(np.round(results['R2'][0], 3)))\n",
    "print('Best Subset Regression coefficients:', best_subset_coefs)"
   ]
  },
  {
   "cell_type": "code",
   "execution_count": null,
   "id": "a074d795",
   "metadata": {},
   "outputs": [],
   "source": []
  },
  {
   "cell_type": "markdown",
   "id": "9a18fa49",
   "metadata": {},
   "source": [
    "**feature_selection.RFECV，递归特征消除法**<BR>\n",
    "&emsp;递归特征删除法,不断训练模型，每次训练完毕删除掉n个重要性低的特征，然后对新的特征再次进行训练，又一次得到特征重要性，再次删除n个重要性低的特征，直到特征数满足自己的设定。通过交叉验证来找到最优的特征数量，这里的交叉验证与我们经常见到的不同，不是不同行组合然后求平均，而是不同列的组合求均值，得到最优的特征数量。如果减少特征会造成性能损失，那么将不会去除任何特征。<br>\n",
    "    &emsp;需要指出的是，由于无法证明特征选择的结果具有最优子结构性质，因此这种基于贪心算法的特征选择方法只能保证获得局部最优，无法保证获取全局最优。进一步的改进方法为基于遗传算法，设置多组特征集和随机数，选择最优解。（会导致更大的时间和空间复杂度，但无法保证能取得更好的效果）"
   ]
  },
  {
   "cell_type": "markdown",
   "id": "813a04ce",
   "metadata": {},
   "source": [
    "**线性回归**"
   ]
  },
  {
   "cell_type": "code",
   "execution_count": 106,
   "id": "e721f683",
   "metadata": {},
   "outputs": [
    {
     "name": "stdout",
     "output_type": "stream",
     "text": [
      "[False False  True  True  True  True  True  True  True False  True  True\n",
      "  True  True  True False  True  True  True  True  True  True False False\n",
      "  True  True  True  True]\n",
      "[7 6 1 1 1 1 1 1 1 4 1 1 1 1 1 3 1 1 1 1 1 1 5 2 1 1 1 1]\n",
      "22\n",
      "[ -5.93811193  -6.0513864   -7.58318965 -10.84187507  -6.66798726\n",
      "  -7.81429585  -4.86904181  -3.36319211  -3.42302449  -2.9826369\n",
      "  -4.08119958  -3.93987421  -4.94474602  -4.43817422  -4.69917258\n",
      "  -3.14225043  -3.5038364   -2.93321341  -2.82794654  -3.4742622\n",
      "  -1.67098167  -1.42426553  -1.52586772  -2.67854685  -2.92218176\n",
      "  -4.32562155  -3.52185152  -2.38798318]\n"
     ]
    }
   ],
   "source": [
    "#对于线性回归通过RFECV进行特征选择\n",
    "from sklearn.feature_selection import RFECV\n",
    "from sklearn import ensemble\n",
    "\n",
    "estimator =model_LinearRegression\n",
    "\n",
    "# 5折交叉\n",
    "selector = RFECV(estimator, step=1, cv=5,scoring='r2')\n",
    "selector = selector.fit(X, y)\n",
    "\n",
    "# 哪些特征入选最后特征，true表示入选\n",
    "print(selector.support_)\n",
    "\n",
    "# 每个特征的得分排名，特征得分越低（1最好），表示特征越好\n",
    "print(selector.ranking_)\n",
    "\n",
    "#  挑选了几个特征\n",
    "print(selector.n_features_)\n",
    "# 每次交叉迭代各个特征得分\n",
    "print(selector.grid_scores_)"
   ]
  },
  {
   "cell_type": "code",
   "execution_count": 107,
   "id": "68653568",
   "metadata": {},
   "outputs": [
    {
     "data": {
      "text/plain": [
       "['承诺期业绩增长率',\n",
       " '前三年承诺覆盖率',\n",
       " '静态市盈率',\n",
       " '动态市盈率',\n",
       " '成立年限',\n",
       " '大股东持股比例',\n",
       " '最近一个完整会计年度对第一大客户的销售占比',\n",
       " '注入资产净资产账面值(万元)',\n",
       " 'D/(D+E)',\n",
       " '总资产增长率',\n",
       " '归母权益增长率',\n",
       " '净利润增长率',\n",
       " '存货周转率',\n",
       " '应收账款周转率',\n",
       " '固定资产周转率',\n",
       " '流动比率',\n",
       " '资产负债率',\n",
       " '经营杠杆（EBITDA/EBIT)',\n",
       " '净资产收益率',\n",
       " '毛利率',\n",
       " '经营性现金流/收入',\n",
       " '研发支出占比']"
      ]
     },
     "execution_count": 107,
     "metadata": {},
     "output_type": "execute_result"
    }
   ],
   "source": [
    "selected_feature=[]\n",
    "for i in range(len(selector.support_)):\n",
    "    if selector.support_[i]:\n",
    "        selected_feature.append(feature_dict[i])\n",
    "\n",
    "selected_feature"
   ]
  },
  {
   "cell_type": "code",
   "execution_count": 108,
   "id": "a86b6b03",
   "metadata": {},
   "outputs": [],
   "source": [
    "feature_importances_value=pd.DataFrame({'Feature': selected_feature,'feature_importances':selector.estimator_.coef_}).sort_values('feature_importances',ascending=False)"
   ]
  },
  {
   "cell_type": "code",
   "execution_count": 109,
   "id": "51bcdc32",
   "metadata": {},
   "outputs": [
    {
     "data": {
      "text/html": [
       "<div>\n",
       "<style scoped>\n",
       "    .dataframe tbody tr th:only-of-type {\n",
       "        vertical-align: middle;\n",
       "    }\n",
       "\n",
       "    .dataframe tbody tr th {\n",
       "        vertical-align: top;\n",
       "    }\n",
       "\n",
       "    .dataframe thead th {\n",
       "        text-align: right;\n",
       "    }\n",
       "</style>\n",
       "<table border=\"1\" class=\"dataframe\">\n",
       "  <thead>\n",
       "    <tr style=\"text-align: right;\">\n",
       "      <th></th>\n",
       "      <th>Feature</th>\n",
       "      <th>feature_importances</th>\n",
       "    </tr>\n",
       "  </thead>\n",
       "  <tbody>\n",
       "    <tr>\n",
       "      <th>11</th>\n",
       "      <td>净利润增长率</td>\n",
       "      <td>0.042484</td>\n",
       "    </tr>\n",
       "    <tr>\n",
       "      <th>0</th>\n",
       "      <td>承诺期业绩增长率</td>\n",
       "      <td>0.023463</td>\n",
       "    </tr>\n",
       "    <tr>\n",
       "      <th>21</th>\n",
       "      <td>研发支出占比</td>\n",
       "      <td>0.022765</td>\n",
       "    </tr>\n",
       "    <tr>\n",
       "      <th>15</th>\n",
       "      <td>流动比率</td>\n",
       "      <td>0.014775</td>\n",
       "    </tr>\n",
       "    <tr>\n",
       "      <th>14</th>\n",
       "      <td>固定资产周转率</td>\n",
       "      <td>0.012940</td>\n",
       "    </tr>\n",
       "    <tr>\n",
       "      <th>6</th>\n",
       "      <td>最近一个完整会计年度对第一大客户的销售占比</td>\n",
       "      <td>0.012107</td>\n",
       "    </tr>\n",
       "    <tr>\n",
       "      <th>8</th>\n",
       "      <td>D/(D+E)</td>\n",
       "      <td>0.011512</td>\n",
       "    </tr>\n",
       "    <tr>\n",
       "      <th>18</th>\n",
       "      <td>净资产收益率</td>\n",
       "      <td>0.010762</td>\n",
       "    </tr>\n",
       "    <tr>\n",
       "      <th>16</th>\n",
       "      <td>资产负债率</td>\n",
       "      <td>0.008934</td>\n",
       "    </tr>\n",
       "    <tr>\n",
       "      <th>7</th>\n",
       "      <td>注入资产净资产账面值(万元)</td>\n",
       "      <td>0.008182</td>\n",
       "    </tr>\n",
       "    <tr>\n",
       "      <th>12</th>\n",
       "      <td>存货周转率</td>\n",
       "      <td>0.008168</td>\n",
       "    </tr>\n",
       "    <tr>\n",
       "      <th>20</th>\n",
       "      <td>经营性现金流/收入</td>\n",
       "      <td>0.007814</td>\n",
       "    </tr>\n",
       "    <tr>\n",
       "      <th>1</th>\n",
       "      <td>前三年承诺覆盖率</td>\n",
       "      <td>0.006163</td>\n",
       "    </tr>\n",
       "    <tr>\n",
       "      <th>19</th>\n",
       "      <td>毛利率</td>\n",
       "      <td>0.004582</td>\n",
       "    </tr>\n",
       "    <tr>\n",
       "      <th>17</th>\n",
       "      <td>经营杠杆（EBITDA/EBIT)</td>\n",
       "      <td>-0.005246</td>\n",
       "    </tr>\n",
       "    <tr>\n",
       "      <th>13</th>\n",
       "      <td>应收账款周转率</td>\n",
       "      <td>-0.006878</td>\n",
       "    </tr>\n",
       "    <tr>\n",
       "      <th>5</th>\n",
       "      <td>大股东持股比例</td>\n",
       "      <td>-0.007830</td>\n",
       "    </tr>\n",
       "    <tr>\n",
       "      <th>4</th>\n",
       "      <td>成立年限</td>\n",
       "      <td>-0.009937</td>\n",
       "    </tr>\n",
       "    <tr>\n",
       "      <th>9</th>\n",
       "      <td>总资产增长率</td>\n",
       "      <td>-0.011964</td>\n",
       "    </tr>\n",
       "    <tr>\n",
       "      <th>3</th>\n",
       "      <td>动态市盈率</td>\n",
       "      <td>-0.013410</td>\n",
       "    </tr>\n",
       "    <tr>\n",
       "      <th>10</th>\n",
       "      <td>归母权益增长率</td>\n",
       "      <td>-0.018623</td>\n",
       "    </tr>\n",
       "    <tr>\n",
       "      <th>2</th>\n",
       "      <td>静态市盈率</td>\n",
       "      <td>-0.021778</td>\n",
       "    </tr>\n",
       "  </tbody>\n",
       "</table>\n",
       "</div>"
      ],
      "text/plain": [
       "                  Feature  feature_importances\n",
       "11                 净利润增长率             0.042484\n",
       "0                承诺期业绩增长率             0.023463\n",
       "21                 研发支出占比             0.022765\n",
       "15                   流动比率             0.014775\n",
       "14                固定资产周转率             0.012940\n",
       "6   最近一个完整会计年度对第一大客户的销售占比             0.012107\n",
       "8                 D/(D+E)             0.011512\n",
       "18                 净资产收益率             0.010762\n",
       "16                  资产负债率             0.008934\n",
       "7          注入资产净资产账面值(万元)             0.008182\n",
       "12                  存货周转率             0.008168\n",
       "20              经营性现金流/收入             0.007814\n",
       "1                前三年承诺覆盖率             0.006163\n",
       "19                    毛利率             0.004582\n",
       "17      经营杠杆（EBITDA/EBIT)            -0.005246\n",
       "13                应收账款周转率            -0.006878\n",
       "5                 大股东持股比例            -0.007830\n",
       "4                    成立年限            -0.009937\n",
       "9                  总资产增长率            -0.011964\n",
       "3                   动态市盈率            -0.013410\n",
       "10                归母权益增长率            -0.018623\n",
       "2                   静态市盈率            -0.021778"
      ]
     },
     "execution_count": 109,
     "metadata": {},
     "output_type": "execute_result"
    }
   ],
   "source": [
    "feature_importances_value"
   ]
  },
  {
   "cell_type": "code",
   "execution_count": 110,
   "id": "3dc115e3",
   "metadata": {},
   "outputs": [],
   "source": [
    "new_data=unique_risk[selected_feature]\n",
    "new_X=ss.fit_transform(new_data)"
   ]
  },
  {
   "cell_type": "code",
   "execution_count": 111,
   "id": "20e27cf4",
   "metadata": {},
   "outputs": [
    {
     "data": {
      "text/plain": [
       "-0.5456841980383926"
      ]
     },
     "execution_count": 111,
     "metadata": {},
     "output_type": "execute_result"
    }
   ],
   "source": [
    "score=[]\n",
    "score=cross_val_score(estimator,new_X,y,cv=5,scoring='r2')\n",
    "score.mean()"
   ]
  },
  {
   "cell_type": "code",
   "execution_count": null,
   "id": "d7741b88",
   "metadata": {},
   "outputs": [],
   "source": []
  },
  {
   "cell_type": "markdown",
   "id": "f864ae7c",
   "metadata": {},
   "source": [
    "**AdaBoost**"
   ]
  },
  {
   "cell_type": "code",
   "execution_count": 40,
   "id": "e5705040",
   "metadata": {},
   "outputs": [
    {
     "name": "stdout",
     "output_type": "stream",
     "text": [
      "[ True  True  True  True  True  True  True  True  True  True  True  True\n",
      "  True  True  True  True  True  True  True  True  True  True  True  True\n",
      "  True  True  True  True]\n",
      "[1 1 1 1 1 1 1 1 1 1 1 1 1 1 1 1 1 1 1 1 1 1 1 1 1 1 1 1]\n",
      "28\n",
      "[-0.1154436   0.03651017  0.03535986  0.08704903  0.05852098  0.07135222\n",
      "  0.05495536  0.07268281  0.07568548  0.06828654  0.08678956  0.0887654\n",
      "  0.0981227   0.11478075  0.10549593  0.09495024  0.10032689  0.11670463\n",
      "  0.10272287  0.11637292  0.109883    0.1110891   0.11184712  0.10065195\n",
      "  0.14223682  0.11355422  0.11365676  0.14710481]\n"
     ]
    }
   ],
   "source": [
    "#对于AdaBoost通过RFECV进行特征选择\n",
    "#先进行调参再进行特征选择\n",
    "from sklearn.feature_selection import RFECV\n",
    "from sklearn import ensemble\n",
    "\n",
    "estimator = model_AdaBoostRegressor\n",
    "\n",
    "# 5折交叉\n",
    "selector = RFECV(estimator, step=1, cv=5,scoring='r2')\n",
    "selector = selector.fit(X, y)\n",
    "\n",
    "# 哪些特征入选最后特征，true表示入选\n",
    "print(selector.support_)\n",
    "\n",
    "# 每个特征的得分排名，特征得分越低（1最好），表示特征越好\n",
    "print(selector.ranking_)\n",
    "\n",
    "#  挑选了几个特征\n",
    "print(selector.n_features_)\n",
    "# 每次交叉迭代各个特征得分\n",
    "print(selector.grid_scores_)"
   ]
  },
  {
   "cell_type": "code",
   "execution_count": 41,
   "id": "7ad3b42d",
   "metadata": {},
   "outputs": [
    {
     "name": "stdout",
     "output_type": "stream",
     "text": [
      "[False  True  True  True  True  True  True  True  True  True  True  True\n",
      "  True  True  True  True  True  True  True  True  True False  True False\n",
      "  True  True False  True]\n",
      "[5 1 1 1 1 1 1 1 1 1 1 1 1 1 1 1 1 1 1 1 1 2 1 4 1 1 3 1]\n",
      "24\n",
      "[-0.27940778 -0.20916067 -0.03107422 -0.00787837  0.10574641  0.0778029\n",
      " -0.00177553  0.04575039  0.08512745  0.06068623  0.07299984  0.06456194\n",
      "  0.01797387  0.08508353  0.06669174 -0.01625428  0.125208    0.0915542\n",
      "  0.11992651  0.10737702  0.11664406  0.0748832   0.09237281  0.14924186\n",
      "  0.09373939  0.12492026  0.12258776  0.1107561 ]\n"
     ]
    }
   ],
   "source": [
    "#换个起点，先进行特征选择再进行特征选择\n",
    "from sklearn.feature_selection import RFECV\n",
    "from sklearn import ensemble\n",
    "\n",
    "estimator = ensemble.AdaBoostRegressor(random_state=23)\n",
    "\n",
    "# 5折交叉\n",
    "selector = RFECV(estimator, step=1, cv=5,scoring='r2')\n",
    "selector = selector.fit(X, y)\n",
    "\n",
    "# 哪些特征入选最后特征，true表示入选\n",
    "print(selector.support_)\n",
    "\n",
    "# 每个特征的得分排名，特征得分越低（1最好），表示特征越好\n",
    "print(selector.ranking_)\n",
    "\n",
    "#  挑选了几个特征\n",
    "print(selector.n_features_)\n",
    "# 每次交叉迭代各个特征得分\n",
    "print(selector.grid_scores_)"
   ]
  },
  {
   "cell_type": "code",
   "execution_count": 42,
   "id": "6f2e1e55",
   "metadata": {
    "scrolled": true
   },
   "outputs": [
    {
     "data": {
      "text/plain": [
       "['上一年归母净利润（万元）',\n",
       " '承诺期业绩增长率',\n",
       " '前三年承诺覆盖率',\n",
       " '静态市盈率',\n",
       " '动态市盈率',\n",
       " '成立年限',\n",
       " '大股东持股比例',\n",
       " '最近一个完整会计年度对第一大客户的销售占比',\n",
       " '最近一个完整会计年度对第一供应商的采购占比',\n",
       " '注入资产净资产账面值(万元)',\n",
       " 'D/(D+E)',\n",
       " '总资产增长率',\n",
       " '归母权益增长率',\n",
       " '净利润增长率',\n",
       " '总资产周转率',\n",
       " '存货周转率',\n",
       " '应收账款周转率',\n",
       " '固定资产周转率',\n",
       " '流动比率',\n",
       " '资产负债率',\n",
       " '（固定资产+土地）/归母权益',\n",
       " '净资产收益率',\n",
       " '毛利率',\n",
       " '研发支出占比']"
      ]
     },
     "execution_count": 42,
     "metadata": {},
     "output_type": "execute_result"
    }
   ],
   "source": [
    "selected_feature=[]\n",
    "for i in range(len(selector.support_)):\n",
    "    if selector.support_[i]:\n",
    "        selected_feature.append(feature_dict[i])\n",
    "\n",
    "selected_feature"
   ]
  },
  {
   "cell_type": "code",
   "execution_count": 43,
   "id": "49083e66",
   "metadata": {},
   "outputs": [],
   "source": [
    "feature_importances_value=pd.DataFrame({'Feature': selected_feature,'feature_importances':selector.estimator_.feature_importances_}).sort_values('feature_importances',ascending=False)"
   ]
  },
  {
   "cell_type": "code",
   "execution_count": 44,
   "id": "e84ce12e",
   "metadata": {},
   "outputs": [
    {
     "data": {
      "text/html": [
       "<div>\n",
       "<style scoped>\n",
       "    .dataframe tbody tr th:only-of-type {\n",
       "        vertical-align: middle;\n",
       "    }\n",
       "\n",
       "    .dataframe tbody tr th {\n",
       "        vertical-align: top;\n",
       "    }\n",
       "\n",
       "    .dataframe thead th {\n",
       "        text-align: right;\n",
       "    }\n",
       "</style>\n",
       "<table border=\"1\" class=\"dataframe\">\n",
       "  <thead>\n",
       "    <tr style=\"text-align: right;\">\n",
       "      <th></th>\n",
       "      <th>Feature</th>\n",
       "      <th>feature_importances</th>\n",
       "    </tr>\n",
       "  </thead>\n",
       "  <tbody>\n",
       "    <tr>\n",
       "      <th>2</th>\n",
       "      <td>前三年承诺覆盖率</td>\n",
       "      <td>0.111421</td>\n",
       "    </tr>\n",
       "    <tr>\n",
       "      <th>11</th>\n",
       "      <td>总资产增长率</td>\n",
       "      <td>0.091868</td>\n",
       "    </tr>\n",
       "    <tr>\n",
       "      <th>1</th>\n",
       "      <td>承诺期业绩增长率</td>\n",
       "      <td>0.085245</td>\n",
       "    </tr>\n",
       "    <tr>\n",
       "      <th>5</th>\n",
       "      <td>成立年限</td>\n",
       "      <td>0.071511</td>\n",
       "    </tr>\n",
       "    <tr>\n",
       "      <th>6</th>\n",
       "      <td>大股东持股比例</td>\n",
       "      <td>0.060651</td>\n",
       "    </tr>\n",
       "    <tr>\n",
       "      <th>13</th>\n",
       "      <td>净利润增长率</td>\n",
       "      <td>0.049804</td>\n",
       "    </tr>\n",
       "    <tr>\n",
       "      <th>10</th>\n",
       "      <td>D/(D+E)</td>\n",
       "      <td>0.049189</td>\n",
       "    </tr>\n",
       "    <tr>\n",
       "      <th>15</th>\n",
       "      <td>存货周转率</td>\n",
       "      <td>0.040782</td>\n",
       "    </tr>\n",
       "    <tr>\n",
       "      <th>21</th>\n",
       "      <td>净资产收益率</td>\n",
       "      <td>0.040467</td>\n",
       "    </tr>\n",
       "    <tr>\n",
       "      <th>19</th>\n",
       "      <td>资产负债率</td>\n",
       "      <td>0.040202</td>\n",
       "    </tr>\n",
       "    <tr>\n",
       "      <th>22</th>\n",
       "      <td>毛利率</td>\n",
       "      <td>0.038757</td>\n",
       "    </tr>\n",
       "    <tr>\n",
       "      <th>17</th>\n",
       "      <td>固定资产周转率</td>\n",
       "      <td>0.038180</td>\n",
       "    </tr>\n",
       "    <tr>\n",
       "      <th>18</th>\n",
       "      <td>流动比率</td>\n",
       "      <td>0.037988</td>\n",
       "    </tr>\n",
       "    <tr>\n",
       "      <th>4</th>\n",
       "      <td>动态市盈率</td>\n",
       "      <td>0.034719</td>\n",
       "    </tr>\n",
       "    <tr>\n",
       "      <th>8</th>\n",
       "      <td>最近一个完整会计年度对第一供应商的采购占比</td>\n",
       "      <td>0.030457</td>\n",
       "    </tr>\n",
       "    <tr>\n",
       "      <th>3</th>\n",
       "      <td>静态市盈率</td>\n",
       "      <td>0.030244</td>\n",
       "    </tr>\n",
       "    <tr>\n",
       "      <th>0</th>\n",
       "      <td>上一年归母净利润（万元）</td>\n",
       "      <td>0.028550</td>\n",
       "    </tr>\n",
       "    <tr>\n",
       "      <th>16</th>\n",
       "      <td>应收账款周转率</td>\n",
       "      <td>0.024826</td>\n",
       "    </tr>\n",
       "    <tr>\n",
       "      <th>23</th>\n",
       "      <td>研发支出占比</td>\n",
       "      <td>0.024701</td>\n",
       "    </tr>\n",
       "    <tr>\n",
       "      <th>14</th>\n",
       "      <td>总资产周转率</td>\n",
       "      <td>0.024134</td>\n",
       "    </tr>\n",
       "    <tr>\n",
       "      <th>7</th>\n",
       "      <td>最近一个完整会计年度对第一大客户的销售占比</td>\n",
       "      <td>0.017793</td>\n",
       "    </tr>\n",
       "    <tr>\n",
       "      <th>12</th>\n",
       "      <td>归母权益增长率</td>\n",
       "      <td>0.014385</td>\n",
       "    </tr>\n",
       "    <tr>\n",
       "      <th>9</th>\n",
       "      <td>注入资产净资产账面值(万元)</td>\n",
       "      <td>0.012369</td>\n",
       "    </tr>\n",
       "    <tr>\n",
       "      <th>20</th>\n",
       "      <td>（固定资产+土地）/归母权益</td>\n",
       "      <td>0.001756</td>\n",
       "    </tr>\n",
       "  </tbody>\n",
       "</table>\n",
       "</div>"
      ],
      "text/plain": [
       "                  Feature  feature_importances\n",
       "2                前三年承诺覆盖率             0.111421\n",
       "11                 总资产增长率             0.091868\n",
       "1                承诺期业绩增长率             0.085245\n",
       "5                    成立年限             0.071511\n",
       "6                 大股东持股比例             0.060651\n",
       "13                 净利润增长率             0.049804\n",
       "10                D/(D+E)             0.049189\n",
       "15                  存货周转率             0.040782\n",
       "21                 净资产收益率             0.040467\n",
       "19                  资产负债率             0.040202\n",
       "22                    毛利率             0.038757\n",
       "17                固定资产周转率             0.038180\n",
       "18                   流动比率             0.037988\n",
       "4                   动态市盈率             0.034719\n",
       "8   最近一个完整会计年度对第一供应商的采购占比             0.030457\n",
       "3                   静态市盈率             0.030244\n",
       "0            上一年归母净利润（万元）             0.028550\n",
       "16                应收账款周转率             0.024826\n",
       "23                 研发支出占比             0.024701\n",
       "14                 总资产周转率             0.024134\n",
       "7   最近一个完整会计年度对第一大客户的销售占比             0.017793\n",
       "12                归母权益增长率             0.014385\n",
       "9          注入资产净资产账面值(万元)             0.012369\n",
       "20         （固定资产+土地）/归母权益             0.001756"
      ]
     },
     "execution_count": 44,
     "metadata": {},
     "output_type": "execute_result"
    }
   ],
   "source": [
    "feature_importances_value"
   ]
  },
  {
   "cell_type": "code",
   "execution_count": 45,
   "id": "0708cf05",
   "metadata": {},
   "outputs": [],
   "source": [
    "new_data=unique_risk[selected_feature]\n",
    "new_X=ss.fit_transform(new_data)"
   ]
  },
  {
   "cell_type": "code",
   "execution_count": 46,
   "id": "30b5152e",
   "metadata": {},
   "outputs": [
    {
     "data": {
      "text/plain": [
       "0.1661040507212207"
      ]
     },
     "execution_count": 46,
     "metadata": {},
     "output_type": "execute_result"
    }
   ],
   "source": [
    "score=[]\n",
    "score=cross_val_score(estimator,new_X,y,cv=5,scoring='r2')\n",
    "score.mean()\n",
    "#有提升"
   ]
  },
  {
   "cell_type": "code",
   "execution_count": 47,
   "id": "9b728f31",
   "metadata": {},
   "outputs": [
    {
     "name": "stdout",
     "output_type": "stream",
     "text": [
      "The best parameters are {'base_estimator': DecisionTreeRegressor(max_depth=3), 'learning_rate': 1, 'n_estimators': 50} with a score of 0.17\n"
     ]
    }
   ],
   "source": [
    "#调参看看能不能更好\n",
    "from sklearn.model_selection import GridSearchCV  \n",
    "parameter_space = {\n",
    "    'base_estimator':[tree.DecisionTreeRegressor(max_depth=3),tree.DecisionTreeRegressor(max_depth=1),tree.DecisionTreeRegressor(max_depth=5),model_RidgeCV],\n",
    "    'n_estimators':[25,50,100,200,300],\n",
    "    'learning_rate':[0.05,0.1,0.5,0.8,1]\n",
    "}\n",
    "\n",
    "grid = GridSearchCV(ensemble.AdaBoostRegressor(random_state=23), parameter_space, cv=5)  \n",
    "grid.fit(new_X, y)  \n",
    "print(\"The best parameters are %s with a score of %0.2f\" %(grid.best_params_, grid.best_score_))"
   ]
  },
  {
   "cell_type": "code",
   "execution_count": null,
   "id": "78e2ec70",
   "metadata": {},
   "outputs": [],
   "source": [
    "#就是默认参数"
   ]
  },
  {
   "cell_type": "code",
   "execution_count": null,
   "id": "e253b1ed",
   "metadata": {},
   "outputs": [],
   "source": []
  },
  {
   "cell_type": "markdown",
   "id": "02f88484",
   "metadata": {},
   "source": [
    "**岭回归**"
   ]
  },
  {
   "cell_type": "code",
   "execution_count": 120,
   "id": "a27cead0",
   "metadata": {},
   "outputs": [
    {
     "name": "stdout",
     "output_type": "stream",
     "text": [
      "[False False False  True False  True  True  True  True False False  True\n",
      " False False  True False  True False  True  True  True False False False\n",
      " False  True False  True]\n",
      "[13 15  3  1 10  1  1  1  1 11  5  1 16  8  1  6  1 14  1  1  1  4 12  9\n",
      "  2  1  7  1]\n",
      "13\n",
      "[-0.0764049  -0.03507394 -0.004828    0.08084005  0.0516662   0.09327988\n",
      "  0.10293847  0.10638004  0.11460655  0.07770654  0.07960413  0.10586568\n",
      "  0.11600132  0.11464325  0.09056793  0.0949778   0.0954749   0.10330402\n",
      "  0.09875847  0.10311531  0.09039269  0.09235508  0.07458862  0.08211235\n",
      "  0.07888652  0.08095558  0.07944536  0.0803512 ]\n"
     ]
    }
   ],
   "source": [
    "#对于岭回归通过RFECV进行特征选择\n",
    "from sklearn.feature_selection import RFECV\n",
    "from sklearn import ensemble\n",
    "\n",
    "estimator = RidgeCV()\n",
    "\n",
    "# 5折交叉\n",
    "selector = RFECV(estimator, step=1, cv=5,scoring='r2')\n",
    "selector = selector.fit(X, y)\n",
    "\n",
    "# 哪些特征入选最后特征，true表示入选\n",
    "print(selector.support_)\n",
    "\n",
    "# 每个特征的得分排名，特征得分越低（1最好），表示特征越好\n",
    "print(selector.ranking_)\n",
    "\n",
    "#  挑选了几个特征\n",
    "print(selector.n_features_)\n",
    "# 每次交叉迭代各个特征得分\n",
    "print(selector.grid_scores_)"
   ]
  },
  {
   "cell_type": "code",
   "execution_count": 121,
   "id": "6682b825",
   "metadata": {},
   "outputs": [
    {
     "data": {
      "text/plain": [
       "['前三年承诺覆盖率',\n",
       " '动态市盈率',\n",
       " '成立年限',\n",
       " '大股东持股比例',\n",
       " '最近一个完整会计年度对第一大客户的销售占比',\n",
       " 'D/(D+E)',\n",
       " '净利润增长率',\n",
       " '存货周转率',\n",
       " '固定资产周转率',\n",
       " '流动比率',\n",
       " '资产负债率',\n",
       " '毛利率',\n",
       " '研发支出占比']"
      ]
     },
     "execution_count": 121,
     "metadata": {},
     "output_type": "execute_result"
    }
   ],
   "source": [
    "selected_feature=[]\n",
    "for i in range(len(selector.support_)):\n",
    "    if selector.support_[i]:\n",
    "        selected_feature.append(feature_dict[i])\n",
    "\n",
    "selected_feature"
   ]
  },
  {
   "cell_type": "code",
   "execution_count": 122,
   "id": "addc9802",
   "metadata": {},
   "outputs": [],
   "source": [
    "feature_importances_value=pd.DataFrame({'Feature': selected_feature,'feature_importances':selector.estimator_.coef_}).sort_values('feature_importances',ascending=False)"
   ]
  },
  {
   "cell_type": "code",
   "execution_count": 123,
   "id": "19febc94",
   "metadata": {},
   "outputs": [
    {
     "data": {
      "text/html": [
       "<div>\n",
       "<style scoped>\n",
       "    .dataframe tbody tr th:only-of-type {\n",
       "        vertical-align: middle;\n",
       "    }\n",
       "\n",
       "    .dataframe tbody tr th {\n",
       "        vertical-align: top;\n",
       "    }\n",
       "\n",
       "    .dataframe thead th {\n",
       "        text-align: right;\n",
       "    }\n",
       "</style>\n",
       "<table border=\"1\" class=\"dataframe\">\n",
       "  <thead>\n",
       "    <tr style=\"text-align: right;\">\n",
       "      <th></th>\n",
       "      <th>Feature</th>\n",
       "      <th>feature_importances</th>\n",
       "    </tr>\n",
       "  </thead>\n",
       "  <tbody>\n",
       "    <tr>\n",
       "      <th>6</th>\n",
       "      <td>净利润增长率</td>\n",
       "      <td>0.024938</td>\n",
       "    </tr>\n",
       "    <tr>\n",
       "      <th>8</th>\n",
       "      <td>固定资产周转率</td>\n",
       "      <td>0.015483</td>\n",
       "    </tr>\n",
       "    <tr>\n",
       "      <th>9</th>\n",
       "      <td>流动比率</td>\n",
       "      <td>0.014174</td>\n",
       "    </tr>\n",
       "    <tr>\n",
       "      <th>12</th>\n",
       "      <td>研发支出占比</td>\n",
       "      <td>0.012862</td>\n",
       "    </tr>\n",
       "    <tr>\n",
       "      <th>0</th>\n",
       "      <td>前三年承诺覆盖率</td>\n",
       "      <td>0.011386</td>\n",
       "    </tr>\n",
       "    <tr>\n",
       "      <th>10</th>\n",
       "      <td>资产负债率</td>\n",
       "      <td>0.010667</td>\n",
       "    </tr>\n",
       "    <tr>\n",
       "      <th>4</th>\n",
       "      <td>最近一个完整会计年度对第一大客户的销售占比</td>\n",
       "      <td>0.010248</td>\n",
       "    </tr>\n",
       "    <tr>\n",
       "      <th>5</th>\n",
       "      <td>D/(D+E)</td>\n",
       "      <td>0.008695</td>\n",
       "    </tr>\n",
       "    <tr>\n",
       "      <th>11</th>\n",
       "      <td>毛利率</td>\n",
       "      <td>0.006895</td>\n",
       "    </tr>\n",
       "    <tr>\n",
       "      <th>7</th>\n",
       "      <td>存货周转率</td>\n",
       "      <td>0.005798</td>\n",
       "    </tr>\n",
       "    <tr>\n",
       "      <th>3</th>\n",
       "      <td>大股东持股比例</td>\n",
       "      <td>-0.008835</td>\n",
       "    </tr>\n",
       "    <tr>\n",
       "      <th>1</th>\n",
       "      <td>动态市盈率</td>\n",
       "      <td>-0.009474</td>\n",
       "    </tr>\n",
       "    <tr>\n",
       "      <th>2</th>\n",
       "      <td>成立年限</td>\n",
       "      <td>-0.011720</td>\n",
       "    </tr>\n",
       "  </tbody>\n",
       "</table>\n",
       "</div>"
      ],
      "text/plain": [
       "                  Feature  feature_importances\n",
       "6                  净利润增长率             0.024938\n",
       "8                 固定资产周转率             0.015483\n",
       "9                    流动比率             0.014174\n",
       "12                 研发支出占比             0.012862\n",
       "0                前三年承诺覆盖率             0.011386\n",
       "10                  资产负债率             0.010667\n",
       "4   最近一个完整会计年度对第一大客户的销售占比             0.010248\n",
       "5                 D/(D+E)             0.008695\n",
       "11                    毛利率             0.006895\n",
       "7                   存货周转率             0.005798\n",
       "3                 大股东持股比例            -0.008835\n",
       "1                   动态市盈率            -0.009474\n",
       "2                    成立年限            -0.011720"
      ]
     },
     "execution_count": 123,
     "metadata": {},
     "output_type": "execute_result"
    }
   ],
   "source": [
    "feature_importances_value"
   ]
  },
  {
   "cell_type": "code",
   "execution_count": 124,
   "id": "731a6d23",
   "metadata": {},
   "outputs": [],
   "source": [
    "new_data=unique_risk[selected_feature]\n",
    "new_X=ss.fit_transform(new_data)"
   ]
  },
  {
   "cell_type": "code",
   "execution_count": 125,
   "id": "899f8e93",
   "metadata": {},
   "outputs": [
    {
     "data": {
      "text/plain": [
       "0.18649578244991172"
      ]
     },
     "execution_count": 125,
     "metadata": {},
     "output_type": "execute_result"
    }
   ],
   "source": [
    "score=[]\n",
    "score=cross_val_score(estimator,new_X,y,cv=5,scoring='r2')\n",
    "score.mean()"
   ]
  },
  {
   "cell_type": "code",
   "execution_count": null,
   "id": "ebb1b082",
   "metadata": {},
   "outputs": [],
   "source": []
  },
  {
   "cell_type": "markdown",
   "id": "0ff5c505",
   "metadata": {},
   "source": [
    "**LGBM回归**"
   ]
  },
  {
   "cell_type": "code",
   "execution_count": 33,
   "id": "3065759e",
   "metadata": {},
   "outputs": [
    {
     "name": "stdout",
     "output_type": "stream",
     "text": [
      "[False  True  True  True  True  True  True  True False False False  True\n",
      "  True False  True  True  True  True  True  True  True False  True False\n",
      "  True  True False False]\n",
      "[10  1  1  1  1  1  1  1  4  3  2  1  1  8  1  1  1  1  1  1  1  5  1  6\n",
      "  1  1  7  9]\n",
      "19\n",
      "[-0.11488467 -0.16015549 -0.1069579  -0.12877185 -0.10655161 -0.07930958\n",
      " -0.10292954 -0.04245964 -0.021546    0.01355832  0.02350019  0.03785765\n",
      "  0.03368971  0.03951909  0.05151926  0.06339998  0.06520952  0.06950446\n",
      "  0.0706764   0.06858862  0.06858862  0.06858862  0.06858862  0.06858862\n",
      "  0.06858862  0.06858862  0.06858862  0.06858862]\n"
     ]
    }
   ],
   "source": [
    "#对于LGBM回归通过RFECV进行特征选择\n",
    "#先进行调参后进行特征选择\n",
    "from sklearn.feature_selection import RFECV\n",
    "\n",
    "estimator =model_LGBMRegressor\n",
    "\n",
    "# 5折交叉\n",
    "selector = RFECV(estimator, step=1, cv=5,scoring='r2')\n",
    "selector = selector.fit(X, y)\n",
    "\n",
    "# 哪些特征入选最后特征，true表示入选\n",
    "print(selector.support_)\n",
    "\n",
    "# 每个特征的得分排名，特征得分越低（1最好），表示特征越好\n",
    "print(selector.ranking_)\n",
    "\n",
    "#  挑选了几个特征\n",
    "print(selector.n_features_)\n",
    "# 每次交叉迭代各个特征得分\n",
    "print(selector.grid_scores_)"
   ]
  },
  {
   "cell_type": "code",
   "execution_count": 34,
   "id": "0643fdba",
   "metadata": {},
   "outputs": [
    {
     "data": {
      "text/plain": [
       "['上一年归母净利润（万元）',\n",
       " '承诺期业绩增长率',\n",
       " '前三年承诺覆盖率',\n",
       " '静态市盈率',\n",
       " '动态市盈率',\n",
       " '成立年限',\n",
       " '大股东持股比例',\n",
       " 'D/(D+E)',\n",
       " '总资产增长率',\n",
       " '净利润增长率',\n",
       " '总资产周转率',\n",
       " '存货周转率',\n",
       " '应收账款周转率',\n",
       " '固定资产周转率',\n",
       " '流动比率',\n",
       " '资产负债率',\n",
       " '（固定资产+土地）/归母权益',\n",
       " '净资产收益率',\n",
       " '毛利率']"
      ]
     },
     "execution_count": 34,
     "metadata": {},
     "output_type": "execute_result"
    }
   ],
   "source": [
    "selected_feature=[]\n",
    "for i in range(len(selector.support_)):\n",
    "    if selector.support_[i]:\n",
    "        selected_feature.append(feature_dict[i])\n",
    "\n",
    "selected_feature"
   ]
  },
  {
   "cell_type": "code",
   "execution_count": 35,
   "id": "bf5da089",
   "metadata": {},
   "outputs": [],
   "source": [
    "feature_importances_value=pd.DataFrame({'Feature': selected_feature,'feature_importances':selector.estimator_.feature_importances_}).sort_values('feature_importances',ascending=False)"
   ]
  },
  {
   "cell_type": "code",
   "execution_count": 36,
   "id": "6d4783a7",
   "metadata": {},
   "outputs": [
    {
     "data": {
      "text/html": [
       "<div>\n",
       "<style scoped>\n",
       "    .dataframe tbody tr th:only-of-type {\n",
       "        vertical-align: middle;\n",
       "    }\n",
       "\n",
       "    .dataframe tbody tr th {\n",
       "        vertical-align: top;\n",
       "    }\n",
       "\n",
       "    .dataframe thead th {\n",
       "        text-align: right;\n",
       "    }\n",
       "</style>\n",
       "<table border=\"1\" class=\"dataframe\">\n",
       "  <thead>\n",
       "    <tr style=\"text-align: right;\">\n",
       "      <th></th>\n",
       "      <th>Feature</th>\n",
       "      <th>feature_importances</th>\n",
       "    </tr>\n",
       "  </thead>\n",
       "  <tbody>\n",
       "    <tr>\n",
       "      <th>6</th>\n",
       "      <td>大股东持股比例</td>\n",
       "      <td>11</td>\n",
       "    </tr>\n",
       "    <tr>\n",
       "      <th>1</th>\n",
       "      <td>承诺期业绩增长率</td>\n",
       "      <td>10</td>\n",
       "    </tr>\n",
       "    <tr>\n",
       "      <th>8</th>\n",
       "      <td>总资产增长率</td>\n",
       "      <td>8</td>\n",
       "    </tr>\n",
       "    <tr>\n",
       "      <th>14</th>\n",
       "      <td>流动比率</td>\n",
       "      <td>8</td>\n",
       "    </tr>\n",
       "    <tr>\n",
       "      <th>2</th>\n",
       "      <td>前三年承诺覆盖率</td>\n",
       "      <td>7</td>\n",
       "    </tr>\n",
       "    <tr>\n",
       "      <th>3</th>\n",
       "      <td>静态市盈率</td>\n",
       "      <td>7</td>\n",
       "    </tr>\n",
       "    <tr>\n",
       "      <th>4</th>\n",
       "      <td>动态市盈率</td>\n",
       "      <td>7</td>\n",
       "    </tr>\n",
       "    <tr>\n",
       "      <th>7</th>\n",
       "      <td>D/(D+E)</td>\n",
       "      <td>7</td>\n",
       "    </tr>\n",
       "    <tr>\n",
       "      <th>17</th>\n",
       "      <td>净资产收益率</td>\n",
       "      <td>6</td>\n",
       "    </tr>\n",
       "    <tr>\n",
       "      <th>12</th>\n",
       "      <td>应收账款周转率</td>\n",
       "      <td>5</td>\n",
       "    </tr>\n",
       "    <tr>\n",
       "      <th>0</th>\n",
       "      <td>上一年归母净利润（万元）</td>\n",
       "      <td>4</td>\n",
       "    </tr>\n",
       "    <tr>\n",
       "      <th>5</th>\n",
       "      <td>成立年限</td>\n",
       "      <td>4</td>\n",
       "    </tr>\n",
       "    <tr>\n",
       "      <th>11</th>\n",
       "      <td>存货周转率</td>\n",
       "      <td>4</td>\n",
       "    </tr>\n",
       "    <tr>\n",
       "      <th>13</th>\n",
       "      <td>固定资产周转率</td>\n",
       "      <td>3</td>\n",
       "    </tr>\n",
       "    <tr>\n",
       "      <th>16</th>\n",
       "      <td>（固定资产+土地）/归母权益</td>\n",
       "      <td>2</td>\n",
       "    </tr>\n",
       "    <tr>\n",
       "      <th>9</th>\n",
       "      <td>净利润增长率</td>\n",
       "      <td>2</td>\n",
       "    </tr>\n",
       "    <tr>\n",
       "      <th>15</th>\n",
       "      <td>资产负债率</td>\n",
       "      <td>2</td>\n",
       "    </tr>\n",
       "    <tr>\n",
       "      <th>18</th>\n",
       "      <td>毛利率</td>\n",
       "      <td>2</td>\n",
       "    </tr>\n",
       "    <tr>\n",
       "      <th>10</th>\n",
       "      <td>总资产周转率</td>\n",
       "      <td>1</td>\n",
       "    </tr>\n",
       "  </tbody>\n",
       "</table>\n",
       "</div>"
      ],
      "text/plain": [
       "           Feature  feature_importances\n",
       "6          大股东持股比例                   11\n",
       "1         承诺期业绩增长率                   10\n",
       "8           总资产增长率                    8\n",
       "14            流动比率                    8\n",
       "2         前三年承诺覆盖率                    7\n",
       "3            静态市盈率                    7\n",
       "4            动态市盈率                    7\n",
       "7          D/(D+E)                    7\n",
       "17          净资产收益率                    6\n",
       "12         应收账款周转率                    5\n",
       "0     上一年归母净利润（万元）                    4\n",
       "5             成立年限                    4\n",
       "11           存货周转率                    4\n",
       "13         固定资产周转率                    3\n",
       "16  （固定资产+土地）/归母权益                    2\n",
       "9           净利润增长率                    2\n",
       "15           资产负债率                    2\n",
       "18             毛利率                    2\n",
       "10          总资产周转率                    1"
      ]
     },
     "execution_count": 36,
     "metadata": {},
     "output_type": "execute_result"
    }
   ],
   "source": [
    "feature_importances_value"
   ]
  },
  {
   "cell_type": "code",
   "execution_count": 37,
   "id": "e1782352",
   "metadata": {},
   "outputs": [],
   "source": [
    "new_data=unique_risk[selected_feature]\n",
    "new_X=ss.fit_transform(new_data)"
   ]
  },
  {
   "cell_type": "code",
   "execution_count": 38,
   "id": "694273bf",
   "metadata": {},
   "outputs": [
    {
     "data": {
      "text/plain": [
       "0.10794251946369145"
      ]
     },
     "execution_count": 38,
     "metadata": {},
     "output_type": "execute_result"
    }
   ],
   "source": [
    "score=[]\n",
    "score=cross_val_score(estimator,new_X,y,cv=5,scoring='r2')\n",
    "score.mean()"
   ]
  },
  {
   "cell_type": "code",
   "execution_count": 39,
   "id": "0edbb085",
   "metadata": {},
   "outputs": [
    {
     "name": "stdout",
     "output_type": "stream",
     "text": [
      "The best parameters are {'cat_smooth': 0, 'max_depth': 4, 'min_child_samples': 19, 'min_child_weight': 0.001, 'num_leaves': 20} with a score of 0.13\n"
     ]
    }
   ],
   "source": [
    "from sklearn.model_selection import GridSearchCV  \n",
    "parameter_space = {\n",
    "    'max_depth': [1,4,6,8],\n",
    "    'num_leaves': [20,30,40],\n",
    "    'min_child_samples': [18,19,20,21,22],\n",
    "    'min_child_weight': [0.001,0.002],\n",
    "    'cat_smooth': [0,10,20]\n",
    "    \n",
    "}\n",
    "\n",
    "grid = GridSearchCV(lgb.LGBMRegressor(), parameter_space, cv=5)  \n",
    "grid.fit(new_X, y)  \n",
    "print(\"The best parameters are %s with a score of %0.2f\" %(grid.best_params_, grid.best_score_))\n",
    "#调参后效果有提升"
   ]
  },
  {
   "cell_type": "code",
   "execution_count": 177,
   "id": "5516615d",
   "metadata": {},
   "outputs": [
    {
     "name": "stdout",
     "output_type": "stream",
     "text": [
      "[False  True  True  True  True  True  True  True  True  True  True  True\n",
      "  True  True  True  True  True  True  True  True  True  True False False\n",
      "  True  True  True  True]\n",
      "[4 1 1 1 1 1 1 1 1 1 1 1 1 1 1 1 1 1 1 1 1 1 2 3 1 1 1 1]\n",
      "25\n",
      "[-0.10844249 -0.28212561 -0.21543826 -0.36286743 -0.30404841 -0.27546037\n",
      " -0.2279123  -0.21243483 -0.16560031 -0.0819416  -0.04782421 -0.06775095\n",
      " -0.0743409  -0.00938436 -0.01854799 -0.01117115 -0.01299637 -0.00645004\n",
      "  0.00952219  0.00898009  0.01479102  0.02578946  0.03152058  0.04087282\n",
      "  0.04635936  0.03152262  0.03021602  0.03021602]\n"
     ]
    }
   ],
   "source": [
    "#对于LGBM回归通过RFECV进行特征选择\n",
    "#先进行特征选择，再进行调参\n",
    "from sklearn.feature_selection import RFECV\n",
    "\n",
    "estimator =lgb.LGBMRegressor()\n",
    "\n",
    "# 5折交叉\n",
    "selector = RFECV(estimator, step=1, cv=5,scoring='r2')\n",
    "selector = selector.fit(X, y)\n",
    "\n",
    "# 哪些特征入选最后特征，true表示入选\n",
    "print(selector.support_)\n",
    "\n",
    "# 每个特征的得分排名，特征得分越低（1最好），表示特征越好\n",
    "print(selector.ranking_)\n",
    "\n",
    "#  挑选了几个特征\n",
    "print(selector.n_features_)\n",
    "# 每次交叉迭代各个特征得分\n",
    "print(selector.grid_scores_)"
   ]
  },
  {
   "cell_type": "code",
   "execution_count": 178,
   "id": "d8e2f344",
   "metadata": {},
   "outputs": [
    {
     "data": {
      "text/plain": [
       "['上一年归母净利润（万元）',\n",
       " '承诺期业绩增长率',\n",
       " '前三年承诺覆盖率',\n",
       " '静态市盈率',\n",
       " '动态市盈率',\n",
       " '成立年限',\n",
       " '大股东持股比例',\n",
       " '最近一个完整会计年度对第一大客户的销售占比',\n",
       " '最近一个完整会计年度对第一供应商的采购占比',\n",
       " '注入资产净资产账面值(万元)',\n",
       " 'D/(D+E)',\n",
       " '总资产增长率',\n",
       " '归母权益增长率',\n",
       " '净利润增长率',\n",
       " '总资产周转率',\n",
       " '存货周转率',\n",
       " '应收账款周转率',\n",
       " '固定资产周转率',\n",
       " '流动比率',\n",
       " '资产负债率',\n",
       " '经营杠杆（EBITDA/EBIT)',\n",
       " '净资产收益率',\n",
       " '毛利率',\n",
       " '经营性现金流/收入',\n",
       " '研发支出占比']"
      ]
     },
     "execution_count": 178,
     "metadata": {},
     "output_type": "execute_result"
    }
   ],
   "source": [
    "selected_feature=[]\n",
    "for i in range(len(selector.support_)):\n",
    "    if selector.support_[i]:\n",
    "        selected_feature.append(feature_dict[i])\n",
    "\n",
    "selected_feature"
   ]
  },
  {
   "cell_type": "code",
   "execution_count": 179,
   "id": "a35d2c46",
   "metadata": {},
   "outputs": [],
   "source": [
    "feature_importances_value=pd.DataFrame({'Feature': selected_feature,'feature_importances':selector.estimator_.feature_importances_}).sort_values('feature_importances',ascending=False)"
   ]
  },
  {
   "cell_type": "code",
   "execution_count": 180,
   "id": "f67749b6",
   "metadata": {},
   "outputs": [
    {
     "data": {
      "text/html": [
       "<div>\n",
       "<style scoped>\n",
       "    .dataframe tbody tr th:only-of-type {\n",
       "        vertical-align: middle;\n",
       "    }\n",
       "\n",
       "    .dataframe tbody tr th {\n",
       "        vertical-align: top;\n",
       "    }\n",
       "\n",
       "    .dataframe thead th {\n",
       "        text-align: right;\n",
       "    }\n",
       "</style>\n",
       "<table border=\"1\" class=\"dataframe\">\n",
       "  <thead>\n",
       "    <tr style=\"text-align: right;\">\n",
       "      <th></th>\n",
       "      <th>Feature</th>\n",
       "      <th>feature_importances</th>\n",
       "    </tr>\n",
       "  </thead>\n",
       "  <tbody>\n",
       "    <tr>\n",
       "      <th>22</th>\n",
       "      <td>毛利率</td>\n",
       "      <td>31</td>\n",
       "    </tr>\n",
       "    <tr>\n",
       "      <th>4</th>\n",
       "      <td>动态市盈率</td>\n",
       "      <td>27</td>\n",
       "    </tr>\n",
       "    <tr>\n",
       "      <th>18</th>\n",
       "      <td>流动比率</td>\n",
       "      <td>25</td>\n",
       "    </tr>\n",
       "    <tr>\n",
       "      <th>11</th>\n",
       "      <td>总资产增长率</td>\n",
       "      <td>25</td>\n",
       "    </tr>\n",
       "    <tr>\n",
       "      <th>6</th>\n",
       "      <td>大股东持股比例</td>\n",
       "      <td>24</td>\n",
       "    </tr>\n",
       "    <tr>\n",
       "      <th>3</th>\n",
       "      <td>静态市盈率</td>\n",
       "      <td>22</td>\n",
       "    </tr>\n",
       "    <tr>\n",
       "      <th>21</th>\n",
       "      <td>净资产收益率</td>\n",
       "      <td>22</td>\n",
       "    </tr>\n",
       "    <tr>\n",
       "      <th>14</th>\n",
       "      <td>总资产周转率</td>\n",
       "      <td>20</td>\n",
       "    </tr>\n",
       "    <tr>\n",
       "      <th>19</th>\n",
       "      <td>资产负债率</td>\n",
       "      <td>20</td>\n",
       "    </tr>\n",
       "    <tr>\n",
       "      <th>15</th>\n",
       "      <td>存货周转率</td>\n",
       "      <td>19</td>\n",
       "    </tr>\n",
       "    <tr>\n",
       "      <th>1</th>\n",
       "      <td>承诺期业绩增长率</td>\n",
       "      <td>18</td>\n",
       "    </tr>\n",
       "    <tr>\n",
       "      <th>8</th>\n",
       "      <td>最近一个完整会计年度对第一供应商的采购占比</td>\n",
       "      <td>17</td>\n",
       "    </tr>\n",
       "    <tr>\n",
       "      <th>2</th>\n",
       "      <td>前三年承诺覆盖率</td>\n",
       "      <td>16</td>\n",
       "    </tr>\n",
       "    <tr>\n",
       "      <th>16</th>\n",
       "      <td>应收账款周转率</td>\n",
       "      <td>14</td>\n",
       "    </tr>\n",
       "    <tr>\n",
       "      <th>9</th>\n",
       "      <td>注入资产净资产账面值(万元)</td>\n",
       "      <td>14</td>\n",
       "    </tr>\n",
       "    <tr>\n",
       "      <th>17</th>\n",
       "      <td>固定资产周转率</td>\n",
       "      <td>12</td>\n",
       "    </tr>\n",
       "    <tr>\n",
       "      <th>12</th>\n",
       "      <td>归母权益增长率</td>\n",
       "      <td>12</td>\n",
       "    </tr>\n",
       "    <tr>\n",
       "      <th>0</th>\n",
       "      <td>上一年归母净利润（万元）</td>\n",
       "      <td>11</td>\n",
       "    </tr>\n",
       "    <tr>\n",
       "      <th>13</th>\n",
       "      <td>净利润增长率</td>\n",
       "      <td>11</td>\n",
       "    </tr>\n",
       "    <tr>\n",
       "      <th>10</th>\n",
       "      <td>D/(D+E)</td>\n",
       "      <td>10</td>\n",
       "    </tr>\n",
       "    <tr>\n",
       "      <th>20</th>\n",
       "      <td>经营杠杆（EBITDA/EBIT)</td>\n",
       "      <td>9</td>\n",
       "    </tr>\n",
       "    <tr>\n",
       "      <th>7</th>\n",
       "      <td>最近一个完整会计年度对第一大客户的销售占比</td>\n",
       "      <td>8</td>\n",
       "    </tr>\n",
       "    <tr>\n",
       "      <th>5</th>\n",
       "      <td>成立年限</td>\n",
       "      <td>8</td>\n",
       "    </tr>\n",
       "    <tr>\n",
       "      <th>24</th>\n",
       "      <td>研发支出占比</td>\n",
       "      <td>6</td>\n",
       "    </tr>\n",
       "    <tr>\n",
       "      <th>23</th>\n",
       "      <td>经营性现金流/收入</td>\n",
       "      <td>5</td>\n",
       "    </tr>\n",
       "  </tbody>\n",
       "</table>\n",
       "</div>"
      ],
      "text/plain": [
       "                  Feature  feature_importances\n",
       "22                    毛利率                   31\n",
       "4                   动态市盈率                   27\n",
       "18                   流动比率                   25\n",
       "11                 总资产增长率                   25\n",
       "6                 大股东持股比例                   24\n",
       "3                   静态市盈率                   22\n",
       "21                 净资产收益率                   22\n",
       "14                 总资产周转率                   20\n",
       "19                  资产负债率                   20\n",
       "15                  存货周转率                   19\n",
       "1                承诺期业绩增长率                   18\n",
       "8   最近一个完整会计年度对第一供应商的采购占比                   17\n",
       "2                前三年承诺覆盖率                   16\n",
       "16                应收账款周转率                   14\n",
       "9          注入资产净资产账面值(万元)                   14\n",
       "17                固定资产周转率                   12\n",
       "12                归母权益增长率                   12\n",
       "0            上一年归母净利润（万元）                   11\n",
       "13                 净利润增长率                   11\n",
       "10                D/(D+E)                   10\n",
       "20      经营杠杆（EBITDA/EBIT)                    9\n",
       "7   最近一个完整会计年度对第一大客户的销售占比                    8\n",
       "5                    成立年限                    8\n",
       "24                 研发支出占比                    6\n",
       "23              经营性现金流/收入                    5"
      ]
     },
     "execution_count": 180,
     "metadata": {},
     "output_type": "execute_result"
    }
   ],
   "source": [
    "feature_importances_value"
   ]
  },
  {
   "cell_type": "code",
   "execution_count": 181,
   "id": "57df2ecc",
   "metadata": {},
   "outputs": [],
   "source": [
    "new_data=unique_risk[selected_feature]\n",
    "new_X=ss.fit_transform(new_data)"
   ]
  },
  {
   "cell_type": "code",
   "execution_count": 182,
   "id": "1fd006fe",
   "metadata": {},
   "outputs": [
    {
     "data": {
      "text/plain": [
       "0.07162411732792473"
      ]
     },
     "execution_count": 182,
     "metadata": {},
     "output_type": "execute_result"
    }
   ],
   "source": [
    "score=[]\n",
    "score=cross_val_score(estimator,new_X,y,cv=5,scoring='r2')\n",
    "score.mean()"
   ]
  },
  {
   "cell_type": "code",
   "execution_count": 183,
   "id": "0e2c94d0",
   "metadata": {},
   "outputs": [
    {
     "name": "stdout",
     "output_type": "stream",
     "text": [
      "The best parameters are {'cat_smooth': 0, 'max_depth': 1, 'min_child_samples': 19, 'min_child_weight': 0.001, 'num_leaves': 5} with a score of 0.08\n"
     ]
    }
   ],
   "source": [
    "from sklearn.model_selection import GridSearchCV  \n",
    "parameter_space = {\n",
    "    'max_depth': [1,4,6,8],\n",
    "    'num_leaves': [5,10,20],\n",
    "    'min_child_samples': [18,19,20,21,22],\n",
    "    'min_child_weight': [0.001,0.002],\n",
    "    'cat_smooth': [0,10,20,30,40]\n",
    "    \n",
    "}\n",
    "\n",
    "grid = GridSearchCV(lgb.LGBMRegressor(), parameter_space, cv=5)  \n",
    "grid.fit(new_X, y)  \n",
    "print(\"The best parameters are %s with a score of %0.2f\" %(grid.best_params_, grid.best_score_))\n",
    "#调参后效果还是不好"
   ]
  },
  {
   "cell_type": "code",
   "execution_count": null,
   "id": "7acab10b",
   "metadata": {},
   "outputs": [],
   "source": []
  },
  {
   "cell_type": "markdown",
   "id": "4e768ef0",
   "metadata": {},
   "source": [
    "**XGBOOST回归**"
   ]
  },
  {
   "cell_type": "code",
   "execution_count": 50,
   "id": "f05d0ccb",
   "metadata": {},
   "outputs": [
    {
     "name": "stdout",
     "output_type": "stream",
     "text": [
      "[ True  True  True  True  True  True  True  True  True  True  True  True\n",
      "  True  True  True  True  True  True  True  True  True  True  True  True\n",
      "  True  True  True  True]\n",
      "[1 1 1 1 1 1 1 1 1 1 1 1 1 1 1 1 1 1 1 1 1 1 1 1 1 1 1 1]\n",
      "28\n",
      "[-1.76905557e-01 -2.52483604e-01 -2.91862553e-01 -3.17682812e-01\n",
      " -2.79898267e-01 -3.55835861e-01 -2.22079750e-01 -1.20977415e-01\n",
      " -7.82402056e-02  5.53350049e-04  4.00767789e-02  2.70781873e-02\n",
      "  7.98957087e-05  5.43407813e-03 -1.29014949e-02  4.79699063e-03\n",
      " -1.30761217e-02  3.15985296e-02  1.97265755e-02  7.69159332e-02\n",
      "  8.95187803e-02  8.06403652e-02  8.34549574e-02  7.54581119e-02\n",
      "  6.58890460e-02  8.90612776e-02  7.40393664e-02  9.73293180e-02]\n"
     ]
    }
   ],
   "source": [
    "#对于XGBoost回归通过RFECV进行特征选择\n",
    "#先调参再进行特征选择\n",
    "from sklearn.feature_selection import RFECV\n",
    "\n",
    "estimator =model_XGBRegressor\n",
    "\n",
    "# 5折交叉\n",
    "selector = RFECV(estimator, step=1, cv=5,scoring='r2')\n",
    "selector = selector.fit(X, y)\n",
    "\n",
    "# 哪些特征入选最后特征，true表示入选\n",
    "print(selector.support_)\n",
    "\n",
    "# 每个特征的得分排名，特征得分越低（1最好），表示特征越好\n",
    "print(selector.ranking_)\n",
    "\n",
    "#  挑选了几个特征\n",
    "print(selector.n_features_)\n",
    "# 每次交叉迭代各个特征得分\n",
    "print(selector.grid_scores_)"
   ]
  },
  {
   "cell_type": "code",
   "execution_count": 51,
   "id": "c3f98cc1",
   "metadata": {},
   "outputs": [
    {
     "data": {
      "text/plain": [
       "['审核结果',\n",
       " '上一年归母净利润（万元）',\n",
       " '承诺期业绩增长率',\n",
       " '前三年承诺覆盖率',\n",
       " '静态市盈率',\n",
       " '动态市盈率',\n",
       " '成立年限',\n",
       " '大股东持股比例',\n",
       " '最近一个完整会计年度对第一大客户的销售占比',\n",
       " '最近一个完整会计年度对第一供应商的采购占比',\n",
       " '注入资产净资产账面值(万元)',\n",
       " 'D/(D+E)',\n",
       " '总资产增长率',\n",
       " '归母权益增长率',\n",
       " '净利润增长率',\n",
       " '总资产周转率',\n",
       " '存货周转率',\n",
       " '应收账款周转率',\n",
       " '固定资产周转率',\n",
       " '流动比率',\n",
       " '资产负债率',\n",
       " '经营杠杆（EBITDA/EBIT)',\n",
       " '（固定资产+土地）/归母权益',\n",
       " '在建工程/归母权益',\n",
       " '净资产收益率',\n",
       " '毛利率',\n",
       " '经营性现金流/收入',\n",
       " '研发支出占比']"
      ]
     },
     "execution_count": 51,
     "metadata": {},
     "output_type": "execute_result"
    }
   ],
   "source": [
    "selected_feature=[]\n",
    "for i in range(len(selector.support_)):\n",
    "    if selector.support_[i]:\n",
    "        selected_feature.append(feature_dict[i])\n",
    "\n",
    "selected_feature"
   ]
  },
  {
   "cell_type": "code",
   "execution_count": 52,
   "id": "b638f83c",
   "metadata": {},
   "outputs": [],
   "source": [
    "feature_importances_value=pd.DataFrame({'Feature': selected_feature,'feature_importances':selector.estimator_.feature_importances_}).sort_values('feature_importances',ascending=False)"
   ]
  },
  {
   "cell_type": "code",
   "execution_count": 53,
   "id": "cdcd5348",
   "metadata": {},
   "outputs": [
    {
     "data": {
      "text/html": [
       "<div>\n",
       "<style scoped>\n",
       "    .dataframe tbody tr th:only-of-type {\n",
       "        vertical-align: middle;\n",
       "    }\n",
       "\n",
       "    .dataframe tbody tr th {\n",
       "        vertical-align: top;\n",
       "    }\n",
       "\n",
       "    .dataframe thead th {\n",
       "        text-align: right;\n",
       "    }\n",
       "</style>\n",
       "<table border=\"1\" class=\"dataframe\">\n",
       "  <thead>\n",
       "    <tr style=\"text-align: right;\">\n",
       "      <th></th>\n",
       "      <th>Feature</th>\n",
       "      <th>feature_importances</th>\n",
       "    </tr>\n",
       "  </thead>\n",
       "  <tbody>\n",
       "    <tr>\n",
       "      <th>3</th>\n",
       "      <td>前三年承诺覆盖率</td>\n",
       "      <td>0.099009</td>\n",
       "    </tr>\n",
       "    <tr>\n",
       "      <th>7</th>\n",
       "      <td>大股东持股比例</td>\n",
       "      <td>0.069624</td>\n",
       "    </tr>\n",
       "    <tr>\n",
       "      <th>15</th>\n",
       "      <td>总资产周转率</td>\n",
       "      <td>0.067733</td>\n",
       "    </tr>\n",
       "    <tr>\n",
       "      <th>1</th>\n",
       "      <td>上一年归母净利润（万元）</td>\n",
       "      <td>0.063161</td>\n",
       "    </tr>\n",
       "    <tr>\n",
       "      <th>12</th>\n",
       "      <td>总资产增长率</td>\n",
       "      <td>0.059416</td>\n",
       "    </tr>\n",
       "    <tr>\n",
       "      <th>11</th>\n",
       "      <td>D/(D+E)</td>\n",
       "      <td>0.058854</td>\n",
       "    </tr>\n",
       "    <tr>\n",
       "      <th>4</th>\n",
       "      <td>静态市盈率</td>\n",
       "      <td>0.058520</td>\n",
       "    </tr>\n",
       "    <tr>\n",
       "      <th>5</th>\n",
       "      <td>动态市盈率</td>\n",
       "      <td>0.050597</td>\n",
       "    </tr>\n",
       "    <tr>\n",
       "      <th>2</th>\n",
       "      <td>承诺期业绩增长率</td>\n",
       "      <td>0.050411</td>\n",
       "    </tr>\n",
       "    <tr>\n",
       "      <th>20</th>\n",
       "      <td>资产负债率</td>\n",
       "      <td>0.042728</td>\n",
       "    </tr>\n",
       "    <tr>\n",
       "      <th>9</th>\n",
       "      <td>最近一个完整会计年度对第一供应商的采购占比</td>\n",
       "      <td>0.037787</td>\n",
       "    </tr>\n",
       "    <tr>\n",
       "      <th>19</th>\n",
       "      <td>流动比率</td>\n",
       "      <td>0.037428</td>\n",
       "    </tr>\n",
       "    <tr>\n",
       "      <th>27</th>\n",
       "      <td>研发支出占比</td>\n",
       "      <td>0.031609</td>\n",
       "    </tr>\n",
       "    <tr>\n",
       "      <th>10</th>\n",
       "      <td>注入资产净资产账面值(万元)</td>\n",
       "      <td>0.030406</td>\n",
       "    </tr>\n",
       "    <tr>\n",
       "      <th>25</th>\n",
       "      <td>毛利率</td>\n",
       "      <td>0.028779</td>\n",
       "    </tr>\n",
       "    <tr>\n",
       "      <th>24</th>\n",
       "      <td>净资产收益率</td>\n",
       "      <td>0.028750</td>\n",
       "    </tr>\n",
       "    <tr>\n",
       "      <th>17</th>\n",
       "      <td>应收账款周转率</td>\n",
       "      <td>0.026343</td>\n",
       "    </tr>\n",
       "    <tr>\n",
       "      <th>14</th>\n",
       "      <td>净利润增长率</td>\n",
       "      <td>0.025367</td>\n",
       "    </tr>\n",
       "    <tr>\n",
       "      <th>22</th>\n",
       "      <td>（固定资产+土地）/归母权益</td>\n",
       "      <td>0.023112</td>\n",
       "    </tr>\n",
       "    <tr>\n",
       "      <th>16</th>\n",
       "      <td>存货周转率</td>\n",
       "      <td>0.021085</td>\n",
       "    </tr>\n",
       "    <tr>\n",
       "      <th>18</th>\n",
       "      <td>固定资产周转率</td>\n",
       "      <td>0.018663</td>\n",
       "    </tr>\n",
       "    <tr>\n",
       "      <th>13</th>\n",
       "      <td>归母权益增长率</td>\n",
       "      <td>0.018548</td>\n",
       "    </tr>\n",
       "    <tr>\n",
       "      <th>6</th>\n",
       "      <td>成立年限</td>\n",
       "      <td>0.014595</td>\n",
       "    </tr>\n",
       "    <tr>\n",
       "      <th>26</th>\n",
       "      <td>经营性现金流/收入</td>\n",
       "      <td>0.012509</td>\n",
       "    </tr>\n",
       "    <tr>\n",
       "      <th>8</th>\n",
       "      <td>最近一个完整会计年度对第一大客户的销售占比</td>\n",
       "      <td>0.010722</td>\n",
       "    </tr>\n",
       "    <tr>\n",
       "      <th>21</th>\n",
       "      <td>经营杠杆（EBITDA/EBIT)</td>\n",
       "      <td>0.007870</td>\n",
       "    </tr>\n",
       "    <tr>\n",
       "      <th>23</th>\n",
       "      <td>在建工程/归母权益</td>\n",
       "      <td>0.004027</td>\n",
       "    </tr>\n",
       "    <tr>\n",
       "      <th>0</th>\n",
       "      <td>审核结果</td>\n",
       "      <td>0.002348</td>\n",
       "    </tr>\n",
       "  </tbody>\n",
       "</table>\n",
       "</div>"
      ],
      "text/plain": [
       "                  Feature  feature_importances\n",
       "3                前三年承诺覆盖率             0.099009\n",
       "7                 大股东持股比例             0.069624\n",
       "15                 总资产周转率             0.067733\n",
       "1            上一年归母净利润（万元）             0.063161\n",
       "12                 总资产增长率             0.059416\n",
       "11                D/(D+E)             0.058854\n",
       "4                   静态市盈率             0.058520\n",
       "5                   动态市盈率             0.050597\n",
       "2                承诺期业绩增长率             0.050411\n",
       "20                  资产负债率             0.042728\n",
       "9   最近一个完整会计年度对第一供应商的采购占比             0.037787\n",
       "19                   流动比率             0.037428\n",
       "27                 研发支出占比             0.031609\n",
       "10         注入资产净资产账面值(万元)             0.030406\n",
       "25                    毛利率             0.028779\n",
       "24                 净资产收益率             0.028750\n",
       "17                应收账款周转率             0.026343\n",
       "14                 净利润增长率             0.025367\n",
       "22         （固定资产+土地）/归母权益             0.023112\n",
       "16                  存货周转率             0.021085\n",
       "18                固定资产周转率             0.018663\n",
       "13                归母权益增长率             0.018548\n",
       "6                    成立年限             0.014595\n",
       "26              经营性现金流/收入             0.012509\n",
       "8   最近一个完整会计年度对第一大客户的销售占比             0.010722\n",
       "21      经营杠杆（EBITDA/EBIT)             0.007870\n",
       "23              在建工程/归母权益             0.004027\n",
       "0                    审核结果             0.002348"
      ]
     },
     "execution_count": 53,
     "metadata": {},
     "output_type": "execute_result"
    }
   ],
   "source": [
    "feature_importances_value"
   ]
  },
  {
   "cell_type": "code",
   "execution_count": null,
   "id": "ba485463",
   "metadata": {},
   "outputs": [],
   "source": [
    "#没有选出任何特征，模型没有优化"
   ]
  },
  {
   "cell_type": "code",
   "execution_count": null,
   "id": "7926c7d6",
   "metadata": {},
   "outputs": [],
   "source": []
  },
  {
   "cell_type": "code",
   "execution_count": 185,
   "id": "90121245",
   "metadata": {},
   "outputs": [
    {
     "name": "stdout",
     "output_type": "stream",
     "text": [
      "[False False False  True False  True False False False False False  True\n",
      "  True False  True False False False False False False False False False\n",
      " False False False  True]\n",
      "[19  2  9  1 20  1  5  4  8  3 12  1  1 17  1  7 11 10 23 21 15 18 16 22\n",
      " 14  6 13  1]\n",
      "6\n",
      "[-0.18477088 -0.76666813 -0.55048404 -0.39487689 -0.23402737 -0.09791005\n",
      " -0.23528501 -0.35894797 -0.25590884 -0.28496209 -0.19220308 -0.18504814\n",
      " -0.18380916 -0.20144686 -0.1766009  -0.26851492 -0.24026184 -0.29421757\n",
      " -0.29962533 -0.26180003 -0.27291778 -0.29521483 -0.30683671 -0.25839408\n",
      " -0.26272763 -0.25181865 -0.25513445 -0.2548553 ]\n"
     ]
    }
   ],
   "source": [
    "#对于XGBOOST回归通过RFECV进行特征选择\n",
    "#先进行特征选择再进行调参\n",
    "from sklearn.feature_selection import RFECV\n",
    "\n",
    "estimator =xgb.XGBRegressor()\n",
    "\n",
    "# 5折交叉\n",
    "selector = RFECV(estimator, step=1, cv=5,scoring='r2')\n",
    "selector = selector.fit(X, y)\n",
    "\n",
    "# 哪些特征入选最后特征，true表示入选\n",
    "print(selector.support_)\n",
    "\n",
    "# 每个特征的得分排名，特征得分越低（1最好），表示特征越好\n",
    "print(selector.ranking_)\n",
    "\n",
    "#  挑选了几个特征\n",
    "print(selector.n_features_)\n",
    "# 每次交叉迭代各个特征得分\n",
    "print(selector.grid_scores_)"
   ]
  },
  {
   "cell_type": "code",
   "execution_count": 186,
   "id": "c031f917",
   "metadata": {},
   "outputs": [
    {
     "data": {
      "text/plain": [
       "['前三年承诺覆盖率', '动态市盈率', 'D/(D+E)', '总资产增长率', '净利润增长率', '研发支出占比']"
      ]
     },
     "execution_count": 186,
     "metadata": {},
     "output_type": "execute_result"
    }
   ],
   "source": [
    "selected_feature=[]\n",
    "for i in range(len(selector.support_)):\n",
    "    if selector.support_[i]:\n",
    "        selected_feature.append(feature_dict[i])\n",
    "\n",
    "selected_feature"
   ]
  },
  {
   "cell_type": "code",
   "execution_count": 187,
   "id": "284fd890",
   "metadata": {},
   "outputs": [],
   "source": [
    "feature_importances_value=pd.DataFrame({'Feature': selected_feature,'feature_importances':selector.estimator_.feature_importances_}).sort_values('feature_importances',ascending=False)"
   ]
  },
  {
   "cell_type": "code",
   "execution_count": 188,
   "id": "e6aea194",
   "metadata": {},
   "outputs": [
    {
     "data": {
      "text/html": [
       "<div>\n",
       "<style scoped>\n",
       "    .dataframe tbody tr th:only-of-type {\n",
       "        vertical-align: middle;\n",
       "    }\n",
       "\n",
       "    .dataframe tbody tr th {\n",
       "        vertical-align: top;\n",
       "    }\n",
       "\n",
       "    .dataframe thead th {\n",
       "        text-align: right;\n",
       "    }\n",
       "</style>\n",
       "<table border=\"1\" class=\"dataframe\">\n",
       "  <thead>\n",
       "    <tr style=\"text-align: right;\">\n",
       "      <th></th>\n",
       "      <th>Feature</th>\n",
       "      <th>feature_importances</th>\n",
       "    </tr>\n",
       "  </thead>\n",
       "  <tbody>\n",
       "    <tr>\n",
       "      <th>5</th>\n",
       "      <td>研发支出占比</td>\n",
       "      <td>0.234402</td>\n",
       "    </tr>\n",
       "    <tr>\n",
       "      <th>1</th>\n",
       "      <td>动态市盈率</td>\n",
       "      <td>0.201685</td>\n",
       "    </tr>\n",
       "    <tr>\n",
       "      <th>3</th>\n",
       "      <td>总资产增长率</td>\n",
       "      <td>0.159412</td>\n",
       "    </tr>\n",
       "    <tr>\n",
       "      <th>0</th>\n",
       "      <td>前三年承诺覆盖率</td>\n",
       "      <td>0.152593</td>\n",
       "    </tr>\n",
       "    <tr>\n",
       "      <th>2</th>\n",
       "      <td>D/(D+E)</td>\n",
       "      <td>0.133004</td>\n",
       "    </tr>\n",
       "    <tr>\n",
       "      <th>4</th>\n",
       "      <td>净利润增长率</td>\n",
       "      <td>0.118905</td>\n",
       "    </tr>\n",
       "  </tbody>\n",
       "</table>\n",
       "</div>"
      ],
      "text/plain": [
       "    Feature  feature_importances\n",
       "5    研发支出占比             0.234402\n",
       "1     动态市盈率             0.201685\n",
       "3    总资产增长率             0.159412\n",
       "0  前三年承诺覆盖率             0.152593\n",
       "2   D/(D+E)             0.133004\n",
       "4    净利润增长率             0.118905"
      ]
     },
     "execution_count": 188,
     "metadata": {},
     "output_type": "execute_result"
    }
   ],
   "source": [
    "feature_importances_value"
   ]
  },
  {
   "cell_type": "code",
   "execution_count": 189,
   "id": "6b663f4f",
   "metadata": {},
   "outputs": [],
   "source": [
    "new_data=unique_risk[selected_feature]\n",
    "new_X=ss.fit_transform(new_data)"
   ]
  },
  {
   "cell_type": "code",
   "execution_count": 190,
   "id": "c381abd1",
   "metadata": {},
   "outputs": [
    {
     "data": {
      "text/plain": [
       "-0.027105155614498954"
      ]
     },
     "execution_count": 190,
     "metadata": {},
     "output_type": "execute_result"
    }
   ],
   "source": [
    "score=[]\n",
    "score=cross_val_score(estimator,new_X,y,cv=5,scoring='r2')\n",
    "score.mean()"
   ]
  },
  {
   "cell_type": "code",
   "execution_count": 191,
   "id": "56a6cc39",
   "metadata": {},
   "outputs": [
    {
     "name": "stdout",
     "output_type": "stream",
     "text": [
      "The best parameters are {'eta': 0.1, 'gamma': 0, 'max_depth': 3, 'min_child_weight': 1} with a score of 0.05\n"
     ]
    }
   ],
   "source": [
    "from sklearn.model_selection import GridSearchCV  \n",
    "parameter_space = {\n",
    "    'eta': [0.1, 0.2, 0.3, 0.4],\n",
    "    'gamma':[0,1,10],\n",
    "    'max_depth': [3, 6, 9, 12],\n",
    "    'min_child_weight': [1, 10 ,100]\n",
    "}\n",
    "\n",
    "grid = GridSearchCV(xgb.XGBRegressor(), parameter_space, cv=5)  \n",
    "grid.fit(new_X, y)\n",
    "print(\"The best parameters are %s with a score of %0.2f\" %(grid.best_params_, grid.best_score_))\n",
    "#调参后效果还是不好"
   ]
  },
  {
   "cell_type": "code",
   "execution_count": null,
   "id": "27b028f5",
   "metadata": {},
   "outputs": [],
   "source": []
  },
  {
   "cell_type": "markdown",
   "id": "62e464c7",
   "metadata": {},
   "source": [
    "**MLP回归**"
   ]
  },
  {
   "cell_type": "markdown",
   "id": "1a18856f",
   "metadata": {},
   "source": [
    "&emsp;由于神经网络没有 coef_ 或 feature_importances_ 属性，因此无法通过RFECV属性进行特征选择。<br>\n",
    "注：MLP的coef_返回的并不是属性的系数，而是返回一个矩阵表示神经网络每个连接之间的权重。即对于f(a(b(c(x))))中 a,b,c中的系数，不能直接输出f(x)中的系数。<br>\n",
    "&emsp;需要通过比如RReliefF方法进行特征选择。在此篇中不进行详细说明。"
   ]
  },
  {
   "cell_type": "code",
   "execution_count": 95,
   "id": "deb9fe17",
   "metadata": {},
   "outputs": [
    {
     "ename": "ValueError",
     "evalue": "when `importance_getter=='auto'`, the underlying estimator MLPRegressor should have `coef_` or `feature_importances_` attribute. Either pass a fitted estimator to feature selector or call fit before calling transform.",
     "output_type": "error",
     "traceback": [
      "\u001b[1;31m---------------------------------------------------------------------------\u001b[0m",
      "\u001b[1;31mValueError\u001b[0m                                Traceback (most recent call last)",
      "\u001b[1;32m<ipython-input-95-98d790fed67b>\u001b[0m in \u001b[0;36m<module>\u001b[1;34m\u001b[0m\n\u001b[0;32m      6\u001b[0m \u001b[1;31m# 5折交叉\u001b[0m\u001b[1;33m\u001b[0m\u001b[1;33m\u001b[0m\u001b[1;33m\u001b[0m\u001b[0m\n\u001b[0;32m      7\u001b[0m \u001b[0mselector\u001b[0m \u001b[1;33m=\u001b[0m \u001b[0mRFECV\u001b[0m\u001b[1;33m(\u001b[0m\u001b[0mestimator\u001b[0m\u001b[1;33m,\u001b[0m \u001b[0mstep\u001b[0m\u001b[1;33m=\u001b[0m\u001b[1;36m1\u001b[0m\u001b[1;33m,\u001b[0m \u001b[0mcv\u001b[0m\u001b[1;33m=\u001b[0m\u001b[1;36m5\u001b[0m\u001b[1;33m,\u001b[0m\u001b[0mscoring\u001b[0m\u001b[1;33m=\u001b[0m\u001b[1;34m'r2'\u001b[0m\u001b[1;33m)\u001b[0m\u001b[1;33m\u001b[0m\u001b[1;33m\u001b[0m\u001b[0m\n\u001b[1;32m----> 8\u001b[1;33m \u001b[0mselector\u001b[0m \u001b[1;33m=\u001b[0m \u001b[0mselector\u001b[0m\u001b[1;33m.\u001b[0m\u001b[0mfit\u001b[0m\u001b[1;33m(\u001b[0m\u001b[0mdata\u001b[0m\u001b[1;33m,\u001b[0m \u001b[0mtarget\u001b[0m\u001b[1;33m)\u001b[0m\u001b[1;33m\u001b[0m\u001b[1;33m\u001b[0m\u001b[0m\n\u001b[0m\u001b[0;32m      9\u001b[0m \u001b[1;33m\u001b[0m\u001b[0m\n\u001b[0;32m     10\u001b[0m \u001b[1;31m# 哪些特征入选最后特征，true表示入选\u001b[0m\u001b[1;33m\u001b[0m\u001b[1;33m\u001b[0m\u001b[1;33m\u001b[0m\u001b[0m\n",
      "\u001b[1;32mD:\\Anaconda\\lib\\site-packages\\sklearn\\feature_selection\\_rfe.py\u001b[0m in \u001b[0;36mfit\u001b[1;34m(self, X, y, groups)\u001b[0m\n\u001b[0;32m    603\u001b[0m             \u001b[0mfunc\u001b[0m \u001b[1;33m=\u001b[0m \u001b[0mdelayed\u001b[0m\u001b[1;33m(\u001b[0m\u001b[0m_rfe_single_fit\u001b[0m\u001b[1;33m)\u001b[0m\u001b[1;33m\u001b[0m\u001b[1;33m\u001b[0m\u001b[0m\n\u001b[0;32m    604\u001b[0m \u001b[1;33m\u001b[0m\u001b[0m\n\u001b[1;32m--> 605\u001b[1;33m         scores = parallel(\n\u001b[0m\u001b[0;32m    606\u001b[0m             \u001b[0mfunc\u001b[0m\u001b[1;33m(\u001b[0m\u001b[0mrfe\u001b[0m\u001b[1;33m,\u001b[0m \u001b[0mself\u001b[0m\u001b[1;33m.\u001b[0m\u001b[0mestimator\u001b[0m\u001b[1;33m,\u001b[0m \u001b[0mX\u001b[0m\u001b[1;33m,\u001b[0m \u001b[0my\u001b[0m\u001b[1;33m,\u001b[0m \u001b[0mtrain\u001b[0m\u001b[1;33m,\u001b[0m \u001b[0mtest\u001b[0m\u001b[1;33m,\u001b[0m \u001b[0mscorer\u001b[0m\u001b[1;33m)\u001b[0m\u001b[1;33m\u001b[0m\u001b[1;33m\u001b[0m\u001b[0m\n\u001b[0;32m    607\u001b[0m             for train, test in cv.split(X, y, groups))\n",
      "\u001b[1;32mD:\\Anaconda\\lib\\site-packages\\sklearn\\feature_selection\\_rfe.py\u001b[0m in \u001b[0;36m<genexpr>\u001b[1;34m(.0)\u001b[0m\n\u001b[0;32m    604\u001b[0m \u001b[1;33m\u001b[0m\u001b[0m\n\u001b[0;32m    605\u001b[0m         scores = parallel(\n\u001b[1;32m--> 606\u001b[1;33m             \u001b[0mfunc\u001b[0m\u001b[1;33m(\u001b[0m\u001b[0mrfe\u001b[0m\u001b[1;33m,\u001b[0m \u001b[0mself\u001b[0m\u001b[1;33m.\u001b[0m\u001b[0mestimator\u001b[0m\u001b[1;33m,\u001b[0m \u001b[0mX\u001b[0m\u001b[1;33m,\u001b[0m \u001b[0my\u001b[0m\u001b[1;33m,\u001b[0m \u001b[0mtrain\u001b[0m\u001b[1;33m,\u001b[0m \u001b[0mtest\u001b[0m\u001b[1;33m,\u001b[0m \u001b[0mscorer\u001b[0m\u001b[1;33m)\u001b[0m\u001b[1;33m\u001b[0m\u001b[1;33m\u001b[0m\u001b[0m\n\u001b[0m\u001b[0;32m    607\u001b[0m             for train, test in cv.split(X, y, groups))\n\u001b[0;32m    608\u001b[0m \u001b[1;33m\u001b[0m\u001b[0m\n",
      "\u001b[1;32mD:\\Anaconda\\lib\\site-packages\\sklearn\\feature_selection\\_rfe.py\u001b[0m in \u001b[0;36m_rfe_single_fit\u001b[1;34m(rfe, estimator, X, y, train, test, scorer)\u001b[0m\n\u001b[0;32m     35\u001b[0m     \u001b[0mX_train\u001b[0m\u001b[1;33m,\u001b[0m \u001b[0my_train\u001b[0m \u001b[1;33m=\u001b[0m \u001b[0m_safe_split\u001b[0m\u001b[1;33m(\u001b[0m\u001b[0mestimator\u001b[0m\u001b[1;33m,\u001b[0m \u001b[0mX\u001b[0m\u001b[1;33m,\u001b[0m \u001b[0my\u001b[0m\u001b[1;33m,\u001b[0m \u001b[0mtrain\u001b[0m\u001b[1;33m)\u001b[0m\u001b[1;33m\u001b[0m\u001b[1;33m\u001b[0m\u001b[0m\n\u001b[0;32m     36\u001b[0m     \u001b[0mX_test\u001b[0m\u001b[1;33m,\u001b[0m \u001b[0my_test\u001b[0m \u001b[1;33m=\u001b[0m \u001b[0m_safe_split\u001b[0m\u001b[1;33m(\u001b[0m\u001b[0mestimator\u001b[0m\u001b[1;33m,\u001b[0m \u001b[0mX\u001b[0m\u001b[1;33m,\u001b[0m \u001b[0my\u001b[0m\u001b[1;33m,\u001b[0m \u001b[0mtest\u001b[0m\u001b[1;33m,\u001b[0m \u001b[0mtrain\u001b[0m\u001b[1;33m)\u001b[0m\u001b[1;33m\u001b[0m\u001b[1;33m\u001b[0m\u001b[0m\n\u001b[1;32m---> 37\u001b[1;33m     return rfe._fit(\n\u001b[0m\u001b[0;32m     38\u001b[0m         \u001b[0mX_train\u001b[0m\u001b[1;33m,\u001b[0m \u001b[0my_train\u001b[0m\u001b[1;33m,\u001b[0m\u001b[1;33m\u001b[0m\u001b[1;33m\u001b[0m\u001b[0m\n\u001b[0;32m     39\u001b[0m         lambda estimator, features: _score(\n",
      "\u001b[1;32mD:\\Anaconda\\lib\\site-packages\\sklearn\\feature_selection\\_rfe.py\u001b[0m in \u001b[0;36m_fit\u001b[1;34m(self, X, y, step_score)\u001b[0m\n\u001b[0;32m    242\u001b[0m \u001b[1;33m\u001b[0m\u001b[0m\n\u001b[0;32m    243\u001b[0m             \u001b[1;31m# Get importance and rank them\u001b[0m\u001b[1;33m\u001b[0m\u001b[1;33m\u001b[0m\u001b[1;33m\u001b[0m\u001b[0m\n\u001b[1;32m--> 244\u001b[1;33m             importances = _get_feature_importances(\n\u001b[0m\u001b[0;32m    245\u001b[0m                 \u001b[0mestimator\u001b[0m\u001b[1;33m,\u001b[0m \u001b[0mself\u001b[0m\u001b[1;33m.\u001b[0m\u001b[0mimportance_getter\u001b[0m\u001b[1;33m,\u001b[0m \u001b[0mtransform_func\u001b[0m\u001b[1;33m=\u001b[0m\u001b[1;34m\"square\"\u001b[0m\u001b[1;33m,\u001b[0m\u001b[1;33m\u001b[0m\u001b[1;33m\u001b[0m\u001b[0m\n\u001b[0;32m    246\u001b[0m             )\n",
      "\u001b[1;32mD:\\Anaconda\\lib\\site-packages\\sklearn\\feature_selection\\_base.py\u001b[0m in \u001b[0;36m_get_feature_importances\u001b[1;34m(estimator, getter, transform_func, norm_order)\u001b[0m\n\u001b[0;32m    171\u001b[0m                 \u001b[0mgetter\u001b[0m \u001b[1;33m=\u001b[0m \u001b[0mattrgetter\u001b[0m\u001b[1;33m(\u001b[0m\u001b[1;34m'feature_importances_'\u001b[0m\u001b[1;33m)\u001b[0m\u001b[1;33m\u001b[0m\u001b[1;33m\u001b[0m\u001b[0m\n\u001b[0;32m    172\u001b[0m             \u001b[1;32melse\u001b[0m\u001b[1;33m:\u001b[0m\u001b[1;33m\u001b[0m\u001b[1;33m\u001b[0m\u001b[0m\n\u001b[1;32m--> 173\u001b[1;33m                 raise ValueError(\n\u001b[0m\u001b[0;32m    174\u001b[0m                     \u001b[1;34mf\"when `importance_getter=='auto'`, the underlying \"\u001b[0m\u001b[1;33m\u001b[0m\u001b[1;33m\u001b[0m\u001b[0m\n\u001b[0;32m    175\u001b[0m                     \u001b[1;34mf\"estimator {estimator.__class__.__name__} should have \"\u001b[0m\u001b[1;33m\u001b[0m\u001b[1;33m\u001b[0m\u001b[0m\n",
      "\u001b[1;31mValueError\u001b[0m: when `importance_getter=='auto'`, the underlying estimator MLPRegressor should have `coef_` or `feature_importances_` attribute. Either pass a fitted estimator to feature selector or call fit before calling transform."
     ]
    }
   ],
   "source": [
    "#对于MLP回归通过RFECV进行特征选择\n",
    "from sklearn.feature_selection import RFECV\n",
    "\n",
    "estimator = MLPRegressor(activation='tanh', alpha=0.0001, hidden_layer_sizes=(3,3,3), learning_rate='adaptive', solver='lbfgs')\n",
    "\n",
    "# 5折交叉\n",
    "selector = RFECV(estimator, step=1, cv=5,scoring='r2')\n",
    "selector = selector.fit(data, target)\n",
    "\n",
    "# 哪些特征入选最后特征，true表示入选\n",
    "print(selector.support_)\n",
    "\n",
    "# 每个特征的得分排名，特征得分越低（1最好），表示特征越好\n",
    "print(selector.ranking_)\n",
    "\n",
    "#  挑选了几个特征\n",
    "print(selector.n_features_)\n",
    "# 每次交叉迭代各个特征得分\n",
    "print(selector.grid_scores_)"
   ]
  },
  {
   "cell_type": "markdown",
   "id": "1c47d481",
   "metadata": {},
   "source": [
    "RReliefF  (Relief for Regression)<br>\n",
    "&emsp;没搞明白这个算法，也没有一个比较好用的包直接使用，有空再补充吧<br>\n",
    "&emsp;&emsp;https://stats.stackexchange.com/questions/198116/rrelieff-algorithm-for-regression-for-feature-selection-with-an-example<br>\n",
    "&emsp;&emsp;https://www.pythonf.cn/read/147824<br>\n",
    "&emsp;&emsp;https://www.kaggle.com/jorgesandoval/feature-selection-with-rrelieff-regression <br>\n",
    "&emsp;&emsp;http://www.ecice06.com/CN/10.3969/j.issn.1000-3428.2017.08.035"
   ]
  },
  {
   "cell_type": "code",
   "execution_count": null,
   "id": "c1068af8",
   "metadata": {},
   "outputs": [],
   "source": [
    "import sklearn_relief as sr\n",
    "r=sr.RReliefF(n_features=5)# Choose the best n features\n",
    "r.fit_transform(data,target)"
   ]
  },
  {
   "cell_type": "code",
   "execution_count": 85,
   "id": "34593e4c",
   "metadata": {},
   "outputs": [
    {
     "name": "stdout",
     "output_type": "stream",
     "text": [
      "NOF: 1, Score: 0.6347326458040294\n",
      "NOF: 2, Score: 0.852723785926659\n",
      "NOF: 3, Score: 0.8793435084241812\n",
      "NOF: 4, Score: 0.8647368681863218\n",
      "NOF: 5, Score: 0.8701481665014856\n",
      "NOF: 6, Score: 0.8456137264618422\n",
      "NOF: 7, Score: 0.8681923686818622\n",
      "NOF: 8, Score: 0.8720575817641218\n",
      "NOF: 9, Score: 0.8889311694747266\n",
      "NOF: 10, Score: 0.9057506442021794\n",
      "NOF: 11, Score: 0.8600483647175408\n",
      "NOF: 12, Score: 0.877093954410306\n",
      "NOF: 13, Score: 0.8816297819623378\n",
      "NOF: 14, Score: 0.9047495540138741\n",
      "NOF: 15, Score: 0.8824279484638243\n",
      "NOF: 16, Score: 0.8897563924677889\n",
      "NOF: 17, Score: 0.8787366699702666\n",
      "NOF: 18, Score: 0.8868516848364706\n",
      "NOF: 19, Score: 0.899775024777006\n",
      "High Score: NOF: 10, Score: 0.9057506442021794\n",
      "None\n"
     ]
    }
   ],
   "source": [
    "from sklearn.pipeline import Pipeline\n",
    "from sklearn.ensemble import RandomForestRegressor\n",
    "nof_list=np.arange(1,20)            \n",
    "high_score=0\n",
    "nof=0           \n",
    "score_list =[]\n",
    "for n in range(len(nof_list)):\n",
    "    fs = sr.RReliefF(n_features = nof_list[n])\n",
    "    relief = Pipeline([('fs', fs), ('m', RandomForestRegressor())])\n",
    "    relief.fit(data,target)\n",
    "    score = relief.score(X_test,y_test)\n",
    "    score_list.append(score)\n",
    "    print(f'NOF: {nof_list[n]}, Score: {score}')\n",
    "    if(score > high_score):\n",
    "        high_score = score\n",
    "        nof = nof_list[n]\n",
    "\n",
    "print (print(f'High Score: NOF: {nof}, Score: {high_score}'))"
   ]
  },
  {
   "cell_type": "code",
   "execution_count": null,
   "id": "939c7cf8",
   "metadata": {},
   "outputs": [],
   "source": []
  },
  {
   "cell_type": "markdown",
   "id": "397f007b",
   "metadata": {},
   "source": [
    "**特征选择结果对比**<br>"
   ]
  },
  {
   "cell_type": "markdown",
   "id": "ba798f2c",
   "metadata": {},
   "source": [
    "| 模型 | 特征选择前 |RFECV |\n",
    "|------|----------|------|\n",
    "|线性回归|  -2.3880\t | -0.5456 | \n",
    "|岭回归 | 0.0803 |   0.18649 | \n",
    "| Adaboost回归  | 0.17 | 0.17   |\n",
    "| XGBOOST回归   | 0.09732 | 0.0973  | \n",
    "| LGBM回归     | 0.068588 |  0.13  |  \n",
    "| 神经网络回归  | -0.03711 | \\ | \n",
    "\n",
    "<br>\n",
    "\n",
    "|线性回归 -0.5456|岭回归 0.18649|AdaBoost 0.17|LGBM  0.13|XGBoost 0.0973|\n",
    "|:----|:----|:----|:----|:----|\n",
    "|净利润增长率|净利润增长率|前三年承诺覆盖率|大股东持股比例|前三年承诺覆盖率|\n",
    "|承诺期业绩增长率|固定资产周转率|总资产增长率|承诺期业绩增长率|大股东持股比例|\n",
    "|研发支出占比|流动比率|承诺期业绩增长率|总资产周转率|总资产周转率|\n",
    "|流动比率|研发支出占比|成立年限|流动比率|上一年归母净利润（万元）|\n",
    "|固定资产周转率|前三年承诺覆盖率|大股东持股比例|前三年承诺覆盖率|总资产增长率|\n",
    "|最近一个完整会计年度对第一大客户的销售占比|资产负债率|净利润增长率|静态市盈率|D/(D+E)|\n",
    "|D/(D+E)|最近一个完整会计年度对第一大客户的销售占比|D/(D+E)|动态市盈率|静态市盈率|\n",
    "|净资产收益率|D/(D+E)|存货周转率|D/(D+E)|动态市盈率|\n",
    "|资产负债率|毛利率|净资产收益率|净资产收益率|承诺期业绩增长率|\n",
    "|注入资产净资产账面值(万元)|存货周转率|资产负债率|应收账款周转率|资产负债率|\n",
    "|存货周转率|大股东持股比例|毛利率|上一年归母净利润（万元）|最近一个完整会计年度对第一供应商的采购占比|\n",
    "|经营性现金流/收入|动态市盈率|固定资产周转率|成立年限|流动比率|\n",
    "|前三年承诺覆盖率|成立年限|流动比率|存货周转率|研发支出占比|\n",
    "|毛利率| |动态市盈率|固定资产周转率|注入资产净资产账面值(万元)|\n",
    "|经营杠杆（EBITDA/EBIT)| |最近一个完整会计年度对第一供应商的采购占比|（固定资产+土地）/归母权益|毛利率|\n",
    "|应收账款周转率| |静态市盈率|净利润增长率|净资产收益率|\n",
    "|大股东持股比例| |上一年归母净利润（万元）|资产负债率|应收账款周转率|\n",
    "|成立年限| |应收账款周转率|毛利率|净利润增长率|\n",
    "|总资产增长率| |研发支出占比|总资产周转率|（固定资产+土地）/归母权益|\n",
    "|动态市盈率| |总资产周转率| |存货周转率|\n",
    "|归母权益增长率| |最近一个完整会计年度对第一大客户的销售占比| |固定资产周转率|\n",
    "|静态市盈率| |归母权益增长率| |1归母权益增长率|\n",
    "| | |注入资产净资产账面值(万元)| |成立年限|\n",
    "| | |（固定资产+土地）/归母权益| |经营性现金流/收入|\n",
    "| | | | |最近一个完整会计年度对第一大客户的销售占比|\n",
    "| | | | |经营杠杆（EBITDA/EBIT)|\n",
    "| | | | |在建工程/归母权益|\n",
    "\n",
    "\n",
    "注：\n",
    "1. 对于AdaBoost算法来说，先调参后进行特征选择，特征选择结果保留了所有特征；先特征选择再调参效果更好\n",
    "2. 对于XGBOOst算法来说先调参参数再进行特征选择的结果，特征选择保留了所有特征；先调参再进行特征选择的效果更好\n",
    "3. 对于LGBM算法来说，对于使用调参后进行特征选择效果比较好更好\n",
    "4. 由于神经网络没有 feature_importance参数或者 coef_参数，因此无法通过改方法进行特征选择。可以通过如比如RReliefF方法进行特征选择。"
   ]
  },
  {
   "cell_type": "code",
   "execution_count": null,
   "id": "c9cf66cb",
   "metadata": {},
   "outputs": [],
   "source": []
  },
  {
   "cell_type": "markdown",
   "id": "cfd360a6",
   "metadata": {},
   "source": [
    "### 3.3 特征选择：Embedded\n",
    "&emsp;有些学习器算法自身自带选择特征步骤。对于回归类算法，常见的为正则化，岭回归，Lasso回归,弹性网回归和最小角度模型都是在最小二乘的基础上添加正则惩罚项实现特征选择。<br>\n",
    "&emsp;另外一种常见的Embedded方法为决策树算法中通过信息增益来进行剪枝。<br>\n",
    "&emsp;以下内容仅对Embedded算法的特征选择结果进行分析，模型的效果已在2.2中展现。"
   ]
  },
  {
   "cell_type": "markdown",
   "id": "5fd42e49",
   "metadata": {},
   "source": [
    "&emsp;岭回归和最小角度回归的区别主要是岭回归使用L2范数，Lasso回归使用L1范数。而弹性网络则综合了L1正则化项和L2正则化项。具体数学表达式如下图："
   ]
  },
  {
   "cell_type": "markdown",
   "id": "d305c61f",
   "metadata": {},
   "source": [
    "![jupyter](https://img-blog.csdnimg.cn/20190720152210243.png?x-oss-process=image/watermark,type_ZmFuZ3poZW5naGVpdGk,shadow_10,text_aHR0cHM6Ly9ibG9nLmNzZG4ubmV0L3FxXzI5NDYyODQ5,size_16,color_FFFFFF,t_70)"
   ]
  },
  {
   "cell_type": "markdown",
   "id": "bb5f89a6",
   "metadata": {},
   "source": [
    "![jupyter](https://img-blog.csdnimg.cn/20190720152242576.png?x-oss-process=image/watermark,type_ZmFuZ3poZW5naGVpdGk,shadow_10,text_aHR0cHM6Ly9ibG9nLmNzZG4ubmV0L3FxXzI5NDYyODQ5,size_16,color_FFFFFF,t_70)"
   ]
  },
  {
   "cell_type": "markdown",
   "id": "3405f0ef",
   "metadata": {},
   "source": [
    "&emsp;一般来说，如果L1和L2对比，L2比L1要好一些，因为L2之后，精度更好且较好适应、拟合。L1的效果在处理稀疏数据时候比较棒，且有利于稀疏数据的特征。那么从理论上来说，L1+L2=Elastic Nets的办法，既可以处理稀疏问题，同时也可以保证精度。但是，实际上引入超参数会难以适当，至少在超参数搜索上成本较高，实际案例中很少有L1+L2的效果优于L2的。"
   ]
  },
  {
   "cell_type": "markdown",
   "id": "53893695",
   "metadata": {},
   "source": [
    "**RidgeCV回归**"
   ]
  },
  {
   "cell_type": "code",
   "execution_count": 85,
   "id": "71818552",
   "metadata": {},
   "outputs": [
    {
     "name": "stdout",
     "output_type": "stream",
     "text": [
      "每次的系数和截距为：\n",
      "[ 2.34954186e-03 -2.46578200e-03  3.36139295e-03  1.46965696e-02\n",
      " -2.68866811e-03 -5.29011427e-03 -7.62073058e-03 -7.28373318e-03\n",
      "  4.32790484e-03 -3.36310025e-03  3.35360178e-03  6.52543914e-03\n",
      "  7.80587343e-06  2.38531445e-03  1.07985328e-02  6.80347829e-03\n",
      "  4.79964539e-03 -3.07673426e-03  1.03564646e-02 -1.31749917e-03\n",
      "  3.20592121e-03 -4.38828025e-03 -2.99699320e-03  4.25484154e-03\n",
      "  4.90184388e-03  1.78142793e-03  1.45778148e-04 -3.18130903e-05]\n",
      "0.015240169462964429\n",
      "[-0.0004454   0.00080624  0.00614979  0.0076553  -0.00030252 -0.00886811\n",
      " -0.00947376 -0.00718621  0.00590757 -0.00169807  0.00378998  0.00639813\n",
      "  0.00017888  0.00444408  0.00944301  0.00273475  0.00461044  0.00183774\n",
      "  0.00138621  0.00661995  0.00604599 -0.0078912  -0.00311086  0.0030425\n",
      "  0.00687369  0.00725747 -0.00228352  0.00809333]\n",
      "0.018186418669021983\n",
      "[-0.00048422  0.00262107  0.00562263  0.01135968 -0.00208366 -0.00676538\n",
      " -0.01164918 -0.00693481  0.00518663 -0.00251738  0.00398015  0.00654204\n",
      "  0.00118186 -0.00078626  0.00738353  0.00310668  0.00539867 -0.0031758\n",
      "  0.00832897  0.00714875  0.00618837 -0.00265311 -0.00125851  0.00162161\n",
      "  0.00633184  0.00633313 -0.00337748  0.00700283]\n",
      "0.017694282338141118\n",
      "[-3.58664309e-03 -1.36032965e-04  4.36900829e-03  5.44390102e-03\n",
      " -3.14139800e-03 -5.16792182e-03 -1.00439204e-02 -6.55773138e-03\n",
      " -9.95502004e-06  2.78562999e-04 -5.96190406e-03  7.82617160e-03\n",
      "  1.11475582e-03  5.16901836e-03  9.53279950e-03  3.23459560e-04\n",
      "  4.49715935e-03 -9.82828856e-05  7.22754551e-03  7.52097966e-03\n",
      "  4.84334408e-03 -3.48291662e-03 -1.25574748e-03  2.33888029e-03\n",
      "  8.47454141e-04  4.51535940e-03 -3.03080895e-03  6.89630769e-03]\n",
      "0.02584357067032806\n",
      "[-2.08426539e-03  4.00831405e-03  6.98710717e-03  1.03859736e-02\n",
      " -2.61361323e-03 -7.84136577e-03 -1.12255561e-02 -1.94840707e-03\n",
      "  5.31447983e-03 -1.31952473e-03  4.91329082e-03  8.30302858e-03\n",
      " -4.41668932e-04  2.58484279e-03  1.14464018e-02  1.91935127e-03\n",
      "  3.68534588e-03  1.54576330e-03  8.25184011e-03  7.02205803e-03\n",
      "  8.68738269e-03 -3.09321878e-03 -1.18145724e-05 -9.40378657e-04\n",
      "  5.39253655e-03  5.07028368e-03 -2.51374654e-03  6.86214251e-03]\n",
      "0.015749821545374472\n",
      "\n",
      "\n",
      "每次测试集的R2为：\n",
      "-0.093702775109199\n",
      "0.18450172523711805\n",
      "0.21011611970106236\n",
      "0.09549059443094454\n",
      "0.005350318290504696\n",
      "R2的平均值为0.08035119651008613\n",
      "\n",
      "\n",
      "系数和截距的平均值为：\n",
      "[-0.0008502   0.00096676  0.00529799  0.00990828 -0.00216597 -0.00678658\n",
      " -0.01000263 -0.00598218  0.00414533 -0.0017239   0.00201502  0.00711896\n",
      "  0.00040833  0.0027594   0.00972085  0.00297754  0.00459825 -0.00059346\n",
      "  0.00711021  0.00539885  0.0057942  -0.00430174 -0.00172678  0.00206349\n",
      "  0.00486947  0.00499153 -0.00221196  0.00576456]\n",
      "0.01854285253716601\n"
     ]
    }
   ],
   "source": [
    "#RidgeCV回归\n",
    "from sklearn.model_selection import cross_validate\n",
    "\n",
    "reg = RidgeCV()\n",
    "cv_results = cross_validate(reg, X, y, cv=5, return_estimator=True)\n",
    "\n",
    "\n",
    "coef=[]\n",
    "intercept=[]\n",
    "\n",
    "print(\"每次的系数和截距为：\")\n",
    "for model in cv_results['estimator']:\n",
    "    coef.append(model.coef_)\n",
    "    intercept.append(model.intercept_)\n",
    "    print(model.coef_)\n",
    "    print(model.intercept_)\n",
    "\n",
    "print(\"\\n\")\n",
    "\n",
    "print(\"每次测试集的R2为：\")\n",
    "for score in cv_results['test_score']:\n",
    "    print(score)\n",
    "print(\"R2的平均值为\"+str(cv_results['test_score'].mean()))    \n",
    "print(\"\\n\")\n",
    "\n",
    "print(\"系数和截距的平均值为：\")\n",
    "print(np.mean(coef, axis = 0))\n",
    "print(np.mean(intercept, axis = 0))"
   ]
  },
  {
   "cell_type": "code",
   "execution_count": 86,
   "id": "dcea9edd",
   "metadata": {},
   "outputs": [
    {
     "data": {
      "text/plain": [
       "array([0.0008502 , 0.00096676, 0.00529799, 0.00990828, 0.00216597,\n",
       "       0.00678658, 0.01000263, 0.00598218, 0.00414533, 0.0017239 ,\n",
       "       0.00201502, 0.00711896, 0.00040833, 0.0027594 , 0.00972085,\n",
       "       0.00297754, 0.00459825, 0.00059346, 0.00711021, 0.00539885,\n",
       "       0.0057942 , 0.00430174, 0.00172678, 0.00206349, 0.00486947,\n",
       "       0.00499153, 0.00221196, 0.00576456])"
      ]
     },
     "execution_count": 86,
     "metadata": {},
     "output_type": "execute_result"
    }
   ],
   "source": [
    "coef=np.absolute(np.mean(coef, axis = 0))\n",
    "coef"
   ]
  },
  {
   "cell_type": "code",
   "execution_count": 87,
   "id": "bdf6c53a",
   "metadata": {},
   "outputs": [],
   "source": [
    "feature_importances_value=pd.DataFrame({'Feature': columns,'feature_importances':coef}).sort_values('feature_importances',ascending=False)"
   ]
  },
  {
   "cell_type": "code",
   "execution_count": 88,
   "id": "a19ef712",
   "metadata": {},
   "outputs": [
    {
     "data": {
      "text/html": [
       "<div>\n",
       "<style scoped>\n",
       "    .dataframe tbody tr th:only-of-type {\n",
       "        vertical-align: middle;\n",
       "    }\n",
       "\n",
       "    .dataframe tbody tr th {\n",
       "        vertical-align: top;\n",
       "    }\n",
       "\n",
       "    .dataframe thead th {\n",
       "        text-align: right;\n",
       "    }\n",
       "</style>\n",
       "<table border=\"1\" class=\"dataframe\">\n",
       "  <thead>\n",
       "    <tr style=\"text-align: right;\">\n",
       "      <th></th>\n",
       "      <th>Feature</th>\n",
       "      <th>feature_importances</th>\n",
       "    </tr>\n",
       "  </thead>\n",
       "  <tbody>\n",
       "    <tr>\n",
       "      <th>6</th>\n",
       "      <td>成立年限</td>\n",
       "      <td>0.010003</td>\n",
       "    </tr>\n",
       "    <tr>\n",
       "      <th>3</th>\n",
       "      <td>前三年承诺覆盖率</td>\n",
       "      <td>0.009908</td>\n",
       "    </tr>\n",
       "    <tr>\n",
       "      <th>14</th>\n",
       "      <td>净利润增长率</td>\n",
       "      <td>0.009721</td>\n",
       "    </tr>\n",
       "    <tr>\n",
       "      <th>11</th>\n",
       "      <td>D/(D+E)</td>\n",
       "      <td>0.007119</td>\n",
       "    </tr>\n",
       "    <tr>\n",
       "      <th>18</th>\n",
       "      <td>固定资产周转率</td>\n",
       "      <td>0.007110</td>\n",
       "    </tr>\n",
       "    <tr>\n",
       "      <th>5</th>\n",
       "      <td>动态市盈率</td>\n",
       "      <td>0.006787</td>\n",
       "    </tr>\n",
       "    <tr>\n",
       "      <th>7</th>\n",
       "      <td>大股东持股比例</td>\n",
       "      <td>0.005982</td>\n",
       "    </tr>\n",
       "    <tr>\n",
       "      <th>20</th>\n",
       "      <td>资产负债率</td>\n",
       "      <td>0.005794</td>\n",
       "    </tr>\n",
       "    <tr>\n",
       "      <th>27</th>\n",
       "      <td>研发支出占比</td>\n",
       "      <td>0.005765</td>\n",
       "    </tr>\n",
       "    <tr>\n",
       "      <th>19</th>\n",
       "      <td>流动比率</td>\n",
       "      <td>0.005399</td>\n",
       "    </tr>\n",
       "    <tr>\n",
       "      <th>2</th>\n",
       "      <td>承诺期业绩增长率</td>\n",
       "      <td>0.005298</td>\n",
       "    </tr>\n",
       "    <tr>\n",
       "      <th>25</th>\n",
       "      <td>毛利率</td>\n",
       "      <td>0.004992</td>\n",
       "    </tr>\n",
       "    <tr>\n",
       "      <th>24</th>\n",
       "      <td>净资产收益率</td>\n",
       "      <td>0.004869</td>\n",
       "    </tr>\n",
       "    <tr>\n",
       "      <th>16</th>\n",
       "      <td>存货周转率</td>\n",
       "      <td>0.004598</td>\n",
       "    </tr>\n",
       "    <tr>\n",
       "      <th>21</th>\n",
       "      <td>经营杠杆（EBITDA/EBIT)</td>\n",
       "      <td>0.004302</td>\n",
       "    </tr>\n",
       "    <tr>\n",
       "      <th>8</th>\n",
       "      <td>最近一个完整会计年度对第一大客户的销售占比</td>\n",
       "      <td>0.004145</td>\n",
       "    </tr>\n",
       "    <tr>\n",
       "      <th>15</th>\n",
       "      <td>总资产周转率</td>\n",
       "      <td>0.002978</td>\n",
       "    </tr>\n",
       "    <tr>\n",
       "      <th>13</th>\n",
       "      <td>归母权益增长率</td>\n",
       "      <td>0.002759</td>\n",
       "    </tr>\n",
       "    <tr>\n",
       "      <th>26</th>\n",
       "      <td>经营性现金流/收入</td>\n",
       "      <td>0.002212</td>\n",
       "    </tr>\n",
       "    <tr>\n",
       "      <th>4</th>\n",
       "      <td>静态市盈率</td>\n",
       "      <td>0.002166</td>\n",
       "    </tr>\n",
       "    <tr>\n",
       "      <th>23</th>\n",
       "      <td>在建工程/归母权益</td>\n",
       "      <td>0.002063</td>\n",
       "    </tr>\n",
       "    <tr>\n",
       "      <th>10</th>\n",
       "      <td>注入资产净资产账面值(万元)</td>\n",
       "      <td>0.002015</td>\n",
       "    </tr>\n",
       "    <tr>\n",
       "      <th>22</th>\n",
       "      <td>（固定资产+土地）/归母权益</td>\n",
       "      <td>0.001727</td>\n",
       "    </tr>\n",
       "    <tr>\n",
       "      <th>9</th>\n",
       "      <td>最近一个完整会计年度对第一供应商的采购占比</td>\n",
       "      <td>0.001724</td>\n",
       "    </tr>\n",
       "    <tr>\n",
       "      <th>1</th>\n",
       "      <td>上一年归母净利润（万元）</td>\n",
       "      <td>0.000967</td>\n",
       "    </tr>\n",
       "    <tr>\n",
       "      <th>0</th>\n",
       "      <td>审核结果</td>\n",
       "      <td>0.000850</td>\n",
       "    </tr>\n",
       "    <tr>\n",
       "      <th>17</th>\n",
       "      <td>应收账款周转率</td>\n",
       "      <td>0.000593</td>\n",
       "    </tr>\n",
       "    <tr>\n",
       "      <th>12</th>\n",
       "      <td>总资产增长率</td>\n",
       "      <td>0.000408</td>\n",
       "    </tr>\n",
       "  </tbody>\n",
       "</table>\n",
       "</div>"
      ],
      "text/plain": [
       "                  Feature  feature_importances\n",
       "6                    成立年限             0.010003\n",
       "3                前三年承诺覆盖率             0.009908\n",
       "14                 净利润增长率             0.009721\n",
       "11                D/(D+E)             0.007119\n",
       "18                固定资产周转率             0.007110\n",
       "5                   动态市盈率             0.006787\n",
       "7                 大股东持股比例             0.005982\n",
       "20                  资产负债率             0.005794\n",
       "27                 研发支出占比             0.005765\n",
       "19                   流动比率             0.005399\n",
       "2                承诺期业绩增长率             0.005298\n",
       "25                    毛利率             0.004992\n",
       "24                 净资产收益率             0.004869\n",
       "16                  存货周转率             0.004598\n",
       "21      经营杠杆（EBITDA/EBIT)             0.004302\n",
       "8   最近一个完整会计年度对第一大客户的销售占比             0.004145\n",
       "15                 总资产周转率             0.002978\n",
       "13                归母权益增长率             0.002759\n",
       "26              经营性现金流/收入             0.002212\n",
       "4                   静态市盈率             0.002166\n",
       "23              在建工程/归母权益             0.002063\n",
       "10         注入资产净资产账面值(万元)             0.002015\n",
       "22         （固定资产+土地）/归母权益             0.001727\n",
       "9   最近一个完整会计年度对第一供应商的采购占比             0.001724\n",
       "1            上一年归母净利润（万元）             0.000967\n",
       "0                    审核结果             0.000850\n",
       "17                应收账款周转率             0.000593\n",
       "12                 总资产增长率             0.000408"
      ]
     },
     "execution_count": 88,
     "metadata": {},
     "output_type": "execute_result"
    }
   ],
   "source": [
    "feature_importances_value"
   ]
  },
  {
   "cell_type": "code",
   "execution_count": null,
   "id": "097deed5",
   "metadata": {},
   "outputs": [],
   "source": []
  },
  {
   "cell_type": "markdown",
   "id": "b58298f4",
   "metadata": {},
   "source": [
    "**LassoCV回归**"
   ]
  },
  {
   "cell_type": "code",
   "execution_count": 104,
   "id": "f4be5016",
   "metadata": {},
   "outputs": [
    {
     "name": "stdout",
     "output_type": "stream",
     "text": [
      "每次的系数和截距为：\n",
      "[ 0.00158808 -0.          0.          0.01934526 -0.         -0.\n",
      " -0.00476539 -0.00287157  0.         -0.          0.          0.0029076\n",
      "  0.          0.          0.0135552   0.00351671  0.00118873 -0.\n",
      "  0.01144827 -0.          0.         -0.00204223 -0.          0.\n",
      "  0.          0.         -0.          0.        ]\n",
      "0.011598432846961262\n",
      "[-0.00043669 -0.          0.          0.00910089  0.         -0.00625961\n",
      " -0.00830098 -0.00113259  0.         -0.          0.          0.\n",
      "  0.          0.          0.01092714  0.          0.          0.\n",
      "  0.          0.          0.         -0.00390369 -0.          0.\n",
      "  0.          0.00292103 -0.          0.00688485]\n",
      "0.02279952072689435\n",
      "[-0.00032341  0.          0.          0.01215538 -0.         -0.\n",
      " -0.00891915 -0.          0.         -0.          0.          0.\n",
      "  0.          0.          0.          0.          0.         -0.\n",
      "  0.          0.          0.         -0.         -0.         -0.\n",
      "  0.          0.         -0.          0.        ]\n",
      "0.020472228564921417\n",
      "[-0.00328096 -0.          0.0002109   0.006461   -0.         -0.00376462\n",
      " -0.01038472 -0.00745257 -0.          0.         -0.00681259  0.00901674\n",
      " -0.          0.          0.01924119 -0.          0.00352563 -0.\n",
      "  0.0088536   0.00983437  0.00032779 -0.00258679 -0.          0.\n",
      " -0.          0.0034742  -0.          0.01663352]\n",
      "0.02301718592110116\n",
      "[-0.00205605  0.          0.          0.01284558 -0.         -0.00149473\n",
      " -0.01216978 -0.          0.         -0.          0.          0.00411721\n",
      "  0.          0.          0.01000012  0.          0.          0.\n",
      "  0.00128378  0.          0.00415192 -0.00082304 -0.         -0.\n",
      "  0.          0.         -0.          0.00071124]\n",
      "0.021115901188566395\n",
      "\n",
      "\n",
      "每次测试集的R2为：\n",
      "-0.12549101456256406\n",
      "0.13434458254632575\n",
      "-0.015162506047314617\n",
      "0.10577662185044745\n",
      "0.004753630606194714\n",
      "R2的平均值为0.020844262878617847\n",
      "\n",
      "\n",
      "系数和截距的平均值为：\n",
      "[-9.01806975e-04  0.00000000e+00  4.21807405e-05  1.19816223e-02\n",
      "  0.00000000e+00 -2.30379285e-03 -8.90800398e-03 -2.29134681e-03\n",
      "  0.00000000e+00  0.00000000e+00 -1.36251705e-03  3.20830858e-03\n",
      "  0.00000000e+00  0.00000000e+00  1.07447297e-02  7.03342970e-04\n",
      "  9.42871829e-04  0.00000000e+00  4.31712969e-03  1.96687350e-03\n",
      "  8.95940617e-04 -1.87115041e-03  0.00000000e+00  0.00000000e+00\n",
      "  0.00000000e+00  1.27904606e-03  0.00000000e+00  4.84592272e-03]\n",
      "0.019800653849688914\n"
     ]
    }
   ],
   "source": [
    "# LassoCV回归\n",
    "from sklearn.model_selection import cross_validate\n",
    "\n",
    "reg = LassoCV()\n",
    "cv_results = cross_validate(reg, X, y, cv=5, return_estimator=True)\n",
    "\n",
    "\n",
    "coef=[]\n",
    "intercept=[]\n",
    "\n",
    "print(\"每次的系数和截距为：\")\n",
    "for model in cv_results['estimator']:\n",
    "    coef.append(model.coef_)\n",
    "    intercept.append(model.intercept_)\n",
    "    print(model.coef_)\n",
    "    print(model.intercept_)\n",
    "\n",
    "print(\"\\n\")\n",
    "\n",
    "print(\"每次测试集的R2为：\")\n",
    "for score in cv_results['test_score']:\n",
    "    print(score)\n",
    "print(\"R2的平均值为\"+str(cv_results['test_score'].mean()))    \n",
    "print(\"\\n\")\n",
    "\n",
    "print(\"系数和截距的平均值为：\")\n",
    "print(np.mean(coef, axis = 0))\n",
    "print(np.mean(intercept, axis = 0))"
   ]
  },
  {
   "cell_type": "code",
   "execution_count": 105,
   "id": "3b9f3388",
   "metadata": {},
   "outputs": [
    {
     "data": {
      "text/plain": [
       "array([9.01806975e-04, 0.00000000e+00, 4.21807405e-05, 1.19816223e-02,\n",
       "       0.00000000e+00, 2.30379285e-03, 8.90800398e-03, 2.29134681e-03,\n",
       "       0.00000000e+00, 0.00000000e+00, 1.36251705e-03, 3.20830858e-03,\n",
       "       0.00000000e+00, 0.00000000e+00, 1.07447297e-02, 7.03342970e-04,\n",
       "       9.42871829e-04, 0.00000000e+00, 4.31712969e-03, 1.96687350e-03,\n",
       "       8.95940617e-04, 1.87115041e-03, 0.00000000e+00, 0.00000000e+00,\n",
       "       0.00000000e+00, 1.27904606e-03, 0.00000000e+00, 4.84592272e-03])"
      ]
     },
     "execution_count": 105,
     "metadata": {},
     "output_type": "execute_result"
    }
   ],
   "source": [
    "coef=np.absolute(np.mean(coef, axis = 0))\n",
    "coef"
   ]
  },
  {
   "cell_type": "code",
   "execution_count": 106,
   "id": "7746bdf6",
   "metadata": {},
   "outputs": [],
   "source": [
    "feature_importances_value=pd.DataFrame({'Feature': columns,'feature_importances':coef}).sort_values('feature_importances',ascending=False)\n",
    "feature_importances_value=feature_importances_value.drop( index = feature_importances_value.feature_importances[feature_importances_value.feature_importances == 0].index )"
   ]
  },
  {
   "cell_type": "code",
   "execution_count": 107,
   "id": "77ac3fd6",
   "metadata": {},
   "outputs": [
    {
     "data": {
      "text/html": [
       "<div>\n",
       "<style scoped>\n",
       "    .dataframe tbody tr th:only-of-type {\n",
       "        vertical-align: middle;\n",
       "    }\n",
       "\n",
       "    .dataframe tbody tr th {\n",
       "        vertical-align: top;\n",
       "    }\n",
       "\n",
       "    .dataframe thead th {\n",
       "        text-align: right;\n",
       "    }\n",
       "</style>\n",
       "<table border=\"1\" class=\"dataframe\">\n",
       "  <thead>\n",
       "    <tr style=\"text-align: right;\">\n",
       "      <th></th>\n",
       "      <th>Feature</th>\n",
       "      <th>feature_importances</th>\n",
       "    </tr>\n",
       "  </thead>\n",
       "  <tbody>\n",
       "    <tr>\n",
       "      <th>3</th>\n",
       "      <td>前三年承诺覆盖率</td>\n",
       "      <td>0.011982</td>\n",
       "    </tr>\n",
       "    <tr>\n",
       "      <th>14</th>\n",
       "      <td>净利润增长率</td>\n",
       "      <td>0.010745</td>\n",
       "    </tr>\n",
       "    <tr>\n",
       "      <th>6</th>\n",
       "      <td>成立年限</td>\n",
       "      <td>0.008908</td>\n",
       "    </tr>\n",
       "    <tr>\n",
       "      <th>27</th>\n",
       "      <td>研发支出占比</td>\n",
       "      <td>0.004846</td>\n",
       "    </tr>\n",
       "    <tr>\n",
       "      <th>18</th>\n",
       "      <td>固定资产周转率</td>\n",
       "      <td>0.004317</td>\n",
       "    </tr>\n",
       "    <tr>\n",
       "      <th>11</th>\n",
       "      <td>D/(D+E)</td>\n",
       "      <td>0.003208</td>\n",
       "    </tr>\n",
       "    <tr>\n",
       "      <th>5</th>\n",
       "      <td>动态市盈率</td>\n",
       "      <td>0.002304</td>\n",
       "    </tr>\n",
       "    <tr>\n",
       "      <th>7</th>\n",
       "      <td>大股东持股比例</td>\n",
       "      <td>0.002291</td>\n",
       "    </tr>\n",
       "    <tr>\n",
       "      <th>19</th>\n",
       "      <td>流动比率</td>\n",
       "      <td>0.001967</td>\n",
       "    </tr>\n",
       "    <tr>\n",
       "      <th>21</th>\n",
       "      <td>经营杠杆（EBITDA/EBIT)</td>\n",
       "      <td>0.001871</td>\n",
       "    </tr>\n",
       "    <tr>\n",
       "      <th>10</th>\n",
       "      <td>注入资产净资产账面值(万元)</td>\n",
       "      <td>0.001363</td>\n",
       "    </tr>\n",
       "    <tr>\n",
       "      <th>25</th>\n",
       "      <td>毛利率</td>\n",
       "      <td>0.001279</td>\n",
       "    </tr>\n",
       "    <tr>\n",
       "      <th>16</th>\n",
       "      <td>存货周转率</td>\n",
       "      <td>0.000943</td>\n",
       "    </tr>\n",
       "    <tr>\n",
       "      <th>0</th>\n",
       "      <td>审核结果</td>\n",
       "      <td>0.000902</td>\n",
       "    </tr>\n",
       "    <tr>\n",
       "      <th>20</th>\n",
       "      <td>资产负债率</td>\n",
       "      <td>0.000896</td>\n",
       "    </tr>\n",
       "    <tr>\n",
       "      <th>15</th>\n",
       "      <td>总资产周转率</td>\n",
       "      <td>0.000703</td>\n",
       "    </tr>\n",
       "    <tr>\n",
       "      <th>2</th>\n",
       "      <td>承诺期业绩增长率</td>\n",
       "      <td>0.000042</td>\n",
       "    </tr>\n",
       "  </tbody>\n",
       "</table>\n",
       "</div>"
      ],
      "text/plain": [
       "              Feature  feature_importances\n",
       "3            前三年承诺覆盖率             0.011982\n",
       "14             净利润增长率             0.010745\n",
       "6                成立年限             0.008908\n",
       "27             研发支出占比             0.004846\n",
       "18            固定资产周转率             0.004317\n",
       "11            D/(D+E)             0.003208\n",
       "5               动态市盈率             0.002304\n",
       "7             大股东持股比例             0.002291\n",
       "19               流动比率             0.001967\n",
       "21  经营杠杆（EBITDA/EBIT)             0.001871\n",
       "10     注入资产净资产账面值(万元)             0.001363\n",
       "25                毛利率             0.001279\n",
       "16              存货周转率             0.000943\n",
       "0                审核结果             0.000902\n",
       "20              资产负债率             0.000896\n",
       "15             总资产周转率             0.000703\n",
       "2            承诺期业绩增长率             0.000042"
      ]
     },
     "execution_count": 107,
     "metadata": {},
     "output_type": "execute_result"
    }
   ],
   "source": [
    "feature_importances_value"
   ]
  },
  {
   "cell_type": "code",
   "execution_count": null,
   "id": "3cb7b78a",
   "metadata": {},
   "outputs": [],
   "source": []
  },
  {
   "cell_type": "code",
   "execution_count": 99,
   "id": "0f20a08e",
   "metadata": {},
   "outputs": [
    {
     "name": "stdout",
     "output_type": "stream",
     "text": [
      "每次的系数和截距为：\n",
      "[ 0.00158669 -0.          0.          0.01925537 -0.         -0.\n",
      " -0.00478105 -0.00286644  0.         -0.          0.          0.00292001\n",
      "  0.          0.          0.01332903  0.00359824  0.00117019 -0.\n",
      "  0.01130765 -0.          0.         -0.00206003 -0.          0.\n",
      "  0.          0.         -0.          0.        ]\n",
      "0.011654609030621856\n",
      "[-0.00044068 -0.          0.          0.00906159  0.         -0.00625454\n",
      " -0.00829468 -0.00112647  0.         -0.          0.          0.\n",
      "  0.          0.          0.01076944  0.          0.          0.\n",
      "  0.          0.          0.         -0.00390534 -0.          0.\n",
      "  0.          0.00291236 -0.          0.00675628]\n",
      "0.022835387723316933\n",
      "[-0.00032378  0.          0.          0.01205625 -0.         -0.\n",
      " -0.00883583 -0.          0.         -0.          0.          0.\n",
      "  0.          0.          0.          0.          0.         -0.\n",
      "  0.          0.          0.         -0.         -0.         -0.\n",
      "  0.          0.         -0.          0.        ]\n",
      "0.02050310528902863\n",
      "[-0.00327894 -0.          0.00024062  0.00643757 -0.         -0.00379736\n",
      " -0.01040333 -0.00742767 -0.          0.         -0.00678141  0.00900023\n",
      " -0.          0.          0.01912881 -0.          0.00352075 -0.\n",
      "  0.0088393   0.00979555  0.00052122 -0.00259691 -0.          0.\n",
      " -0.          0.00351543 -0.          0.01634316]\n",
      "0.023023441470320042\n",
      "[-0.0020563   0.          0.          0.01275439 -0.         -0.00157643\n",
      " -0.01210142 -0.          0.         -0.          0.          0.00407119\n",
      "  0.          0.          0.00984899  0.          0.          0.\n",
      "  0.00135613  0.          0.00403363 -0.00081222 -0.         -0.\n",
      "  0.          0.         -0.          0.00079736]\n",
      "0.021195146600595613\n",
      "\n",
      "\n",
      "每次测试集的R2为：\n",
      "-0.12444240457557476\n",
      "0.13417605256527299\n",
      "-0.014420801396132221\n",
      "0.10611920992342605\n",
      "0.0057286294108761515\n",
      "R2的平均值为0.02143213718557364\n",
      "\n",
      "\n",
      "系数和截距的平均值为：\n",
      "[-9.02601306e-04  0.00000000e+00  4.81244717e-05  1.19130334e-02\n",
      "  0.00000000e+00 -2.32566539e-03 -8.88326387e-03 -2.28411691e-03\n",
      "  0.00000000e+00  0.00000000e+00 -1.35628154e-03  3.19828625e-03\n",
      "  0.00000000e+00  0.00000000e+00  1.06152542e-02  7.19647279e-04\n",
      "  9.38189157e-04  0.00000000e+00  4.30061760e-03  1.95910916e-03\n",
      "  9.10971345e-04 -1.87489744e-03  0.00000000e+00  0.00000000e+00\n",
      "  0.00000000e+00  1.28555774e-03  0.00000000e+00  4.77936065e-03]\n",
      "0.019842338022776615\n"
     ]
    }
   ],
   "source": [
    "#Elastic Net回归\n",
    "from sklearn.model_selection import cross_validate\n",
    "\n",
    "reg = ElasticNetCV()\n",
    "cv_results = cross_validate(reg, X, y, cv=5, return_estimator=True)\n",
    "\n",
    "\n",
    "coef=[]\n",
    "intercept=[]\n",
    "\n",
    "print(\"每次的系数和截距为：\")\n",
    "for model in cv_results['estimator']:\n",
    "    coef.append(model.coef_)\n",
    "    intercept.append(model.intercept_)\n",
    "    print(model.coef_)\n",
    "    print(model.intercept_)\n",
    "\n",
    "print(\"\\n\")\n",
    "\n",
    "print(\"每次测试集的R2为：\")\n",
    "for score in cv_results['test_score']:\n",
    "    print(score)\n",
    "print(\"R2的平均值为\"+str(cv_results['test_score'].mean()))    \n",
    "print(\"\\n\")\n",
    "\n",
    "print(\"系数和截距的平均值为：\")\n",
    "print(np.mean(coef, axis = 0))\n",
    "print(np.mean(intercept, axis = 0))"
   ]
  },
  {
   "cell_type": "code",
   "execution_count": 100,
   "id": "5600b1d8",
   "metadata": {},
   "outputs": [
    {
     "data": {
      "text/plain": [
       "array([9.02601306e-04, 0.00000000e+00, 4.81244717e-05, 1.19130334e-02,\n",
       "       0.00000000e+00, 2.32566539e-03, 8.88326387e-03, 2.28411691e-03,\n",
       "       0.00000000e+00, 0.00000000e+00, 1.35628154e-03, 3.19828625e-03,\n",
       "       0.00000000e+00, 0.00000000e+00, 1.06152542e-02, 7.19647279e-04,\n",
       "       9.38189157e-04, 0.00000000e+00, 4.30061760e-03, 1.95910916e-03,\n",
       "       9.10971345e-04, 1.87489744e-03, 0.00000000e+00, 0.00000000e+00,\n",
       "       0.00000000e+00, 1.28555774e-03, 0.00000000e+00, 4.77936065e-03])"
      ]
     },
     "execution_count": 100,
     "metadata": {},
     "output_type": "execute_result"
    }
   ],
   "source": [
    "coef=np.absolute(np.mean(coef, axis = 0))\n",
    "coef"
   ]
  },
  {
   "cell_type": "code",
   "execution_count": 102,
   "id": "81021075",
   "metadata": {},
   "outputs": [],
   "source": [
    "feature_importances_value=pd.DataFrame({'Feature': columns,'feature_importances':coef}).sort_values('feature_importances',ascending=False)\n",
    "feature_importances_value=feature_importances_value.drop( index = feature_importances_value.feature_importances[feature_importances_value.feature_importances == 0].index )"
   ]
  },
  {
   "cell_type": "code",
   "execution_count": 103,
   "id": "2390a572",
   "metadata": {},
   "outputs": [
    {
     "data": {
      "text/html": [
       "<div>\n",
       "<style scoped>\n",
       "    .dataframe tbody tr th:only-of-type {\n",
       "        vertical-align: middle;\n",
       "    }\n",
       "\n",
       "    .dataframe tbody tr th {\n",
       "        vertical-align: top;\n",
       "    }\n",
       "\n",
       "    .dataframe thead th {\n",
       "        text-align: right;\n",
       "    }\n",
       "</style>\n",
       "<table border=\"1\" class=\"dataframe\">\n",
       "  <thead>\n",
       "    <tr style=\"text-align: right;\">\n",
       "      <th></th>\n",
       "      <th>Feature</th>\n",
       "      <th>feature_importances</th>\n",
       "    </tr>\n",
       "  </thead>\n",
       "  <tbody>\n",
       "    <tr>\n",
       "      <th>3</th>\n",
       "      <td>前三年承诺覆盖率</td>\n",
       "      <td>0.011913</td>\n",
       "    </tr>\n",
       "    <tr>\n",
       "      <th>14</th>\n",
       "      <td>净利润增长率</td>\n",
       "      <td>0.010615</td>\n",
       "    </tr>\n",
       "    <tr>\n",
       "      <th>6</th>\n",
       "      <td>成立年限</td>\n",
       "      <td>0.008883</td>\n",
       "    </tr>\n",
       "    <tr>\n",
       "      <th>27</th>\n",
       "      <td>研发支出占比</td>\n",
       "      <td>0.004779</td>\n",
       "    </tr>\n",
       "    <tr>\n",
       "      <th>18</th>\n",
       "      <td>固定资产周转率</td>\n",
       "      <td>0.004301</td>\n",
       "    </tr>\n",
       "    <tr>\n",
       "      <th>11</th>\n",
       "      <td>D/(D+E)</td>\n",
       "      <td>0.003198</td>\n",
       "    </tr>\n",
       "    <tr>\n",
       "      <th>5</th>\n",
       "      <td>动态市盈率</td>\n",
       "      <td>0.002326</td>\n",
       "    </tr>\n",
       "    <tr>\n",
       "      <th>7</th>\n",
       "      <td>大股东持股比例</td>\n",
       "      <td>0.002284</td>\n",
       "    </tr>\n",
       "    <tr>\n",
       "      <th>19</th>\n",
       "      <td>流动比率</td>\n",
       "      <td>0.001959</td>\n",
       "    </tr>\n",
       "    <tr>\n",
       "      <th>21</th>\n",
       "      <td>经营杠杆（EBITDA/EBIT)</td>\n",
       "      <td>0.001875</td>\n",
       "    </tr>\n",
       "    <tr>\n",
       "      <th>10</th>\n",
       "      <td>注入资产净资产账面值(万元)</td>\n",
       "      <td>0.001356</td>\n",
       "    </tr>\n",
       "    <tr>\n",
       "      <th>25</th>\n",
       "      <td>毛利率</td>\n",
       "      <td>0.001286</td>\n",
       "    </tr>\n",
       "    <tr>\n",
       "      <th>16</th>\n",
       "      <td>存货周转率</td>\n",
       "      <td>0.000938</td>\n",
       "    </tr>\n",
       "    <tr>\n",
       "      <th>20</th>\n",
       "      <td>资产负债率</td>\n",
       "      <td>0.000911</td>\n",
       "    </tr>\n",
       "    <tr>\n",
       "      <th>0</th>\n",
       "      <td>审核结果</td>\n",
       "      <td>0.000903</td>\n",
       "    </tr>\n",
       "    <tr>\n",
       "      <th>15</th>\n",
       "      <td>总资产周转率</td>\n",
       "      <td>0.000720</td>\n",
       "    </tr>\n",
       "    <tr>\n",
       "      <th>2</th>\n",
       "      <td>承诺期业绩增长率</td>\n",
       "      <td>0.000048</td>\n",
       "    </tr>\n",
       "  </tbody>\n",
       "</table>\n",
       "</div>"
      ],
      "text/plain": [
       "              Feature  feature_importances\n",
       "3            前三年承诺覆盖率             0.011913\n",
       "14             净利润增长率             0.010615\n",
       "6                成立年限             0.008883\n",
       "27             研发支出占比             0.004779\n",
       "18            固定资产周转率             0.004301\n",
       "11            D/(D+E)             0.003198\n",
       "5               动态市盈率             0.002326\n",
       "7             大股东持股比例             0.002284\n",
       "19               流动比率             0.001959\n",
       "21  经营杠杆（EBITDA/EBIT)             0.001875\n",
       "10     注入资产净资产账面值(万元)             0.001356\n",
       "25                毛利率             0.001286\n",
       "16              存货周转率             0.000938\n",
       "20              资产负债率             0.000911\n",
       "0                审核结果             0.000903\n",
       "15             总资产周转率             0.000720\n",
       "2            承诺期业绩增长率             0.000048"
      ]
     },
     "execution_count": 103,
     "metadata": {},
     "output_type": "execute_result"
    }
   ],
   "source": [
    "feature_importances_value"
   ]
  },
  {
   "cell_type": "code",
   "execution_count": null,
   "id": "1c27b3b3",
   "metadata": {},
   "outputs": [],
   "source": []
  },
  {
   "cell_type": "code",
   "execution_count": 108,
   "id": "09e4b13e",
   "metadata": {},
   "outputs": [
    {
     "name": "stdout",
     "output_type": "stream",
     "text": [
      "每次的系数和截距为：\n",
      "[0.00000000e+00 0.00000000e+00 0.00000000e+00 4.41462059e-02\n",
      " 0.00000000e+00 0.00000000e+00 0.00000000e+00 0.00000000e+00\n",
      " 0.00000000e+00 0.00000000e+00 0.00000000e+00 0.00000000e+00\n",
      " 0.00000000e+00 0.00000000e+00 2.08838958e-04 0.00000000e+00\n",
      " 0.00000000e+00 0.00000000e+00 1.83313355e-06 0.00000000e+00\n",
      " 0.00000000e+00 0.00000000e+00 0.00000000e+00 0.00000000e+00\n",
      " 0.00000000e+00 0.00000000e+00 0.00000000e+00 0.00000000e+00]\n",
      "0.010588306112642939\n",
      "[ 0.          0.          0.          0.01828146  0.         -0.00014308\n",
      " -0.00011549  0.          0.          0.          0.          0.\n",
      "  0.          0.          0.00016358  0.          0.          0.\n",
      "  0.          0.          0.         -0.00078098  0.          0.\n",
      "  0.          0.          0.          0.00314687]\n",
      "0.022676640622887156\n",
      "[ 0.00000000e+00  0.00000000e+00  0.00000000e+00  3.34532278e-02\n",
      "  0.00000000e+00  0.00000000e+00 -1.98180999e-04  0.00000000e+00\n",
      "  0.00000000e+00  0.00000000e+00  0.00000000e+00  0.00000000e+00\n",
      "  0.00000000e+00  0.00000000e+00  1.36664096e-04  0.00000000e+00\n",
      "  0.00000000e+00  0.00000000e+00  5.64362393e-07  0.00000000e+00\n",
      "  0.00000000e+00  0.00000000e+00  0.00000000e+00  0.00000000e+00\n",
      "  0.00000000e+00  0.00000000e+00  0.00000000e+00  2.32291087e-03]\n",
      "0.017108499679316422\n",
      "[0. 0. 0. 0. 0. 0. 0. 0. 0. 0. 0. 0. 0. 0. 0. 0. 0. 0. 0. 0. 0. 0. 0. 0.\n",
      " 0. 0. 0. 0.]\n",
      "0.02323106796116505\n",
      "[ 0.00000000e+00  0.00000000e+00  0.00000000e+00  1.24627073e-02\n",
      "  0.00000000e+00  0.00000000e+00 -5.22676001e-05  0.00000000e+00\n",
      "  0.00000000e+00  0.00000000e+00  0.00000000e+00  0.00000000e+00\n",
      "  0.00000000e+00  0.00000000e+00  0.00000000e+00  0.00000000e+00\n",
      "  0.00000000e+00  0.00000000e+00  0.00000000e+00  0.00000000e+00\n",
      "  0.00000000e+00  0.00000000e+00  0.00000000e+00  0.00000000e+00\n",
      "  0.00000000e+00  0.00000000e+00  0.00000000e+00  0.00000000e+00]\n",
      "0.021407232688818348\n",
      "\n",
      "\n",
      "每次测试集的R2为：\n",
      "-0.038202459282099976\n",
      "0.11505393469415948\n",
      "0.13050037329742703\n",
      "-0.05466911511406036\n",
      "0.018023869573926543\n",
      "R2的平均值为0.03414132063387054\n",
      "\n",
      "\n",
      "系数和截距的平均值为：\n",
      "[ 0.00000000e+00  0.00000000e+00  0.00000000e+00  2.16687192e-02\n",
      "  0.00000000e+00 -2.86150475e-05 -7.31878787e-05  0.00000000e+00\n",
      "  0.00000000e+00  0.00000000e+00  0.00000000e+00  0.00000000e+00\n",
      "  0.00000000e+00  0.00000000e+00  1.01816619e-04  0.00000000e+00\n",
      "  0.00000000e+00  0.00000000e+00  4.79499189e-07  0.00000000e+00\n",
      "  0.00000000e+00 -1.56195299e-04  0.00000000e+00  0.00000000e+00\n",
      "  0.00000000e+00  0.00000000e+00  0.00000000e+00  1.09395706e-03]\n",
      "0.019002349412965983\n"
     ]
    }
   ],
   "source": [
    "#最小角度回归\n",
    "\n",
    "from sklearn.model_selection import cross_validate\n",
    "\n",
    "reg = LarsCV()\n",
    "cv_results = cross_validate(reg,data, target, cv=5, return_estimator=True)\n",
    "\n",
    "\n",
    "coef=[]\n",
    "intercept=[]\n",
    "\n",
    "print(\"每次的系数和截距为：\")\n",
    "for model in cv_results['estimator']:\n",
    "    coef.append(model.coef_)\n",
    "    intercept.append(model.intercept_)\n",
    "    print(model.coef_)\n",
    "    print(model.intercept_)\n",
    "\n",
    "print(\"\\n\")\n",
    "\n",
    "print(\"每次测试集的R2为：\")\n",
    "for score in cv_results['test_score']:\n",
    "    print(score)\n",
    "print(\"R2的平均值为\"+str(cv_results['test_score'].mean()))    \n",
    "print(\"\\n\")\n",
    "\n",
    "print(\"系数和截距的平均值为：\")\n",
    "print(np.mean(coef, axis = 0))\n",
    "print(np.mean(intercept, axis = 0))"
   ]
  },
  {
   "cell_type": "code",
   "execution_count": 109,
   "id": "463b655b",
   "metadata": {},
   "outputs": [
    {
     "data": {
      "text/plain": [
       "array([0.00000000e+00, 0.00000000e+00, 0.00000000e+00, 2.16687192e-02,\n",
       "       0.00000000e+00, 2.86150475e-05, 7.31878787e-05, 0.00000000e+00,\n",
       "       0.00000000e+00, 0.00000000e+00, 0.00000000e+00, 0.00000000e+00,\n",
       "       0.00000000e+00, 0.00000000e+00, 1.01816619e-04, 0.00000000e+00,\n",
       "       0.00000000e+00, 0.00000000e+00, 4.79499189e-07, 0.00000000e+00,\n",
       "       0.00000000e+00, 1.56195299e-04, 0.00000000e+00, 0.00000000e+00,\n",
       "       0.00000000e+00, 0.00000000e+00, 0.00000000e+00, 1.09395706e-03])"
      ]
     },
     "execution_count": 109,
     "metadata": {},
     "output_type": "execute_result"
    }
   ],
   "source": [
    "coef=np.absolute(np.mean(coef, axis = 0))\n",
    "coef"
   ]
  },
  {
   "cell_type": "code",
   "execution_count": 111,
   "id": "f654de89",
   "metadata": {},
   "outputs": [],
   "source": [
    "feature_importances_value=pd.DataFrame({'Feature': columns,'feature_importances':coef}).sort_values('feature_importances',ascending=False)\n",
    "feature_importances_value=feature_importances_value.drop( index = feature_importances_value.feature_importances[feature_importances_value.feature_importances == 0].index )"
   ]
  },
  {
   "cell_type": "code",
   "execution_count": 112,
   "id": "f1211c72",
   "metadata": {},
   "outputs": [
    {
     "data": {
      "text/html": [
       "<div>\n",
       "<style scoped>\n",
       "    .dataframe tbody tr th:only-of-type {\n",
       "        vertical-align: middle;\n",
       "    }\n",
       "\n",
       "    .dataframe tbody tr th {\n",
       "        vertical-align: top;\n",
       "    }\n",
       "\n",
       "    .dataframe thead th {\n",
       "        text-align: right;\n",
       "    }\n",
       "</style>\n",
       "<table border=\"1\" class=\"dataframe\">\n",
       "  <thead>\n",
       "    <tr style=\"text-align: right;\">\n",
       "      <th></th>\n",
       "      <th>Feature</th>\n",
       "      <th>feature_importances</th>\n",
       "    </tr>\n",
       "  </thead>\n",
       "  <tbody>\n",
       "    <tr>\n",
       "      <th>3</th>\n",
       "      <td>前三年承诺覆盖率</td>\n",
       "      <td>2.166872e-02</td>\n",
       "    </tr>\n",
       "    <tr>\n",
       "      <th>27</th>\n",
       "      <td>研发支出占比</td>\n",
       "      <td>1.093957e-03</td>\n",
       "    </tr>\n",
       "    <tr>\n",
       "      <th>21</th>\n",
       "      <td>经营杠杆（EBITDA/EBIT)</td>\n",
       "      <td>1.561953e-04</td>\n",
       "    </tr>\n",
       "    <tr>\n",
       "      <th>14</th>\n",
       "      <td>净利润增长率</td>\n",
       "      <td>1.018166e-04</td>\n",
       "    </tr>\n",
       "    <tr>\n",
       "      <th>6</th>\n",
       "      <td>成立年限</td>\n",
       "      <td>7.318788e-05</td>\n",
       "    </tr>\n",
       "    <tr>\n",
       "      <th>5</th>\n",
       "      <td>动态市盈率</td>\n",
       "      <td>2.861505e-05</td>\n",
       "    </tr>\n",
       "    <tr>\n",
       "      <th>18</th>\n",
       "      <td>固定资产周转率</td>\n",
       "      <td>4.794992e-07</td>\n",
       "    </tr>\n",
       "  </tbody>\n",
       "</table>\n",
       "</div>"
      ],
      "text/plain": [
       "              Feature  feature_importances\n",
       "3            前三年承诺覆盖率         2.166872e-02\n",
       "27             研发支出占比         1.093957e-03\n",
       "21  经营杠杆（EBITDA/EBIT)         1.561953e-04\n",
       "14             净利润增长率         1.018166e-04\n",
       "6                成立年限         7.318788e-05\n",
       "5               动态市盈率         2.861505e-05\n",
       "18            固定资产周转率         4.794992e-07"
      ]
     },
     "execution_count": 112,
     "metadata": {},
     "output_type": "execute_result"
    }
   ],
   "source": [
    "feature_importances_value"
   ]
  },
  {
   "cell_type": "markdown",
   "id": "770574f3",
   "metadata": {},
   "source": [
    "&emsp;四种方法选择出来的特征如下表格所示：<br>\n",
    "\n",
    "|模型| $R^2$|\n",
    "|--|--|\n",
    "|岭回归\t|0.0803|\n",
    "|最小角度回归|\t0.0341|\t\n",
    "|Elastic Net回归|\t0.0214|\t\n",
    "|Lasso回归\t|0.0208|\n",
    "\n",
    "\n",
    "|岭回归|Lasso回归|Elastic Net|最小角度回归|\n",
    "|:----|:----|:----|:----|\n",
    "|成立年限|前三年承诺覆盖率|前三年承诺覆盖率|前三年承诺覆盖率|\n",
    "|前三年承诺覆盖率|净利润增长率|净利润增长率|研发支出占比|\n",
    "|净利润增长率|成立年限|成立年限|经营杠杆（EBITDA/EBIT)|\n",
    "|D/(D+E)|研发支出占比|研发支出占比|净利润增长率|\n",
    "|固定资产周转率|固定资产周转率|固定资产周转率|成立年限|\n",
    "|动态市盈率|D/(D+E)|D/(D+E)|动态市盈率|\n",
    "|大股东持股比例|动态市盈率|动态市盈率|固定资产周转率|\n",
    "|资产负债率|大股东持股比例|大股东持股比例| |\n",
    "|研发支出占比|流动比率|流动比率| |\n",
    "|流动比率|经营杠杆（EBITDA/EBIT)|经营杠杆（EBITDA/EBIT)| |\n",
    "|承诺期业绩增长率|注入资产净资产账面值(万元)|注入资产净资产账面值(万元)| |\n",
    "|毛利率|毛利率|毛利率| |\n",
    "|净资产收益率|存货周转率|存货周转率| |\n",
    "|存货周转率|审核结果|资产负债率| |\n",
    "|经营杠杆（EBITDA/EBIT)|资产负债率|审核结果| |\n",
    "|最近一个完整会计年度对第一大客户的销售占比|总资产周转率|总资产周转率| |\n",
    "|总资产周转率|承诺期业绩增长率|承诺期业绩增长率| |\n",
    "|归母权益增长率| | | |\n",
    "|经营性现金流/收入| | | |\n",
    "|静态市盈率| | | |\n",
    "|在建工程/归母权益| | | |\n",
    "|注入资产净资产账面值(万元)| | | |\n",
    "|（固定资产+土地）/归母权益| | | |\n",
    "|最近一个完整会计年度对第一供应商的采购占比| | | |\n",
    "|上一年归母净利润（万元）| | | |\n",
    "|审核结果| | | |\n",
    "|应收账款周转率| | | |\n",
    "|总资产增长率| | | |\n"
   ]
  },
  {
   "cell_type": "code",
   "execution_count": null,
   "id": "a1033362",
   "metadata": {},
   "outputs": [],
   "source": []
  },
  {
   "cell_type": "markdown",
   "id": "b35a0a62",
   "metadata": {},
   "source": [
    "**主成分回归（Principal Components Regression）**"
   ]
  },
  {
   "cell_type": "code",
   "execution_count": 98,
   "id": "98c014ac",
   "metadata": {},
   "outputs": [
    {
     "name": "stdout",
     "output_type": "stream",
     "text": [
      "Best Accuracy: -0.05410566416832041\n",
      "Best Parameters: {'pca__n_components': 7}\n"
     ]
    }
   ],
   "source": [
    "# Principal Components Regression\n",
    "from sklearn.decomposition import PCA\n",
    "from sklearn.pipeline import Pipeline\n",
    "from sklearn.model_selection import GridSearchCV\n",
    "regression_model = linear_model.LinearRegression()\n",
    "pca_model = PCA()\n",
    "pipe = Pipeline(steps=[('pca', pca_model), ('least_squares', regression_model)])\n",
    "param_grid = {'pca__n_components': range(1, 14)}\n",
    "search = GridSearchCV(pipe, param_grid,scoring='r2',cv=5)\n",
    "search.fit(train_X, train_y)\n",
    "best_model=search.best_estimator_\n",
    "\n",
    "print (\"Best Accuracy: {}\".format(search.best_score_))\n",
    "print (\"Best Parameters: {}\".format(search.best_params_))\n",
    "    "
   ]
  },
  {
   "cell_type": "code",
   "execution_count": 99,
   "id": "9c1bb3b0",
   "metadata": {},
   "outputs": [
    {
     "data": {
      "text/plain": [
       "0.018547578107375638"
      ]
     },
     "execution_count": 99,
     "metadata": {},
     "output_type": "execute_result"
    }
   ],
   "source": [
    "score=[]\n",
    "score=cross_val_score(best_model,data,target,cv=5,scoring='r2')\n",
    "score.mean()"
   ]
  },
  {
   "cell_type": "markdown",
   "id": "cbeb5efe",
   "metadata": {},
   "source": [
    "5折交叉验证的结果 并没有好于普通的最小角度回归的结果0.0379。因此可以认为 生成的新的超特征并没有完全地涵盖原始信息。"
   ]
  },
  {
   "cell_type": "markdown",
   "id": "9db7a5c6",
   "metadata": {},
   "source": [
    "**偏最小二乘法（Partial Least Squares）**"
   ]
  },
  {
   "cell_type": "code",
   "execution_count": 100,
   "id": "f76d4dfe",
   "metadata": {},
   "outputs": [],
   "source": [
    "# Partial Least Squares\n",
    "from sklearn.cross_decomposition import PLSRegression\n",
    "pls_model_setup = PLSRegression(scale=True)\n",
    "param_grid = {'n_components': range(1, 14)}\n",
    "search = GridSearchCV(pls_model_setup, param_grid,scoring='r2',cv=5)\n",
    "search.fit(train_X, train_y)\n",
    "search.best_params_\n",
    "best_model=search.best_estimator_"
   ]
  },
  {
   "cell_type": "code",
   "execution_count": 102,
   "id": "06b9f81e",
   "metadata": {},
   "outputs": [
    {
     "data": {
      "text/plain": [
       "-3.3110690844952204"
      ]
     },
     "execution_count": 102,
     "metadata": {},
     "output_type": "execute_result"
    }
   ],
   "source": [
    "score=[]\n",
    "score=cross_val_score(best_model,data,target,cv=5,scoring='r2')\n",
    "score.mean()"
   ]
  },
  {
   "cell_type": "markdown",
   "id": "190cd26f",
   "metadata": {},
   "source": [
    "&emsp;主成分回归和偏最小二乘感觉结果都不是很好。特别是主成分回归，感觉不如已有成果好，放弃"
   ]
  },
  {
   "cell_type": "code",
   "execution_count": null,
   "id": "0a7933d2",
   "metadata": {},
   "outputs": [],
   "source": []
  },
  {
   "cell_type": "markdown",
   "id": "f554f7e5",
   "metadata": {},
   "source": [
    "### 3.4 特征选择结论"
   ]
  },
  {
   "cell_type": "markdown",
   "id": "06525b85",
   "metadata": {},
   "source": [
    "|模型名称    |未进行特征下选择 |相关系数   |p-value|RFECV  |\n",
    "|--------|---------|-------|-------|-------|\n",
    "|线性回归    |-2.387983|0.17268|0.0796 |-0.5456|\n",
    "|Ridge_CV|0.0803   |0.1522 |0.1458 |0.18649|\n",
    "|AdaBoost|0.1471   |0.17   |0.15711   |0.17   |\n",
    "|XGBOOST |0.0973   |0.07   |0.020655   |0.0973 |\n",
    "|LGBM    |0.0685   |0.05   |-0.02344   |0.13   |\n",
    "|MLP     |-0.04    |0.11   |0.097400   |       |"
   ]
  },
  {
   "cell_type": "markdown",
   "id": "d116fc3e",
   "metadata": {},
   "source": [
    "目前所有的特征选择方法的结果如下："
   ]
  },
  {
   "cell_type": "markdown",
   "id": "1f6f3085",
   "metadata": {},
   "source": [
    "|| |Embedding法 | |相关系数| || |Wrapper法 | | |\n",
    "|:----|:----|:----|:----|:----|:----|:----|:----|:----|:----|:----|\n",
    "|岭回归|Lasso回归|Elastic Net|最小角度回归|P值检验|相关系数|线性回归|岭回归|AdaBoost|LGBM|XGBoost|\n",
    "|成立年限|前三年承诺覆盖率|前三年承诺覆盖率|前三年承诺覆盖率|前三年承诺覆盖率|前三年承诺覆盖率|净利润增长率|净利润增长率|前三年承诺覆盖率|大股东持股比例|前三年承诺覆盖率|\n",
    "|前三年承诺覆盖率|净利润增长率|净利润增长率|研发支出占比|成立年限|动态市盈率|承诺期业绩增长率|固定资产周转率|总资产增长率|承诺期业绩增长率|大股东持股比例|\n",
    "|净利润增长率|成立年限|成立年限|经营杠杆（EBITDA/EBIT)|动态市盈率|成立年限|研发支出占比|流动比率|承诺期业绩增长率|总资产周转率|总资产周转率|\n",
    "|D/(D+E)|研发支出占比|研发支出占比|净利润增长率|净利润增长率|净利润增长率|流动比率|研发支出占比|成立年限|流动比率|上一年归母净利润（万元）|\n",
    "|固定资产周转率|固定资产周转率|固定资产周转率|成立年限|固定资产周转率|固定资产周转率|固定资产周转率|前三年承诺覆盖率|大股东持股比例|前三年承诺覆盖率|总资产增长率|\n",
    "|动态市盈率|D/(D+E)|D/(D+E)|动态市盈率|研发支出占比|研发支出占比|最近一个完整会计年度对第一大客户的销售占比|资产负债率|净利润增长率|静态市盈率|D/(D+E)|\n",
    "|大股东持股比例|动态市盈率|动态市盈率|固定资产周转率|经营性现金流/收入| |D/(D+E)|最近一个完整会计年度对第一大客户的销售占比|D/(D+E)|动态市盈率|静态市盈率|\n",
    "|资产负债率|大股东持股比例|大股东持股比例| |资产负债率| |净资产收益率|D/(D+E)|存货周转率|D/(D+E)|动态市盈率|\n",
    "|研发支出占比|流动比率|流动比率| |总资产周转率| |资产负债率|毛利率|净资产收益率|净资产收益率|承诺期业绩增长率|\n",
    "|流动比率|经营杠杆（EBITDA/EBIT)|经营杠杆（EBITDA/EBIT)| | | |注入资产净资产账面值(万元)|存货周转率|资产负债率|应收账款周转率|资产负债率|\n",
    "|承诺期业绩增长率|注入资产净资产账面值(万元)|注入资产净资产账面值(万元)| | | |存货周转率|大股东持股比例|毛利率|上一年归母净利润（万元）|最近一个完整会计年度对第一供应商的采购占比|\n",
    "|毛利率|毛利率|毛利率| | | |经营性现金流/收入|动态市盈率|固定资产周转率|成立年限|流动比率|\n",
    "|净资产收益率|存货周转率|存货周转率| | | |前三年承诺覆盖率|成立年限|流动比率|存货周转率|研发支出占比|\n",
    "|存货周转率|审核结果|资产负债率| | | |毛利率| |动态市盈率|固定资产周转率|注入资产净资产账面值(万元)|\n",
    "|经营杠杆（EBITDA/EBIT)|资产负债率|审核结果| | | |经营杠杆（EBITDA/EBIT)| |最近一个完整会计年度对第一供应商的采购占比|（固定资产+土地）/归母权益|毛利率|\n",
    "|最近一个完整会计年度对第一大客户的销售占比|总资产周转率|总资产周转率| | | |应收账款周转率| |静态市盈率|净利润增长率|净资产收益率|\n",
    "|总资产周转率|承诺期业绩增长率|承诺期业绩增长率| | | |大股东持股比例| |上一年归母净利润（万元）|资产负债率|应收账款周转率|\n",
    "|归母权益增长率| | | | | |成立年限| |应收账款周转率|毛利率|净利润增长率|\n",
    "|经营性现金流/收入| | | | | |总资产增长率| |研发支出占比|总资产周转率|（固定资产+土地）/归母权益|\n",
    "|静态市盈率| | | | | |动态市盈率| |总资产周转率| |存货周转率|\n",
    "|在建工程/归母权益| | | | | |归母权益增长率| |最近一个完整会计年度对第一大客户的销售占比| |固定资产周转率|\n",
    "|注入资产净资产账面值(万元)| | | | | |静态市盈率| |归母权益增长率| |归母权益增长率|\n",
    "|（固定资产+土地）/归母权益| | | | | | | |注入资产净资产账面值(万元)| |成立年限|\n",
    "|最近一个完整会计年度对第一供应商的采购占比| | | | | | | |（固定资产+土地）/归母权益| |经营性现金流/收入|\n",
    "|上一年归母净利润（万元）| | | | | | | | | |最近一个完整会计年度对第一大客户的销售占比|\n",
    "|审核结果| | | | | | | | | |经营杠杆（EBITDA/EBIT)|\n",
    "|应收账款周转率| | | | | | | | | |在建工程/归母权益|\n",
    "|总资产增长率| | | | | | | | | |审核结果|"
   ]
  },
  {
   "cell_type": "markdown",
   "id": "ffdce8a8",
   "metadata": {},
   "source": [
    "  &emsp;从表格中我们可以看出，几种模型中选择出的比较统一的特征有  前三年承诺覆盖率，资产负债率，净利润增长率，D/(D+E)，固定资产周转率，动态市盈率，研发支出占比。我们认为以上几个指标和公司的特有风险有比较强的相关性。<br>\n",
    "  &emsp;与另一课题的结果： 公司资产负债率，经营性现金流入/流出，研发支出占比，归母权益增长率，净利润增长率，总资产周转率，应收账款周转率，上一年归母净利润，成立年限指标 的Jaccard相似度为 3/13, 相似度并不高。其中P值检验的结果和研究结果的相似度最高，为5/9。一般相似度普遍为1/3<br><br>\n",
    "  \n",
    " &emsp; 通过RFECV对岭回归进行特征选择后的$R^2$的得分最高。 AdaBoost通过多次尝试，可以到达0.21。为了结果的可重复性和一般性，以及考虑模型的简单和可解释性，还是以目前的结果为准,认为RFECV+RidgeCV模型得出的结论最好。<br><br>\n",
    "对于各种方法而言：<br>\n",
    " &emsp;  特征选择一般能显著提高模型的效果。<br>\n",
    " &emsp;  相比统计方法，RFECV方法一般来说能获得更好的效果。<br>\n",
    " &emsp;  Boosting类模型由于是基于决策树进行提升，比较适合直接处理高维数据，大幅降维后由于会导致树相对单一，效果反而不好。其中XGoost在数据降维后效果显著的下降<br>\n",
    " &emsp;  支持向量机在本问题中对任何参数的变化都不敏感。<br>"
   ]
  },
  {
   "cell_type": "markdown",
   "id": "6607eb00",
   "metadata": {},
   "source": [
    "## 4 结果展示"
   ]
  },
  {
   "cell_type": "code",
   "execution_count": 1,
   "id": "42da48c3",
   "metadata": {},
   "outputs": [],
   "source": [
    "#输出R^2分数，并且展示预测值和真实值的区别\n",
    "def show_result(model):\n",
    "    model.fit(train_X,train_y)\n",
    "    score = model.score(test_X, test_y)\n",
    "    result = model.predict(test_X)\n",
    "    plt.figure()\n",
    "    plt.plot(np.arange(len(result)), test_y,'go-',label='true value')\n",
    "    plt.plot(np.arange(len(result)),result,'ro-',label='predict value')\n",
    "    plt.title('score: %f'%score)\n",
    "    plt.legend()\n",
    "    plt.show()"
   ]
  },
  {
   "cell_type": "code",
   "execution_count": 2,
   "id": "2fd12e3a",
   "metadata": {},
   "outputs": [],
   "source": [
    "from sklearn.model_selection import train_test_split"
   ]
  },
  {
   "cell_type": "markdown",
   "id": "db59689c",
   "metadata": {},
   "source": [
    "**线性回归**"
   ]
  },
  {
   "cell_type": "code",
   "execution_count": 13,
   "id": "1b655092",
   "metadata": {},
   "outputs": [],
   "source": [
    "new_data=unique_risk[['前三年承诺覆盖率', '动态市盈率', '成立年限', '净利润增长率', '固定资产周转率','研发支出占比']]\n",
    "new_X=ss.fit_transform(new_data)"
   ]
  },
  {
   "cell_type": "code",
   "execution_count": 14,
   "id": "0c885ba1",
   "metadata": {},
   "outputs": [],
   "source": [
    "train_X,test_X,train_y,test_y = train_test_split(new_X,y, test_size = 0.1, random_state=22)"
   ]
  },
  {
   "cell_type": "code",
   "execution_count": 17,
   "id": "55a1744c",
   "metadata": {},
   "outputs": [
    {
     "data": {
      "image/png": "[encoded data removed]",
      "text/plain": [
       "<Figure size 432x288 with 1 Axes>"
      ]
     },
     "metadata": {
      "needs_background": "light"
     },
     "output_type": "display_data"
    }
   ],
   "source": [
    "show_result(model_LinearRegression)"
   ]
  },
  {
   "cell_type": "code",
   "execution_count": 22,
   "id": "9de4cd3e",
   "metadata": {},
   "outputs": [
    {
     "data": {
      "text/plain": [
       "74     0.035\n",
       "71     0.015\n",
       "26     0.025\n",
       "30     0.010\n",
       "110    0.022\n",
       "35     0.025\n",
       "120    0.020\n",
       "70     0.027\n",
       "105    0.030\n",
       "57     0.020\n",
       "87     0.025\n",
       "2      0.045\n",
       "63     0.015\n",
       "Name: Rc, dtype: float64"
      ]
     },
     "execution_count": 22,
     "metadata": {},
     "output_type": "execute_result"
    }
   ],
   "source": [
    "test_y"
   ]
  },
  {
   "cell_type": "markdown",
   "id": "0c8655c1",
   "metadata": {},
   "source": [
    "**岭回归**"
   ]
  },
  {
   "cell_type": "code",
   "execution_count": 18,
   "id": "0c5f4e7f",
   "metadata": {},
   "outputs": [],
   "source": [
    "selected_feature=['前三年承诺覆盖率', '动态市盈率', '成立年限', '大股东持股比例', '最近一个完整会计年度对第一大客户的销售占比', 'D/(D+E)', '净利润增长率', '存货周转率', '固定资产周转率', '流动比率', '资产负债率', '毛利率', '研发支出占比']"
   ]
  },
  {
   "cell_type": "code",
   "execution_count": 19,
   "id": "52126d88",
   "metadata": {},
   "outputs": [],
   "source": [
    "new_data=unique_risk[selected_feature]\n",
    "new_X=ss.fit_transform(new_data)"
   ]
  },
  {
   "cell_type": "code",
   "execution_count": 20,
   "id": "1d039297",
   "metadata": {},
   "outputs": [],
   "source": [
    "train_X,test_X,train_y,test_y = train_test_split(new_X,target, test_size = 0.1, random_state=22)"
   ]
  },
  {
   "cell_type": "code",
   "execution_count": 21,
   "id": "27593fb6",
   "metadata": {},
   "outputs": [
    {
     "data": {
      "image/png": "[encoded data removed]",
      "text/plain": [
       "<Figure size 432x288 with 1 Axes>"
      ]
     },
     "metadata": {
      "needs_background": "light"
     },
     "output_type": "display_data"
    }
   ],
   "source": [
    "show_result(model_RidgeCV)"
   ]
  },
  {
   "cell_type": "markdown",
   "id": "f4e09e5b",
   "metadata": {},
   "source": [
    "**AdaBoost**"
   ]
  },
  {
   "cell_type": "code",
   "execution_count": 23,
   "id": "8909640b",
   "metadata": {},
   "outputs": [],
   "source": [
    "new_data=unique_risk[['前三年承诺覆盖率', '动态市盈率', '成立年限', '净利润增长率', '固定资产周转率','研发支出占比']]\n",
    "new_X=ss.fit_transform(new_data)"
   ]
  },
  {
   "cell_type": "code",
   "execution_count": 24,
   "id": "ad0dfcf5",
   "metadata": {},
   "outputs": [],
   "source": [
    "train_X,test_X,train_y,test_y = train_test_split(new_X,y, test_size = 0.1, random_state=22)"
   ]
  },
  {
   "cell_type": "code",
   "execution_count": 25,
   "id": "aa162e55",
   "metadata": {},
   "outputs": [],
   "source": [
    "from sklearn import tree\n",
    "model_AdaBoostRegressor=ensemble.AdaBoostRegressor(base_estimator=RidgeCV(alphas=[ 0.1,  1. , 10. ]), learning_rate=0.1, n_estimators= 25)"
   ]
  },
  {
   "cell_type": "code",
   "execution_count": 33,
   "id": "b94021b0",
   "metadata": {},
   "outputs": [
    {
     "data": {
      "image/png": "[encoded data removed]",
      "text/plain": [
       "<Figure size 432x288 with 1 Axes>"
      ]
     },
     "metadata": {
      "needs_background": "light"
     },
     "output_type": "display_data"
    }
   ],
   "source": [
    "show_result(model_AdaBoostRegressor)"
   ]
  },
  {
   "cell_type": "markdown",
   "id": "1553c72c",
   "metadata": {},
   "source": [
    "**MLP**"
   ]
  },
  {
   "cell_type": "code",
   "execution_count": 34,
   "id": "bfbb7f50",
   "metadata": {},
   "outputs": [],
   "source": [
    "new_data=unique_risk[['前三年承诺覆盖率', '动态市盈率', '成立年限', '净利润增长率', '固定资产周转率','研发支出占比']]\n",
    "new_X=ss.fit_transform(new_data)"
   ]
  },
  {
   "cell_type": "code",
   "execution_count": 36,
   "id": "56de5ac5",
   "metadata": {},
   "outputs": [],
   "source": [
    "train_X,test_X,train_y,test_y = train_test_split(new_X,y, test_size = 0.1, random_state=2)"
   ]
  },
  {
   "cell_type": "code",
   "execution_count": 37,
   "id": "5ba8409c",
   "metadata": {},
   "outputs": [],
   "source": [
    "model_MLPRegressor=MLPRegressor(activation= 'relu', alpha=0.0001, hidden_layer_sizes= (5, 5, 5, 5), learning_rate='constant', solver= 'lbfgs')"
   ]
  },
  {
   "cell_type": "code",
   "execution_count": 39,
   "id": "96910994",
   "metadata": {},
   "outputs": [
    {
     "data": {
      "image/png": "[encoded data removed]",
      "text/plain": [
       "<Figure size 432x288 with 1 Axes>"
      ]
     },
     "metadata": {
      "needs_background": "light"
     },
     "output_type": "display_data"
    }
   ],
   "source": [
    "show_result(model_MLPRegressor)"
   ]
  },
  {
   "cell_type": "markdown",
   "id": "cbd05d97",
   "metadata": {},
   "source": [
    "**XGBoost**"
   ]
  },
  {
   "cell_type": "code",
   "execution_count": 40,
   "id": "a8962a6d",
   "metadata": {},
   "outputs": [],
   "source": [
    "new_data=unique_risk.drop(labels=['Rc'],axis=1)\n",
    "new_X = ss.fit_transform(new_data)"
   ]
  },
  {
   "cell_type": "code",
   "execution_count": 41,
   "id": "c022dfb7",
   "metadata": {},
   "outputs": [],
   "source": [
    "train_X,test_X,train_y,test_y = train_test_split(new_X,y, test_size = 0.1, random_state=22)"
   ]
  },
  {
   "cell_type": "code",
   "execution_count": 42,
   "id": "9b063d85",
   "metadata": {},
   "outputs": [],
   "source": [
    "model_XGBRegressor= xgb.XGBRegressor(booster='gbtree', eta= 0.2, gamma= 0, max_depth= 7, min_child_weight= 10)"
   ]
  },
  {
   "cell_type": "code",
   "execution_count": 43,
   "id": "4c5e769a",
   "metadata": {},
   "outputs": [
    {
     "data": {
      "image/png": "[encoded data removed]",
      "text/plain": [
       "<Figure size 432x288 with 1 Axes>"
      ]
     },
     "metadata": {
      "needs_background": "light"
     },
     "output_type": "display_data"
    }
   ],
   "source": [
    "show_result(model_XGBRegressor)"
   ]
  },
  {
   "cell_type": "markdown",
   "id": "b2885a15",
   "metadata": {},
   "source": [
    "**LGBM**"
   ]
  },
  {
   "cell_type": "code",
   "execution_count": 44,
   "id": "f1e25183",
   "metadata": {},
   "outputs": [],
   "source": [
    "selected_feature=['上一年归母净利润（万元）', '承诺期业绩增长率', '前三年承诺覆盖率', '静态市盈率', '动态市盈率', '成立年限', '大股东持股比例', 'D/(D+E)', '总资产增长率', '净利润增长率', '总资产周转率', '存货周转率', '应收账款周转率', '固定资产周转率', '流动比率', '资产负债率', '（固定资产+土地）/归母权益', '净资产收益率', '毛利率']"
   ]
  },
  {
   "cell_type": "code",
   "execution_count": 45,
   "id": "228b2631",
   "metadata": {},
   "outputs": [],
   "source": [
    "new_data=unique_risk[selected_feature]\n",
    "new_X=ss.fit_transform(new_data)"
   ]
  },
  {
   "cell_type": "code",
   "execution_count": 46,
   "id": "1ad1d95b",
   "metadata": {},
   "outputs": [],
   "source": [
    "train_X,test_X,train_y,test_y = train_test_split(new_X,y, test_size = 0.1, random_state=22)"
   ]
  },
  {
   "cell_type": "code",
   "execution_count": 47,
   "id": "3e4ce017",
   "metadata": {},
   "outputs": [],
   "source": [
    "model_LGBM=lgb.LGBMRegressor(cat_smooth=0, max_depth=4, min_child_samples=19, min_child_weight=0.001, num_leaves=20)"
   ]
  },
  {
   "cell_type": "code",
   "execution_count": 49,
   "id": "36d5d12f",
   "metadata": {},
   "outputs": [
    {
     "data": {
      "image/png": "[encoded data removed]",
      "text/plain": [
       "<Figure size 432x288 with 1 Axes>"
      ]
     },
     "metadata": {
      "needs_background": "light"
     },
     "output_type": "display_data"
    }
   ],
   "source": [
    "show_result(model_LGBMRegressor)"
   ]
  },
  {
   "cell_type": "markdown",
   "id": "456d2ecc",
   "metadata": {},
   "source": [
    "## 5 展望"
   ]
  },
  {
   "cell_type": "markdown",
   "id": "87c35f48",
   "metadata": {},
   "source": [
    "&emsp;由于本次的因变量的分布较为集中，因此可以将其转换为1-5档的多分类问题后，再根据实际情况在相应区间内进行调整。(比如通过KNN的方法，基于相似的公司具有相同的特有风险的假设，寻找K家比较相似的公司，对新样本进行预测。在《特有风险raw》中已经给出了展示，在测试集上具有不错的成绩。)<br>\n",
    "&emsp; 对于行业的分类也可以作为一个变量，通过编码的方式作为机器学习的一个属性。<br>\n",
    "&emsp;从交叉验证的结果中可以看出，不同的抽样会导致模型的得分具有很大的差别。因此原始数据集存在特殊值，可以进一步优化。比如，手动KFold分组，根据结果求差集。或者使用留一交叉验证进行筛选。使用ifroest或者One-SVM根据实际结果来看使得模型表现结果变差。具体原因待后续研究。<br>\n",
    "&emsp;RFECV是基于他贪心算法进行特征选择。由于组合最优化问题往往是NPC问题。因此考虑通过如模拟退火、遗传算法、蚁群算法等现在启发式算法进行优化，得出最优解。并且这些算法不会再被coef_ 或者 feature_importance这种系数属性所限制，具有更广泛的通用性。<br>\n",
    "&emsp;机器学习的特征选择只对根据变量和因变量的相关性进行研究，并计算出相应的答案；并不能说明之间存在因果关系。在实际评估的过程中依旧需要根据会计和评估常识进行鉴别。此外，由于模型的复杂度和不可解释性，建议在小样本上依旧使用传统的基于方程的数学模型。<br>\n",
    "&emsp;并且由于机器学习模型的复杂性，当我们发现某一个参数或者特征存在问题时，我们往往无法手动像线性回归一样手动调整一因子解决问题，而只能通过调整样本的权重或者输入更多的数据来解决问题。<br>\n",
    "&emsp;机器学习需要建立在大量数据集的基础上。从《特有风险short》和《特有风险raw》的对比中我们可以看出，相比传统的基于方程的数学模型，机器学习模型超参数的选择更容易受到超参数和异常值的影响，因此需要通过对异常值进行筛选，并通过海量数据来消除随机梯度下降的随机性对超参数的影响，从而获得更好的超参数。"
   ]
  },
  {
   "cell_type": "markdown",
   "id": "a93347f5",
   "metadata": {},
   "source": [
    "对于测试集各模型的表现如下\n",
    "\n",
    "**结果对比**<br>\n",
    "\n",
    "| 模型 | 5折交叉验证预期 | 测试集表现 |\n",
    "|------|----------|------|\n",
    "| 神经网络回归  | 0.0974 | 0.4706 |\n",
    "| Adaboost回归  | 0.17 | 0.0989   |\n",
    "|线性回归|0.1726 | 0.0196 |\n",
    "|岭回归| 0.1865 | -0.3250 |\n",
    "| LGBM回归     | 0.13 | -0.499    |\n",
    "| XGBOOST回归   | 0.0973 | -0.789  |\n",
    "\n",
    "\n",
    "\n",
    "\n",
    "\n",
    " &emsp;测试集的表现和训练集的表现有很大的差别。LGBM和XGBoost表现垫底。但在修订的short版中，对数据异常值进行筛选后，模型有很大的优化、这两种算法可能对异常值比较敏感。<br>\n",
    " &emsp;测试集的表现和训练集的表现有很大的差别,5-折交叉验证只能作为一个参考，最好还是通过大量数据集将数据分成训练集、验证集、测试集。交叉验证的平均值并不能完全表现一个模型的表现,特别是当某一个组别的得分远远低于其他分组时，平均值会产生很大的误导。特别是岭回归表现垫底出乎意外。<br>\n",
    " &emsp;需要指出的是，虽然K折交叉验证的结果往往不具备模型间的可比较性，但是往往能选择出模型中最好的特征和超参数组合。<br>\n",
    " &emsp;非线性模型由于模型的复杂度因此往往能取得更好的表现、"
   ]
  },
  {
   "cell_type": "code",
   "execution_count": null,
   "id": "98997bb9",
   "metadata": {},
   "outputs": [],
   "source": []
  },
  {
   "cell_type": "markdown",
   "id": "17d0d7ca",
   "metadata": {},
   "source": [
    "## 6 用分类的思路去解决问题，以KNN为例"
   ]
  },
  {
   "cell_type": "markdown",
   "id": "39c57cbb",
   "metadata": {},
   "source": [
    " &emsp;基于相似的公司会有相似的特有风险。在通过iforest删除了离群点后，通过KNN回归，以分类的思路对公司的特有风险进行评估"
   ]
  },
  {
   "cell_type": "code",
   "execution_count": 70,
   "id": "8619b9e5",
   "metadata": {},
   "outputs": [
    {
     "data": {
      "text/plain": [
       "0.037795037474365675"
      ]
     },
     "execution_count": 70,
     "metadata": {},
     "output_type": "execute_result"
    }
   ],
   "source": [
    "score=[]\n",
    "score=cross_val_score(model_KNeighborsRegressor,new_X_i,y_i,cv=5,scoring='r2')\n",
    "score.mean()"
   ]
  },
  {
   "cell_type": "code",
   "execution_count": 62,
   "id": "6ebf8c6e",
   "metadata": {},
   "outputs": [],
   "source": [
    "new_data_i=unique_risk_i[['前三年承诺覆盖率', '动态市盈率', '成立年限', '净利润增长率', '固定资产周转率','研发支出占比']]\n",
    "new_X_i=ss.fit_transform(new_data_i)"
   ]
  },
  {
   "cell_type": "code",
   "execution_count": 65,
   "id": "91475bb0",
   "metadata": {},
   "outputs": [],
   "source": [
    "train_X,test_X,train_y,test_y = train_test_split(new_X_i,y_i, test_size = 0.1, random_state=22)"
   ]
  },
  {
   "cell_type": "code",
   "execution_count": 71,
   "id": "abf1d69e",
   "metadata": {},
   "outputs": [
    {
     "data": {
      "image/png": "[encoded data removed]",
      "text/plain": [
       "<Figure size 432x288 with 1 Axes>"
      ]
     },
     "metadata": {
      "needs_background": "light"
     },
     "output_type": "display_data"
    }
   ],
   "source": [
    "show_result(model_KNeighborsRegressor)"
   ]
  }
 ],
 "metadata": {
  "kernelspec": {
   "display_name": "Python 3",
   "language": "python",
   "name": "python3"
  },
  "language_info": {
   "codemirror_mode": {
    "name": "ipython",
    "version": 3
   },
   "file_extension": ".py",
   "mimetype": "text/x-python",
   "name": "python",
   "nbconvert_exporter": "python",
   "pygments_lexer": "ipython3",
   "version": "3.8.8"
  }
 },
 "nbformat": 4,
 "nbformat_minor": 5
}
